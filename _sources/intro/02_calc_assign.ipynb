{
 "cells": [
  {
   "cell_type": "markdown",
   "metadata": {
    "id": "DAWvX3qDA0C-"
   },
   "source": [
    "# Assignment 2\n",
    "\n",
    "**OBJECTIVES**\n",
    "\n",
    "- Solve discrete probability problems with binomial distributions\n",
    "- Solve continuous probability problems with normal distributions\n",
    "- Use summation notation and evaluate summation expressions"
   ]
  },
  {
   "cell_type": "code",
   "execution_count": null,
   "metadata": {
    "id": "3qnTf6mpBLt8"
   },
   "outputs": [],
   "source": [
    "import matplotlib.pyplot as plt\n",
    "import numpy as np\n",
    "import scipy.stats as stats\n",
    "import pandas as pd\n",
    "from scipy.special import comb"
   ]
  },
  {
   "cell_type": "code",
   "execution_count": null,
   "metadata": {
    "id": "oEwI7VuJap5r"
   },
   "outputs": [],
   "source": [
    "for i in range(10):\n",
    "    print([comb(i, j) for j in range(i + 1)])"
   ]
  },
  {
   "cell_type": "markdown",
   "metadata": {
    "id": "nYKl3i3SBbeZ"
   },
   "source": [
    "## Problem I\n",
    "\n",
    "In a candy factory, chocolate bars can be either acceptable or defective. The probability of a given bar being defective is 0.5.   \n",
    "\n",
    "- Suppose we select 8 candy bars.  \n",
    "  - How many ways different ways can we select 3 candy bars that are defective?\n",
    "  - How many ways could we select 5 defective candy bars?\n",
    "  - Make a plot of all possible outcomes.\n",
    "  - Make a table of all possible outcomes.\n",
    "  - If we select 8 bars, what is the probability that 2 will be defective? \n",
    "  - If we select 8 bars, what is the probability that at no more than 2 will be defective?"
   ]
  },
  {
   "cell_type": "code",
   "execution_count": null,
   "metadata": {
    "id": "eSLBmAh3Dcly"
   },
   "outputs": [],
   "source": []
  },
  {
   "cell_type": "code",
   "execution_count": null,
   "metadata": {
    "id": "gTduxKTXDebp"
   },
   "outputs": [],
   "source": []
  },
  {
   "cell_type": "code",
   "execution_count": null,
   "metadata": {
    "id": "8Ym9zE3pDeYf"
   },
   "outputs": [],
   "source": []
  },
  {
   "cell_type": "code",
   "execution_count": null,
   "metadata": {
    "id": "7jKxjH-4DeVr"
   },
   "outputs": [],
   "source": []
  },
  {
   "cell_type": "code",
   "execution_count": null,
   "metadata": {
    "id": "x08IU0avDeSg"
   },
   "outputs": [],
   "source": []
  },
  {
   "cell_type": "code",
   "execution_count": null,
   "metadata": {
    "id": "2sNlqhpDDeP3"
   },
   "outputs": [],
   "source": []
  },
  {
   "cell_type": "markdown",
   "metadata": {
    "id": "-S3wUnXvDeM4"
   },
   "source": [
    "## Problem II\n",
    "\n",
    "The probability of recovering from a certain disease is 90%.  Suppose that we select at random, 20 individuals currently suffering from the disease.  \n",
    "- What is the probability that all 20 survive?\n",
    "- What is the probability that at least 17 survive?\n",
    "- Draw a graph of all possible outcomes and their probabilities.\n",
    "- Construct a table of all possible outcomes and their probabilities.\n",
    "- Suppose a drug manufacturer conducted a clinical trial for a new treatment of the disease.  The manufacturer found that in a sample of 50 individuals treated, that 49 survived.  How likely was this and do you think the new drug had an effect?"
   ]
  },
  {
   "cell_type": "code",
   "execution_count": null,
   "metadata": {
    "id": "vvE7i0pLDeJ5"
   },
   "outputs": [],
   "source": []
  },
  {
   "cell_type": "code",
   "execution_count": null,
   "metadata": {
    "id": "y0hmmqTaDeHQ"
   },
   "outputs": [],
   "source": []
  },
  {
   "cell_type": "code",
   "execution_count": null,
   "metadata": {
    "id": "d6shfQtmE5x6"
   },
   "outputs": [],
   "source": []
  },
  {
   "cell_type": "code",
   "execution_count": null,
   "metadata": {
    "id": "vjVyYXsWE5u8"
   },
   "outputs": [],
   "source": []
  },
  {
   "cell_type": "code",
   "execution_count": null,
   "metadata": {
    "id": "KqY-ZYUtE5sd"
   },
   "outputs": [],
   "source": []
  },
  {
   "cell_type": "code",
   "execution_count": null,
   "metadata": {
    "id": "NcP_GaiJE5p0"
   },
   "outputs": [],
   "source": []
  },
  {
   "cell_type": "code",
   "execution_count": null,
   "metadata": {
    "id": "35kMDqLME5ns"
   },
   "outputs": [],
   "source": []
  },
  {
   "cell_type": "markdown",
   "metadata": {
    "id": "Krh0oXBVE5lQ"
   },
   "source": [
    "## Problem 3\n",
    "\n",
    "For each example below, we are given a description for a binomial distribution where:\n",
    "\n",
    "```\n",
    "n = # of trials\n",
    "p = probability of success\n",
    "```\n",
    "\n",
    "You are to build a table and graph for each, and answer the subsequent questions on the probability distribution.\n",
    "\n",
    "- $n = 10, p = .2$, draw a bar plot of all possible outcomes and their probabilities\n",
    "- With $n = 20, p = .2$, what is the probability of 12 successes?\n",
    "- With $n = 30, p = 0.13$, what is the average aka expected value of the probability distribution?  Its variance?  Draw a plot of the distribution.\n",
    "- With $n = 300, p = 0.13$, what is the average aka expected value of the probability distribution?  Its variance?  Draw a plot of the distribution.\n",
    "- With $n = 3000, p = 0.13$, what is the average aka expected value of the probability distribution?  Its variance?  Draw a plot of the distribution.\n",
    "- Using the three distributions above with $n = 30, 300, 3000$ and $p = 0.13$, explain what happens to the mean, variance, and graphs as you increase $n$.  \n",
    " "
   ]
  },
  {
   "cell_type": "code",
   "execution_count": null,
   "metadata": {
    "id": "7jlR6fwuF7XE"
   },
   "outputs": [],
   "source": []
  },
  {
   "cell_type": "code",
   "execution_count": null,
   "metadata": {
    "id": "osKW8JYAII_Y"
   },
   "outputs": [],
   "source": []
  },
  {
   "cell_type": "code",
   "execution_count": null,
   "metadata": {
    "id": "FgIih0D0II7g"
   },
   "outputs": [],
   "source": []
  },
  {
   "cell_type": "code",
   "execution_count": null,
   "metadata": {
    "id": "TBWXDxPuII3q"
   },
   "outputs": [],
   "source": []
  },
  {
   "cell_type": "code",
   "execution_count": null,
   "metadata": {
    "id": "ZHZX8vr7II0H"
   },
   "outputs": [],
   "source": []
  },
  {
   "cell_type": "code",
   "execution_count": null,
   "metadata": {
    "id": "6FXmqch-IIw8"
   },
   "outputs": [],
   "source": []
  },
  {
   "cell_type": "markdown",
   "metadata": {
    "id": "Q_6tgAu-IKCb"
   },
   "source": [
    "## Summations\n",
    "\n",
    "Evaluate the following sums:\n",
    " \n",
    "- $\\sum_{i = 1}^5 2*i - 3$\n",
    "- $\\sum_{i = 1}^{10} \\frac{1}{i}$\n",
    "- $\\sum_{i = 4}^9 3i^2 - 2i$"
   ]
  },
  {
   "cell_type": "code",
   "execution_count": null,
   "metadata": {
    "colab": {
     "base_uri": "https://localhost:8080/"
    },
    "id": "LCcYVsCSIvNF",
    "outputId": "f1e3b11e-b47d-4bd6-b1a4-b6da6c329217"
   },
   "outputs": [
    {
     "data": {
      "text/plain": [
       "15"
      ]
     },
     "execution_count": 1,
     "metadata": {
      "tags": []
     },
     "output_type": "execute_result"
    }
   ],
   "source": [
    "2*1 - 3 + 2*2 - 3 + 2*3 - 3 + 2*4 - 3 + 2*5 - 3"
   ]
  },
  {
   "cell_type": "code",
   "execution_count": null,
   "metadata": {
    "id": "09Ai0gZxIwi8"
   },
   "outputs": [],
   "source": [
    "def s(x): return 1/x"
   ]
  },
  {
   "cell_type": "code",
   "execution_count": null,
   "metadata": {
    "colab": {
     "base_uri": "https://localhost:8080/"
    },
    "id": "86CYPwK06MXN",
    "outputId": "2cfacab9-f48d-4023-fedc-a5ab216b46d9"
   },
   "outputs": [
    {
     "data": {
      "text/plain": [
       "array([ 1,  2,  3,  4,  5,  6,  7,  8,  9, 10])"
      ]
     },
     "execution_count": 9,
     "metadata": {
      "tags": []
     },
     "output_type": "execute_result"
    }
   ],
   "source": [
    "np.arange(1, 11)"
   ]
  },
  {
   "cell_type": "code",
   "execution_count": null,
   "metadata": {
    "id": "8Izi0TtA5mlf"
   },
   "outputs": [],
   "source": [
    "import numpy as np"
   ]
  },
  {
   "cell_type": "code",
   "execution_count": null,
   "metadata": {
    "colab": {
     "base_uri": "https://localhost:8080/"
    },
    "id": "LnqbbefCIwM2",
    "outputId": "66921f7a-78ac-43ef-80b1-209ccf3b0d15"
   },
   "outputs": [
    {
     "data": {
      "text/plain": [
       "2.9289682539682538"
      ]
     },
     "execution_count": 6,
     "metadata": {
      "tags": []
     },
     "output_type": "execute_result"
    }
   ],
   "source": [
    "sum(s(np.arange(1, 11)))"
   ]
  },
  {
   "cell_type": "code",
   "execution_count": null,
   "metadata": {
    "colab": {
     "base_uri": "https://localhost:8080/"
    },
    "id": "NykVvvsbIwJI",
    "outputId": "f070dbff-8e77-420c-fc40-7a94c6d8b39a"
   },
   "outputs": [
    {
     "data": {
      "text/plain": [
       "2.9289682539682538"
      ]
     },
     "execution_count": 7,
     "metadata": {
      "tags": []
     },
     "output_type": "execute_result"
    }
   ],
   "source": [
    "sum([1/1, 1/2, 1/3, 1/4, 1/5, 1/6, 1/7, 1/8, 1/9, 1/10])"
   ]
  },
  {
   "cell_type": "code",
   "execution_count": null,
   "metadata": {
    "id": "gzvsRB-5IwF-"
   },
   "outputs": [],
   "source": []
  },
  {
   "cell_type": "markdown",
   "metadata": {
    "id": "UiP9RF2OIwCz"
   },
   "source": [
    "## Problem 4: Normal Distribution\n",
    "\n",
    "Use the information given about the mean and standard deviation of a normal distribution to answer the questions.\n",
    "\n",
    "- Suppose $\\mu = 10, \\sigma = 3$.  Draw a plot of this distribution on $x = [0, 20]$.  What is the probability $x > 15$?\n",
    "- Suppose $\\mu = 0, \\sigma = 3$.  Draw a plot of this distribution on $x = [-10, 10]$.  What is the probability $x < 0$?\n",
    "- Suppose $\\mu = 0, \\sigma = 1$.  Draw a plot of this distribution on $x = [-3, 3]$.  What is the probability $-1 < x < 1$?\n",
    "\n"
   ]
  },
  {
   "cell_type": "code",
   "execution_count": null,
   "metadata": {
    "id": "QRQsMO1KJ0kQ"
   },
   "outputs": [],
   "source": []
  },
  {
   "cell_type": "code",
   "execution_count": null,
   "metadata": {
    "id": "FqCHwk9eJ17i"
   },
   "outputs": [],
   "source": []
  },
  {
   "cell_type": "code",
   "execution_count": null,
   "metadata": {
    "id": "PY8Q7O28J12F"
   },
   "outputs": [],
   "source": []
  },
  {
   "cell_type": "code",
   "execution_count": null,
   "metadata": {
    "id": "evKcN3igJ1xW"
   },
   "outputs": [],
   "source": []
  },
  {
   "cell_type": "code",
   "execution_count": null,
   "metadata": {
    "id": "ZMB9DxASJ1rt"
   },
   "outputs": [],
   "source": []
  },
  {
   "cell_type": "markdown",
   "metadata": {
    "id": "BDPOfT39KLi5"
   },
   "source": [
    "## Problem 5\n",
    "\n",
    "- Suppose we have two dogs; one weighs 40 lbs and the other 60 lbs.  Your goal is to design a see saw that will balance the two dogs, one on each end.  Where should its center be?  Draw a picture with appropriate labels for distances and dog weights.\n",
    "\n"
   ]
  },
  {
   "cell_type": "code",
   "execution_count": null,
   "metadata": {
    "id": "AL05hipjKmsi"
   },
   "outputs": [],
   "source": []
  },
  {
   "cell_type": "code",
   "execution_count": null,
   "metadata": {
    "id": "NWLbeILuKoNX"
   },
   "outputs": [],
   "source": []
  },
  {
   "cell_type": "code",
   "execution_count": null,
   "metadata": {
    "id": "qa5RI8ZMKoJJ"
   },
   "outputs": [],
   "source": []
  },
  {
   "cell_type": "code",
   "execution_count": null,
   "metadata": {
    "id": "IeMroCmDKoFR"
   },
   "outputs": [],
   "source": []
  },
  {
   "cell_type": "code",
   "execution_count": null,
   "metadata": {
    "id": "Xgd4MDN0Kn-w"
   },
   "outputs": [],
   "source": []
  },
  {
   "cell_type": "code",
   "execution_count": null,
   "metadata": {
    "id": "YlgIwstXKpRL"
   },
   "outputs": [],
   "source": []
  }
 ],
 "metadata": {
  "colab": {
   "name": "02_calc_assign.ipynb",
   "provenance": []
  },
  "kernelspec": {
   "display_name": "Python 3",
   "language": "python",
   "name": "python3"
  },
  "language_info": {
   "codemirror_mode": {
    "name": "ipython",
    "version": 3
   },
   "file_extension": ".py",
   "mimetype": "text/x-python",
   "name": "python",
   "nbconvert_exporter": "python",
   "pygments_lexer": "ipython3",
   "version": "3.8.2"
  }
 },
 "nbformat": 4,
 "nbformat_minor": 4
}
