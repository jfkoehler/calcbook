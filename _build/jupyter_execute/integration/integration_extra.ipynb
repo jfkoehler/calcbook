{
 "cells": [
  {
   "cell_type": "markdown",
   "metadata": {},
   "source": [
    "# Integration: Extra Examples\n",
    "\n",
    "**OBJECTIVES**\n",
    "\n",
    "- Use Riemann Sums to approximate Areas\n",
    "- Develop and Implement Trapezoidal Rule for Area Approximation\n",
    "- Introduce Monte Carlo methods for Area Approximation"
   ]
  },
  {
   "cell_type": "markdown",
   "metadata": {},
   "source": [
    "## Riemann Sums"
   ]
  },
  {
   "cell_type": "code",
   "execution_count": 1,
   "metadata": {},
   "outputs": [],
   "source": [
    "from IPython.display import IFrame\n",
    "import numpy as np\n",
    "import matplotlib.pyplot as plt\n",
    "import pandas as pd\n",
    "pd.options.display.float_format = '{:,.10f}'.format"
   ]
  },
  {
   "cell_type": "code",
   "execution_count": 2,
   "metadata": {},
   "outputs": [],
   "source": [
    "drawing = IFrame(src = '', width = 400, height = 600)"
   ]
  },
  {
   "cell_type": "markdown",
   "metadata": {},
   "source": [
    "\n",
    "\n",
    "$${\\displaystyle S=\\sum _{i=1}^{n}f(x_{i}^{*})\\,\\Delta x_{i}}$$"
   ]
  },
  {
   "cell_type": "code",
   "execution_count": 3,
   "metadata": {},
   "outputs": [
    {
     "data": {
      "image/png": "[encoded data removed]",
      "text/plain": [
       "<Figure size 432x288 with 1 Axes>"
      ]
     },
     "metadata": {
      "filenames": {
       "image/png": "/Users/jacobkoehler/Desktop/now/spring_21/calc/calcbook/_build/jupyter_execute/integration/integration_extra_5_0.png"
      },
      "needs_background": "light"
     },
     "output_type": "display_data"
    }
   ],
   "source": [
    "def f(x): return x**2\n",
    "x = np.linspace(0, 1, 100)\n",
    "plt.plot(x, f(x))\n",
    "plt.axhline(color = 'black')\n",
    "for xval in [0, 0.2, 0.4, 0.6, 0.8, 1.0]:\n",
    "    plt.vlines(xval, 0, f(xval), color = 'black')\n",
    "x2 = np.array([0, 0.2, 0.4, 0.6, 0.8, 1.0])\n",
    "plt.step(x2, f(x2), where = 'post', color = 'black')\n",
    "plt.grid()\n",
    "plt.title('Left Handed Riemann Sum');"
   ]
  },
  {
   "cell_type": "code",
   "execution_count": 4,
   "metadata": {},
   "outputs": [
    {
     "data": {
      "text/html": [
       "\n",
       "<iframe\n",
       "    width=\"400\"\n",
       "    height=\"600\"\n",
       "    src=\"\"\n",
       "    frameborder=\"0\"\n",
       "    allowfullscreen\n",
       "></iframe>\n"
      ],
      "text/plain": [
       "<IPython.lib.display.IFrame at 0x7fbaa8946790>"
      ]
     },
     "execution_count": 4,
     "metadata": {},
     "output_type": "execute_result"
    }
   ],
   "source": [
    "drawing"
   ]
  },
  {
   "cell_type": "markdown",
   "metadata": {},
   "source": [
    "### Symbolic Solution"
   ]
  },
  {
   "cell_type": "code",
   "execution_count": 5,
   "metadata": {},
   "outputs": [],
   "source": [
    "import sympy as sy"
   ]
  },
  {
   "cell_type": "code",
   "execution_count": 6,
   "metadata": {},
   "outputs": [],
   "source": [
    "x, p = sy.symbols('x p')"
   ]
  },
  {
   "cell_type": "code",
   "execution_count": 7,
   "metadata": {},
   "outputs": [
    {
     "data": {
      "text/latex": [
       "$\\displaystyle \\frac{x^{3}}{3}$"
      ],
      "text/plain": [
       "x**3/3"
      ]
     },
     "execution_count": 7,
     "metadata": {},
     "output_type": "execute_result"
    }
   ],
   "source": [
    "sy.integrate(x**2, x)"
   ]
  },
  {
   "cell_type": "code",
   "execution_count": 8,
   "metadata": {},
   "outputs": [
    {
     "data": {
      "text/latex": [
       "$\\displaystyle \\begin{cases} \\frac{x^{p + 1}}{p + 1} & \\text{for}\\: p \\neq -1 \\\\\\log{\\left(x \\right)} & \\text{otherwise} \\end{cases}$"
      ],
      "text/plain": [
       "Piecewise((x**(p + 1)/(p + 1), Ne(p, -1)), (log(x), True))"
      ]
     },
     "execution_count": 8,
     "metadata": {},
     "output_type": "execute_result"
    }
   ],
   "source": [
    "sy.integrate(x**p, x)"
   ]
  },
  {
   "cell_type": "code",
   "execution_count": 9,
   "metadata": {},
   "outputs": [
    {
     "data": {
      "text/latex": [
       "$\\displaystyle \\frac{1}{3}$"
      ],
      "text/plain": [
       "1/3"
      ]
     },
     "execution_count": 9,
     "metadata": {},
     "output_type": "execute_result"
    }
   ],
   "source": [
    "sy.integrate(x**2, (x, 0, 1))"
   ]
  },
  {
   "cell_type": "markdown",
   "metadata": {},
   "source": [
    "### Compare to our Approximation"
   ]
  },
  {
   "cell_type": "code",
   "execution_count": 10,
   "metadata": {},
   "outputs": [],
   "source": [
    "def riemann(x, n):\n",
    "    '''\n",
    "    This function computes a left-handed\n",
    "    riemann approximation for area under\n",
    "    a function f over an interval x\n",
    "    ======\n",
    "    Arguments\n",
    "    x = array; domain of interest\n",
    "    n = integer; number of rectangles to use\n",
    "    ======\n",
    "    Returns\n",
    "    area = float; area approximation\n",
    "    '''\n",
    "    #find the width\n",
    "    width = (x[-1] - x[0])/n\n",
    "    #where we find heights\n",
    "    endpoints = [x[0] + width*i for i in range(n)]\n",
    "    #find the heights\n",
    "    heights = f(np.array(endpoints))\n",
    "    #total area\n",
    "    area = width*sum(heights)\n",
    "    return area"
   ]
  },
  {
   "cell_type": "code",
   "execution_count": 11,
   "metadata": {},
   "outputs": [],
   "source": [
    "x = np.linspace(0, 1, 100)"
   ]
  },
  {
   "cell_type": "code",
   "execution_count": 12,
   "metadata": {},
   "outputs": [
    {
     "data": {
      "text/plain": [
       "0.21875"
      ]
     },
     "execution_count": 12,
     "metadata": {},
     "output_type": "execute_result"
    }
   ],
   "source": [
    "#approximation with 4 rectangles\n",
    "riemann(x, 4)"
   ]
  },
  {
   "cell_type": "code",
   "execution_count": 13,
   "metadata": {},
   "outputs": [
    {
     "data": {
      "text/plain": [
       "0.11458333333333331"
      ]
     },
     "execution_count": 13,
     "metadata": {},
     "output_type": "execute_result"
    }
   ],
   "source": [
    "#error with 4 rectangles\n",
    "1/3 - riemann(x, 4)"
   ]
  },
  {
   "cell_type": "code",
   "execution_count": 14,
   "metadata": {},
   "outputs": [],
   "source": [
    "#approximations for many n's\n",
    "approxs = [riemann(x, i) for i in [4, 40, 400, 4000, 40_000, 400_000]]\n",
    "#error in approximations\n",
    "errors = [1/3 - approx for approx in approxs]"
   ]
  },
  {
   "cell_type": "code",
   "execution_count": 15,
   "metadata": {},
   "outputs": [],
   "source": [
    "#dataframe of errors\n",
    "error_df = pd.DataFrame({'subdivisions': [4, 40, 400, 4000, 40_000, 400_000], \n",
    "                         'riemann_area': approxs, \n",
    "                         'riemann_error': errors})"
   ]
  },
  {
   "cell_type": "code",
   "execution_count": 16,
   "metadata": {},
   "outputs": [
    {
     "data": {
      "text/html": [
       "<div>\n",
       "<style scoped>\n",
       "    .dataframe tbody tr th:only-of-type {\n",
       "        vertical-align: middle;\n",
       "    }\n",
       "\n",
       "    .dataframe tbody tr th {\n",
       "        vertical-align: top;\n",
       "    }\n",
       "\n",
       "    .dataframe thead th {\n",
       "        text-align: right;\n",
       "    }\n",
       "</style>\n",
       "<table border=\"1\" class=\"dataframe\">\n",
       "  <thead>\n",
       "    <tr style=\"text-align: right;\">\n",
       "      <th></th>\n",
       "      <th>subdivisions</th>\n",
       "      <th>riemann_area</th>\n",
       "      <th>riemann_error</th>\n",
       "    </tr>\n",
       "  </thead>\n",
       "  <tbody>\n",
       "    <tr>\n",
       "      <th>0</th>\n",
       "      <td>4</td>\n",
       "      <td>0.2187500000</td>\n",
       "      <td>0.1145833333</td>\n",
       "    </tr>\n",
       "    <tr>\n",
       "      <th>1</th>\n",
       "      <td>40</td>\n",
       "      <td>0.3209375000</td>\n",
       "      <td>0.0123958333</td>\n",
       "    </tr>\n",
       "    <tr>\n",
       "      <th>2</th>\n",
       "      <td>400</td>\n",
       "      <td>0.3320843750</td>\n",
       "      <td>0.0012489583</td>\n",
       "    </tr>\n",
       "    <tr>\n",
       "      <th>3</th>\n",
       "      <td>4000</td>\n",
       "      <td>0.3332083438</td>\n",
       "      <td>0.0001249896</td>\n",
       "    </tr>\n",
       "    <tr>\n",
       "      <th>4</th>\n",
       "      <td>40000</td>\n",
       "      <td>0.3333208334</td>\n",
       "      <td>0.0000124999</td>\n",
       "    </tr>\n",
       "    <tr>\n",
       "      <th>5</th>\n",
       "      <td>400000</td>\n",
       "      <td>0.3333320833</td>\n",
       "      <td>0.0000012500</td>\n",
       "    </tr>\n",
       "  </tbody>\n",
       "</table>\n",
       "</div>"
      ],
      "text/plain": [
       "   subdivisions  riemann_area  riemann_error\n",
       "0             4  0.2187500000   0.1145833333\n",
       "1            40  0.3209375000   0.0123958333\n",
       "2           400  0.3320843750   0.0012489583\n",
       "3          4000  0.3332083438   0.0001249896\n",
       "4         40000  0.3333208334   0.0000124999\n",
       "5        400000  0.3333320833   0.0000012500"
      ]
     },
     "execution_count": 16,
     "metadata": {},
     "output_type": "execute_result"
    }
   ],
   "source": [
    "#examine the errors\n",
    "error_df"
   ]
  },
  {
   "cell_type": "markdown",
   "metadata": {},
   "source": [
    "### Trapezoid Rule\n",
    "\n",
    "<center>\n",
    " <img src = https://upload.wikimedia.org/wikipedia/commons/thumb/1/11/Trapezoid.svg/440px-Trapezoid.svg.png />\n",
    "</center>"
   ]
  },
  {
   "cell_type": "markdown",
   "metadata": {},
   "source": [
    "$$\\text{Area} = \\frac{a + b}{2} \\times h$$"
   ]
  },
  {
   "cell_type": "code",
   "execution_count": 17,
   "metadata": {},
   "outputs": [
    {
     "data": {
      "image/png": "[encoded data removed]",
      "text/plain": [
       "<Figure size 432x288 with 1 Axes>"
      ]
     },
     "metadata": {
      "filenames": {
       "image/png": "/Users/jacobkoehler/Desktop/now/spring_21/calc/calcbook/_build/jupyter_execute/integration/integration_extra_23_0.png"
      },
      "needs_background": "light"
     },
     "output_type": "display_data"
    }
   ],
   "source": [
    "def f(x): return x**2\n",
    "x = np.linspace(0, 1, 100)\n",
    "plt.plot(x, f(x))\n",
    "# plt.ylim(-2, 2)\n",
    "plt.axhline(color = 'black')\n",
    "for xval in [0, 0.2, 0.4, 0.6, 0.8, 1.0]:\n",
    "    plt.vlines(xval, 0, f(xval), color = 'black')\n",
    "x2 = np.array([0, 0.2, 0.4, 0.6, 0.8, 1.0])\n",
    "plt.plot(x2, f(x2), '-ro')\n",
    "plt.grid();\n",
    "plt.title('Trapezoidal Approximations of Area');"
   ]
  },
  {
   "cell_type": "code",
   "execution_count": 18,
   "metadata": {},
   "outputs": [
    {
     "data": {
      "text/html": [
       "\n",
       "<iframe\n",
       "    width=\"400\"\n",
       "    height=\"600\"\n",
       "    src=\"\"\n",
       "    frameborder=\"0\"\n",
       "    allowfullscreen\n",
       "></iframe>\n"
      ],
      "text/plain": [
       "<IPython.lib.display.IFrame at 0x7fbaa8946790>"
      ]
     },
     "execution_count": 18,
     "metadata": {},
     "output_type": "execute_result"
    }
   ],
   "source": [
    "drawing"
   ]
  },
  {
   "cell_type": "code",
   "execution_count": 19,
   "metadata": {},
   "outputs": [],
   "source": [
    "#domain\n",
    "x = np.linspace(0, 1, 100)"
   ]
  },
  {
   "cell_type": "code",
   "execution_count": 20,
   "metadata": {},
   "outputs": [],
   "source": [
    "#heights\n",
    "heights = f(x)"
   ]
  },
  {
   "cell_type": "code",
   "execution_count": 21,
   "metadata": {},
   "outputs": [
    {
     "data": {
      "text/plain": [
       "array([0.08, 0.32, 0.72, 1.28])"
      ]
     },
     "execution_count": 21,
     "metadata": {},
     "output_type": "execute_result"
    }
   ],
   "source": [
    "np.array([2*f(i) for i in x2[1:-1]])"
   ]
  },
  {
   "cell_type": "code",
   "execution_count": 22,
   "metadata": {},
   "outputs": [
    {
     "data": {
      "text/plain": [
       "6.4"
      ]
     },
     "execution_count": 22,
     "metadata": {},
     "output_type": "execute_result"
    }
   ],
   "source": [
    "#areas\n",
    "sum(f(x2[0]) + np.array([2*f(i) for i in x2[1:-1]]) + f(x2[-1]) )"
   ]
  },
  {
   "cell_type": "code",
   "execution_count": 23,
   "metadata": {},
   "outputs": [
    {
     "data": {
      "text/plain": [
       "1.2800000000000002"
      ]
     },
     "execution_count": 23,
     "metadata": {},
     "output_type": "execute_result"
    }
   ],
   "source": [
    ".2*sum(f(x2[0]) + np.array([2*f(i) for i in x2[1:-1]]) + f(x2[-1]) )"
   ]
  },
  {
   "cell_type": "code",
   "execution_count": 24,
   "metadata": {},
   "outputs": [
    {
     "data": {
      "text/plain": [
       "0.6400000000000001"
      ]
     },
     "execution_count": 24,
     "metadata": {},
     "output_type": "execute_result"
    }
   ],
   "source": [
    ".2/2*sum(f(x2[0]) + 2*f(x2[1:-1]) + f(x2[-1]))"
   ]
  },
  {
   "cell_type": "code",
   "execution_count": 25,
   "metadata": {},
   "outputs": [
    {
     "data": {
      "text/plain": [
       "-0.3066666666666668"
      ]
     },
     "execution_count": 25,
     "metadata": {},
     "output_type": "execute_result"
    }
   ],
   "source": [
    "1/3 - .2/2*sum(f(x2[0]) + 2*f(x2[1:-1]) + f(x2[-1]))"
   ]
  },
  {
   "cell_type": "code",
   "execution_count": 26,
   "metadata": {},
   "outputs": [],
   "source": [
    "def trapezoid_approx(x, n):\n",
    "    '''\n",
    "    This function computes a \n",
    "    trapezoidal approximation for \n",
    "    the area under function f on x\n",
    "    ======\n",
    "    Arguments\n",
    "    x = array; domain of interest\n",
    "    n = integer; number of trapezoids to use\n",
    "    ======\n",
    "    Returns\n",
    "    area = float; area approximation\n",
    "    '''\n",
    "    width = (x[-1] - x[0])/n\n",
    "    bases = np.array([x[0] + i*width for i in range(n + 1)])\n",
    "    heights = f(bases)\n",
    "    areas = f(heights[0]) + sum(2*(heights[1:-1])) + f(heights[-1])\n",
    "    return width/2*areas"
   ]
  },
  {
   "cell_type": "code",
   "execution_count": 27,
   "metadata": {},
   "outputs": [
    {
     "data": {
      "text/plain": [
       "0.34375"
      ]
     },
     "execution_count": 27,
     "metadata": {},
     "output_type": "execute_result"
    }
   ],
   "source": [
    "trapezoid_approx(x, 4)"
   ]
  },
  {
   "cell_type": "code",
   "execution_count": 28,
   "metadata": {},
   "outputs": [],
   "source": [
    "#approximations for many n's\n",
    "approxs = [trapezoid_approx(x, i) for i in [4, 40, 400, 4000, 40_000, 400_000]]\n",
    "#error in approximations\n",
    "errors = [round(abs(1/3 - approx), 10) for approx in approxs]"
   ]
  },
  {
   "cell_type": "code",
   "execution_count": 29,
   "metadata": {},
   "outputs": [],
   "source": [
    "error_df['triangular_approximation'] = approxs\n",
    "error_df['triangular_errors'] = errors"
   ]
  },
  {
   "cell_type": "code",
   "execution_count": 30,
   "metadata": {},
   "outputs": [
    {
     "data": {
      "text/html": [
       "<div>\n",
       "<style scoped>\n",
       "    .dataframe tbody tr th:only-of-type {\n",
       "        vertical-align: middle;\n",
       "    }\n",
       "\n",
       "    .dataframe tbody tr th {\n",
       "        vertical-align: top;\n",
       "    }\n",
       "\n",
       "    .dataframe thead th {\n",
       "        text-align: right;\n",
       "    }\n",
       "</style>\n",
       "<table border=\"1\" class=\"dataframe\">\n",
       "  <thead>\n",
       "    <tr style=\"text-align: right;\">\n",
       "      <th></th>\n",
       "      <th>subdivisions</th>\n",
       "      <th>riemann_area</th>\n",
       "      <th>riemann_error</th>\n",
       "      <th>triangular_approximation</th>\n",
       "      <th>triangular_errors</th>\n",
       "    </tr>\n",
       "  </thead>\n",
       "  <tbody>\n",
       "    <tr>\n",
       "      <th>0</th>\n",
       "      <td>4</td>\n",
       "      <td>0.2187500000</td>\n",
       "      <td>0.1145833333</td>\n",
       "      <td>0.3437500000</td>\n",
       "      <td>0.0104166667</td>\n",
       "    </tr>\n",
       "    <tr>\n",
       "      <th>1</th>\n",
       "      <td>40</td>\n",
       "      <td>0.3209375000</td>\n",
       "      <td>0.0123958333</td>\n",
       "      <td>0.3334375000</td>\n",
       "      <td>0.0001041667</td>\n",
       "    </tr>\n",
       "    <tr>\n",
       "      <th>2</th>\n",
       "      <td>400</td>\n",
       "      <td>0.3320843750</td>\n",
       "      <td>0.0012489583</td>\n",
       "      <td>0.3333343750</td>\n",
       "      <td>0.0000010417</td>\n",
       "    </tr>\n",
       "    <tr>\n",
       "      <th>3</th>\n",
       "      <td>4000</td>\n",
       "      <td>0.3332083438</td>\n",
       "      <td>0.0001249896</td>\n",
       "      <td>0.3333333438</td>\n",
       "      <td>0.0000000104</td>\n",
       "    </tr>\n",
       "    <tr>\n",
       "      <th>4</th>\n",
       "      <td>40000</td>\n",
       "      <td>0.3333208334</td>\n",
       "      <td>0.0000124999</td>\n",
       "      <td>0.3333333334</td>\n",
       "      <td>0.0000000001</td>\n",
       "    </tr>\n",
       "    <tr>\n",
       "      <th>5</th>\n",
       "      <td>400000</td>\n",
       "      <td>0.3333320833</td>\n",
       "      <td>0.0000012500</td>\n",
       "      <td>0.3333333333</td>\n",
       "      <td>0.0000000000</td>\n",
       "    </tr>\n",
       "  </tbody>\n",
       "</table>\n",
       "</div>"
      ],
      "text/plain": [
       "   subdivisions  riemann_area  riemann_error  triangular_approximation  \\\n",
       "0             4  0.2187500000   0.1145833333              0.3437500000   \n",
       "1            40  0.3209375000   0.0123958333              0.3334375000   \n",
       "2           400  0.3320843750   0.0012489583              0.3333343750   \n",
       "3          4000  0.3332083438   0.0001249896              0.3333333438   \n",
       "4         40000  0.3333208334   0.0000124999              0.3333333334   \n",
       "5        400000  0.3333320833   0.0000012500              0.3333333333   \n",
       "\n",
       "   triangular_errors  \n",
       "0       0.0104166667  \n",
       "1       0.0001041667  \n",
       "2       0.0000010417  \n",
       "3       0.0000000104  \n",
       "4       0.0000000001  \n",
       "5       0.0000000000  "
      ]
     },
     "execution_count": 30,
     "metadata": {},
     "output_type": "execute_result"
    }
   ],
   "source": [
    "error_df"
   ]
  },
  {
   "cell_type": "markdown",
   "metadata": {},
   "source": [
    "### Alternative Approach: Monte Carlo Integration\n",
    "\n",
    "<center>\n",
    " <img src = https://upload.wikimedia.org/wikipedia/commons/thumb/f/f3/Le_casino_de_Monte-Carlo.JPG/440px-Le_casino_de_Monte-Carlo.JPG />\n",
    " </center>"
   ]
  },
  {
   "cell_type": "code",
   "execution_count": 31,
   "metadata": {},
   "outputs": [],
   "source": [
    "x = np.linspace(0, 1, 1000)"
   ]
  },
  {
   "cell_type": "code",
   "execution_count": 32,
   "metadata": {},
   "outputs": [],
   "source": [
    "random_x = np.random.choice(x)"
   ]
  },
  {
   "cell_type": "code",
   "execution_count": 33,
   "metadata": {},
   "outputs": [
    {
     "data": {
      "text/plain": [
       "<matplotlib.collections.PolyCollection at 0x7fbaa8d6d250>"
      ]
     },
     "execution_count": 33,
     "metadata": {},
     "output_type": "execute_result"
    },
    {
     "data": {
      "image/png": "[encoded data removed]",
      "text/plain": [
       "<Figure size 432x288 with 1 Axes>"
      ]
     },
     "metadata": {
      "filenames": {
       "image/png": "/Users/jacobkoehler/Desktop/now/spring_21/calc/calcbook/_build/jupyter_execute/integration/integration_extra_40_1.png"
      },
      "needs_background": "light"
     },
     "output_type": "display_data"
    }
   ],
   "source": [
    "plt.plot(x, f(x))\n",
    "plt.plot(random_x, f(random_x), 'o')\n",
    "plt.axhline(f(random_x))\n",
    "plt.fill_between(x, f(random_x), color = 'gray', alpha = 0.2)"
   ]
  },
  {
   "cell_type": "code",
   "execution_count": 34,
   "metadata": {},
   "outputs": [
    {
     "data": {
      "image/png": "[encoded data removed]",
      "text/plain": [
       "<Figure size 1080x360 with 4 Axes>"
      ]
     },
     "metadata": {
      "filenames": {
       "image/png": "/Users/jacobkoehler/Desktop/now/spring_21/calc/calcbook/_build/jupyter_execute/integration/integration_extra_41_0.png"
      },
      "needs_background": "light"
     },
     "output_type": "display_data"
    }
   ],
   "source": [
    "fig, ax = plt.subplots(1, 4, figsize = (15, 5))\n",
    "for i in range(4):\n",
    "    random_x = np.random.choice(x)\n",
    "    ax[i].plot(x, f(x))\n",
    "    ax[i].plot(random_x, f(random_x), 'o')\n",
    "    ax[i].axhline(f(random_x))\n",
    "    ax[i].fill_between(x, f(random_x), color = 'gray', alpha = 0.2)\n",
    "    ax[i].set_title(f'Approximation {i}\\nArea {f(random_x):.3f}')"
   ]
  },
  {
   "cell_type": "markdown",
   "metadata": {},
   "source": [
    "$$\\text{Area} = \\frac{1}{n} \\sum_{i = 1}^n \\text{area}_i $$"
   ]
  },
  {
   "cell_type": "code",
   "execution_count": 35,
   "metadata": {},
   "outputs": [
    {
     "data": {
      "image/png": "[encoded data removed]",
      "text/plain": [
       "<Figure size 1080x720 with 16 Axes>"
      ]
     },
     "metadata": {
      "filenames": {
       "image/png": "/Users/jacobkoehler/Desktop/now/spring_21/calc/calcbook/_build/jupyter_execute/integration/integration_extra_43_0.png"
      },
      "needs_background": "light"
     },
     "output_type": "display_data"
    }
   ],
   "source": [
    "fig, ax = plt.subplots(4, 4, figsize = (15, 10))\n",
    "for i in range(4):\n",
    "    for j in range(4):\n",
    "        random_x = np.random.choice(x)\n",
    "        ax[i,j].plot(x, f(x))\n",
    "        ax[i,j].plot(random_x, f(random_x), 'o')\n",
    "        ax[i,j].axhline(f(random_x))\n",
    "        ax[i,j].fill_between(x, f(random_x), color = 'gray', alpha = 0.2)\n",
    "        ax[i,j].set_title(f'Area {f(random_x):.3f}')\n",
    "fig.suptitle('More Approximations with Monte Carlo');\n",
    "plt.tight_layout();"
   ]
  },
  {
   "cell_type": "code",
   "execution_count": 36,
   "metadata": {},
   "outputs": [
    {
     "data": {
      "text/plain": [
       "array([0.31931932, 0.35635636, 0.75475475, 0.06206206, 0.43443443,\n",
       "       0.74174174, 0.79479479, 0.44744745, 0.57357357, 0.95995996,\n",
       "       0.12812813, 0.42542543, 0.51151151, 0.53453453, 0.85685686,\n",
       "       0.86086086, 0.25325325, 0.54554555, 0.42642643, 0.92092092,\n",
       "       0.33633634, 0.95495495, 0.38938939, 0.05605606, 0.02202202,\n",
       "       0.40640641, 0.10710711, 0.28428428, 0.00900901, 0.64964965,\n",
       "       0.83183183, 0.33933934, 0.93893894, 0.69469469, 0.30630631,\n",
       "       0.27527528, 0.4044044 , 0.8048048 , 0.51051051, 0.67667668,\n",
       "       0.18718719, 0.45445445, 0.38138138, 0.82482482, 0.8018018 ,\n",
       "       0.27727728, 0.14714715, 0.54654655, 0.08208208, 0.87687688,\n",
       "       0.42442442, 0.87187187, 0.03903904, 0.37737738, 0.91891892,\n",
       "       0.56756757, 0.98098098, 0.06506507, 0.001001  , 0.04104104,\n",
       "       0.04804805, 0.38538539, 0.90590591, 0.5965966 , 0.12212212,\n",
       "       0.004004  , 0.55655656, 0.16516517, 0.27027027, 0.72572573,\n",
       "       0.25725726, 0.47347347, 0.87587588, 0.65665666, 0.58958959,\n",
       "       0.24424424, 0.94194194, 0.2012012 , 0.82782783, 0.49449449,\n",
       "       0.11811812, 0.67567568, 0.56056056, 0.08708709, 0.92592593,\n",
       "       0.89389389, 0.33733734, 0.57357357, 0.30630631, 0.92092092,\n",
       "       0.49249249, 0.98398398, 0.7047047 , 0.70770771, 0.63063063,\n",
       "       0.35035035, 0.10910911, 0.81281281, 0.74674675, 0.19319319])"
      ]
     },
     "execution_count": 36,
     "metadata": {},
     "output_type": "execute_result"
    }
   ],
   "source": [
    "np.random.choice(x, 100)"
   ]
  },
  {
   "cell_type": "code",
   "execution_count": 37,
   "metadata": {},
   "outputs": [
    {
     "data": {
      "text/plain": [
       "0.3078776975173371"
      ]
     },
     "execution_count": 37,
     "metadata": {},
     "output_type": "execute_result"
    }
   ],
   "source": [
    "np.mean(f(np.random.choice(x, 4)))"
   ]
  },
  {
   "cell_type": "code",
   "execution_count": 38,
   "metadata": {},
   "outputs": [],
   "source": [
    "approxs = [np.mean(f(np.random.choice(x, i))) for i in [4, 40, 400, 4000, 40_000, 400_000]]\n",
    "errors = [abs(1/3 - approx) for approx in approxs]"
   ]
  },
  {
   "cell_type": "code",
   "execution_count": 39,
   "metadata": {},
   "outputs": [],
   "source": [
    "error_df['monte_carlo_approx'] = approxs\n",
    "error_df['monte_carlo_error'] = errors"
   ]
  },
  {
   "cell_type": "code",
   "execution_count": 40,
   "metadata": {},
   "outputs": [
    {
     "data": {
      "text/html": [
       "<div>\n",
       "<style scoped>\n",
       "    .dataframe tbody tr th:only-of-type {\n",
       "        vertical-align: middle;\n",
       "    }\n",
       "\n",
       "    .dataframe tbody tr th {\n",
       "        vertical-align: top;\n",
       "    }\n",
       "\n",
       "    .dataframe thead th {\n",
       "        text-align: right;\n",
       "    }\n",
       "</style>\n",
       "<table border=\"1\" class=\"dataframe\">\n",
       "  <thead>\n",
       "    <tr style=\"text-align: right;\">\n",
       "      <th></th>\n",
       "      <th>subdivisions</th>\n",
       "      <th>riemann_area</th>\n",
       "      <th>riemann_error</th>\n",
       "      <th>triangular_approximation</th>\n",
       "      <th>triangular_errors</th>\n",
       "      <th>monte_carlo_approx</th>\n",
       "      <th>monte_carlo_error</th>\n",
       "    </tr>\n",
       "  </thead>\n",
       "  <tbody>\n",
       "    <tr>\n",
       "      <th>0</th>\n",
       "      <td>4</td>\n",
       "      <td>0.2187500000</td>\n",
       "      <td>0.1145833333</td>\n",
       "      <td>0.3437500000</td>\n",
       "      <td>0.0104166667</td>\n",
       "      <td>0.4850854358</td>\n",
       "      <td>0.1517521025</td>\n",
       "    </tr>\n",
       "    <tr>\n",
       "      <th>1</th>\n",
       "      <td>40</td>\n",
       "      <td>0.3209375000</td>\n",
       "      <td>0.0123958333</td>\n",
       "      <td>0.3334375000</td>\n",
       "      <td>0.0001041667</td>\n",
       "      <td>0.3339857124</td>\n",
       "      <td>0.0006523791</td>\n",
       "    </tr>\n",
       "    <tr>\n",
       "      <th>2</th>\n",
       "      <td>400</td>\n",
       "      <td>0.3320843750</td>\n",
       "      <td>0.0012489583</td>\n",
       "      <td>0.3333343750</td>\n",
       "      <td>0.0000010417</td>\n",
       "      <td>0.3222062177</td>\n",
       "      <td>0.0111271156</td>\n",
       "    </tr>\n",
       "    <tr>\n",
       "      <th>3</th>\n",
       "      <td>4000</td>\n",
       "      <td>0.3332083438</td>\n",
       "      <td>0.0001249896</td>\n",
       "      <td>0.3333333438</td>\n",
       "      <td>0.0000000104</td>\n",
       "      <td>0.3297504043</td>\n",
       "      <td>0.0035829290</td>\n",
       "    </tr>\n",
       "    <tr>\n",
       "      <th>4</th>\n",
       "      <td>40000</td>\n",
       "      <td>0.3333208334</td>\n",
       "      <td>0.0000124999</td>\n",
       "      <td>0.3333333334</td>\n",
       "      <td>0.0000000001</td>\n",
       "      <td>0.3326355384</td>\n",
       "      <td>0.0006977950</td>\n",
       "    </tr>\n",
       "    <tr>\n",
       "      <th>5</th>\n",
       "      <td>400000</td>\n",
       "      <td>0.3333320833</td>\n",
       "      <td>0.0000012500</td>\n",
       "      <td>0.3333333333</td>\n",
       "      <td>0.0000000000</td>\n",
       "      <td>0.3333188708</td>\n",
       "      <td>0.0000144626</td>\n",
       "    </tr>\n",
       "  </tbody>\n",
       "</table>\n",
       "</div>"
      ],
      "text/plain": [
       "   subdivisions  riemann_area  riemann_error  triangular_approximation  \\\n",
       "0             4  0.2187500000   0.1145833333              0.3437500000   \n",
       "1            40  0.3209375000   0.0123958333              0.3334375000   \n",
       "2           400  0.3320843750   0.0012489583              0.3333343750   \n",
       "3          4000  0.3332083438   0.0001249896              0.3333333438   \n",
       "4         40000  0.3333208334   0.0000124999              0.3333333334   \n",
       "5        400000  0.3333320833   0.0000012500              0.3333333333   \n",
       "\n",
       "   triangular_errors  monte_carlo_approx  monte_carlo_error  \n",
       "0       0.0104166667        0.4850854358       0.1517521025  \n",
       "1       0.0001041667        0.3339857124       0.0006523791  \n",
       "2       0.0000010417        0.3222062177       0.0111271156  \n",
       "3       0.0000000104        0.3297504043       0.0035829290  \n",
       "4       0.0000000001        0.3326355384       0.0006977950  \n",
       "5       0.0000000000        0.3333188708       0.0000144626  "
      ]
     },
     "execution_count": 40,
     "metadata": {},
     "output_type": "execute_result"
    }
   ],
   "source": [
    "error_df"
   ]
  },
  {
   "cell_type": "markdown",
   "metadata": {},
   "source": [
    "### Problems\n",
    "\n",
    "1. Compare the left-handed riemann approximation with $n = 100$, trapezoidal approximation with $n = 100$, and monte carlo approximation with $n = 100$ for the following functions on the given interval:\n",
    "\n",
    "- $f(x) = \\sin(\\sin(x) - x)dx \\quad [0, 2\\pi]$\n",
    "- $g(x) = \\cos^{2020}(x) dx \\quad [0, 2\\pi]$"
   ]
  },
  {
   "cell_type": "markdown",
   "metadata": {},
   "source": [
    "2. Approximating $\\pi$.  The circular region in the first quadrant can be defined by $y = \\sqrt{1 - x^2}$.  We can determine an approximation for $\\pi$ by doing the following:\n",
    "\n",
    "- Drop many random points on the square.\n",
    "- If the points are less than $\\sqrt{1 - x^2}$ we will count them, if they are outside the circle we will not\n",
    "- Determine the ratio of points dropped to points counted, multiply by 4\n",
    "\n",
    "Write a small python program to conduct this simulation and plot the results coloring the points accepted and rejected blue and red respectively.  How good was your approximation?"
   ]
  },
  {
   "cell_type": "code",
   "execution_count": null,
   "metadata": {},
   "outputs": [],
   "source": []
  },
  {
   "cell_type": "code",
   "execution_count": null,
   "metadata": {},
   "outputs": [],
   "source": []
  },
  {
   "cell_type": "code",
   "execution_count": null,
   "metadata": {},
   "outputs": [],
   "source": []
  },
  {
   "cell_type": "code",
   "execution_count": null,
   "metadata": {},
   "outputs": [],
   "source": []
  },
  {
   "cell_type": "code",
   "execution_count": null,
   "metadata": {},
   "outputs": [],
   "source": []
  },
  {
   "cell_type": "code",
   "execution_count": null,
   "metadata": {},
   "outputs": [],
   "source": []
  }
 ],
 "metadata": {
  "kernelspec": {
   "display_name": "Python 3",
   "language": "python",
   "name": "python3"
  },
  "language_info": {
   "codemirror_mode": {
    "name": "ipython",
    "version": 3
   },
   "file_extension": ".py",
   "mimetype": "text/x-python",
   "name": "python",
   "nbconvert_exporter": "python",
   "pygments_lexer": "ipython3",
   "version": "3.8.2"
  }
 },
 "nbformat": 4,
 "nbformat_minor": 4
}