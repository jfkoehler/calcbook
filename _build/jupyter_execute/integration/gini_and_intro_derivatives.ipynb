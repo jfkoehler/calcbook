{
 "cells": [
  {
   "cell_type": "markdown",
   "metadata": {
    "id": "uHlE6-01UbwM"
   },
   "source": [
    "### Reviewing Gini and Introduction to Derivatives\n",
    "\n",
    "**OBJECTIVES**\n",
    "\n",
    "\n",
    "- Review slope and linear equations\n",
    "- Introduce derivatives\n",
    "- Explore relationships between graph of function and its derivative"
   ]
  },
  {
   "cell_type": "code",
   "execution_count": 1,
   "metadata": {
    "id": "_Q7m-zExwTkH"
   },
   "outputs": [],
   "source": [
    "import matplotlib.pyplot as plt\n",
    "import numpy as np\n",
    "import pandas as pd\n",
    "from scipy.integrate import quad"
   ]
  },
  {
   "cell_type": "markdown",
   "metadata": {
    "id": "7AV6KRGF6VTj"
   },
   "source": [
    "### Slope of a Line: Reminders\n",
    "\n",
    "$$\\text{slope} = \\frac{y_1 - y_0}{x_1 - x_0}$$\n",
    "\n",
    "- Find the slope of the line through $(8, 3)$ and $(4, 7)$.\n",
    "- Write an equation for the line above. \n",
    "- Plot the line through the points."
   ]
  },
  {
   "cell_type": "code",
   "execution_count": 2,
   "metadata": {
    "id": "Y7XoSAKW5BBk"
   },
   "outputs": [],
   "source": [
    "def f(x): return 3 - (x - 8)"
   ]
  },
  {
   "cell_type": "code",
   "execution_count": 3,
   "metadata": {
    "colab": {
     "base_uri": "https://localhost:8080/",
     "height": 283
    },
    "id": "5FjLeeuC5452",
    "outputId": "d1f10177-067d-4790-c83a-b188f47a4958"
   },
   "outputs": [
    {
     "data": {
      "image/png": "[encoded data removed]",
      "text/plain": [
       "<Figure size 432x288 with 1 Axes>"
      ]
     },
     "metadata": {
      "filenames": {
       "image/png": "/Users/jacobkoehler/Desktop/present/calcbook/_build/jupyter_execute/integration/gini_and_intro_derivatives_4_0.png"
      },
      "needs_background": "light"
     },
     "output_type": "display_data"
    }
   ],
   "source": [
    "x = np.linspace(4, 8, 100)\n",
    "plt.plot(x, f(x), '--')\n",
    "plt.plot(8, 3, 'ro')\n",
    "plt.plot(4, 7, 'ro')\n",
    "plt.title('Line between (8, 3) and (4, 7)');"
   ]
  },
  {
   "cell_type": "code",
   "execution_count": null,
   "metadata": {
    "id": "IFfI1C_27dSS"
   },
   "outputs": [],
   "source": []
  },
  {
   "cell_type": "code",
   "execution_count": null,
   "metadata": {
    "id": "RGXGIyPm7dOm"
   },
   "outputs": [],
   "source": []
  },
  {
   "cell_type": "markdown",
   "metadata": {
    "id": "bYiRMzgA7d6n"
   },
   "source": [
    "**Problems**\n",
    "\n",
    "- Plot the line $y = x^2$ on $[-2, 2]$, and on $[0.99, 1.01]$.  \n",
    "- What would the slope of the line in the second plot be? \n",
    "- Write the equation of the line and plot it alongside the curve using the first domain.\n",
    "- Repeat the process above to approximate the equation for the line tangent to the function at $x = -1$."
   ]
  },
  {
   "cell_type": "code",
   "execution_count": 4,
   "metadata": {
    "colab": {
     "base_uri": "https://localhost:8080/",
     "height": 283
    },
    "id": "KFW40GC673bE",
    "outputId": "a5c729be-912f-4690-ea82-51f939920ff7"
   },
   "outputs": [
    {
     "data": {
      "text/plain": [
       "[<matplotlib.lines.Line2D at 0x7fefe0aed710>]"
      ]
     },
     "execution_count": 4,
     "metadata": {},
     "output_type": "execute_result"
    },
    {
     "data": {
      "image/png": "[encoded data removed]",
      "text/plain": [
       "<Figure size 432x288 with 1 Axes>"
      ]
     },
     "metadata": {
      "filenames": {
       "image/png": "/Users/jacobkoehler/Desktop/present/calcbook/_build/jupyter_execute/integration/gini_and_intro_derivatives_8_1.png"
      },
      "needs_background": "light"
     },
     "output_type": "display_data"
    }
   ],
   "source": [
    "def f(x): return x**2\n",
    "def l(x): return 1 + 2*(x - 1)\n",
    "x = np.linspace(-2,2)\n",
    "plt.plot(x, f(x))\n",
    "plt.plot(x, l(x))\n",
    "plt.plot(1, 1, 'o')"
   ]
  },
  {
   "cell_type": "code",
   "execution_count": 5,
   "metadata": {
    "id": "z33QqStM8IUF"
   },
   "outputs": [],
   "source": [
    "slope = (f(1.01) - f(0.99))/(1.01 - .99)"
   ]
  },
  {
   "cell_type": "code",
   "execution_count": 6,
   "metadata": {
    "colab": {
     "base_uri": "https://localhost:8080/"
    },
    "id": "LGsnzvJs8IOG",
    "outputId": "73eb551c-aa30-47ce-f138-2bde16fa8492"
   },
   "outputs": [
    {
     "data": {
      "text/plain": [
       "2.0"
      ]
     },
     "execution_count": 6,
     "metadata": {},
     "output_type": "execute_result"
    }
   ],
   "source": [
    "slope"
   ]
  },
  {
   "cell_type": "markdown",
   "metadata": {
    "id": "gW7Ht_hJOuci"
   },
   "source": [
    "### Finding the Derivative at Some Point\n",
    "\n",
    "$$f'(x) = \\frac{f(x + h) - f(x)}{h}$$"
   ]
  },
  {
   "cell_type": "code",
   "execution_count": 7,
   "metadata": {
    "colab": {
     "base_uri": "https://localhost:8080/"
    },
    "id": "kzrSmSLXO3I6",
    "outputId": "dd4712b7-589c-419e-cdc3-ff61b6c837c3"
   },
   "outputs": [
    {
     "data": {
      "text/plain": [
       "-1.998999999999973"
      ]
     },
     "execution_count": 7,
     "metadata": {},
     "output_type": "execute_result"
    }
   ],
   "source": [
    "#define the derivative\n",
    "(f(-1 + 0.001) - f(-1))/(0.001)"
   ]
  },
  {
   "cell_type": "markdown",
   "metadata": {
    "id": "a28LkvwlO84u"
   },
   "source": [
    "Use the equation above to determine the value of $f'(a)$.  Use that information to write the equation of the line tangent to $f$ at $x = a$. \n",
    "\n",
    "1. $f(x) = x^2 + x, a = 1$\n",
    "2. $f(x) = \\frac{-3}{x - 1}, a = -2$\n",
    "3. $f(x) = \\frac{3}{x^2}, a = 3$"
   ]
  },
  {
   "cell_type": "code",
   "execution_count": 8,
   "metadata": {
    "id": "z0XlBwoxqw08"
   },
   "outputs": [],
   "source": [
    "def df(x): return (f(x + 0.001) - f(x))/0.001"
   ]
  },
  {
   "cell_type": "code",
   "execution_count": 9,
   "metadata": {
    "id": "yRettdcYP1jf"
   },
   "outputs": [],
   "source": [
    "def f(x): return x**2 + x"
   ]
  },
  {
   "cell_type": "code",
   "execution_count": 10,
   "metadata": {
    "colab": {
     "base_uri": "https://localhost:8080/"
    },
    "id": "9BFF4-oar8cx",
    "outputId": "2561d139-7ffc-4fc1-e19d-45c965efbacb"
   },
   "outputs": [
    {
     "data": {
      "text/plain": [
       "3.0009999999993653"
      ]
     },
     "execution_count": 10,
     "metadata": {},
     "output_type": "execute_result"
    }
   ],
   "source": [
    "(f(1 + 0.001) - f(1))/0.001"
   ]
  },
  {
   "cell_type": "code",
   "execution_count": 11,
   "metadata": {
    "colab": {
     "base_uri": "https://localhost:8080/"
    },
    "id": "QRl7XNakO3CJ",
    "outputId": "a88bf1c8-4671-4fb4-944c-199cc59f61f8"
   },
   "outputs": [
    {
     "data": {
      "text/plain": [
       "3.0009999999993653"
      ]
     },
     "execution_count": 11,
     "metadata": {},
     "output_type": "execute_result"
    }
   ],
   "source": [
    "df(1)"
   ]
  },
  {
   "cell_type": "code",
   "execution_count": 12,
   "metadata": {
    "id": "VLXaS3yiO2--"
   },
   "outputs": [],
   "source": [
    "def f(x): return -3/(x - 1)"
   ]
  },
  {
   "cell_type": "code",
   "execution_count": 13,
   "metadata": {
    "colab": {
     "base_uri": "https://localhost:8080/"
    },
    "id": "u-FkHYRUO26_",
    "outputId": "eb93cc84-290e-4c49-d1b2-d1772083a2ea"
   },
   "outputs": [
    {
     "data": {
      "text/plain": [
       "0.33344448149374983"
      ]
     },
     "execution_count": 13,
     "metadata": {},
     "output_type": "execute_result"
    }
   ],
   "source": [
    "df(-2)"
   ]
  },
  {
   "cell_type": "code",
   "execution_count": 14,
   "metadata": {
    "id": "iOliTYDKO24e"
   },
   "outputs": [],
   "source": [
    "def f(x): return 3/x**2"
   ]
  },
  {
   "cell_type": "code",
   "execution_count": 15,
   "metadata": {
    "colab": {
     "base_uri": "https://localhost:8080/"
    },
    "id": "CHkqUgRYrA4M",
    "outputId": "de5b698c-dbc9-4f98-99b6-9fa2a3e521ca"
   },
   "outputs": [
    {
     "data": {
      "text/plain": [
       "-0.2221111604732151"
      ]
     },
     "execution_count": 15,
     "metadata": {},
     "output_type": "execute_result"
    }
   ],
   "source": [
    "df(3)"
   ]
  },
  {
   "cell_type": "markdown",
   "metadata": {
    "id": "4HiITS3N9WjR"
   },
   "source": [
    "### Rules for Derivatives\n",
    "\n",
    "- Polynomials\n",
    "- Trigonometric\n",
    "- Exponential\n",
    "- Logarithmic\n"
   ]
  },
  {
   "cell_type": "code",
   "execution_count": 16,
   "metadata": {
    "id": "AiluIieuBJmz"
   },
   "outputs": [],
   "source": [
    "import sympy as sy"
   ]
  },
  {
   "cell_type": "code",
   "execution_count": 17,
   "metadata": {
    "id": "CenVXLcxBLOK"
   },
   "outputs": [],
   "source": [
    "x, y, p = sy.symbols('x y p')"
   ]
  },
  {
   "cell_type": "code",
   "execution_count": 18,
   "metadata": {
    "colab": {
     "base_uri": "https://localhost:8080/",
     "height": 39
    },
    "id": "nxo7EOKvBffD",
    "outputId": "f9a4f537-c0fb-433f-def4-9835035647f4"
   },
   "outputs": [
    {
     "data": {
      "text/latex": [
       "$\\displaystyle 2 x$"
      ],
      "text/plain": [
       "2*x"
      ]
     },
     "execution_count": 18,
     "metadata": {},
     "output_type": "execute_result"
    }
   ],
   "source": [
    "sy.diff(x**2, x)"
   ]
  },
  {
   "cell_type": "code",
   "execution_count": 19,
   "metadata": {
    "colab": {
     "base_uri": "https://localhost:8080/",
     "height": 39
    },
    "id": "_m1oVdBaBiXz",
    "outputId": "4dfb7a51-502c-4263-9a07-7811aae0a641"
   },
   "outputs": [
    {
     "data": {
      "text/latex": [
       "$\\displaystyle 3 x^{2}$"
      ],
      "text/plain": [
       "3*x**2"
      ]
     },
     "execution_count": 19,
     "metadata": {},
     "output_type": "execute_result"
    }
   ],
   "source": [
    "sy.diff(x**3, x)"
   ]
  },
  {
   "cell_type": "code",
   "execution_count": 20,
   "metadata": {
    "colab": {
     "base_uri": "https://localhost:8080/",
     "height": 39
    },
    "id": "MT-2RWm3Bx36",
    "outputId": "e2b33461-0a34-4084-9c6a-ae9dc1e2d0f9"
   },
   "outputs": [
    {
     "data": {
      "text/latex": [
       "$\\displaystyle 4 x^{3}$"
      ],
      "text/plain": [
       "4*x**3"
      ]
     },
     "execution_count": 20,
     "metadata": {},
     "output_type": "execute_result"
    }
   ],
   "source": [
    "sy.diff(x**4, x)"
   ]
  },
  {
   "cell_type": "code",
   "execution_count": 21,
   "metadata": {
    "colab": {
     "base_uri": "https://localhost:8080/",
     "height": 39
    },
    "id": "0Gqs4UF4B2Os",
    "outputId": "a859f263-1785-4e69-ca4d-b092f3d54976"
   },
   "outputs": [
    {
     "data": {
      "text/latex": [
       "$\\displaystyle \\cos{\\left(x \\right)}$"
      ],
      "text/plain": [
       "cos(x)"
      ]
     },
     "execution_count": 21,
     "metadata": {},
     "output_type": "execute_result"
    }
   ],
   "source": [
    "sy.diff(sy.sin(x), x)"
   ]
  },
  {
   "cell_type": "code",
   "execution_count": 22,
   "metadata": {
    "colab": {
     "base_uri": "https://localhost:8080/",
     "height": 39
    },
    "id": "IDzgbtTsB_Sy",
    "outputId": "208f8d87-7063-48c3-8e31-ccfb9ebc2298"
   },
   "outputs": [
    {
     "data": {
      "text/latex": [
       "$\\displaystyle - \\sin{\\left(x \\right)}$"
      ],
      "text/plain": [
       "-sin(x)"
      ]
     },
     "execution_count": 22,
     "metadata": {},
     "output_type": "execute_result"
    }
   ],
   "source": [
    "sy.diff(sy.cos(x), x)"
   ]
  },
  {
   "cell_type": "code",
   "execution_count": 23,
   "metadata": {
    "colab": {
     "base_uri": "https://localhost:8080/",
     "height": 39
    },
    "id": "w-9IeasvCBVN",
    "outputId": "914690cb-8c66-4a30-cbbc-f058fe5399d3"
   },
   "outputs": [
    {
     "data": {
      "text/latex": [
       "$\\displaystyle e^{x}$"
      ],
      "text/plain": [
       "exp(x)"
      ]
     },
     "execution_count": 23,
     "metadata": {},
     "output_type": "execute_result"
    }
   ],
   "source": [
    "sy.diff(sy.exp(x), x)"
   ]
  },
  {
   "cell_type": "code",
   "execution_count": 24,
   "metadata": {
    "colab": {
     "base_uri": "https://localhost:8080/",
     "height": 51
    },
    "id": "TKki2txGCEH-",
    "outputId": "0c7a1c43-5925-4900-a916-2479f0aceeaa"
   },
   "outputs": [
    {
     "data": {
      "text/latex": [
       "$\\displaystyle \\frac{1}{x}$"
      ],
      "text/plain": [
       "1/x"
      ]
     },
     "execution_count": 24,
     "metadata": {},
     "output_type": "execute_result"
    }
   ],
   "source": [
    "sy.diff(sy.log(x), x)"
   ]
  },
  {
   "cell_type": "markdown",
   "metadata": {
    "id": "92FKjNX1QBwx"
   },
   "source": [
    "### A Function and its Derivative\n",
    "\n",
    "Let $f(x) = x^5 + 2x^4 - x^3 - 2x^2$.  \n",
    "\n",
    "a. Find $f'(x)$ and plot on [-2.5, 1.5].\n",
    "\n",
    "b. Over what intervals does the graph of $f$ appear to be rising as you move left to right?\n",
    "\n",
    "c. Over what intervals does the graph of $f'$ appear to be able the $x$-axis?\n",
    "\n",
    "d. Over what intervals does the graph of $f$ appear to be falling as you move from left to right?\n",
    "\n",
    "e. Over what intervals does the graph of $f'$ appear to be below the x-axis?\n",
    "\n",
    "f. What are the $x$-coordinates of all the high points and low points of the graph of $f$?\n",
    "\n",
    "g. For what value of $x$ does the graph of $f'$ appear to meet the $x$-axis?\n",
    "\n",
    "Repeat for $y = \\frac{x}{1 + x^2}$.  \n",
    "\n",
    "On the basis of these examples, write a statement that relates where a function is rising, is falling, and has a high point or low point to properties you observed about the graph of its derivative.\n",
    "\n"
   ]
  },
  {
   "cell_type": "code",
   "execution_count": null,
   "metadata": {
    "id": "6MyoFIjwUJMd"
   },
   "outputs": [],
   "source": []
  }
 ],
 "metadata": {
  "colab": {
   "collapsed_sections": [],
   "name": "gini_and_intro_derivatives.ipynb",
   "provenance": []
  },
  "kernelspec": {
   "display_name": "Python 3",
   "language": "python",
   "name": "python3"
  },
  "language_info": {
   "codemirror_mode": {
    "name": "ipython",
    "version": 3
   },
   "file_extension": ".py",
   "mimetype": "text/x-python",
   "name": "python",
   "nbconvert_exporter": "python",
   "pygments_lexer": "ipython3",
   "version": "3.7.4"
  },
  "widgets": {
   "application/vnd.jupyter.widget-state+json": {
    "state": {},
    "version_major": 2,
    "version_minor": 0
   }
  }
 },
 "nbformat": 4,
 "nbformat_minor": 4
}