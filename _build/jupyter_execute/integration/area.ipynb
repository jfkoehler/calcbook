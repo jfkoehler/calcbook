{
 "cells": [
  {
   "cell_type": "markdown",
   "metadata": {},
   "source": [
    "# Riemann Sums and Definite Integrals\n",
    "\n",
    "**OBJECTIVE**\n",
    "\n",
    "- Approximate area under a curve using Riemann Sums\n",
    "- Investigate patterns as we move to infinite rectangles\n",
    "- Define the *Definite Integral* formally and informally\n",
    "- Use `python` to determine the definite integral\n"
   ]
  },
  {
   "cell_type": "code",
   "execution_count": 1,
   "metadata": {},
   "outputs": [
    {
     "name": "stderr",
     "output_type": "stream",
     "text": [
      "/opt/anaconda3/lib/python3.8/site-packages/scipy/__init__.py:146: UserWarning: A NumPy version >=1.16.5 and <1.23.0 is required for this version of SciPy (detected version 1.23.2\n",
      "  warnings.warn(f\"A NumPy version >={np_minversion} and <{np_maxversion}\"\n"
     ]
    }
   ],
   "source": [
    "import matplotlib.pyplot as plt\n",
    "import numpy as np\n",
    "import pandas as pd\n",
    "from scipy.integrate import quad"
   ]
  },
  {
   "cell_type": "markdown",
   "metadata": {},
   "source": [
    "## Riemann Sum\n",
    "\n",
    "Starting where we left off with an approximation of the area under a function, on a closed interval we aim to determine a general formula for the area under a curve based on the following inputs:\n",
    "\n",
    "- A function $f$\n",
    "- A domain $[a, b]$. \n",
    "- A number of approximating rectangles $n$\n",
    "\n",
    "We use these to determine the area as a sum of areas of rectangles with some width and height. \n",
    "\n",
    "$$\\text{Area} \\approx \\sum_{i = 1}^n \\text{widths} \\times \\text{heights}$$"
   ]
  },
  {
   "cell_type": "markdown",
   "metadata": {},
   "source": [
    "we make life easier by making the rectangles all equal width and are left with the idea:\n",
    "\n",
    "$$\\text{Area} \\approx \\text{width} \\times \\sum_{i = 1}^n \\text{heights}$$"
   ]
  },
  {
   "cell_type": "markdown",
   "metadata": {},
   "source": [
    "### Example 1: Left-Handed Sums\n",
    "\n",
    "Let's be concrete with a small example.  Here, let our function be $f(x) = -x^2 + 1$ on $[-1, 1]$ and let $n = 4$.  \n",
    "\n",
    "------\n",
    "- What is the width of each rectangle?\n",
    "- List the left endpoints of each subinterval.\n",
    "- Write a formula for these\n",
    "- Use algorithm to determine\n",
    "- Express the sum of the rectangles heights as: $f(x_0) + f(x_1) + f(x_2) + f(x_3)$, and replace $x_0, x_1, x_2, x_3$ with the values from above.  \n",
    "- Evaluate the area.\n",
    "-----"
   ]
  },
  {
   "cell_type": "code",
   "execution_count": 2,
   "metadata": {},
   "outputs": [],
   "source": [
    "#width of one rectangle?\n"
   ]
  },
  {
   "cell_type": "code",
   "execution_count": 3,
   "metadata": {},
   "outputs": [],
   "source": [
    "#left endpoints\n"
   ]
  },
  {
   "cell_type": "code",
   "execution_count": 4,
   "metadata": {},
   "outputs": [],
   "source": [
    "#width times height\n"
   ]
  },
  {
   "cell_type": "code",
   "execution_count": 5,
   "metadata": {},
   "outputs": [],
   "source": [
    "#area\n"
   ]
  },
  {
   "cell_type": "markdown",
   "metadata": {},
   "source": [
    "## Riemann Sum: A Definition\n",
    "\n",
    "*In mathematics, a Riemann sum is a certain kind of approximation of an integral by a finite sum. It is named after nineteenth century German mathematician Bernhard Riemann. One very common application is approximating the area of functions or lines on a graph, but also the length of curves and other approximations.* -- [Source](https://en.wikipedia.org/wiki/Riemann_sum)\n",
    "\n",
    "-----\n",
    "A Riemann sum $S$ of $f$ over $I$ with partition $P$ is defined as:\n",
    "\n",
    "$$\\displaystyle S=\\sum _{i=1}^{n}f(x_{i}^{*})\\,\\Delta x_{i}$$\n",
    "\n",
    "\n",
    "where \n",
    "\n",
    "$\\displaystyle \\Delta x_{i}=x_{i}-x_{i-1}$ and $x_{i}^{*} \\in [x_{i-1},x_{i}]$\n",
    "\n",
    "-----"
   ]
  },
  {
   "cell_type": "markdown",
   "metadata": {},
   "source": [
    "**PROBLEM**\n",
    "\n",
    "- Find an approximation for the area under the curve $f(x) = x^3$ on $[1, 3]$ with $n = 5$. "
   ]
  },
  {
   "cell_type": "code",
   "execution_count": null,
   "metadata": {},
   "outputs": [],
   "source": []
  },
  {
   "cell_type": "code",
   "execution_count": null,
   "metadata": {},
   "outputs": [],
   "source": []
  },
  {
   "cell_type": "code",
   "execution_count": null,
   "metadata": {},
   "outputs": [],
   "source": []
  },
  {
   "cell_type": "code",
   "execution_count": null,
   "metadata": {},
   "outputs": [],
   "source": []
  },
  {
   "cell_type": "code",
   "execution_count": null,
   "metadata": {},
   "outputs": [],
   "source": []
  },
  {
   "cell_type": "markdown",
   "metadata": {},
   "source": [
    "Consider the function $f(x) = 4 - x^2$ on the interval $[-2,2]$.  \n",
    "\n",
    "- Draw a plot of the function\n",
    "- Use the above formula for $L(4)$ to find an approximation for the area under the curve."
   ]
  },
  {
   "cell_type": "code",
   "execution_count": null,
   "metadata": {},
   "outputs": [],
   "source": []
  },
  {
   "cell_type": "code",
   "execution_count": null,
   "metadata": {},
   "outputs": [],
   "source": []
  },
  {
   "cell_type": "code",
   "execution_count": null,
   "metadata": {},
   "outputs": [],
   "source": []
  },
  {
   "cell_type": "markdown",
   "metadata": {},
   "source": [
    "### General Example\n",
    "\n",
    "Find an expression for the area under the curve $$f(x) = x^3 - x$$ on $[1, 4]$ with $n$ rectangles.  \n",
    "\n",
    "**Recall**: \n",
    "\n",
    "$$\\sum_{i = 1}^n i = \\frac{n^2 + n}{2} \\quad \\sum_{i = 1}^n i^3 = \\big[\\frac{n^2 + n}{2}\\big]^2$$"
   ]
  },
  {
   "cell_type": "code",
   "execution_count": 6,
   "metadata": {},
   "outputs": [],
   "source": [
    "from IPython.display import IFrame"
   ]
  },
  {
   "cell_type": "code",
   "execution_count": 7,
   "metadata": {},
   "outputs": [
    {
     "data": {
      "text/html": [
       "\n",
       "<iframe\n",
       "    width=\"100\"\n",
       "    height=\"200\"\n",
       "    src=\"\"\n",
       "    frameborder=\"0\"\n",
       "    allowfullscreen\n",
       "></iframe>\n"
      ],
      "text/plain": [
       "<IPython.lib.display.IFrame at 0x7f8806d941f0>"
      ]
     },
     "execution_count": 7,
     "metadata": {},
     "output_type": "execute_result"
    }
   ],
   "source": [
    "IFrame(src = '', width = 100, height = 200)"
   ]
  },
  {
   "cell_type": "code",
   "execution_count": null,
   "metadata": {},
   "outputs": [],
   "source": []
  },
  {
   "cell_type": "code",
   "execution_count": null,
   "metadata": {},
   "outputs": [],
   "source": []
  },
  {
   "cell_type": "code",
   "execution_count": null,
   "metadata": {},
   "outputs": [],
   "source": []
  },
  {
   "cell_type": "code",
   "execution_count": null,
   "metadata": {},
   "outputs": [],
   "source": []
  },
  {
   "cell_type": "markdown",
   "metadata": {},
   "source": [
    "**Problems**\n",
    "\n",
    "1. Riemann sum for $f(x) = x^3$ on $[2, 4]$\n",
    "\n",
    "2. Riemann sum for $f(x) = 3x^3 - 2x$ on $[1, 3]$\n",
    "\n",
    "\n"
   ]
  },
  {
   "cell_type": "code",
   "execution_count": null,
   "metadata": {},
   "outputs": [],
   "source": []
  },
  {
   "cell_type": "code",
   "execution_count": null,
   "metadata": {},
   "outputs": [],
   "source": []
  },
  {
   "cell_type": "code",
   "execution_count": null,
   "metadata": {},
   "outputs": [],
   "source": []
  },
  {
   "cell_type": "code",
   "execution_count": null,
   "metadata": {},
   "outputs": [],
   "source": []
  },
  {
   "cell_type": "code",
   "execution_count": null,
   "metadata": {},
   "outputs": [],
   "source": []
  },
  {
   "cell_type": "code",
   "execution_count": null,
   "metadata": {},
   "outputs": [],
   "source": []
  },
  {
   "cell_type": "code",
   "execution_count": null,
   "metadata": {},
   "outputs": [],
   "source": []
  },
  {
   "cell_type": "markdown",
   "metadata": {},
   "source": [
    "### Taking it to the limit\n",
    "\n",
    "What happens if we increase the number of rectangles?"
   ]
  },
  {
   "cell_type": "code",
   "execution_count": 8,
   "metadata": {},
   "outputs": [],
   "source": [
    "x = np.linspace(-2,2,100)\n",
    "def f(x): return x**2\n",
    "def riemann_slider(n):\n",
    "    a = x[0] #left endpoint\n",
    "    b = x[-1] #right endpoint\n",
    "    width = (b-a)/n #width of rectangles\n",
    "    plt.plot(x, f(x), color = 'black') #plot the function\n",
    "    bases = np.array([a + width*i for i in range(n)]) #determine base points\n",
    "    plt.bar(bases, f(bases), width = width, align = 'edge', \n",
    "           color = 'orange', edgecolor = 'black') #plot the rectangles\n",
    "    areas = [width * height for height in f(bases)] #find the area\n",
    "    print(sum(areas))"
   ]
  },
  {
   "cell_type": "code",
   "execution_count": 9,
   "metadata": {},
   "outputs": [],
   "source": [
    "from ipywidgets import interact\n",
    "import ipywidgets as widgets"
   ]
  },
  {
   "cell_type": "code",
   "execution_count": 10,
   "metadata": {},
   "outputs": [
    {
     "data": {
      "application/vnd.jupyter.widget-view+json": {
       "model_id": "cf8e638ce28f4d2692f4069b92c6714a",
       "version_major": 2,
       "version_minor": 0
      },
      "text/plain": [
       "interactive(children=(IntSlider(value=1, description='n', min=1, step=2), Output()), _dom_classes=('widget-int…"
      ]
     },
     "metadata": {},
     "output_type": "display_data"
    }
   ],
   "source": [
    "interact(riemann_slider,  n = widgets.IntSlider(1, min = 1, max = 100, step = 2));"
   ]
  },
  {
   "cell_type": "markdown",
   "metadata": {},
   "source": [
    "### The Definite Integral\n",
    "\n",
    "<center>\n",
    "<img src = 'https://upload.wikimedia.org/wikipedia/commons/thumb/9/9f/Integral_example.svg/600px-Integral_example.svg.png' width = 50%/>\n",
    "</center>\n",
    "\n",
    "In mathematics, an integral assigns numbers to functions in a way that describes displacement, area, volume, and other concepts that arise by combining infinitesimal data. The process of finding integrals is called integration. Along with differentiation, integration is a fundamental operation of calculus, and serves as a tool to solve problems in mathematics and physics involving the area of an arbitrary shape, the length of a curve, and the volume of a solid, among others."
   ]
  },
  {
   "cell_type": "markdown",
   "metadata": {},
   "source": [
    "$$\\int_a^b f(x) dx$$"
   ]
  },
  {
   "cell_type": "markdown",
   "metadata": {},
   "source": [
    "**Examples**\n",
    "\n",
    "- $\\int_0^2 x^2 dx$\n",
    "- $\\int_{-\\pi}^{\\pi} \\sin{x}dx$"
   ]
  },
  {
   "cell_type": "code",
   "execution_count": 11,
   "metadata": {},
   "outputs": [],
   "source": [
    "from scipy.integrate import quad"
   ]
  },
  {
   "cell_type": "code",
   "execution_count": 12,
   "metadata": {},
   "outputs": [],
   "source": [
    "#define the function\n"
   ]
  },
  {
   "cell_type": "code",
   "execution_count": 13,
   "metadata": {},
   "outputs": [],
   "source": [
    "#determine domain\n"
   ]
  },
  {
   "cell_type": "code",
   "execution_count": 14,
   "metadata": {},
   "outputs": [],
   "source": [
    "#plot it\n"
   ]
  },
  {
   "cell_type": "code",
   "execution_count": 15,
   "metadata": {},
   "outputs": [],
   "source": [
    "#find area\n"
   ]
  },
  {
   "cell_type": "code",
   "execution_count": 16,
   "metadata": {},
   "outputs": [],
   "source": [
    "#define the function\n"
   ]
  },
  {
   "cell_type": "code",
   "execution_count": 17,
   "metadata": {},
   "outputs": [],
   "source": [
    "#determine the domain\n"
   ]
  },
  {
   "cell_type": "code",
   "execution_count": 18,
   "metadata": {},
   "outputs": [],
   "source": [
    "#plot it\n"
   ]
  },
  {
   "cell_type": "code",
   "execution_count": 19,
   "metadata": {},
   "outputs": [],
   "source": [
    "#find the area\n"
   ]
  },
  {
   "cell_type": "markdown",
   "metadata": {},
   "source": [
    "### Application I: The Normal Distribution\n",
    "\n",
    "Recall that we have a standard normal distribution defined as:\n",
    "\n",
    "$$f(x) = \\frac{1}{\\sqrt{2\\pi}}e^\\frac{-x^2}{2}$$"
   ]
  },
  {
   "cell_type": "code",
   "execution_count": 20,
   "metadata": {},
   "outputs": [],
   "source": [
    "def f(x): \n",
    "    return 1/np.sqrt(2*np.pi) * np.exp((-x**2)/2)"
   ]
  },
  {
   "cell_type": "code",
   "execution_count": 21,
   "metadata": {},
   "outputs": [],
   "source": [
    "x = np.linspace(-3, 3, 1000)"
   ]
  },
  {
   "cell_type": "code",
   "execution_count": 22,
   "metadata": {},
   "outputs": [
    {
     "data": {
      "text/plain": [
       "[<matplotlib.lines.Line2D at 0x7f8806f22100>]"
      ]
     },
     "execution_count": 22,
     "metadata": {},
     "output_type": "execute_result"
    },
    {
     "data": {
      "image/png": "[encoded data removed]",
      "text/plain": [
       "<Figure size 432x288 with 1 Axes>"
      ]
     },
     "metadata": {
      "filenames": {
       "image/png": "/Users/jacobkoehler/Desktop/present/newschool/calc/calcbook/_build/jupyter_execute/integration/area_54_1.png"
      },
      "needs_background": "light"
     },
     "output_type": "display_data"
    }
   ],
   "source": [
    "plt.plot(x, f(x))"
   ]
  },
  {
   "cell_type": "code",
   "execution_count": null,
   "metadata": {},
   "outputs": [],
   "source": []
  },
  {
   "cell_type": "code",
   "execution_count": null,
   "metadata": {},
   "outputs": [],
   "source": []
  },
  {
   "cell_type": "code",
   "execution_count": null,
   "metadata": {},
   "outputs": [],
   "source": []
  },
  {
   "cell_type": "markdown",
   "metadata": {},
   "source": [
    "### Application II: Net Change Theorem\n",
    "\n",
    "The net change theorem considers the integral of a rate of change. It says that when a quantity changes, the new value equals the initial value plus the integral of the rate of change of that quantity. The formula can be expressed in two ways. The second is more familiar; it is simply the definite integral."
   ]
  },
  {
   "cell_type": "markdown",
   "metadata": {},
   "source": [
    "**EXAMPLE**: Suppose a car is moving due north (the positive direction) at 40 mph between 2 p.m. and 4 p.m., then the car moves south at 30 mph between 4 p.m. and 5 p.m."
   ]
  },
  {
   "cell_type": "code",
   "execution_count": null,
   "metadata": {},
   "outputs": [],
   "source": []
  },
  {
   "cell_type": "code",
   "execution_count": null,
   "metadata": {},
   "outputs": [],
   "source": []
  },
  {
   "cell_type": "code",
   "execution_count": null,
   "metadata": {},
   "outputs": [],
   "source": []
  },
  {
   "cell_type": "code",
   "execution_count": null,
   "metadata": {},
   "outputs": [],
   "source": []
  },
  {
   "cell_type": "markdown",
   "metadata": {},
   "source": [
    "**PROBLEMS**\n",
    "\n",
    "1. Given a velocity function $v(t) = 3t - 5$ (in meters per second) for a particle in motion from time $t = 0$ to time $t = 3$, find the net displacement of the particle.\n",
    "\n",
    "2. Find the net displacement and total distance traveled in meters given the velocity function $f(t) = .5e^t - 2$ over the interval $[0,2]$.\n",
    "\n",
    "\n",
    "\n"
   ]
  },
  {
   "cell_type": "code",
   "execution_count": null,
   "metadata": {},
   "outputs": [],
   "source": []
  },
  {
   "cell_type": "code",
   "execution_count": null,
   "metadata": {},
   "outputs": [],
   "source": []
  },
  {
   "cell_type": "code",
   "execution_count": null,
   "metadata": {},
   "outputs": [],
   "source": []
  },
  {
   "cell_type": "code",
   "execution_count": null,
   "metadata": {},
   "outputs": [],
   "source": []
  },
  {
   "cell_type": "code",
   "execution_count": null,
   "metadata": {},
   "outputs": [],
   "source": []
  },
  {
   "cell_type": "code",
   "execution_count": null,
   "metadata": {},
   "outputs": [],
   "source": []
  },
  {
   "cell_type": "markdown",
   "metadata": {},
   "source": [
    "### Application III: Area Between Curves\n",
    "\n",
    "Consider the curves $f(x) = \\sqrt{x}$ and $g(x) = x^2$."
   ]
  },
  {
   "cell_type": "code",
   "execution_count": 23,
   "metadata": {},
   "outputs": [],
   "source": [
    "#define the functions\n"
   ]
  },
  {
   "cell_type": "code",
   "execution_count": 24,
   "metadata": {},
   "outputs": [],
   "source": [
    "#plot them together\n"
   ]
  },
  {
   "cell_type": "code",
   "execution_count": 25,
   "metadata": {},
   "outputs": [],
   "source": [
    "#examine area\n"
   ]
  },
  {
   "cell_type": "code",
   "execution_count": null,
   "metadata": {},
   "outputs": [],
   "source": []
  },
  {
   "cell_type": "code",
   "execution_count": null,
   "metadata": {},
   "outputs": [],
   "source": []
  },
  {
   "cell_type": "markdown",
   "metadata": {},
   "source": [
    "**Problem**\n",
    "\n",
    "1. Area between $y = x^2$ and $y = x^3$\n",
    "2. $y = e^x$ and $y = e^{2x - 1}$\n",
    "3. $y = \\cos{x}$ and $y = \\cos^2{x}$ on $[-\\pi, \\pi]$\n"
   ]
  },
  {
   "cell_type": "code",
   "execution_count": null,
   "metadata": {},
   "outputs": [],
   "source": []
  },
  {
   "cell_type": "code",
   "execution_count": null,
   "metadata": {},
   "outputs": [],
   "source": []
  },
  {
   "cell_type": "code",
   "execution_count": null,
   "metadata": {},
   "outputs": [],
   "source": []
  },
  {
   "cell_type": "code",
   "execution_count": null,
   "metadata": {},
   "outputs": [],
   "source": []
  }
 ],
 "metadata": {
  "kernelspec": {
   "display_name": "Python 3",
   "language": "python",
   "name": "python3"
  },
  "language_info": {
   "codemirror_mode": {
    "name": "ipython",
    "version": 3
   },
   "file_extension": ".py",
   "mimetype": "text/x-python",
   "name": "python",
   "nbconvert_exporter": "python",
   "pygments_lexer": "ipython3",
   "version": "3.8.3"
  },
  "widgets": {
   "application/vnd.jupyter.widget-state+json": {
    "state": {
     "398e5117016d4369947e9c61935ac1ac": {
      "model_module": "@jupyter-widgets/controls",
      "model_module_version": "1.5.0",
      "model_name": "SliderStyleModel",
      "state": {
       "_model_module": "@jupyter-widgets/controls",
       "_model_module_version": "1.5.0",
       "_model_name": "SliderStyleModel",
       "_view_count": null,
       "_view_module": "@jupyter-widgets/base",
       "_view_module_version": "1.2.0",
       "_view_name": "StyleView",
       "description_width": "",
       "handle_color": null
      }
     },
     "41068a6573ba434185e42551f8634795": {
      "model_module": "@jupyter-widgets/controls",
      "model_module_version": "1.5.0",
      "model_name": "IntSliderModel",
      "state": {
       "_dom_classes": [],
       "_model_module": "@jupyter-widgets/controls",
       "_model_module_version": "1.5.0",
       "_model_name": "IntSliderModel",
       "_view_count": null,
       "_view_module": "@jupyter-widgets/controls",
       "_view_module_version": "1.5.0",
       "_view_name": "IntSliderView",
       "continuous_update": true,
       "description": "n",
       "description_tooltip": null,
       "disabled": false,
       "layout": "IPY_MODEL_41aa5ec529084b0bae67b75b93518286",
       "max": 100,
       "min": 1,
       "orientation": "horizontal",
       "readout": true,
       "readout_format": "d",
       "step": 2,
       "style": "IPY_MODEL_398e5117016d4369947e9c61935ac1ac",
       "value": 1
      }
     },
     "41aa5ec529084b0bae67b75b93518286": {
      "model_module": "@jupyter-widgets/base",
      "model_module_version": "1.2.0",
      "model_name": "LayoutModel",
      "state": {
       "_model_module": "@jupyter-widgets/base",
       "_model_module_version": "1.2.0",
       "_model_name": "LayoutModel",
       "_view_count": null,
       "_view_module": "@jupyter-widgets/base",
       "_view_module_version": "1.2.0",
       "_view_name": "LayoutView",
       "align_content": null,
       "align_items": null,
       "align_self": null,
       "border": null,
       "bottom": null,
       "display": null,
       "flex": null,
       "flex_flow": null,
       "grid_area": null,
       "grid_auto_columns": null,
       "grid_auto_flow": null,
       "grid_auto_rows": null,
       "grid_column": null,
       "grid_gap": null,
       "grid_row": null,
       "grid_template_areas": null,
       "grid_template_columns": null,
       "grid_template_rows": null,
       "height": null,
       "justify_content": null,
       "justify_items": null,
       "left": null,
       "margin": null,
       "max_height": null,
       "max_width": null,
       "min_height": null,
       "min_width": null,
       "object_fit": null,
       "object_position": null,
       "order": null,
       "overflow": null,
       "overflow_x": null,
       "overflow_y": null,
       "padding": null,
       "right": null,
       "top": null,
       "visibility": null,
       "width": null
      }
     },
     "aaeb739ca1a84d059ae434ed5ce785d5": {
      "model_module": "@jupyter-widgets/base",
      "model_module_version": "1.2.0",
      "model_name": "LayoutModel",
      "state": {
       "_model_module": "@jupyter-widgets/base",
       "_model_module_version": "1.2.0",
       "_model_name": "LayoutModel",
       "_view_count": null,
       "_view_module": "@jupyter-widgets/base",
       "_view_module_version": "1.2.0",
       "_view_name": "LayoutView",
       "align_content": null,
       "align_items": null,
       "align_self": null,
       "border": null,
       "bottom": null,
       "display": null,
       "flex": null,
       "flex_flow": null,
       "grid_area": null,
       "grid_auto_columns": null,
       "grid_auto_flow": null,
       "grid_auto_rows": null,
       "grid_column": null,
       "grid_gap": null,
       "grid_row": null,
       "grid_template_areas": null,
       "grid_template_columns": null,
       "grid_template_rows": null,
       "height": null,
       "justify_content": null,
       "justify_items": null,
       "left": null,
       "margin": null,
       "max_height": null,
       "max_width": null,
       "min_height": null,
       "min_width": null,
       "object_fit": null,
       "object_position": null,
       "order": null,
       "overflow": null,
       "overflow_x": null,
       "overflow_y": null,
       "padding": null,
       "right": null,
       "top": null,
       "visibility": null,
       "width": null
      }
     },
     "cf8e638ce28f4d2692f4069b92c6714a": {
      "model_module": "@jupyter-widgets/controls",
      "model_module_version": "1.5.0",
      "model_name": "VBoxModel",
      "state": {
       "_dom_classes": [
        "widget-interact"
       ],
       "_model_module": "@jupyter-widgets/controls",
       "_model_module_version": "1.5.0",
       "_model_name": "VBoxModel",
       "_view_count": null,
       "_view_module": "@jupyter-widgets/controls",
       "_view_module_version": "1.5.0",
       "_view_name": "VBoxView",
       "box_style": "",
       "children": [
        "IPY_MODEL_41068a6573ba434185e42551f8634795",
        "IPY_MODEL_f9bbf9670bb44c2bbd4936bdde5b1f7e"
       ],
       "layout": "IPY_MODEL_ee06523005a94c538173d34f9a0accc5"
      }
     },
     "ee06523005a94c538173d34f9a0accc5": {
      "model_module": "@jupyter-widgets/base",
      "model_module_version": "1.2.0",
      "model_name": "LayoutModel",
      "state": {
       "_model_module": "@jupyter-widgets/base",
       "_model_module_version": "1.2.0",
       "_model_name": "LayoutModel",
       "_view_count": null,
       "_view_module": "@jupyter-widgets/base",
       "_view_module_version": "1.2.0",
       "_view_name": "LayoutView",
       "align_content": null,
       "align_items": null,
       "align_self": null,
       "border": null,
       "bottom": null,
       "display": null,
       "flex": null,
       "flex_flow": null,
       "grid_area": null,
       "grid_auto_columns": null,
       "grid_auto_flow": null,
       "grid_auto_rows": null,
       "grid_column": null,
       "grid_gap": null,
       "grid_row": null,
       "grid_template_areas": null,
       "grid_template_columns": null,
       "grid_template_rows": null,
       "height": null,
       "justify_content": null,
       "justify_items": null,
       "left": null,
       "margin": null,
       "max_height": null,
       "max_width": null,
       "min_height": null,
       "min_width": null,
       "object_fit": null,
       "object_position": null,
       "order": null,
       "overflow": null,
       "overflow_x": null,
       "overflow_y": null,
       "padding": null,
       "right": null,
       "top": null,
       "visibility": null,
       "width": null
      }
     },
     "f9bbf9670bb44c2bbd4936bdde5b1f7e": {
      "model_module": "@jupyter-widgets/output",
      "model_module_version": "1.0.0",
      "model_name": "OutputModel",
      "state": {
       "_dom_classes": [],
       "_model_module": "@jupyter-widgets/output",
       "_model_module_version": "1.0.0",
       "_model_name": "OutputModel",
       "_view_count": null,
       "_view_module": "@jupyter-widgets/output",
       "_view_module_version": "1.0.0",
       "_view_name": "OutputView",
       "layout": "IPY_MODEL_aaeb739ca1a84d059ae434ed5ce785d5",
       "msg_id": "",
       "outputs": [
        {
         "name": "stdout",
         "output_type": "stream",
         "text": "16.0\n"
        },
        {
         "data": {
          "image/png": "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\n",
          "text/plain": "<Figure size 432x288 with 1 Axes>"
         },
         "metadata": {
          "needs_background": "light"
         },
         "output_type": "display_data"
        }
       ]
      }
     }
    },
    "version_major": 2,
    "version_minor": 0
   }
  }
 },
 "nbformat": 4,
 "nbformat_minor": 4
}