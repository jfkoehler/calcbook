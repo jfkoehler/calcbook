{
 "cells": [
  {
   "cell_type": "markdown",
   "metadata": {},
   "source": [
    "# Riemann Sums and Definite Integrals\n",
    "\n",
    "**OBJECTIVE**\n",
    "\n",
    "- Approximate area under a curve using Riemann Sums\n",
    "- Investigate patterns as we move to infinite rectangles\n",
    "- Define the *Definite Integral* formally and informally\n",
    "- Use `python` to determine the definite integral\n"
   ]
  },
  {
   "cell_type": "code",
   "execution_count": 1,
   "metadata": {},
   "outputs": [],
   "source": [
    "import matplotlib.pyplot as plt\n",
    "import numpy as np\n",
    "import pandas as pd\n",
    "from scipy.integrate import quad"
   ]
  },
  {
   "cell_type": "markdown",
   "metadata": {},
   "source": [
    "## Riemann Sum\n",
    "\n",
    "Starting where we left off with an approximation of the area under a function, on a closed interval we aim to determine a general formula for the area under a curve based on the following inputs:\n",
    "\n",
    "- A function $f$\n",
    "- A domain $[a, b]$. \n",
    "- A number of approximating rectangles $n$\n",
    "\n",
    "We use these to determine the area as a sum of areas of rectangles with some width and height. \n",
    "\n",
    "$$\\text{Area} \\approx \\sum_{i = 1}^n \\text{widths} \\times \\text{heights}$$"
   ]
  },
  {
   "cell_type": "markdown",
   "metadata": {},
   "source": [
    "we make life easier by making the rectangles all equal width and are left with the idea:\n",
    "\n",
    "$$\\text{Area} \\approx \\text{width} \\times \\sum_{i = 1}^n \\text{heights}$$"
   ]
  },
  {
   "cell_type": "markdown",
   "metadata": {},
   "source": [
    "### Example 1: Left-Handed Sums\n",
    "\n",
    "Let's be concrete with a small example.  Here, let our function be $f(x) = -x^2 + 1$ on $[-1, 1]$ and let $n = 4$.  \n",
    "\n",
    "------\n",
    "- What is the width of each rectangle?\n",
    "- List the left endpoints of each subinterval.\n",
    "- Write a formula for these\n",
    "- Use algorithm to determine\n",
    "- Express the sum of the rectangles heights as: $f(x_0) + f(x_1) + f(x_2) + f(x_3)$, and replace $x_0, x_1, x_2, x_3$ with the values from above.  \n",
    "- Evaluate the area.\n",
    "-----"
   ]
  },
  {
   "cell_type": "code",
   "execution_count": 2,
   "metadata": {},
   "outputs": [],
   "source": [
    "#width of one rectangle?\n"
   ]
  },
  {
   "cell_type": "code",
   "execution_count": 3,
   "metadata": {},
   "outputs": [],
   "source": [
    "#left endpoints\n"
   ]
  },
  {
   "cell_type": "code",
   "execution_count": 4,
   "metadata": {},
   "outputs": [],
   "source": [
    "#width times height\n"
   ]
  },
  {
   "cell_type": "code",
   "execution_count": 5,
   "metadata": {},
   "outputs": [],
   "source": [
    "#area\n"
   ]
  },
  {
   "cell_type": "markdown",
   "metadata": {},
   "source": [
    "## Riemann Sum: A Definition\n",
    "\n",
    "*In mathematics, a Riemann sum is a certain kind of approximation of an integral by a finite sum. It is named after nineteenth century German mathematician Bernhard Riemann. One very common application is approximating the area of functions or lines on a graph, but also the length of curves and other approximations.* -- [Source](https://en.wikipedia.org/wiki/Riemann_sum)\n",
    "\n",
    "-----\n",
    "A Riemann sum $S$ of $f$ over $I$ with partition $P$ is defined as:\n",
    "\n",
    "$$\\displaystyle S=\\sum _{i=1}^{n}f(x_{i}^{*})\\,\\Delta x_{i}$$\n",
    "\n",
    "\n",
    "where \n",
    "\n",
    "$\\displaystyle \\Delta x_{i}=x_{i}-x_{i-1}$ and $x_{i}^{*} \\in [x_{i-1},x_{i}]$\n",
    "\n",
    "-----"
   ]
  },
  {
   "cell_type": "markdown",
   "metadata": {},
   "source": [
    "**PROBLEM**\n",
    "\n",
    "- Find an approximation for the area under the curve $f(x) = x^3$ on $[1, 3]$ with $n = 5$. "
   ]
  },
  {
   "cell_type": "code",
   "execution_count": null,
   "metadata": {},
   "outputs": [],
   "source": []
  },
  {
   "cell_type": "code",
   "execution_count": null,
   "metadata": {},
   "outputs": [],
   "source": []
  },
  {
   "cell_type": "code",
   "execution_count": null,
   "metadata": {},
   "outputs": [],
   "source": []
  },
  {
   "cell_type": "code",
   "execution_count": null,
   "metadata": {},
   "outputs": [],
   "source": []
  },
  {
   "cell_type": "code",
   "execution_count": null,
   "metadata": {},
   "outputs": [],
   "source": []
  },
  {
   "cell_type": "markdown",
   "metadata": {},
   "source": [
    "Consider the function $f(x) = 4 - x^2$ on the interval $[-2,2]$.  \n",
    "\n",
    "- Draw a plot of the function\n",
    "- Use the above formula for $L(4)$ to find an approximation for the area under the curve."
   ]
  },
  {
   "cell_type": "code",
   "execution_count": null,
   "metadata": {},
   "outputs": [],
   "source": []
  },
  {
   "cell_type": "code",
   "execution_count": null,
   "metadata": {},
   "outputs": [],
   "source": []
  },
  {
   "cell_type": "code",
   "execution_count": null,
   "metadata": {},
   "outputs": [],
   "source": []
  },
  {
   "cell_type": "markdown",
   "metadata": {},
   "source": [
    "### General Example\n",
    "\n",
    "Find an expression for the area under the curve $$f(x) = x^3 - x$$ on $[1, 4]$ with $n$ rectangles.  \n",
    "\n",
    "**Recall**: \n",
    "\n",
    "$$\\sum_{i = 1}^n i = \\frac{n^2 + n}{2} \\quad \\sum_{i = 1}^n i^3 = \\big[\\frac{n^2 + n}{2}\\big]^2$$"
   ]
  },
  {
   "cell_type": "code",
   "execution_count": 6,
   "metadata": {},
   "outputs": [],
   "source": [
    "from IPython.display import IFrame"
   ]
  },
  {
   "cell_type": "code",
   "execution_count": 7,
   "metadata": {},
   "outputs": [
    {
     "data": {
      "text/html": [
       "\n",
       "<iframe\n",
       "    width=\"100\"\n",
       "    height=\"200\"\n",
       "    src=\"\"\n",
       "    frameborder=\"0\"\n",
       "    allowfullscreen\n",
       "></iframe>\n"
      ],
      "text/plain": [
       "<IPython.lib.display.IFrame at 0x7fc980314400>"
      ]
     },
     "execution_count": 7,
     "metadata": {},
     "output_type": "execute_result"
    }
   ],
   "source": [
    "IFrame(src = '', width = 100, height = 200)"
   ]
  },
  {
   "cell_type": "code",
   "execution_count": null,
   "metadata": {},
   "outputs": [],
   "source": []
  },
  {
   "cell_type": "code",
   "execution_count": null,
   "metadata": {},
   "outputs": [],
   "source": []
  },
  {
   "cell_type": "code",
   "execution_count": null,
   "metadata": {},
   "outputs": [],
   "source": []
  },
  {
   "cell_type": "code",
   "execution_count": null,
   "metadata": {},
   "outputs": [],
   "source": []
  },
  {
   "cell_type": "markdown",
   "metadata": {},
   "source": [
    "**Problems**\n",
    "\n",
    "1. Riemann sum for $f(x) = x^3$ on $[2, 4]$\n",
    "\n",
    "2. Riemann sum for $f(x) = 3x^3 - 2x$ on $[1, 3]$\n",
    "\n",
    "\n"
   ]
  },
  {
   "cell_type": "code",
   "execution_count": null,
   "metadata": {},
   "outputs": [],
   "source": []
  },
  {
   "cell_type": "code",
   "execution_count": null,
   "metadata": {},
   "outputs": [],
   "source": []
  },
  {
   "cell_type": "code",
   "execution_count": null,
   "metadata": {},
   "outputs": [],
   "source": []
  },
  {
   "cell_type": "code",
   "execution_count": null,
   "metadata": {},
   "outputs": [],
   "source": []
  },
  {
   "cell_type": "code",
   "execution_count": null,
   "metadata": {},
   "outputs": [],
   "source": []
  },
  {
   "cell_type": "code",
   "execution_count": null,
   "metadata": {},
   "outputs": [],
   "source": []
  },
  {
   "cell_type": "code",
   "execution_count": null,
   "metadata": {},
   "outputs": [],
   "source": []
  },
  {
   "cell_type": "markdown",
   "metadata": {},
   "source": [
    "### Taking it to the limit\n",
    "\n",
    "What happens if we increase the number of rectangles?"
   ]
  },
  {
   "cell_type": "code",
   "execution_count": 8,
   "metadata": {},
   "outputs": [],
   "source": [
    "x = np.linspace(-2,2,100)\n",
    "def f(x): return x**2\n",
    "def riemann_slider(n):\n",
    "    a = x[0] #left endpoint\n",
    "    b = x[-1] #right endpoint\n",
    "    width = (b-a)/n #width of rectangles\n",
    "    plt.plot(x, f(x), color = 'black') #plot the function\n",
    "    bases = np.array([a + width*i for i in range(n)]) #determine base points\n",
    "    plt.bar(bases, f(bases), width = width, align = 'edge', \n",
    "           color = 'orange', edgecolor = 'black') #plot the rectangles\n",
    "    areas = [width * height for height in f(bases)] #find the area\n",
    "    print(sum(areas))"
   ]
  },
  {
   "cell_type": "code",
   "execution_count": 9,
   "metadata": {},
   "outputs": [],
   "source": [
    "from ipywidgets import interact\n",
    "import ipywidgets as widgets"
   ]
  },
  {
   "cell_type": "code",
   "execution_count": 10,
   "metadata": {},
   "outputs": [
    {
     "data": {
      "application/vnd.jupyter.widget-view+json": {
       "model_id": "f03c6c3201fd47ed9e708ba964e0a93a",
       "version_major": 2,
       "version_minor": 0
      },
      "text/plain": [
       "interactive(children=(IntSlider(value=1, description='n', min=1, step=2), Output()), _dom_classes=('widget-int…"
      ]
     },
     "metadata": {},
     "output_type": "display_data"
    }
   ],
   "source": [
    "interact(riemann_slider,  n = widgets.IntSlider(1, min = 1, max = 100, step = 2));"
   ]
  },
  {
   "cell_type": "markdown",
   "metadata": {},
   "source": [
    "### The Definite Integral\n",
    "\n",
    "<center>\n",
    "<img src = 'https://upload.wikimedia.org/wikipedia/commons/thumb/9/9f/Integral_example.svg/600px-Integral_example.svg.png' width = 50%/>\n",
    "</center>\n",
    "\n",
    "In mathematics, an integral assigns numbers to functions in a way that describes displacement, area, volume, and other concepts that arise by combining infinitesimal data. The process of finding integrals is called integration. Along with differentiation, integration is a fundamental operation of calculus, and serves as a tool to solve problems in mathematics and physics involving the area of an arbitrary shape, the length of a curve, and the volume of a solid, among others."
   ]
  },
  {
   "cell_type": "markdown",
   "metadata": {},
   "source": [
    "$$\\int_a^b f(x) dx$$"
   ]
  },
  {
   "cell_type": "markdown",
   "metadata": {},
   "source": [
    "**Examples**\n",
    "\n",
    "- $\\int_0^2 x^2 dx$\n",
    "- $\\int_{-\\pi}^{\\pi} \\sin{x}dx$"
   ]
  },
  {
   "cell_type": "code",
   "execution_count": 11,
   "metadata": {},
   "outputs": [],
   "source": [
    "from scipy.integrate import quad"
   ]
  },
  {
   "cell_type": "code",
   "execution_count": 12,
   "metadata": {},
   "outputs": [],
   "source": [
    "#define the function\n"
   ]
  },
  {
   "cell_type": "code",
   "execution_count": 13,
   "metadata": {},
   "outputs": [],
   "source": [
    "#determine domain\n"
   ]
  },
  {
   "cell_type": "code",
   "execution_count": 14,
   "metadata": {},
   "outputs": [],
   "source": [
    "#plot it\n"
   ]
  },
  {
   "cell_type": "code",
   "execution_count": 15,
   "metadata": {},
   "outputs": [],
   "source": [
    "#find area\n"
   ]
  },
  {
   "cell_type": "code",
   "execution_count": 16,
   "metadata": {},
   "outputs": [],
   "source": [
    "#define the function\n"
   ]
  },
  {
   "cell_type": "code",
   "execution_count": 17,
   "metadata": {},
   "outputs": [],
   "source": [
    "#determine the domain\n"
   ]
  },
  {
   "cell_type": "code",
   "execution_count": 18,
   "metadata": {},
   "outputs": [],
   "source": [
    "#plot it\n"
   ]
  },
  {
   "cell_type": "code",
   "execution_count": 19,
   "metadata": {},
   "outputs": [],
   "source": [
    "#find the area\n"
   ]
  },
  {
   "cell_type": "markdown",
   "metadata": {},
   "source": [
    "### Application I: The Normal Distribution\n",
    "\n",
    "Recall that we have a standard normal distribution defined as:\n",
    "\n",
    "$$f(x) = \\frac{1}{\\sqrt{2\\pi}}e^\\frac{-x^2}{2}$$"
   ]
  },
  {
   "cell_type": "code",
   "execution_count": 20,
   "metadata": {},
   "outputs": [],
   "source": [
    "def f(x): \n",
    "    return 1/np.sqrt(2*np.pi) * np.exp((-x**2)/2)"
   ]
  },
  {
   "cell_type": "code",
   "execution_count": 21,
   "metadata": {},
   "outputs": [],
   "source": [
    "x = np.linspace(-3, 3, 1000)"
   ]
  },
  {
   "cell_type": "code",
   "execution_count": 22,
   "metadata": {},
   "outputs": [
    {
     "data": {
      "text/plain": [
       "[<matplotlib.lines.Line2D at 0x7fc9d129c1c0>]"
      ]
     },
     "execution_count": 22,
     "metadata": {},
     "output_type": "execute_result"
    },
    {
     "data": {
      "image/png": "[encoded data removed]",
      "text/plain": [
       "<Figure size 432x288 with 1 Axes>"
      ]
     },
     "metadata": {
      "filenames": {
       "image/png": "/Users/jacobkoehler/Desktop/now/spring_21/calc/calcbook/_build/jupyter_execute/integration/area_54_1.png"
      },
      "needs_background": "light"
     },
     "output_type": "display_data"
    }
   ],
   "source": [
    "plt.plot(x, f(x))"
   ]
  },
  {
   "cell_type": "code",
   "execution_count": null,
   "metadata": {},
   "outputs": [],
   "source": []
  },
  {
   "cell_type": "code",
   "execution_count": null,
   "metadata": {},
   "outputs": [],
   "source": []
  },
  {
   "cell_type": "code",
   "execution_count": null,
   "metadata": {},
   "outputs": [],
   "source": []
  },
  {
   "cell_type": "markdown",
   "metadata": {},
   "source": [
    "### Application II: Net Change Theorem\n",
    "\n",
    "The net change theorem considers the integral of a rate of change. It says that when a quantity changes, the new value equals the initial value plus the integral of the rate of change of that quantity. The formula can be expressed in two ways. The second is more familiar; it is simply the definite integral."
   ]
  },
  {
   "cell_type": "markdown",
   "metadata": {},
   "source": [
    "**EXAMPLE**: Suppose a car is moving due north (the positive direction) at 40 mph between 2 p.m. and 4 p.m., then the car moves south at 30 mph between 4 p.m. and 5 p.m."
   ]
  },
  {
   "cell_type": "code",
   "execution_count": null,
   "metadata": {},
   "outputs": [],
   "source": []
  },
  {
   "cell_type": "code",
   "execution_count": null,
   "metadata": {},
   "outputs": [],
   "source": []
  },
  {
   "cell_type": "code",
   "execution_count": null,
   "metadata": {},
   "outputs": [],
   "source": []
  },
  {
   "cell_type": "code",
   "execution_count": null,
   "metadata": {},
   "outputs": [],
   "source": []
  },
  {
   "cell_type": "markdown",
   "metadata": {},
   "source": [
    "**PROBLEMS**\n",
    "\n",
    "1. Given a velocity function $v(t) = 3t - 5$ (in meters per second) for a particle in motion from time $t = 0$ to time $t = 3$, find the net displacement of the particle.\n",
    "\n",
    "2. Find the net displacement and total distance traveled in meters given the velocity function $f(t) = .5e^t - 2$ over the interval $[0,2]$.\n",
    "\n",
    "\n",
    "\n"
   ]
  },
  {
   "cell_type": "code",
   "execution_count": null,
   "metadata": {},
   "outputs": [],
   "source": []
  },
  {
   "cell_type": "code",
   "execution_count": null,
   "metadata": {},
   "outputs": [],
   "source": []
  },
  {
   "cell_type": "code",
   "execution_count": null,
   "metadata": {},
   "outputs": [],
   "source": []
  },
  {
   "cell_type": "code",
   "execution_count": null,
   "metadata": {},
   "outputs": [],
   "source": []
  },
  {
   "cell_type": "code",
   "execution_count": null,
   "metadata": {},
   "outputs": [],
   "source": []
  },
  {
   "cell_type": "code",
   "execution_count": null,
   "metadata": {},
   "outputs": [],
   "source": []
  },
  {
   "cell_type": "markdown",
   "metadata": {},
   "source": [
    "### Application III: Area Between Curves\n",
    "\n",
    "Consider the curves $f(x) = \\sqrt{x}$ and $g(x) = x^2$."
   ]
  },
  {
   "cell_type": "code",
   "execution_count": 23,
   "metadata": {},
   "outputs": [],
   "source": [
    "#define the functions\n"
   ]
  },
  {
   "cell_type": "code",
   "execution_count": 24,
   "metadata": {},
   "outputs": [],
   "source": [
    "#plot them together\n"
   ]
  },
  {
   "cell_type": "code",
   "execution_count": 25,
   "metadata": {},
   "outputs": [],
   "source": [
    "#examine area\n"
   ]
  },
  {
   "cell_type": "code",
   "execution_count": null,
   "metadata": {},
   "outputs": [],
   "source": []
  },
  {
   "cell_type": "code",
   "execution_count": null,
   "metadata": {},
   "outputs": [],
   "source": []
  },
  {
   "cell_type": "markdown",
   "metadata": {},
   "source": [
    "**Problem**\n",
    "\n",
    "1. Area between $y = x^2$ and $y = x^3$\n",
    "2. $y = e^x$ and $y = e^{2x - 1}$\n",
    "3. $y = \\cos{x}$ and $y = \\cos^2{x}$ on $[-\\pi, \\pi]$\n"
   ]
  },
  {
   "cell_type": "code",
   "execution_count": null,
   "metadata": {},
   "outputs": [],
   "source": []
  },
  {
   "cell_type": "code",
   "execution_count": null,
   "metadata": {},
   "outputs": [],
   "source": []
  },
  {
   "cell_type": "code",
   "execution_count": null,
   "metadata": {},
   "outputs": [],
   "source": []
  },
  {
   "cell_type": "code",
   "execution_count": null,
   "metadata": {},
   "outputs": [],
   "source": []
  }
 ],
 "metadata": {
  "kernelspec": {
   "display_name": "Python 3",
   "language": "python",
   "name": "python3"
  },
  "language_info": {
   "codemirror_mode": {
    "name": "ipython",
    "version": 3
   },
   "file_extension": ".py",
   "mimetype": "text/x-python",
   "name": "python",
   "nbconvert_exporter": "python",
   "pygments_lexer": "ipython3",
   "version": "3.8.2"
  },
  "widgets": {
   "application/vnd.jupyter.widget-state+json": {
    "state": {
     "1c9b4eb794db40618277722b9e81a9d0": {
      "model_module": "@jupyter-widgets/base",
      "model_module_version": "1.2.0",
      "model_name": "LayoutModel",
      "state": {
       "_model_module": "@jupyter-widgets/base",
       "_model_module_version": "1.2.0",
       "_model_name": "LayoutModel",
       "_view_count": null,
       "_view_module": "@jupyter-widgets/base",
       "_view_module_version": "1.2.0",
       "_view_name": "LayoutView",
       "align_content": null,
       "align_items": null,
       "align_self": null,
       "border": null,
       "bottom": null,
       "display": null,
       "flex": null,
       "flex_flow": null,
       "grid_area": null,
       "grid_auto_columns": null,
       "grid_auto_flow": null,
       "grid_auto_rows": null,
       "grid_column": null,
       "grid_gap": null,
       "grid_row": null,
       "grid_template_areas": null,
       "grid_template_columns": null,
       "grid_template_rows": null,
       "height": null,
       "justify_content": null,
       "justify_items": null,
       "left": null,
       "margin": null,
       "max_height": null,
       "max_width": null,
       "min_height": null,
       "min_width": null,
       "object_fit": null,
       "object_position": null,
       "order": null,
       "overflow": null,
       "overflow_x": null,
       "overflow_y": null,
       "padding": null,
       "right": null,
       "top": null,
       "visibility": null,
       "width": null
      }
     },
     "60c8614076c042dd9660b0e1673f1691": {
      "model_module": "@jupyter-widgets/base",
      "model_module_version": "1.2.0",
      "model_name": "LayoutModel",
      "state": {
       "_model_module": "@jupyter-widgets/base",
       "_model_module_version": "1.2.0",
       "_model_name": "LayoutModel",
       "_view_count": null,
       "_view_module": "@jupyter-widgets/base",
       "_view_module_version": "1.2.0",
       "_view_name": "LayoutView",
       "align_content": null,
       "align_items": null,
       "align_self": null,
       "border": null,
       "bottom": null,
       "display": null,
       "flex": null,
       "flex_flow": null,
       "grid_area": null,
       "grid_auto_columns": null,
       "grid_auto_flow": null,
       "grid_auto_rows": null,
       "grid_column": null,
       "grid_gap": null,
       "grid_row": null,
       "grid_template_areas": null,
       "grid_template_columns": null,
       "grid_template_rows": null,
       "height": null,
       "justify_content": null,
       "justify_items": null,
       "left": null,
       "margin": null,
       "max_height": null,
       "max_width": null,
       "min_height": null,
       "min_width": null,
       "object_fit": null,
       "object_position": null,
       "order": null,
       "overflow": null,
       "overflow_x": null,
       "overflow_y": null,
       "padding": null,
       "right": null,
       "top": null,
       "visibility": null,
       "width": null
      }
     },
     "78221f3ce64c44ef8068c9eed3e88835": {
      "model_module": "@jupyter-widgets/base",
      "model_module_version": "1.2.0",
      "model_name": "LayoutModel",
      "state": {
       "_model_module": "@jupyter-widgets/base",
       "_model_module_version": "1.2.0",
       "_model_name": "LayoutModel",
       "_view_count": null,
       "_view_module": "@jupyter-widgets/base",
       "_view_module_version": "1.2.0",
       "_view_name": "LayoutView",
       "align_content": null,
       "align_items": null,
       "align_self": null,
       "border": null,
       "bottom": null,
       "display": null,
       "flex": null,
       "flex_flow": null,
       "grid_area": null,
       "grid_auto_columns": null,
       "grid_auto_flow": null,
       "grid_auto_rows": null,
       "grid_column": null,
       "grid_gap": null,
       "grid_row": null,
       "grid_template_areas": null,
       "grid_template_columns": null,
       "grid_template_rows": null,
       "height": null,
       "justify_content": null,
       "justify_items": null,
       "left": null,
       "margin": null,
       "max_height": null,
       "max_width": null,
       "min_height": null,
       "min_width": null,
       "object_fit": null,
       "object_position": null,
       "order": null,
       "overflow": null,
       "overflow_x": null,
       "overflow_y": null,
       "padding": null,
       "right": null,
       "top": null,
       "visibility": null,
       "width": null
      }
     },
     "7a988e58b40f46d98eeff3ce4cf2c127": {
      "model_module": "@jupyter-widgets/controls",
      "model_module_version": "1.5.0",
      "model_name": "IntSliderModel",
      "state": {
       "_dom_classes": [],
       "_model_module": "@jupyter-widgets/controls",
       "_model_module_version": "1.5.0",
       "_model_name": "IntSliderModel",
       "_view_count": null,
       "_view_module": "@jupyter-widgets/controls",
       "_view_module_version": "1.5.0",
       "_view_name": "IntSliderView",
       "continuous_update": true,
       "description": "n",
       "description_tooltip": null,
       "disabled": false,
       "layout": "IPY_MODEL_78221f3ce64c44ef8068c9eed3e88835",
       "max": 100,
       "min": 1,
       "orientation": "horizontal",
       "readout": true,
       "readout_format": "d",
       "step": 2,
       "style": "IPY_MODEL_f9308dfd7a404fb496ba5ea7f23df43f",
       "value": 1
      }
     },
     "ef294976c53c4610b53e42a475f94c4a": {
      "model_module": "@jupyter-widgets/output",
      "model_module_version": "1.0.0",
      "model_name": "OutputModel",
      "state": {
       "_dom_classes": [],
       "_model_module": "@jupyter-widgets/output",
       "_model_module_version": "1.0.0",
       "_model_name": "OutputModel",
       "_view_count": null,
       "_view_module": "@jupyter-widgets/output",
       "_view_module_version": "1.0.0",
       "_view_name": "OutputView",
       "layout": "IPY_MODEL_1c9b4eb794db40618277722b9e81a9d0",
       "msg_id": "",
       "outputs": [
        {
         "name": "stdout",
         "output_type": "stream",
         "text": "16.0\n"
        },
        {
         "data": {
          "image/png": "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\n",
          "text/plain": "<Figure size 432x288 with 1 Axes>"
         },
         "metadata": {
          "needs_background": "light"
         },
         "output_type": "display_data"
        }
       ]
      }
     },
     "f03c6c3201fd47ed9e708ba964e0a93a": {
      "model_module": "@jupyter-widgets/controls",
      "model_module_version": "1.5.0",
      "model_name": "VBoxModel",
      "state": {
       "_dom_classes": [
        "widget-interact"
       ],
       "_model_module": "@jupyter-widgets/controls",
       "_model_module_version": "1.5.0",
       "_model_name": "VBoxModel",
       "_view_count": null,
       "_view_module": "@jupyter-widgets/controls",
       "_view_module_version": "1.5.0",
       "_view_name": "VBoxView",
       "box_style": "",
       "children": [
        "IPY_MODEL_7a988e58b40f46d98eeff3ce4cf2c127",
        "IPY_MODEL_ef294976c53c4610b53e42a475f94c4a"
       ],
       "layout": "IPY_MODEL_60c8614076c042dd9660b0e1673f1691"
      }
     },
     "f9308dfd7a404fb496ba5ea7f23df43f": {
      "model_module": "@jupyter-widgets/controls",
      "model_module_version": "1.5.0",
      "model_name": "SliderStyleModel",
      "state": {
       "_model_module": "@jupyter-widgets/controls",
       "_model_module_version": "1.5.0",
       "_model_name": "SliderStyleModel",
       "_view_count": null,
       "_view_module": "@jupyter-widgets/base",
       "_view_module_version": "1.2.0",
       "_view_name": "StyleView",
       "description_width": "",
       "handle_color": null
      }
     }
    },
    "version_major": 2,
    "version_minor": 0
   }
  }
 },
 "nbformat": 4,
 "nbformat_minor": 4
}