{
 "cells": [
  {
   "cell_type": "markdown",
   "metadata": {},
   "source": [
    "# Riemann Sums and Definite Integrals\n",
    "\n",
    "**OBJECTIVE**\n",
    "\n",
    "- Approximate area under a curve using Riemann Sums\n",
    "- Investigate patterns as we move to infinite rectangles\n",
    "- Define the *Definite Integral* formally and informally\n",
    "- Use `python` to determine the definite integral\n"
   ]
  },
  {
   "cell_type": "code",
   "execution_count": 1,
   "metadata": {},
   "outputs": [
    {
     "name": "stderr",
     "output_type": "stream",
     "text": [
      "/opt/anaconda3/lib/python3.8/site-packages/scipy/__init__.py:146: UserWarning: A NumPy version >=1.16.5 and <1.23.0 is required for this version of SciPy (detected version 1.23.2\n",
      "  warnings.warn(f\"A NumPy version >={np_minversion} and <{np_maxversion}\"\n"
     ]
    }
   ],
   "source": [
    "import matplotlib.pyplot as plt\n",
    "import numpy as np\n",
    "import pandas as pd\n",
    "from scipy.integrate import quad"
   ]
  },
  {
   "cell_type": "markdown",
   "metadata": {},
   "source": [
    "## Riemann Sum\n",
    "\n",
    "Starting where we left off with an approximation of the area under a function, on a closed interval we aim to determine a general formula for the area under a curve based on the following inputs:\n",
    "\n",
    "- A function $f$\n",
    "- A domain $[a, b]$. \n",
    "- A number of approximating rectangles $n$\n",
    "\n",
    "We use these to determine the area as a sum of areas of rectangles with some width and height. \n",
    "\n",
    "$$\\text{Area} \\approx \\sum_{i = 1}^n \\text{widths} \\times \\text{heights}$$"
   ]
  },
  {
   "cell_type": "markdown",
   "metadata": {},
   "source": [
    "we make life easier by making the rectangles all equal width and are left with the idea:\n",
    "\n",
    "$$\\text{Area} \\approx \\text{width} \\times \\sum_{i = 1}^n \\text{heights}$$"
   ]
  },
  {
   "cell_type": "markdown",
   "metadata": {},
   "source": [
    "### Example 1: Left-Handed Sums\n",
    "\n",
    "Let's be concrete with a small example.  Here, let our function be $f(x) = -x^2 + 1$ on $[-1, 1]$ and let $n = 4$.  \n",
    "\n",
    "------\n",
    "- What is the width of each rectangle?\n",
    "- List the left endpoints of each subinterval.\n",
    "- Write a formula for these\n",
    "- Use algorithm to determine\n",
    "- Express the sum of the rectangles heights as: $f(x_0) + f(x_1) + f(x_2) + f(x_3)$, and replace $x_0, x_1, x_2, x_3$ with the values from above.  \n",
    "- Evaluate the area.\n",
    "-----"
   ]
  },
  {
   "cell_type": "code",
   "execution_count": 2,
   "metadata": {},
   "outputs": [],
   "source": [
    "#width of one rectangle?\n"
   ]
  },
  {
   "cell_type": "code",
   "execution_count": 3,
   "metadata": {},
   "outputs": [],
   "source": [
    "#left endpoints\n"
   ]
  },
  {
   "cell_type": "code",
   "execution_count": 4,
   "metadata": {},
   "outputs": [],
   "source": [
    "#width times height\n"
   ]
  },
  {
   "cell_type": "code",
   "execution_count": 5,
   "metadata": {},
   "outputs": [],
   "source": [
    "#area\n"
   ]
  },
  {
   "cell_type": "markdown",
   "metadata": {},
   "source": [
    "## Riemann Sum: A Definition\n",
    "\n",
    "*In mathematics, a Riemann sum is a certain kind of approximation of an integral by a finite sum. It is named after nineteenth century German mathematician Bernhard Riemann. One very common application is approximating the area of functions or lines on a graph, but also the length of curves and other approximations.* -- [Source](https://en.wikipedia.org/wiki/Riemann_sum)\n",
    "\n",
    "-----\n",
    "A Riemann sum $S$ of $f$ over $I$ with partition $P$ is defined as:\n",
    "\n",
    "$$\\displaystyle S=\\sum _{i=1}^{n}f(x_{i}^{*})\\,\\Delta x_{i}$$\n",
    "\n",
    "\n",
    "where \n",
    "\n",
    "$\\displaystyle \\Delta x_{i}=x_{i}-x_{i-1}$ and $x_{i}^{*} \\in [x_{i-1},x_{i}]$\n",
    "\n",
    "-----"
   ]
  },
  {
   "cell_type": "markdown",
   "metadata": {},
   "source": [
    "**PROBLEM**\n",
    "\n",
    "- Find an approximation for the area under the curve $f(x) = x^3$ on $[1, 3]$ with $n = 5$. "
   ]
  },
  {
   "cell_type": "code",
   "execution_count": null,
   "metadata": {},
   "outputs": [],
   "source": []
  },
  {
   "cell_type": "code",
   "execution_count": null,
   "metadata": {},
   "outputs": [],
   "source": []
  },
  {
   "cell_type": "code",
   "execution_count": null,
   "metadata": {},
   "outputs": [],
   "source": []
  },
  {
   "cell_type": "code",
   "execution_count": null,
   "metadata": {},
   "outputs": [],
   "source": []
  },
  {
   "cell_type": "code",
   "execution_count": null,
   "metadata": {},
   "outputs": [],
   "source": []
  },
  {
   "cell_type": "markdown",
   "metadata": {},
   "source": [
    "Consider the function $f(x) = 4 - x^2$ on the interval $[-2,2]$.  \n",
    "\n",
    "- Draw a plot of the function\n",
    "- Use the above formula for $L(4)$ to find an approximation for the area under the curve."
   ]
  },
  {
   "cell_type": "code",
   "execution_count": null,
   "metadata": {},
   "outputs": [],
   "source": []
  },
  {
   "cell_type": "code",
   "execution_count": null,
   "metadata": {},
   "outputs": [],
   "source": []
  },
  {
   "cell_type": "code",
   "execution_count": null,
   "metadata": {},
   "outputs": [],
   "source": []
  },
  {
   "cell_type": "markdown",
   "metadata": {},
   "source": [
    "### General Example\n",
    "\n",
    "Find an expression for the area under the curve $$f(x) = x^3 - x$$ on $[1, 4]$ with $n$ rectangles.  \n",
    "\n",
    "**Recall**: \n",
    "\n",
    "$$\\sum_{i = 1}^n i = \\frac{n^2 + n}{2} \\quad \\sum_{i = 1}^n i^3 = \\big[\\frac{n^2 + n}{2}\\big]^2$$"
   ]
  },
  {
   "cell_type": "code",
   "execution_count": 6,
   "metadata": {},
   "outputs": [],
   "source": [
    "from IPython.display import IFrame"
   ]
  },
  {
   "cell_type": "code",
   "execution_count": 7,
   "metadata": {},
   "outputs": [
    {
     "data": {
      "text/html": [
       "\n",
       "<iframe\n",
       "    width=\"100\"\n",
       "    height=\"200\"\n",
       "    src=\"\"\n",
       "    frameborder=\"0\"\n",
       "    allowfullscreen\n",
       "></iframe>\n"
      ],
      "text/plain": [
<<<<<<< HEAD
       "<IPython.lib.display.IFrame at 0x7f8806d941f0>"
=======
       "<IPython.lib.display.IFrame at 0x7ff3585417d0>"
>>>>>>> d1a3331c4bb70eb63f6c667c0eee992efd40248b
      ]
     },
     "execution_count": 7,
     "metadata": {},
     "output_type": "execute_result"
    }
   ],
   "source": [
    "IFrame(src = '', width = 100, height = 200)"
   ]
  },
  {
   "cell_type": "code",
   "execution_count": null,
   "metadata": {},
   "outputs": [],
   "source": []
  },
  {
   "cell_type": "code",
   "execution_count": null,
   "metadata": {},
   "outputs": [],
   "source": []
  },
  {
   "cell_type": "code",
   "execution_count": null,
   "metadata": {},
   "outputs": [],
   "source": []
  },
  {
   "cell_type": "code",
   "execution_count": null,
   "metadata": {},
   "outputs": [],
   "source": []
  },
  {
   "cell_type": "markdown",
   "metadata": {},
   "source": [
    "**Problems**\n",
    "\n",
    "1. Riemann sum for $f(x) = x^3$ on $[2, 4]$\n",
    "\n",
    "2. Riemann sum for $f(x) = 3x^3 - 2x$ on $[1, 3]$\n",
    "\n",
    "\n"
   ]
  },
  {
   "cell_type": "code",
   "execution_count": null,
   "metadata": {},
   "outputs": [],
   "source": []
  },
  {
   "cell_type": "code",
   "execution_count": null,
   "metadata": {},
   "outputs": [],
   "source": []
  },
  {
   "cell_type": "code",
   "execution_count": null,
   "metadata": {},
   "outputs": [],
   "source": []
  },
  {
   "cell_type": "code",
   "execution_count": null,
   "metadata": {},
   "outputs": [],
   "source": []
  },
  {
   "cell_type": "code",
   "execution_count": null,
   "metadata": {},
   "outputs": [],
   "source": []
  },
  {
   "cell_type": "code",
   "execution_count": null,
   "metadata": {},
   "outputs": [],
   "source": []
  },
  {
   "cell_type": "code",
   "execution_count": null,
   "metadata": {},
   "outputs": [],
   "source": []
  },
  {
   "cell_type": "markdown",
   "metadata": {},
   "source": [
    "### Taking it to the limit\n",
    "\n",
    "What happens if we increase the number of rectangles?"
   ]
  },
  {
   "cell_type": "code",
   "execution_count": 8,
   "metadata": {},
   "outputs": [],
   "source": [
    "x = np.linspace(-2,2,100)\n",
    "def f(x): return x**2\n",
    "def riemann_slider(n):\n",
    "    a = x[0] #left endpoint\n",
    "    b = x[-1] #right endpoint\n",
    "    width = (b-a)/n #width of rectangles\n",
    "    plt.plot(x, f(x), color = 'black') #plot the function\n",
    "    bases = np.array([a + width*i for i in range(n)]) #determine base points\n",
    "    plt.bar(bases, f(bases), width = width, align = 'edge', \n",
    "           color = 'orange', edgecolor = 'black') #plot the rectangles\n",
    "    areas = [width * height for height in f(bases)] #find the area\n",
    "    print(sum(areas))"
   ]
  },
  {
   "cell_type": "code",
   "execution_count": 9,
   "metadata": {},
   "outputs": [],
   "source": [
    "from ipywidgets import interact\n",
    "import ipywidgets as widgets"
   ]
  },
  {
   "cell_type": "code",
   "execution_count": 10,
   "metadata": {},
   "outputs": [
    {
     "data": {
      "application/vnd.jupyter.widget-view+json": {
<<<<<<< HEAD
       "model_id": "cf8e638ce28f4d2692f4069b92c6714a",
=======
       "model_id": "793236a8509740dab0d463258cca9d43",
>>>>>>> d1a3331c4bb70eb63f6c667c0eee992efd40248b
       "version_major": 2,
       "version_minor": 0
      },
      "text/plain": [
       "interactive(children=(IntSlider(value=1, description='n', min=1, step=2), Output()), _dom_classes=('widget-int…"
      ]
     },
     "metadata": {},
     "output_type": "display_data"
    }
   ],
   "source": [
    "interact(riemann_slider,  n = widgets.IntSlider(1, min = 1, max = 100, step = 2));"
   ]
  },
  {
   "cell_type": "markdown",
   "metadata": {},
   "source": [
    "### The Definite Integral\n",
    "\n",
    "<center>\n",
    "<img src = 'https://upload.wikimedia.org/wikipedia/commons/thumb/9/9f/Integral_example.svg/600px-Integral_example.svg.png' width = 50%/>\n",
    "</center>\n",
    "\n",
    "In mathematics, an integral assigns numbers to functions in a way that describes displacement, area, volume, and other concepts that arise by combining infinitesimal data. The process of finding integrals is called integration. Along with differentiation, integration is a fundamental operation of calculus, and serves as a tool to solve problems in mathematics and physics involving the area of an arbitrary shape, the length of a curve, and the volume of a solid, among others."
   ]
  },
  {
   "cell_type": "markdown",
   "metadata": {},
   "source": [
    "$$\\int_a^b f(x) dx$$"
   ]
  },
  {
   "cell_type": "markdown",
   "metadata": {},
   "source": [
    "**Examples**\n",
    "\n",
    "- $\\int_0^2 x^2 dx$\n",
    "- $\\int_{-\\pi}^{\\pi} \\sin{x}dx$"
   ]
  },
  {
   "cell_type": "code",
   "execution_count": 11,
   "metadata": {},
   "outputs": [],
   "source": [
    "from scipy.integrate import quad"
   ]
  },
  {
   "cell_type": "code",
   "execution_count": 12,
   "metadata": {},
   "outputs": [],
   "source": [
    "#define the function\n"
   ]
  },
  {
   "cell_type": "code",
   "execution_count": 13,
   "metadata": {},
   "outputs": [],
   "source": [
    "#determine domain\n"
   ]
  },
  {
   "cell_type": "code",
   "execution_count": 14,
   "metadata": {},
   "outputs": [],
   "source": [
    "#plot it\n"
   ]
  },
  {
   "cell_type": "code",
   "execution_count": 15,
   "metadata": {},
   "outputs": [],
   "source": [
    "#find area\n"
   ]
  },
  {
   "cell_type": "code",
   "execution_count": 16,
   "metadata": {},
   "outputs": [],
   "source": [
    "#define the function\n"
   ]
  },
  {
   "cell_type": "code",
   "execution_count": 17,
   "metadata": {},
   "outputs": [],
   "source": [
    "#determine the domain\n"
   ]
  },
  {
   "cell_type": "code",
   "execution_count": 18,
   "metadata": {},
   "outputs": [],
   "source": [
    "#plot it\n"
   ]
  },
  {
   "cell_type": "code",
   "execution_count": 19,
   "metadata": {},
   "outputs": [],
   "source": [
    "#find the area\n"
   ]
  },
  {
   "cell_type": "markdown",
   "metadata": {},
   "source": [
    "### Application I: The Normal Distribution\n",
    "\n",
    "Recall that we have a standard normal distribution defined as:\n",
    "\n",
    "$$f(x) = \\frac{1}{\\sqrt{2\\pi}}e^\\frac{-x^2}{2}$$"
   ]
  },
  {
   "cell_type": "code",
   "execution_count": 20,
   "metadata": {},
   "outputs": [],
   "source": [
    "def f(x): \n",
    "    return 1/np.sqrt(2*np.pi) * np.exp((-x**2)/2)"
   ]
  },
  {
   "cell_type": "code",
   "execution_count": 21,
   "metadata": {},
   "outputs": [],
   "source": [
    "x = np.linspace(-3, 3, 1000)"
   ]
  },
  {
   "cell_type": "code",
   "execution_count": 22,
   "metadata": {},
   "outputs": [
    {
     "data": {
      "text/plain": [
<<<<<<< HEAD
       "[<matplotlib.lines.Line2D at 0x7f8806f22100>]"
=======
       "[<matplotlib.lines.Line2D at 0x7ff338429d10>]"
>>>>>>> d1a3331c4bb70eb63f6c667c0eee992efd40248b
      ]
     },
     "execution_count": 22,
     "metadata": {},
     "output_type": "execute_result"
    },
    {
     "data": {
<<<<<<< HEAD
      "image/png": "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\n",
=======
      "image/png": "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\n",
>>>>>>> d1a3331c4bb70eb63f6c667c0eee992efd40248b
      "text/plain": [
       "<Figure size 432x288 with 1 Axes>"
      ]
     },
     "metadata": {
      "filenames": {
<<<<<<< HEAD
       "image/png": "/Users/jacobkoehler/Desktop/present/newschool/calc/calcbook/_build/jupyter_execute/integration/area_54_1.png"
=======
       "image/png": "/Users/jacobkoehler/Desktop/present/calcbook/_build/jupyter_execute/integration/area_54_1.png"
>>>>>>> d1a3331c4bb70eb63f6c667c0eee992efd40248b
      },
      "needs_background": "light"
     },
     "output_type": "display_data"
    }
   ],
   "source": [
    "plt.plot(x, f(x))"
   ]
  },
  {
   "cell_type": "code",
   "execution_count": null,
   "metadata": {},
   "outputs": [],
   "source": []
  },
  {
   "cell_type": "code",
   "execution_count": null,
   "metadata": {},
   "outputs": [],
   "source": []
  },
  {
   "cell_type": "code",
   "execution_count": null,
   "metadata": {},
   "outputs": [],
   "source": []
  },
  {
   "cell_type": "markdown",
   "metadata": {},
   "source": [
    "### Application II: Net Change Theorem\n",
    "\n",
    "The net change theorem considers the integral of a rate of change. It says that when a quantity changes, the new value equals the initial value plus the integral of the rate of change of that quantity. The formula can be expressed in two ways. The second is more familiar; it is simply the definite integral."
   ]
  },
  {
   "cell_type": "markdown",
   "metadata": {},
   "source": [
    "**EXAMPLE**: Suppose a car is moving due north (the positive direction) at 40 mph between 2 p.m. and 4 p.m., then the car moves south at 30 mph between 4 p.m. and 5 p.m."
   ]
  },
  {
   "cell_type": "code",
   "execution_count": null,
   "metadata": {},
   "outputs": [],
   "source": []
  },
  {
   "cell_type": "code",
   "execution_count": null,
   "metadata": {},
   "outputs": [],
   "source": []
  },
  {
   "cell_type": "code",
   "execution_count": null,
   "metadata": {},
   "outputs": [],
   "source": []
  },
  {
   "cell_type": "code",
   "execution_count": null,
   "metadata": {},
   "outputs": [],
   "source": []
  },
  {
   "cell_type": "markdown",
   "metadata": {},
   "source": [
    "**PROBLEMS**\n",
    "\n",
    "1. Given a velocity function $v(t) = 3t - 5$ (in meters per second) for a particle in motion from time $t = 0$ to time $t = 3$, find the net displacement of the particle.\n",
    "\n",
    "2. Find the net displacement and total distance traveled in meters given the velocity function $f(t) = .5e^t - 2$ over the interval $[0,2]$.\n",
    "\n",
    "\n",
    "\n"
   ]
  },
  {
   "cell_type": "code",
   "execution_count": null,
   "metadata": {},
   "outputs": [],
   "source": []
  },
  {
   "cell_type": "code",
   "execution_count": null,
   "metadata": {},
   "outputs": [],
   "source": []
  },
  {
   "cell_type": "code",
   "execution_count": null,
   "metadata": {},
   "outputs": [],
   "source": []
  },
  {
   "cell_type": "code",
   "execution_count": null,
   "metadata": {},
   "outputs": [],
   "source": []
  },
  {
   "cell_type": "code",
   "execution_count": null,
   "metadata": {},
   "outputs": [],
   "source": []
  },
  {
   "cell_type": "code",
   "execution_count": null,
   "metadata": {},
   "outputs": [],
   "source": []
  },
  {
   "cell_type": "markdown",
   "metadata": {},
   "source": [
    "### Application III: Area Between Curves\n",
    "\n",
    "Consider the curves $f(x) = \\sqrt{x}$ and $g(x) = x^2$."
   ]
  },
  {
   "cell_type": "code",
   "execution_count": 23,
   "metadata": {},
   "outputs": [],
   "source": [
    "#define the functions\n"
   ]
  },
  {
   "cell_type": "code",
   "execution_count": 24,
   "metadata": {},
   "outputs": [],
   "source": [
    "#plot them together\n"
   ]
  },
  {
   "cell_type": "code",
   "execution_count": 25,
   "metadata": {},
   "outputs": [],
   "source": [
    "#examine area\n"
   ]
  },
  {
   "cell_type": "code",
   "execution_count": null,
   "metadata": {},
   "outputs": [],
   "source": []
  },
  {
   "cell_type": "code",
   "execution_count": null,
   "metadata": {},
   "outputs": [],
   "source": []
  },
  {
   "cell_type": "markdown",
   "metadata": {},
   "source": [
    "**Problem**\n",
    "\n",
    "1. Area between $y = x^2$ and $y = x^3$\n",
    "2. $y = e^x$ and $y = e^{2x - 1}$\n",
    "3. $y = \\cos{x}$ and $y = \\cos^2{x}$ on $[-\\pi, \\pi]$\n"
   ]
  },
  {
   "cell_type": "code",
   "execution_count": null,
   "metadata": {},
   "outputs": [],
   "source": []
  },
  {
   "cell_type": "code",
   "execution_count": null,
   "metadata": {},
   "outputs": [],
   "source": []
  },
  {
   "cell_type": "code",
   "execution_count": null,
   "metadata": {},
   "outputs": [],
   "source": []
  },
  {
   "cell_type": "code",
   "execution_count": null,
   "metadata": {},
   "outputs": [],
   "source": []
  }
 ],
 "metadata": {
  "kernelspec": {
   "display_name": "Python 3",
   "language": "python",
   "name": "python3"
  },
  "language_info": {
   "codemirror_mode": {
    "name": "ipython",
    "version": 3
   },
   "file_extension": ".py",
   "mimetype": "text/x-python",
   "name": "python",
   "nbconvert_exporter": "python",
   "pygments_lexer": "ipython3",
<<<<<<< HEAD
   "version": "3.8.3"
=======
   "version": "3.7.4"
>>>>>>> d1a3331c4bb70eb63f6c667c0eee992efd40248b
  },
  "widgets": {
   "application/vnd.jupyter.widget-state+json": {
    "state": {
<<<<<<< HEAD
     "398e5117016d4369947e9c61935ac1ac": {
      "model_module": "@jupyter-widgets/controls",
      "model_module_version": "1.5.0",
      "model_name": "SliderStyleModel",
      "state": {
       "_model_module": "@jupyter-widgets/controls",
       "_model_module_version": "1.5.0",
       "_model_name": "SliderStyleModel",
       "_view_count": null,
       "_view_module": "@jupyter-widgets/base",
       "_view_module_version": "1.2.0",
       "_view_name": "StyleView",
       "description_width": "",
       "handle_color": null
      }
     },
     "41068a6573ba434185e42551f8634795": {
      "model_module": "@jupyter-widgets/controls",
      "model_module_version": "1.5.0",
      "model_name": "IntSliderModel",
      "state": {
       "_dom_classes": [],
       "_model_module": "@jupyter-widgets/controls",
       "_model_module_version": "1.5.0",
       "_model_name": "IntSliderModel",
       "_view_count": null,
       "_view_module": "@jupyter-widgets/controls",
       "_view_module_version": "1.5.0",
       "_view_name": "IntSliderView",
       "continuous_update": true,
       "description": "n",
       "description_tooltip": null,
       "disabled": false,
       "layout": "IPY_MODEL_41aa5ec529084b0bae67b75b93518286",
       "max": 100,
       "min": 1,
       "orientation": "horizontal",
       "readout": true,
       "readout_format": "d",
       "step": 2,
       "style": "IPY_MODEL_398e5117016d4369947e9c61935ac1ac",
       "value": 1
      }
     },
     "41aa5ec529084b0bae67b75b93518286": {
=======
     "0f02c5ac31014fe1b75f51bcad63cc58": {
>>>>>>> d1a3331c4bb70eb63f6c667c0eee992efd40248b
      "model_module": "@jupyter-widgets/base",
      "model_module_version": "1.2.0",
      "model_name": "LayoutModel",
      "state": {
       "_model_module": "@jupyter-widgets/base",
       "_model_module_version": "1.2.0",
       "_model_name": "LayoutModel",
       "_view_count": null,
       "_view_module": "@jupyter-widgets/base",
       "_view_module_version": "1.2.0",
       "_view_name": "LayoutView",
       "align_content": null,
       "align_items": null,
       "align_self": null,
       "border": null,
       "bottom": null,
       "display": null,
       "flex": null,
       "flex_flow": null,
       "grid_area": null,
       "grid_auto_columns": null,
       "grid_auto_flow": null,
       "grid_auto_rows": null,
       "grid_column": null,
       "grid_gap": null,
       "grid_row": null,
       "grid_template_areas": null,
       "grid_template_columns": null,
       "grid_template_rows": null,
       "height": null,
       "justify_content": null,
       "justify_items": null,
       "left": null,
       "margin": null,
       "max_height": null,
       "max_width": null,
       "min_height": null,
       "min_width": null,
       "object_fit": null,
       "object_position": null,
       "order": null,
       "overflow": null,
       "overflow_x": null,
       "overflow_y": null,
       "padding": null,
       "right": null,
       "top": null,
       "visibility": null,
       "width": null
      }
     },
<<<<<<< HEAD
     "aaeb739ca1a84d059ae434ed5ce785d5": {
=======
     "3db0907af1564b3ab1a4cda5e4c8f3f1": {
>>>>>>> d1a3331c4bb70eb63f6c667c0eee992efd40248b
      "model_module": "@jupyter-widgets/base",
      "model_module_version": "1.2.0",
      "model_name": "LayoutModel",
      "state": {
       "_model_module": "@jupyter-widgets/base",
       "_model_module_version": "1.2.0",
       "_model_name": "LayoutModel",
       "_view_count": null,
       "_view_module": "@jupyter-widgets/base",
       "_view_module_version": "1.2.0",
       "_view_name": "LayoutView",
       "align_content": null,
       "align_items": null,
       "align_self": null,
       "border": null,
       "bottom": null,
       "display": null,
       "flex": null,
       "flex_flow": null,
       "grid_area": null,
       "grid_auto_columns": null,
       "grid_auto_flow": null,
       "grid_auto_rows": null,
       "grid_column": null,
       "grid_gap": null,
       "grid_row": null,
       "grid_template_areas": null,
       "grid_template_columns": null,
       "grid_template_rows": null,
       "height": null,
       "justify_content": null,
       "justify_items": null,
       "left": null,
       "margin": null,
       "max_height": null,
       "max_width": null,
       "min_height": null,
       "min_width": null,
       "object_fit": null,
       "object_position": null,
       "order": null,
       "overflow": null,
       "overflow_x": null,
       "overflow_y": null,
       "padding": null,
       "right": null,
       "top": null,
       "visibility": null,
       "width": null
      }
     },
<<<<<<< HEAD
     "cf8e638ce28f4d2692f4069b92c6714a": {
      "model_module": "@jupyter-widgets/controls",
      "model_module_version": "1.5.0",
      "model_name": "VBoxModel",
      "state": {
       "_dom_classes": [
        "widget-interact"
       ],
       "_model_module": "@jupyter-widgets/controls",
       "_model_module_version": "1.5.0",
       "_model_name": "VBoxModel",
       "_view_count": null,
       "_view_module": "@jupyter-widgets/controls",
       "_view_module_version": "1.5.0",
       "_view_name": "VBoxView",
       "box_style": "",
       "children": [
        "IPY_MODEL_41068a6573ba434185e42551f8634795",
        "IPY_MODEL_f9bbf9670bb44c2bbd4936bdde5b1f7e"
       ],
       "layout": "IPY_MODEL_ee06523005a94c538173d34f9a0accc5"
      }
     },
     "ee06523005a94c538173d34f9a0accc5": {
=======
     "492781fc0c9a4e3c86059890a851f524": {
      "model_module": "@jupyter-widgets/output",
      "model_module_version": "1.0.0",
      "model_name": "OutputModel",
      "state": {
       "_dom_classes": [],
       "_model_module": "@jupyter-widgets/output",
       "_model_module_version": "1.0.0",
       "_model_name": "OutputModel",
       "_view_count": null,
       "_view_module": "@jupyter-widgets/output",
       "_view_module_version": "1.0.0",
       "_view_name": "OutputView",
       "layout": "IPY_MODEL_4f9ab781e4074a98bf18c572de9d88a2",
       "msg_id": "",
       "outputs": [
        {
         "name": "stdout",
         "output_type": "stream",
         "text": "16.0\n"
        },
        {
         "data": {
          "image/png": "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\n",
          "text/plain": "<Figure size 432x288 with 1 Axes>"
         },
         "metadata": {
          "needs_background": "light"
         },
         "output_type": "display_data"
        }
       ]
      }
     },
     "4f9ab781e4074a98bf18c572de9d88a2": {
>>>>>>> d1a3331c4bb70eb63f6c667c0eee992efd40248b
      "model_module": "@jupyter-widgets/base",
      "model_module_version": "1.2.0",
      "model_name": "LayoutModel",
      "state": {
       "_model_module": "@jupyter-widgets/base",
       "_model_module_version": "1.2.0",
       "_model_name": "LayoutModel",
       "_view_count": null,
       "_view_module": "@jupyter-widgets/base",
       "_view_module_version": "1.2.0",
       "_view_name": "LayoutView",
       "align_content": null,
       "align_items": null,
       "align_self": null,
       "border": null,
       "bottom": null,
       "display": null,
       "flex": null,
       "flex_flow": null,
       "grid_area": null,
       "grid_auto_columns": null,
       "grid_auto_flow": null,
       "grid_auto_rows": null,
       "grid_column": null,
       "grid_gap": null,
       "grid_row": null,
       "grid_template_areas": null,
       "grid_template_columns": null,
       "grid_template_rows": null,
       "height": null,
       "justify_content": null,
       "justify_items": null,
       "left": null,
       "margin": null,
       "max_height": null,
       "max_width": null,
       "min_height": null,
       "min_width": null,
       "object_fit": null,
       "object_position": null,
       "order": null,
       "overflow": null,
       "overflow_x": null,
       "overflow_y": null,
       "padding": null,
       "right": null,
       "top": null,
       "visibility": null,
       "width": null
      }
     },
<<<<<<< HEAD
     "f9bbf9670bb44c2bbd4936bdde5b1f7e": {
      "model_module": "@jupyter-widgets/output",
      "model_module_version": "1.0.0",
      "model_name": "OutputModel",
      "state": {
       "_dom_classes": [],
       "_model_module": "@jupyter-widgets/output",
       "_model_module_version": "1.0.0",
       "_model_name": "OutputModel",
       "_view_count": null,
       "_view_module": "@jupyter-widgets/output",
       "_view_module_version": "1.0.0",
       "_view_name": "OutputView",
       "layout": "IPY_MODEL_aaeb739ca1a84d059ae434ed5ce785d5",
       "msg_id": "",
       "outputs": [
        {
         "name": "stdout",
         "output_type": "stream",
         "text": "16.0\n"
        },
        {
         "data": {
          "image/png": "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\n",
          "text/plain": "<Figure size 432x288 with 1 Axes>"
         },
         "metadata": {
          "needs_background": "light"
         },
         "output_type": "display_data"
        }
       ]
=======
     "793236a8509740dab0d463258cca9d43": {
      "model_module": "@jupyter-widgets/controls",
      "model_module_version": "1.5.0",
      "model_name": "VBoxModel",
      "state": {
       "_dom_classes": [
        "widget-interact"
       ],
       "_model_module": "@jupyter-widgets/controls",
       "_model_module_version": "1.5.0",
       "_model_name": "VBoxModel",
       "_view_count": null,
       "_view_module": "@jupyter-widgets/controls",
       "_view_module_version": "1.5.0",
       "_view_name": "VBoxView",
       "box_style": "",
       "children": [
        "IPY_MODEL_9e2867471e1c4cc4bead8b2e021ce7f3",
        "IPY_MODEL_492781fc0c9a4e3c86059890a851f524"
       ],
       "layout": "IPY_MODEL_3db0907af1564b3ab1a4cda5e4c8f3f1"
      }
     },
     "9057c950182642afb57eaa2b23d074b8": {
      "model_module": "@jupyter-widgets/controls",
      "model_module_version": "1.5.0",
      "model_name": "SliderStyleModel",
      "state": {
       "_model_module": "@jupyter-widgets/controls",
       "_model_module_version": "1.5.0",
       "_model_name": "SliderStyleModel",
       "_view_count": null,
       "_view_module": "@jupyter-widgets/base",
       "_view_module_version": "1.2.0",
       "_view_name": "StyleView",
       "description_width": "",
       "handle_color": null
      }
     },
     "9e2867471e1c4cc4bead8b2e021ce7f3": {
      "model_module": "@jupyter-widgets/controls",
      "model_module_version": "1.5.0",
      "model_name": "IntSliderModel",
      "state": {
       "_dom_classes": [],
       "_model_module": "@jupyter-widgets/controls",
       "_model_module_version": "1.5.0",
       "_model_name": "IntSliderModel",
       "_view_count": null,
       "_view_module": "@jupyter-widgets/controls",
       "_view_module_version": "1.5.0",
       "_view_name": "IntSliderView",
       "continuous_update": true,
       "description": "n",
       "description_tooltip": null,
       "disabled": false,
       "layout": "IPY_MODEL_0f02c5ac31014fe1b75f51bcad63cc58",
       "max": 100,
       "min": 1,
       "orientation": "horizontal",
       "readout": true,
       "readout_format": "d",
       "step": 2,
       "style": "IPY_MODEL_9057c950182642afb57eaa2b23d074b8",
       "value": 1
>>>>>>> d1a3331c4bb70eb63f6c667c0eee992efd40248b
      }
     }
    },
    "version_major": 2,
    "version_minor": 0
   }
  }
 },
 "nbformat": 4,
 "nbformat_minor": 4
}