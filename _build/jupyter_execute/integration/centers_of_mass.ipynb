{
 "cells": [
  {
   "cell_type": "markdown",
   "metadata": {},
   "source": [
    "# Center of Mass\n",
    "\n",
    "Our goal is to discuss the center of mass in discrete and continuous cases.  We will use the discrete examples to motivate the passage to the limit, and again see the interplay of summation and integration.\n",
    "\n",
    "## The Lever\n",
    "\n",
    "\n",
    "\n",
    "\n",
    "![](images/Lever.jpg)\n",
    "\n",
    "\n",
    "\n",
    "\n",
    "> *\"We are a perverse lot. Although Archimedes (287-212 B.c.) is acknowledged\n",
    "as the greatest of the Greek mathematicians, it is customary not to\n",
    "credit him with what he did do and to credit him with what he did not\n",
    "do. His ingenious methods of computing areas and volumes brought\n",
    "mathematics to the threshold of the integral calculus, yet the textbook\n",
    "gives full credit for the calculus to Newton and Leibniz. He initiated the\n",
    "science of mechanics by discovering the conditions of equilibrium of a\n",
    "lever, yet it often is said that he discovered the lever itself-despite\n",
    "Egyptian pyramid builders using levers thousands of years before he was\n",
    "born.\"*--George Polya\n",
    "\n",
    "Today, we will follow Polya and Archimedes to determine the law of the lever.  We will move this to the two dimensional case, and push this to uniform regions in the 2-Dimensional plane.  We will do all of this in symbols and with Python.\n",
    "\n"
   ]
  },
  {
   "cell_type": "code",
   "execution_count": 1,
   "metadata": {},
   "outputs": [],
   "source": [
    "import matplotlib.pyplot as plt\n",
    "import numpy as np\n",
    "import pandas as pd\n",
    "import seaborn as sns"
   ]
  },
  {
   "cell_type": "code",
   "execution_count": 2,
   "metadata": {},
   "outputs": [
    {
     "data": {
      "image/png": "[encoded data removed]",
      "text/plain": [
       "<Figure size 432x288 with 1 Axes>"
      ]
     },
     "metadata": {
      "filenames": {
       "image/png": "/Users/jacobkoehler/Desktop/present/calcbook/_build/jupyter_execute/integration/centers_of_mass_2_0.png"
      },
      "needs_background": "light"
     },
     "output_type": "display_data"
    }
   ],
   "source": [
    "plt.plot(-1, 0, 'ro', markersize = 10)\n",
    "plt.plot(1, 0, 'ro', markersize = 10)\n",
    "plt.plot(0, -0.08, 'b^', markersize = 16)\n",
    "plt.plot([-1, 1], [0, 0], color = 'black')\n",
    "plt.ylim(-1, 1)\n",
    "plt.axis('off')\n",
    "plt.text(-1, 0.1, 'w1')\n",
    "plt.text(1, 0.1, 'w2')\n",
    "plt.title('AXIOM I: Equal weights at equal distances are in equilibrium!');"
   ]
  },
  {
   "cell_type": "markdown",
   "metadata": {},
   "source": [
    "### The Path\n",
    "\n",
    "**Axiom I**: Equal weights at equal distances are in equilibrium.\n",
    "\n",
    "![](images/ax1.png)\n",
    "\n",
    "**Axiom II**: $W$ at each end $\\cong 2W$ in middle.\n",
    "\n",
    "![](images/ax2.png)"
   ]
  },
  {
   "cell_type": "markdown",
   "metadata": {},
   "source": [
    "### Generalizing\n",
    "\n",
    "![](images/ax2b.png)\n",
    "![](images/ax2c.png)\n",
    "![](images/ax2d.png)\n",
    "\n",
    "Thus, we propose that:\n",
    "\n",
    "$$weight \\times distance = weight \\times distance$$\n",
    "\n",
    "These values determined by *weight $\\times$ distance* are called **moments**.  A SeeSaw full of robots will be in equilibrium, or balanced, when the moments to the left of the fulcrum are equal to the moments to the right."
   ]
  },
  {
   "cell_type": "markdown",
   "metadata": {},
   "source": [
    "### Solving A 1-D Problem two ways\n",
    "\n",
    "Suppose we have three masses distributed on a lever, as shown in the image below:\n",
    "\n",
    "![](images/masses1.png)\n",
    "\n",
    "\n",
    "Here, the center of mass is determined by the following definition:\n",
    "\n",
    "$$\\bar{x} = \\frac{\\sum m_n x_n}{\\sum m_n}$$\n",
    "\n",
    "For example, we can choose masses 1, 3, and 2 located at distances 1, 3, and 7 from the left end of the lever respectively.  Using the definition, we have\n",
    "\n",
    "$$\\bar{x} = \\frac{M_x}{M} \\rightarrow \\frac{1*1 + 3*3 + 2*7}{1+3+2} ~\\text{or} ~4$$\n",
    "\n",
    "We should be able to work in reverse from the picture and distribute weights evenly as we had done with Archimedes as a method to check."
   ]
  },
  {
   "cell_type": "markdown",
   "metadata": {
    "slideshow": {
     "slide_type": "slide"
    }
   },
   "source": [
    "### 2-D Case: Discrete Point Masses\n",
    "\n",
    "The formulas might be what we expect, however, we should note the presence of the $M_y$ in the $x$-coordinate and the $M_x$ in the $y$-coordinate.\n",
    "\n",
    "\n",
    "$$\\bar{x} = \\frac{M_y}{M}= \\frac{\\sum m_nx_n}{\\sum m_n} \\quad \\bar{y} = \\frac{M_x}{M} = \\frac{\\sum m_ny_n}{\\sum m_n}$$\n",
    "\n",
    "Thus, if we have masses 1 and 4 located at points $(1,0)$ and $(0,1)$ respectively, we have a center of mass at\n",
    "\n",
    "$$\\bar{x} = \\frac{1*1 + 4*0}{1 + 4} \\quad \\bar{y} = \\frac{1*0 + 4*1}{1+4}$$\n",
    "\n",
    "$$\\bar{x} = \\frac{1}{5} \\quad \\bar{y}= \\frac{4}{5}$$\n",
    "\n"
   ]
  },
  {
   "cell_type": "code",
   "execution_count": 3,
   "metadata": {
    "slideshow": {
     "slide_type": "slide"
    }
   },
   "outputs": [],
   "source": [
    "import matplotlib.pyplot as plt\n",
    "import numpy as np\n",
    "import sympy as sy\n",
    "import pandas as pd"
   ]
  },
  {
   "cell_type": "code",
   "execution_count": 4,
   "metadata": {
    "slideshow": {
     "slide_type": "fragment"
    }
   },
   "outputs": [
    {
     "data": {
      "image/png": "[encoded data removed]",
      "text/plain": [
       "<Figure size 432x288 with 1 Axes>"
      ]
     },
     "metadata": {
      "filenames": {
       "image/png": "/Users/jacobkoehler/Desktop/present/calcbook/_build/jupyter_execute/integration/centers_of_mass_8_0.png"
      },
      "needs_background": "light"
     },
     "output_type": "display_data"
    }
   ],
   "source": [
    "plt.plot(0, 1, 'o', color = 'blue', markersize = 20)\n",
    "plt.plot(1,0, 'o', color = 'blue', markersize = 5)\n",
    "plt.xlim(-0.5, 1.5)\n",
    "plt.ylim(-0.5, 1.5)\n",
    "plt.plot(0.2, 0.8, 'o', color = 'red')\n",
    "plt.axis('off')\n",
    "plt.text(.3, 0.55, 'Center of Mass');"
   ]
  },
  {
   "cell_type": "markdown",
   "metadata": {},
   "source": [
    "### An Example From Data\n",
    "\n",
    "**CLUSTERING**: Cluster analysis or clustering is the task of grouping a set of objects in such a way that objects in the same group (called a cluster) are more similar (in some sense) to each other than to those in other groups (clusters).\n",
    "\n"
   ]
  },
  {
   "cell_type": "code",
   "execution_count": 5,
   "metadata": {},
   "outputs": [],
   "source": [
    "from sklearn.datasets import make_blobs"
   ]
  },
  {
   "cell_type": "code",
   "execution_count": 6,
   "metadata": {},
   "outputs": [],
   "source": [
    "X, y, centers = make_blobs(random_state = 42, center_box = (0, 10), return_centers=True)"
   ]
  },
  {
   "cell_type": "code",
   "execution_count": 7,
   "metadata": {},
   "outputs": [
    {
     "data": {
      "image/png": "[encoded data removed]",
      "text/plain": [
       "<Figure size 432x288 with 1 Axes>"
      ]
     },
     "metadata": {
      "filenames": {
       "image/png": "/Users/jacobkoehler/Desktop/present/calcbook/_build/jupyter_execute/integration/centers_of_mass_12_0.png"
      },
      "needs_background": "light"
     },
     "output_type": "display_data"
    }
   ],
   "source": [
    "plt.scatter(X[:, 0], X[:, 1], c = 'teal');\n",
    "plt.xlabel('Site Logins')\n",
    "plt.ylabel('Purchases')\n",
    "plt.title('Customer Data');"
   ]
  },
  {
   "cell_type": "markdown",
   "metadata": {},
   "source": [
    "**KMeans Algorithm**\n",
    "\n",
    "```\n",
    "- Determine how many groups we believe exist\n",
    "- Create initial centers guess\n",
    "- Measure inner group variation from each point to these centers\n",
    "- Assign points to minimum variance cluster center\n",
    "- Use these clusters to find new center of mass\n",
    "- Repeat until converge\n",
    "```"
   ]
  },
  {
   "cell_type": "code",
   "execution_count": 8,
   "metadata": {},
   "outputs": [
    {
     "data": {
      "image/png": "[encoded data removed]",
      "text/plain": [
       "<Figure size 432x288 with 1 Axes>"
      ]
     },
     "metadata": {
      "filenames": {
       "image/png": "/Users/jacobkoehler/Desktop/present/calcbook/_build/jupyter_execute/integration/centers_of_mass_14_0.png"
      },
      "needs_background": "light"
     },
     "output_type": "display_data"
    }
   ],
   "source": [
    "df = pd.DataFrame({'x1': [1, 2, 8, 10], 'x2': [2, 1, 11, 9]})\n",
    "df.plot('x1', 'x2', kind = 'scatter', label = 'data')\n",
    "plt.plot(1, 1, 'ro', label = 'c1')\n",
    "plt.plot(9, 9, 'ro', label = 'c2')\n",
    "plt.legend();\n",
    "plt.title('A basic example')\n",
    "plt.axis('off');"
   ]
  },
  {
   "cell_type": "code",
   "execution_count": 9,
   "metadata": {},
   "outputs": [],
   "source": [
    "#find the distances\n",
    "dists = {}\n",
    "dists['variance from center 1']=np.apply_along_axis(np.linalg.norm, \n",
    "                                1, \n",
    "                                df.values - np.array([[1, 1]]))**2\n",
    "dists['variance from center 2']= np.apply_along_axis(np.linalg.norm, \n",
    "                                 1, \n",
    "                                 df.values - np.array([[9, 9]]))**2"
   ]
  },
  {
   "cell_type": "code",
   "execution_count": 10,
   "metadata": {},
   "outputs": [
    {
     "data": {
      "text/html": [
       "<div>\n",
       "<style scoped>\n",
       "    .dataframe tbody tr th:only-of-type {\n",
       "        vertical-align: middle;\n",
       "    }\n",
       "\n",
       "    .dataframe tbody tr th {\n",
       "        vertical-align: top;\n",
       "    }\n",
       "\n",
       "    .dataframe thead th {\n",
       "        text-align: right;\n",
       "    }\n",
       "</style>\n",
       "<table border=\"1\" class=\"dataframe\">\n",
       "  <thead>\n",
       "    <tr style=\"text-align: right;\">\n",
       "      <th></th>\n",
       "      <th>variance from center 1</th>\n",
       "      <th>variance from center 2</th>\n",
       "    </tr>\n",
       "  </thead>\n",
       "  <tbody>\n",
       "    <tr>\n",
       "      <th>0</th>\n",
       "      <td>1.0</td>\n",
       "      <td>113.0</td>\n",
       "    </tr>\n",
       "    <tr>\n",
       "      <th>1</th>\n",
       "      <td>1.0</td>\n",
       "      <td>113.0</td>\n",
       "    </tr>\n",
       "    <tr>\n",
       "      <th>2</th>\n",
       "      <td>149.0</td>\n",
       "      <td>5.0</td>\n",
       "    </tr>\n",
       "    <tr>\n",
       "      <th>3</th>\n",
       "      <td>145.0</td>\n",
       "      <td>1.0</td>\n",
       "    </tr>\n",
       "  </tbody>\n",
       "</table>\n",
       "</div>"
      ],
      "text/plain": [
       "   variance from center 1  variance from center 2\n",
       "0                     1.0                   113.0\n",
       "1                     1.0                   113.0\n",
       "2                   149.0                     5.0\n",
       "3                   145.0                     1.0"
      ]
     },
     "execution_count": 10,
     "metadata": {},
     "output_type": "execute_result"
    }
   ],
   "source": [
    "#which is less?\n",
    "pd.DataFrame(dists)"
   ]
  },
  {
   "cell_type": "code",
   "execution_count": 11,
   "metadata": {},
   "outputs": [
    {
     "data": {
      "text/html": [
       "<div>\n",
       "<style scoped>\n",
       "    .dataframe tbody tr th:only-of-type {\n",
       "        vertical-align: middle;\n",
       "    }\n",
       "\n",
       "    .dataframe tbody tr th {\n",
       "        vertical-align: top;\n",
       "    }\n",
       "\n",
       "    .dataframe thead th {\n",
       "        text-align: right;\n",
       "    }\n",
       "</style>\n",
       "<table border=\"1\" class=\"dataframe\">\n",
       "  <thead>\n",
       "    <tr style=\"text-align: right;\">\n",
       "      <th></th>\n",
       "      <th>x1</th>\n",
       "      <th>x2</th>\n",
       "    </tr>\n",
       "  </thead>\n",
       "  <tbody>\n",
       "    <tr>\n",
       "      <th>0</th>\n",
       "      <td>1</td>\n",
       "      <td>2</td>\n",
       "    </tr>\n",
       "    <tr>\n",
       "      <th>1</th>\n",
       "      <td>2</td>\n",
       "      <td>1</td>\n",
       "    </tr>\n",
       "    <tr>\n",
       "      <th>2</th>\n",
       "      <td>8</td>\n",
       "      <td>11</td>\n",
       "    </tr>\n",
       "    <tr>\n",
       "      <th>3</th>\n",
       "      <td>10</td>\n",
       "      <td>9</td>\n",
       "    </tr>\n",
       "  </tbody>\n",
       "</table>\n",
       "</div>"
      ],
      "text/plain": [
       "   x1  x2\n",
       "0   1   2\n",
       "1   2   1\n",
       "2   8  11\n",
       "3  10   9"
      ]
     },
     "execution_count": 11,
     "metadata": {},
     "output_type": "execute_result"
    }
   ],
   "source": [
    "#update our centers\n",
    "df"
   ]
  },
  {
   "cell_type": "code",
   "execution_count": 12,
   "metadata": {},
   "outputs": [],
   "source": [
    "#bigger example\n",
    "from sklearn.cluster import KMeans"
   ]
  },
  {
   "cell_type": "code",
   "execution_count": 13,
   "metadata": {},
   "outputs": [
    {
     "data": {
      "text/plain": [
       "array([[1.48810398, 1.7638381 ],\n",
       "       [7.17957059, 5.95233528],\n",
       "       [3.58679489, 9.42861763]])"
      ]
     },
     "execution_count": 13,
     "metadata": {},
     "output_type": "execute_result"
    }
   ],
   "source": [
    "kmeans = KMeans(n_clusters=3)\n",
    "kmeans.fit(X)\n",
    "kmeans.cluster_centers_"
   ]
  },
  {
   "cell_type": "code",
   "execution_count": 14,
   "metadata": {},
   "outputs": [
    {
     "data": {
      "text/plain": [
       "array([1.48810398, 1.7638381 ])"
      ]
     },
     "execution_count": 14,
     "metadata": {},
     "output_type": "execute_result"
    }
   ],
   "source": [
    "kmeans.cluster_centers_[0]"
   ]
  },
  {
   "cell_type": "code",
   "execution_count": 15,
   "metadata": {},
   "outputs": [
    {
     "data": {
      "image/png": "[encoded data removed]",
      "text/plain": [
       "<Figure size 432x288 with 1 Axes>"
      ]
     },
     "metadata": {
      "filenames": {
       "image/png": "/Users/jacobkoehler/Desktop/present/calcbook/_build/jupyter_execute/integration/centers_of_mass_21_0.png"
      },
      "needs_background": "light"
     },
     "output_type": "display_data"
    }
   ],
   "source": [
    "plt.scatter(X[:, 0], X[:, 1], color = 'teal')\n",
    "for i in range(3):\n",
    "    plt.plot(kmeans.cluster_centers_[i][0], kmeans.cluster_centers_[i][1], 'o', markersize = 15, label = f'cluster center {i}')\n",
    "plt.legend(markerscale = 0.3);"
   ]
  },
  {
   "cell_type": "markdown",
   "metadata": {},
   "source": [
    "### Center of Mass Problems\n",
    "\n",
    "1. Two cats, one weighing 30 grams and the second weighing 90 would like to use a see saw.  Where should we place the fulcrum?\n",
    "2. Three monkeys are located at points (3, 5), (2, 0), and (6, 6) respectively (same weights).  Where is their center of mass?\n",
    " \n"
   ]
  },
  {
   "cell_type": "code",
   "execution_count": null,
   "metadata": {},
   "outputs": [],
   "source": []
  },
  {
   "cell_type": "code",
   "execution_count": null,
   "metadata": {},
   "outputs": [],
   "source": []
  },
  {
   "cell_type": "code",
   "execution_count": null,
   "metadata": {},
   "outputs": [],
   "source": []
  },
  {
   "cell_type": "code",
   "execution_count": null,
   "metadata": {},
   "outputs": [],
   "source": []
  },
  {
   "cell_type": "code",
   "execution_count": null,
   "metadata": {},
   "outputs": [],
   "source": []
  },
  {
   "cell_type": "markdown",
   "metadata": {},
   "source": [
    "### Riemann Sums\n",
    "\n",
    "In mathematics, a Riemann sum is a certain kind of approximation of an integral by a finite sum. It is named after nineteenth century German mathematician Bernhard Riemann. One very common application is approximating the area of functions or lines on a graph, but also the length of curves and other approximations. -- [Source](https://en.wikipedia.org/wiki/Riemann_sum)"
   ]
  },
  {
   "cell_type": "markdown",
   "metadata": {},
   "source": [
    "Consider, for example, the function:\n",
    "\n",
    "$$f(x) = -x^2 + 1 \\quad \\text{on} \\quad [-1, 1]$$"
   ]
  },
  {
   "cell_type": "code",
   "execution_count": 16,
   "metadata": {},
   "outputs": [],
   "source": [
    "#define function and domain\n",
    "def f(x): return -x**2 + 1\n",
    "x = np.linspace(-1, 1, 1000)"
   ]
  },
  {
   "cell_type": "code",
   "execution_count": 17,
   "metadata": {},
   "outputs": [
    {
     "data": {
      "image/png": "[encoded data removed]",
      "text/plain": [
       "<Figure size 432x288 with 1 Axes>"
      ]
     },
     "metadata": {
      "filenames": {
       "image/png": "/Users/jacobkoehler/Desktop/present/calcbook/_build/jupyter_execute/integration/centers_of_mass_31_0.png"
      },
      "needs_background": "light"
     },
     "output_type": "display_data"
    }
   ],
   "source": [
    "#plot it\n",
    "plt.plot(x, f(x))\n",
    "plt.grid();"
   ]
  },
  {
   "cell_type": "markdown",
   "metadata": {},
   "source": [
    "-----\n",
    "- If we want to approximate the area under this curve with 4 equally spaced rectangles, what would their width be?\n",
    "- same as above, but 8 equally spaced rectangles?\n",
    "- Width for 20 equally spaced rectangles?\n",
    "- Width for $n$ equally spaced rectangles.\n",
    "-----\n"
   ]
  },
  {
   "cell_type": "code",
   "execution_count": 18,
   "metadata": {},
   "outputs": [
    {
     "data": {
      "image/png": "[encoded data removed]",
      "text/plain": [
       "<Figure size 432x288 with 1 Axes>"
      ]
     },
     "metadata": {
      "filenames": {
       "image/png": "/Users/jacobkoehler/Desktop/present/calcbook/_build/jupyter_execute/integration/centers_of_mass_33_0.png"
      },
      "needs_background": "light"
     },
     "output_type": "display_data"
    }
   ],
   "source": [
    "plt.plot(x, f(x))\n",
    "plt.grid();"
   ]
  },
  {
   "cell_type": "markdown",
   "metadata": {},
   "source": [
    "-----\n",
    "- Build 4 equally spaced rectangles in the image above -- where should we draw their heights?\n",
    "- Draw the 4 rectangles at the left endpoint of each subinterval,\n",
    "the right, and the midpoint\n",
    "-----"
   ]
  },
  {
   "cell_type": "code",
   "execution_count": null,
   "metadata": {},
   "outputs": [],
   "source": []
  },
  {
   "cell_type": "code",
   "execution_count": null,
   "metadata": {},
   "outputs": [],
   "source": []
  },
  {
   "cell_type": "code",
   "execution_count": null,
   "metadata": {},
   "outputs": [],
   "source": []
  },
  {
   "cell_type": "code",
   "execution_count": null,
   "metadata": {},
   "outputs": [],
   "source": []
  },
  {
   "cell_type": "markdown",
   "metadata": {},
   "source": [
    "**PROBLEM**\n",
    "\n",
    "Consider the function drawn below.  "
   ]
  },
  {
   "cell_type": "markdown",
   "metadata": {},
   "source": [
    "![](images/riemann_approx.png)"
   ]
  },
  {
   "cell_type": "markdown",
   "metadata": {},
   "source": [
    "**GOAL**: Expression to sum area of rectangles that depends on function and $a, b$ and the number of rectangles $n$.  \n",
    "\n",
    "- Write expressions for $x_1, x_2, x_3, x_4$ in terms of $a,b$. \n",
    "- What are the heights of the four rectangles?\n",
    "- Write expressions for the heights of the rectangles?\n",
    "- Multiply widths times heights for a general expression of your area.\n",
    "- Generalize your work above for $L(n)$, where any interval $[a, b]$ is partioned into $n$ subintervals, and the left hand side of the interval determines the heights of the rectangles. \n"
   ]
  },
  {
   "cell_type": "code",
   "execution_count": null,
   "metadata": {},
   "outputs": [],
   "source": []
  },
  {
   "cell_type": "code",
   "execution_count": null,
   "metadata": {},
   "outputs": [],
   "source": []
  },
  {
   "cell_type": "code",
   "execution_count": null,
   "metadata": {},
   "outputs": [],
   "source": []
  },
  {
   "cell_type": "code",
   "execution_count": null,
   "metadata": {},
   "outputs": [],
   "source": []
  },
  {
   "cell_type": "code",
   "execution_count": null,
   "metadata": {},
   "outputs": [],
   "source": []
  },
  {
   "cell_type": "code",
   "execution_count": null,
   "metadata": {},
   "outputs": [],
   "source": []
  },
  {
   "cell_type": "code",
   "execution_count": null,
   "metadata": {},
   "outputs": [],
   "source": []
  },
  {
   "cell_type": "code",
   "execution_count": null,
   "metadata": {},
   "outputs": [],
   "source": []
  },
  {
   "cell_type": "code",
   "execution_count": null,
   "metadata": {},
   "outputs": [],
   "source": []
  },
  {
   "cell_type": "code",
   "execution_count": null,
   "metadata": {},
   "outputs": [],
   "source": []
  },
  {
   "cell_type": "code",
   "execution_count": null,
   "metadata": {},
   "outputs": [],
   "source": []
  },
  {
   "cell_type": "code",
   "execution_count": null,
   "metadata": {},
   "outputs": [],
   "source": []
  },
  {
   "cell_type": "code",
   "execution_count": null,
   "metadata": {},
   "outputs": [],
   "source": []
  },
  {
   "cell_type": "code",
   "execution_count": null,
   "metadata": {},
   "outputs": [],
   "source": []
  },
  {
   "cell_type": "code",
   "execution_count": null,
   "metadata": {},
   "outputs": [],
   "source": []
  },
  {
   "cell_type": "code",
   "execution_count": null,
   "metadata": {},
   "outputs": [],
   "source": []
  },
  {
   "cell_type": "code",
   "execution_count": null,
   "metadata": {},
   "outputs": [],
   "source": []
  },
  {
   "cell_type": "code",
   "execution_count": 19,
   "metadata": {},
   "outputs": [
    {
     "data": {
      "image/png": "[encoded data removed]",
      "text/plain": [
       "<Figure size 432x288 with 1 Axes>"
      ]
     },
     "metadata": {
      "filenames": {
       "image/png": "/Users/jacobkoehler/Desktop/present/calcbook/_build/jupyter_execute/integration/centers_of_mass_59_0.png"
      },
      "needs_background": "light"
     },
     "output_type": "display_data"
    }
   ],
   "source": [
    "def f(x): return 2 + np.cos(x)\n",
    "x = np.linspace(1, 6)\n",
    "plt.plot(x, f(x), linewidth = 6)\n",
    "plt.bar(range(1, 6), f(range(1, 6)), width = 1, color = 'white',\n",
    "       edgecolor = 'black', align = 'edge')\n",
    "plt.xticks(range(1, 7), ['a', 'x1', 'x2', 'x3', 'x4', 'b']);\n",
    "plt.savefig('images/riemann_approx.png')"
   ]
  }
 ],
 "metadata": {
  "kernelspec": {
   "display_name": "Python 3",
   "language": "python",
   "name": "python3"
  },
  "language_info": {
   "codemirror_mode": {
    "name": "ipython",
    "version": 3
   },
   "file_extension": ".py",
   "mimetype": "text/x-python",
   "name": "python",
   "nbconvert_exporter": "python",
   "pygments_lexer": "ipython3",
   "version": "3.7.4"
  }
 },
 "nbformat": 4,
 "nbformat_minor": 4
}