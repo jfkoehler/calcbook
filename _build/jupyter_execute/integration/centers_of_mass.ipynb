{
 "cells": [
  {
   "cell_type": "markdown",
   "metadata": {},
   "source": [
    "# Center of Mass\n",
    "\n",
    "Our goal is to discuss the center of mass in discrete and continuous cases.  We will use the discrete examples to motivate the passage to the limit, and again see the interplay of summation and integration.\n",
    "\n",
    "## The Lever\n",
    "\n",
    "\n",
    "\n",
    "\n",
    "![](images/Lever.jpg)\n",
    "\n",
    "\n",
    "\n",
    "\n",
    "> *\"We are a perverse lot. Although Archimedes (287-212 B.c.) is acknowledged\n",
    "as the greatest of the Greek mathematicians, it is customary not to\n",
    "credit him with what he did do and to credit him with what he did not\n",
    "do. His ingenious methods of computing areas and volumes brought\n",
    "mathematics to the threshold of the integral calculus, yet the textbook\n",
    "gives full credit for the calculus to Newton and Leibniz. He initiated the\n",
    "science of mechanics by discovering the conditions of equilibrium of a\n",
    "lever, yet it often is said that he discovered the lever itself-despite\n",
    "Egyptian pyramid builders using levers thousands of years before he was\n",
    "born.\"*--George Polya\n",
    "\n",
    "Today, we will follow Polya and Archimedes to determine the law of the lever.  We will move this to the two dimensional case, and push this to uniform regions in the 2-Dimensional plane.  We will do all of this in symbols and with Python.\n",
    "\n"
   ]
  },
  {
   "cell_type": "code",
   "execution_count": 1,
   "metadata": {},
   "outputs": [
    {
     "name": "stderr",
     "output_type": "stream",
     "text": [
      "/opt/anaconda3/lib/python3.8/site-packages/scipy/__init__.py:146: UserWarning: A NumPy version >=1.16.5 and <1.23.0 is required for this version of SciPy (detected version 1.23.2\n",
      "  warnings.warn(f\"A NumPy version >={np_minversion} and <{np_maxversion}\"\n"
     ]
    }
   ],
   "source": [
    "import matplotlib.pyplot as plt\n",
    "import numpy as np\n",
    "import pandas as pd\n",
    "import seaborn as sns"
   ]
  },
  {
   "cell_type": "code",
   "execution_count": 2,
   "metadata": {},
   "outputs": [
    {
     "data": {
<<<<<<< HEAD
      "image/png": "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\n",
=======
      "image/png": "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\n",
>>>>>>> d1a3331c4bb70eb63f6c667c0eee992efd40248b
      "text/plain": [
       "<Figure size 432x288 with 1 Axes>"
      ]
     },
     "metadata": {
      "filenames": {
<<<<<<< HEAD
       "image/png": "/Users/jacobkoehler/Desktop/present/newschool/calc/calcbook/_build/jupyter_execute/integration/centers_of_mass_2_0.png"
=======
       "image/png": "/Users/jacobkoehler/Desktop/present/calcbook/_build/jupyter_execute/integration/centers_of_mass_2_0.png"
>>>>>>> d1a3331c4bb70eb63f6c667c0eee992efd40248b
      },
      "needs_background": "light"
     },
     "output_type": "display_data"
    }
   ],
   "source": [
    "plt.plot(-1, 0, 'ro', markersize = 10)\n",
    "plt.plot(1, 0, 'ro', markersize = 10)\n",
    "plt.plot(0, -0.08, 'b^', markersize = 16)\n",
    "plt.plot([-1, 1], [0, 0], color = 'black')\n",
    "plt.ylim(-1, 1)\n",
    "plt.axis('off')\n",
    "plt.text(-1, 0.1, 'w1')\n",
    "plt.text(1, 0.1, 'w2')\n",
    "plt.title('AXIOM I: Equal weights at equal distances are in equilibrium!');"
   ]
  },
  {
   "cell_type": "markdown",
   "metadata": {},
   "source": [
    "### The Path\n",
    "\n",
    "**Axiom I**: Equal weights at equal distances are in equilibrium.\n",
    "\n",
    "![](images/ax1.png)\n",
    "\n",
    "**Axiom II**: $W$ at each end $\\cong 2W$ in middle.\n",
    "\n",
    "![](images/ax2.png)"
   ]
  },
  {
   "cell_type": "markdown",
   "metadata": {},
   "source": [
    "### Generalizing\n",
    "\n",
    "![](images/ax2b.png)\n",
    "![](images/ax2c.png)\n",
    "![](images/ax2d.png)\n",
    "\n",
    "Thus, we propose that:\n",
    "\n",
    "$$weight \\times distance = weight \\times distance$$\n",
    "\n",
    "These values determined by *weight $\\times$ distance* are called **moments**.  A SeeSaw full of robots will be in equilibrium, or balanced, when the moments to the left of the fulcrum are equal to the moments to the right."
   ]
  },
  {
   "cell_type": "markdown",
   "metadata": {},
   "source": [
    "### Solving A 1-D Problem two ways\n",
    "\n",
    "Suppose we have three masses distributed on a lever, as shown in the image below:\n",
    "\n",
    "![](images/masses1.png)\n",
    "\n",
    "\n",
    "Here, the center of mass is determined by the following definition:\n",
    "\n",
    "$$\\bar{x} = \\frac{\\sum m_n x_n}{\\sum m_n}$$\n",
    "\n",
    "For example, we can choose masses 1, 3, and 2 located at distances 1, 3, and 7 from the left end of the lever respectively.  Using the definition, we have\n",
    "\n",
    "$$\\bar{x} = \\frac{M_x}{M} \\rightarrow \\frac{1*1 + 3*3 + 2*7}{1+3+2} ~\\text{or} ~4$$\n",
    "\n",
    "We should be able to work in reverse from the picture and distribute weights evenly as we had done with Archimedes as a method to check."
   ]
  },
  {
   "cell_type": "markdown",
   "metadata": {
    "slideshow": {
     "slide_type": "slide"
    }
   },
   "source": [
    "### 2-D Case: Discrete Point Masses\n",
    "\n",
    "The formulas might be what we expect, however, we should note the presence of the $M_y$ in the $x$-coordinate and the $M_x$ in the $y$-coordinate.\n",
    "\n",
    "\n",
    "$$\\bar{x} = \\frac{M_y}{M}= \\frac{\\sum m_nx_n}{\\sum m_n} \\quad \\bar{y} = \\frac{M_x}{M} = \\frac{\\sum m_ny_n}{\\sum m_n}$$\n",
    "\n",
    "Thus, if we have masses 1 and 4 located at points $(1,0)$ and $(0,1)$ respectively, we have a center of mass at\n",
    "\n",
    "$$\\bar{x} = \\frac{1*1 + 4*0}{1 + 4} \\quad \\bar{y} = \\frac{1*0 + 4*1}{1+4}$$\n",
    "\n",
    "$$\\bar{x} = \\frac{1}{5} \\quad \\bar{y}= \\frac{4}{5}$$\n",
    "\n"
   ]
  },
  {
   "cell_type": "code",
   "execution_count": 3,
   "metadata": {
    "slideshow": {
     "slide_type": "slide"
    }
   },
   "outputs": [],
   "source": [
    "import matplotlib.pyplot as plt\n",
    "import numpy as np\n",
    "import sympy as sy\n",
    "import pandas as pd"
   ]
  },
  {
   "cell_type": "code",
   "execution_count": 4,
   "metadata": {
    "slideshow": {
     "slide_type": "fragment"
    }
   },
   "outputs": [
    {
     "data": {
<<<<<<< HEAD
      "image/png": "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\n",
=======
      "image/png": "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\n",
>>>>>>> d1a3331c4bb70eb63f6c667c0eee992efd40248b
      "text/plain": [
       "<Figure size 432x288 with 1 Axes>"
      ]
     },
     "metadata": {
      "filenames": {
<<<<<<< HEAD
       "image/png": "/Users/jacobkoehler/Desktop/present/newschool/calc/calcbook/_build/jupyter_execute/integration/centers_of_mass_8_0.png"
=======
       "image/png": "/Users/jacobkoehler/Desktop/present/calcbook/_build/jupyter_execute/integration/centers_of_mass_8_0.png"
>>>>>>> d1a3331c4bb70eb63f6c667c0eee992efd40248b
      },
      "needs_background": "light"
     },
     "output_type": "display_data"
    }
   ],
   "source": [
    "plt.plot(0, 1, 'o', color = 'blue', markersize = 20)\n",
    "plt.plot(1,0, 'o', color = 'blue', markersize = 5)\n",
    "plt.xlim(-0.5, 1.5)\n",
    "plt.ylim(-0.5, 1.5)\n",
    "plt.plot(0.2, 0.8, 'o', color = 'red')\n",
    "plt.axis('off')\n",
    "plt.text(.3, 0.55, 'Center of Mass');"
   ]
  },
  {
   "cell_type": "markdown",
   "metadata": {},
   "source": [
    "### An Example From Data\n",
    "\n",
    "**CLUSTERING**: Cluster analysis or clustering is the task of grouping a set of objects in such a way that objects in the same group (called a cluster) are more similar (in some sense) to each other than to those in other groups (clusters).\n",
    "\n"
   ]
  },
  {
   "cell_type": "code",
   "execution_count": 5,
   "metadata": {},
   "outputs": [],
   "source": [
    "from sklearn.datasets import make_blobs"
   ]
  },
  {
   "cell_type": "code",
   "execution_count": 6,
   "metadata": {},
   "outputs": [],
   "source": [
    "X, y, centers = make_blobs(random_state = 42, center_box = (0, 10), return_centers=True)"
   ]
  },
  {
   "cell_type": "code",
   "execution_count": 7,
   "metadata": {},
   "outputs": [
    {
     "data": {
<<<<<<< HEAD
      "image/png": "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\n",
=======
      "image/png": "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\n",
>>>>>>> d1a3331c4bb70eb63f6c667c0eee992efd40248b
      "text/plain": [
       "<Figure size 432x288 with 1 Axes>"
      ]
     },
     "metadata": {
      "filenames": {
<<<<<<< HEAD
       "image/png": "/Users/jacobkoehler/Desktop/present/newschool/calc/calcbook/_build/jupyter_execute/integration/centers_of_mass_12_0.png"
=======
       "image/png": "/Users/jacobkoehler/Desktop/present/calcbook/_build/jupyter_execute/integration/centers_of_mass_12_0.png"
>>>>>>> d1a3331c4bb70eb63f6c667c0eee992efd40248b
      },
      "needs_background": "light"
     },
     "output_type": "display_data"
    }
   ],
   "source": [
    "plt.scatter(X[:, 0], X[:, 1], c = 'teal');\n",
    "plt.xlabel('Site Logins')\n",
    "plt.ylabel('Purchases')\n",
    "plt.title('Customer Data');"
   ]
  },
  {
   "cell_type": "markdown",
   "metadata": {},
   "source": [
    "**KMeans Algorithm**\n",
    "\n",
    "```\n",
    "- Determine how many groups we believe exist\n",
    "- Create initial centers guess\n",
    "- Measure inner group variation from each point to these centers\n",
    "- Assign points to minimum variance cluster center\n",
    "- Use these clusters to find new center of mass\n",
    "- Repeat until converge\n",
    "```"
   ]
  },
  {
   "cell_type": "code",
   "execution_count": 8,
   "metadata": {},
   "outputs": [
    {
     "data": {
<<<<<<< HEAD
      "image/png": "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\n",
=======
      "image/png": "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\n",
>>>>>>> d1a3331c4bb70eb63f6c667c0eee992efd40248b
      "text/plain": [
       "<Figure size 432x288 with 1 Axes>"
      ]
     },
     "metadata": {
      "filenames": {
<<<<<<< HEAD
       "image/png": "/Users/jacobkoehler/Desktop/present/newschool/calc/calcbook/_build/jupyter_execute/integration/centers_of_mass_14_0.png"
=======
       "image/png": "/Users/jacobkoehler/Desktop/present/calcbook/_build/jupyter_execute/integration/centers_of_mass_14_0.png"
>>>>>>> d1a3331c4bb70eb63f6c667c0eee992efd40248b
      },
      "needs_background": "light"
     },
     "output_type": "display_data"
    }
   ],
   "source": [
    "df = pd.DataFrame({'x1': [1, 2, 8, 10], 'x2': [2, 1, 11, 9]})\n",
    "df.plot('x1', 'x2', kind = 'scatter', label = 'data')\n",
    "plt.plot(1, 1, 'ro', label = 'c1')\n",
    "plt.plot(9, 9, 'ro', label = 'c2')\n",
    "plt.legend();\n",
    "plt.title('A basic example')\n",
    "plt.axis('off');"
   ]
  },
  {
   "cell_type": "code",
   "execution_count": 9,
   "metadata": {},
   "outputs": [],
   "source": [
    "#find the distances\n",
    "dists = {}\n",
    "dists['variance from center 1']=np.apply_along_axis(np.linalg.norm, \n",
    "                                1, \n",
    "                                df.values - np.array([[1, 1]]))**2\n",
    "dists['variance from center 2']= np.apply_along_axis(np.linalg.norm, \n",
    "                                 1, \n",
    "                                 df.values - np.array([[9, 9]]))**2"
   ]
  },
  {
   "cell_type": "code",
   "execution_count": 10,
   "metadata": {},
   "outputs": [
    {
     "data": {
      "text/html": [
       "<div>\n",
       "<style scoped>\n",
       "    .dataframe tbody tr th:only-of-type {\n",
       "        vertical-align: middle;\n",
       "    }\n",
       "\n",
       "    .dataframe tbody tr th {\n",
       "        vertical-align: top;\n",
       "    }\n",
       "\n",
       "    .dataframe thead th {\n",
       "        text-align: right;\n",
       "    }\n",
       "</style>\n",
       "<table border=\"1\" class=\"dataframe\">\n",
       "  <thead>\n",
       "    <tr style=\"text-align: right;\">\n",
       "      <th></th>\n",
       "      <th>variance from center 1</th>\n",
       "      <th>variance from center 2</th>\n",
       "    </tr>\n",
       "  </thead>\n",
       "  <tbody>\n",
       "    <tr>\n",
       "      <th>0</th>\n",
       "      <td>1.0</td>\n",
       "      <td>113.0</td>\n",
       "    </tr>\n",
       "    <tr>\n",
       "      <th>1</th>\n",
       "      <td>1.0</td>\n",
       "      <td>113.0</td>\n",
       "    </tr>\n",
       "    <tr>\n",
       "      <th>2</th>\n",
       "      <td>149.0</td>\n",
       "      <td>5.0</td>\n",
       "    </tr>\n",
       "    <tr>\n",
       "      <th>3</th>\n",
       "      <td>145.0</td>\n",
       "      <td>1.0</td>\n",
       "    </tr>\n",
       "  </tbody>\n",
       "</table>\n",
       "</div>"
      ],
      "text/plain": [
       "   variance from center 1  variance from center 2\n",
       "0                     1.0                   113.0\n",
       "1                     1.0                   113.0\n",
       "2                   149.0                     5.0\n",
       "3                   145.0                     1.0"
      ]
     },
     "execution_count": 10,
     "metadata": {},
     "output_type": "execute_result"
    }
   ],
   "source": [
    "#which is less?\n",
    "pd.DataFrame(dists)"
   ]
  },
  {
   "cell_type": "code",
   "execution_count": 11,
   "metadata": {},
   "outputs": [
    {
     "data": {
      "text/html": [
       "<div>\n",
       "<style scoped>\n",
       "    .dataframe tbody tr th:only-of-type {\n",
       "        vertical-align: middle;\n",
       "    }\n",
       "\n",
       "    .dataframe tbody tr th {\n",
       "        vertical-align: top;\n",
       "    }\n",
       "\n",
       "    .dataframe thead th {\n",
       "        text-align: right;\n",
       "    }\n",
       "</style>\n",
       "<table border=\"1\" class=\"dataframe\">\n",
       "  <thead>\n",
       "    <tr style=\"text-align: right;\">\n",
       "      <th></th>\n",
       "      <th>x1</th>\n",
       "      <th>x2</th>\n",
       "    </tr>\n",
       "  </thead>\n",
       "  <tbody>\n",
       "    <tr>\n",
       "      <th>0</th>\n",
       "      <td>1</td>\n",
       "      <td>2</td>\n",
       "    </tr>\n",
       "    <tr>\n",
       "      <th>1</th>\n",
       "      <td>2</td>\n",
       "      <td>1</td>\n",
       "    </tr>\n",
       "    <tr>\n",
       "      <th>2</th>\n",
       "      <td>8</td>\n",
       "      <td>11</td>\n",
       "    </tr>\n",
       "    <tr>\n",
       "      <th>3</th>\n",
       "      <td>10</td>\n",
       "      <td>9</td>\n",
       "    </tr>\n",
       "  </tbody>\n",
       "</table>\n",
       "</div>"
      ],
      "text/plain": [
       "   x1  x2\n",
       "0   1   2\n",
       "1   2   1\n",
       "2   8  11\n",
       "3  10   9"
      ]
     },
     "execution_count": 11,
     "metadata": {},
     "output_type": "execute_result"
    }
   ],
   "source": [
    "#update our centers\n",
    "df"
   ]
  },
  {
   "cell_type": "code",
   "execution_count": 12,
   "metadata": {},
   "outputs": [],
   "source": [
    "#bigger example\n",
    "from sklearn.cluster import KMeans"
   ]
  },
  {
   "cell_type": "code",
   "execution_count": 13,
   "metadata": {},
   "outputs": [
    {
     "data": {
      "text/plain": [
       "array([[7.17957059, 5.95233528],\n",
       "       [1.48810398, 1.7638381 ],\n",
       "       [3.58679489, 9.42861763]])"
      ]
     },
     "execution_count": 13,
     "metadata": {},
     "output_type": "execute_result"
    }
   ],
   "source": [
    "kmeans = KMeans(n_clusters=3)\n",
    "kmeans.fit(X)\n",
    "kmeans.cluster_centers_"
   ]
  },
  {
   "cell_type": "code",
   "execution_count": 14,
   "metadata": {},
   "outputs": [
    {
     "data": {
      "text/plain": [
       "array([7.17957059, 5.95233528])"
      ]
     },
     "execution_count": 14,
     "metadata": {},
     "output_type": "execute_result"
    }
   ],
   "source": [
    "kmeans.cluster_centers_[0]"
   ]
  },
  {
   "cell_type": "code",
   "execution_count": 15,
   "metadata": {},
   "outputs": [
    {
     "data": {
<<<<<<< HEAD
      "image/png": "iVBORw0KGgoAAAANSUhEUgAAAXAAAAD4CAYAAAD1jb0+AAAAOXRFWHRTb2Z0d2FyZQBNYXRwbG90bGliIHZlcnNpb24zLjUuMywgaHR0cHM6Ly9tYXRwbG90bGliLm9yZy/NK7nSAAAACXBIWXMAAAsTAAALEwEAmpwYAAAmSUlEQVR4nO3df3RU5b3v8feTZALhh9H8sFVCiF7RVoFABATpbUVqlXpqWy9oK0XrqQfrubdCe/xVvVdrF7ja6nJhz7pVuUWxwmlFayke67kUinZde1oJKCZK29ieIEF7gKiRH4FMkuf+MUlIwvzce8/svWc+r7VcIfNjzzODfOfZ3+f7fLex1iIiIuFT5PcARETEGQVwEZGQUgAXEQkpBXARkZBSABcRCamSXL5YVVWVraury+VLioiE3vbt2w9Ya6uH357TAF5XV0djY2MuX1JEJPSMMbvj3a4UiohISCmAi4iElAK4iEhI5TQHLiLZEY1GaWtr4+jRo34PRVwYOXIkNTU1RCKRtB6vAC6SB9ra2hg7dix1dXUYY/wejjhgraW9vZ22tjbOOOOMtJ6jAC6urWtq4q4tW3i7o4Pa8nJWzJvHosmT/R5WQTl69KiCd8gZY6isrGT//v1pP0cBXFxZ19TEkuee40g0CsDujg6WPPccgIJ4jil4h1+mf4daxBRX7tqyZSB49zsSjXLXli0+jUikcCiAiytvd3RkdLsUlu985zs88MADGT/vgw8+4Ec/+lEWRuTMypUrOXLkiKtjHDt2jKuvvpqzzjqLCy64gNbWVtfjUgAXV2rLyzO6XYJj38GjbN/9PvsOBq9yxUkAt9bS29ublfE4CeA9PT1Dfl+9ejWnnHIKb731Ft/85je5/fbbXY9LAVxcWTFvHqOGlTyNikRYMW+eo+Ota2qibuVKiu69l7qVK1nX1OTFMGWYZ3e08ckfbOWrj73CJ3+wlWd3tLk+5k9+8hOmTJlCfX09ixcvPuH+iy66aKCVxoEDB+jvi/TGG28wc+ZMpk6dypQpU2hpaeGOO+7gL3/5C1OnTuXWW28F4P7772fGjBlMmTKFe+65B4DW1lbOOeccrr32WiZNmsSePXuGvOa2bdu48MILqa+vZ+bMmRw8eJCenh5uvfXWgWM9+uijALz44otcdNFFLFiwgI997GMsWrQIay0//OEPeeedd5g7dy5z584FYNOmTcyePZuGhgYWLlzIoUOHgFi7kNtvv52GhgaefvrpIWP55S9/yXXXXQfAggUL2LJlC26viKZFTHGlf6HSiyoUpwuiqoLJzL6DR7nzF00cjfZylNiM9c5fNPGJiVWcOnako2O+8cYbLF++nN/97ndUVVXx3nvvpf3cRx55hKVLl7Jo0SK6urro6enhe9/7Hs3Nzbz22mtALGC2tLTwyiuvYK3liiuu4Le//S21tbW0tLTwxBNPMGvWrCHH7erq4uqrr+app55ixowZfPjhh5SVlbF69WrKy8vZtm0bx44dY86cOXzmM58B4NVXX+WNN97g9NNPZ86cObz88svcfPPNPPjgg2zdupWqqioOHDjA8uXL2bx5M6NHj+b73/8+Dz74IHfffTcAlZWV7Nix44T3uXfvXsaPHw9ASUkJ5eXltLe3U1VV5eQjjx3H8TNF+iyaPNmTgJlsQTTR8VUFk7k973USKSoaCN4AkaIi9rzX6TiA/+Y3v2HhwoUDwaiioiLt586ePZsVK1bQ1tbGlVdeycSJE094zKZNm9i0aRPTpk0D4NChQ7S0tFBbW8uECRNOCN4Af/rTnzjttNOYMWMGACeddNLAsV5//XWeeeYZADo6OmhpaaG0tJSZM2dSU1MDwNSpU2ltbeUTn/jEkOP+/ve/580332TOnDlA7Iti9uzZA/dfffXVab93txTAJTCcLIg6CfqFbnxFGdFhueJoby/jK8qy+rolJSUDOerBO0avueYaLrjgAp5//nk++9nP8uijj3LmmWcOea61lm9/+9vceOONQ25vbW1l9OjRGY3DWss///M/c+mllw65/cUXX2TEiBEDvxcXF9Pd3R33+Zdccgk//elP4x4/0XjGjRvHnj17qKmpobu7m46ODiorKzMa+3DKgUtgOFkQdVsFU4g591PHjuS+L05mZKSIsSNKGBkp4r4vTnY8+wa4+OKLefrpp2lvbweIm0Kpq6tj+/btAAOzX4C//vWvnHnmmdx88818/vOf5/XXX2fs2LEcPHhw4DGXXnopjz322ECuee/evezbty/pmM455xzeffddtm3bBsDBgwfp7u7m0ksv5eGHHyba98X/5z//mcOHDyc91uDxzJo1i5dffpm33noLgMOHD/PnP/856fMBrrjiCp544omB93/xxRe7rt3XDFwCY8W8eUPSIZB6QbS2vJzdcYJ1OlUwhZx+ubKhhk9MrGLPe52MryhzFbwBzjvvPO666y4+9alPUVxczLRp01izZs2Qx9xyyy1cddVVrFq1issvv3zg9vXr1/Pkk08SiUT46Ec/yp133klFRQVz5sxh0qRJzJ8/n/vvv59du3YNpCrGjBnD2rVrKS4uTjim0tJSnnrqKb7xjW/Q2dlJWVkZmzdv5oYbbqC1tZWGhgastVRXV7Nhw4ak72/JkiVcdtllnH766WzdupU1a9bw5S9/mWPHjgGwfPlyzj777KTH+NrXvsbixYs566yzqKio4Gc/+1nSx6fDuF0FzcT06dOtLuggyWS6IDk8CEMs6K/63OdSBuG6lSvjBv8J5eW0Llvm+D34YdeuXXz84x/3exjigXh/l8aY7dba6cMfqxm4BEqmC6JuqmC0CUnCTgFcQs9pFYyb9ItIEGgRU7IiDIuDXm9CEsk1zcDFc04WB/3YjOPlJiQRPyiAi+cyrc12Uw3iNvAnS79oh6cEnVIo4rlMFwedtqTtD/y7OzqwHA/8XqRrsnlsEa8ogIvnMt2Q47QaJJu9yNXn3BtqJ3vcb3/7WxoaGigpKRmykckNBXDxXKaLg05b0mazDNDLYwd2Qffgf8KeV2I/AyYf28nW1tayZs0arrnmGs/GpQAunls0eTKrPvc5JpSXY4htjEm2scZpNUg2e5F7dezApmJ2/gwemgJr/1vs5073uwLVTjZ5O9m6ujqmTJlCUZF3YVeLmJIVmdRmO60GcbL1Pl1eHTuQzbYO/ic8txS6j8b+A3huGZw5F8Z+xNEh1U42dTvZbFAAF8e8rNJwshknm2WAXh07kLs9P9gNxaXHgzdAcSR2u8MArnayaicrIZKs9A9yV1vtVS/ybB07kLs9T54APV1Db+uJxm7PokJvJ5sNKZMxxpjHjDH7jDHNg26rMMb82hjT0vfzlOwOU4ImUWpg6QsvBDPn65NA7vYc+xH43ENQUgYjTor9/NxKx7NvUDvZdNrJZkM62fQ1wGXDbrsD2GKtnQhs6ftdCkiiFEB7Z6fK7wbJdEE3Z+q/BEt3wld+HvtZ/yVXhxvcTra+vp5vfetbJzzmlltu4eGHH2batGkcOHBg4Pb169czadIkpk6dSnNzM9deey2VlZUD7WRvvfVWPvOZz3DNNdcwe/ZsJk+ezIIFC4YE+HgGt5Otr6/nkksu4ejRo9xwww2ce+65NDQ0MGnSJG688ca4M+3B+tvJzp07l+rq6oF2slOmTGH27Nn88Y9/TPkZbdu2jZqaGp5++mluvPFGzjvvvJTPSSWtdrLGmDrgX621k/p+/xNwkbX2XWPMacCL1tpzUh1H7WSDxU0OO1Er1kQM0NtXOSDeUzvZ/JFJO1mn9Swfsda+2/fnvwEJz72MMUuMMY3GmMb9+/c7fDnxWrzytus3bKDqBz9Iq145UWqgsiz+ZbnU4U/Ee64LEm1sCp9wGm+tXWWtnW6tnV5dXe325cQj8XLY0d5e2js708pdJ0oNPDR/fvByviJ5ymkVyn8aY04blEJJvpogvoqXKkmnjC1VvXKyKo10UjPWWnbu30nTgSYORw8zOjKayVWTqa+ud32tQJFC4DSAbwSuA77X9/OXno1IPJWo3K+irIz2zs6Uz3dSr5yq/C7aG+UXLb/g8ebHaT/aTndvN9293ZQUlVBSVELlyEqun3Q9X5z4RSJFkYTHcUpdBiVfpAzgxpifAhcBVcaYNuAeYoF7vTHma8Bu4KpsDlKcS1TuV1ZSwqhI5IT7hsskd51OYDwSPcJNm29i13u76Owe+gUS7Y0S7Y3SdqiN+7fdz/N/fZ6HP/0woyKj0h5DOmMs1AsZS/5JmQO31n7ZWnuatTZira2x1q621rZba+dZaydaaz9trU1/36zkVKIZ9HudnUNy2JVlZZQOu8J3JrnrdHp+RHuj3LT5JpoPNJ8QvIc72nOU5gPN3LT5JqK9yb9kMqEug5JP1MwqzyVryrRo8mRaly2j9557OHDbbTz2+c87rldOJzD+ouUX7HpvF129XcOfHldXbxdvtr/JhpYNaT0+HYHc2p7H1E72uAcffJBzzz2XKVOmMG/ePHbv3u16XArgeS6TnYCDA3rrsmUZpRRSBUZrLY83P55y5j3c0Z6jPNb8GOnsV0hHNjsYhs2BzgO8tu81DnQeSP3gHMvHdrLTpk2jsbGR119/nQULFnDbbbe5HpcCeJ7L1U7AVIFx5/6dtB9td3Ts9qPt7Ny/0/HYBgvk1nYfbHxrI5f9/DJu2nwTl/38Mja+tdH1MdVONnk72blz5zJqVGw9Z9asWbS1tbn+zNXMqgBks+FTv3jtVwEOdXWxrqmJ3uImunuTb1dOpLu3m+YDzUw9darrcepCxrGZ93d//12O9RzjWM8xAL77++9y4bgLqSqrcnRMtZPNrJ3s6tWrmT9/fgafcHwK4OKJ/gC49IUXhpQntnd2suS557huetRVAD8cTd5sKBPZ/kILepli28E2IkWRgeANECmK0HawzXEAVzvZ9NvJrl27lsbGRl566aW0Pp9kFMAlpVQBafD9RXE24ByJRvn1X/YwdkyJo4qSkqISRkdy16LTjTCUKdaMrTnh7yHaG6VmbE1WX1ftZGHz5s2sWLGCl156achrOaUcuCSVqjxw+P09CRYb3+koo6TI2XyhpKiESVWT4o4taNeaDEOZYlVZFXfPupsRxSMYExnDiOIR3D3rbsezb1A72XTayb766qvceOONbNy4kVNPPTXl49OhGbgkleqSYPHuj6d65JlUjnyLtkOZL9xUjqykvrp+yG1BnemGpUzxirOu4MJxF9J2sI2asTWugjcMbSdbXFzMtGnTWLNmzZDH3HLLLVx11VWsWrWKyy+/fOD29evX8+STTxKJRPjoRz/KnXfeSUVFxUA72fnz53P//feza9eugVTFmDFjWLt2LcXD9i4MNridbGdnJ2VlZWzevJkbbriB1tZWGhoasNZSXV3Nhg0bkr6//nayp59+Olu3bh1oJ3vsWCwNtXz5cs4+++ykx7j11ls5dOgQCxcuBGIXOd640d3icVrtZL2idrLhU3TvvXE7lfW3h010//DHfn36dC466zAPND6QUSnhyOKR3DbjNhaes3DI7Yna2U4oL6d12bK0j+81v8aldrL5IxftZMUnuU4bpCoPTKd+2gJP7NzJ0WMT+XjFxyktKk3rtUuLSjmv6jy+MPELJ9wX1JmuyhQllxTAQySd7epeSxWQ4t0fr4/gkWiUu3/zEg9/+mEmVU1iZPHIpK9bYkqZXD2ZH837UdyGVkHdkBPYK/BIXlIOPERS5aOzIVXddLz7E12p5+2ODkZFRvHjS3/MhpYNPNb8GO1H2+nqiZUYWluEMUWcMqKCmxu+zhcmfiFhN8JUded+Bsxc1N3HY61VG96QyzSlrQAeIumkDbJRg5wqIA2/P1EeuH92HCmKsPCchSw4ewE79++k+UDzQD/wSVWT0uoHnqrufPBjCsHIkSNpb2+nsrJSQTykrLW0t7czcmTys9PBFMBDJNHstj8wBqUyI97sOF4e2BjD1FOnOt5h2V8FM7yvebbPSoKopqaGtrY2dNnCcBs5cuTARqJ0KICHSKrA6EeKJZ5cblcP6mJmrkUiEc444wy/hyE5pgAeIqkCY5CCWa7ywKnOSkTymQJ4yCQLjIUYzNJN14jkI5UR5pFCrEFW2Z4UMs3A80g+tEp1UkXjV9meZC7onRrDRlvpJTCGV9FA7AxCM+r8oL9f57SVXgIvDJ38xDn9/XpPKZQCF6RTWj+qaIL0/vNdkKqk8oVm4AXMj94qyeS6v0nQ3n++C2r/mjBTAC9gQTulzXUVTdDef77z8u83iBfz8IMCeAFLdUqb638kw0sCK8vKKCspYfGzz2bl9XVKn1telXzqzOk45cALWLKNP371VekvCczF6xfixie/eVHyGZSWEUHgagZujPmmMeYNY0yzMeanxpj022iJ75Kd0vqdXsjF6xfixqd8oDOn4xwHcGPMOOBmYLq1dhJQDHzJq4FJ9iU7pfX7H0kuXl+7OMNJi6HHuU2hlABlxpgoMAp4x/2QJJcSndL6nV7I1etrF2f4qP/NcY5n4NbavcADwNvAu0CHtXbT8McZY5YYYxqNMY3qVRwefqcX/H59CS6dOR3neCu9MeYU4OfA1cAHwNPAM9batYmeo6304eL3Jpd0Xt/vMYrkQqKt9G4C+ELgMmvt1/p+vxaYZa39x0TPUQAXL6m3hhSKbPRCeRuYZYwZZWIX4ZsH7HJxPJGM+F0pI+I3NznwPwDPADuApr5jrfJoXCIJ9W8wirfICYVZTiaFyVUVirX2HuAej8YiktI/Pv88jzQ2kizxV4jlZOnSmkF+0U5MCY11TU0pg7cqVRLza3etZI96oUho3LVlS9LgXcjlZOnQmkH+0QxcQiNZbntCeTmty5blbjAh5PfuWvGeZuASGoly2waUNkmDtqDnHwVwCY14uzMN8PXp05U2SYN2t+YfpVAkNPqDtKoonNHnl390VXoRkYDTVelFRPKMAriISEgpBy4iOacdod5QABeRnNKOUO8ohSIiOaUdod7RDFxkEJ3aZ592hHpHAVykj07tc8Pv660OFvYvbKVQRPro1D43grIjtP8Le3dHB5bjX9jrmppyOg43FMBF+ujUPjeCclHifPjCVgpFpE+QTu3z3aLJk31PVeTDF7Zm4CJ9gnJqHzT9l7Aruvde6lauDFWKIZl86M6oAC7SJyin9l7xIvDmQ544kXz4wlYzK5E8NLyiBmLBKdMvpEQXj052AY0wVXaEZayJmlkpBy6Sh5It0GUSoDLJE69ramLpCy/Q3tk5cJvfpZipAnQQcvFuKIUikoe8WqBLN0/cP+MfHLz7+VXZkc/pn34K4CJ5yKsFunTzxENm/BZG9IxmbPeplEdPY2z3qfztvW7SSdd6uWCaD2WCqSiFIpKHVsybFzcHnukCXbpX8Xm7owOsYUx3JSf1nEaxLQEMBoPFUmTgkz/Yytc/9V+4asZ4IsUnzh293gkbhDLBbOfYFcBF8pCXl09LJ09cO/Zkju7/CKV2FEUUD7nPYMDCnvc7Wf78m2x4bS9rrp/J6BFDw49XefuBMflc15+L1gwK4CIB5Xb2lqsFumhPLxPsefyH7aQoRVa2M9rLzrYOvvr4K/zLP8waMhP3esbs1VmIU15/IcXjKgdujDnZGPOMMeaPxphdxpjZnoxKpMCFaQFu/bY97PugO2Xw7tfV3Uvz3g7WN+4ZcrvXG2v8ruvPRQrH7Qz8IeDfrLULjDGlwCgPxiSSlzKZUedi9uYFay2PvPQXOqM9GT2vM9rLIy/9hWtm1mKMAeCzEyfySGMjg5c63c6Y/SwTzEUKx/EM3BhTDnwSWA1gre2y1n7g0bhE8kqmM+ogLMClY8fb79N+uMvRc9sPdbHj7feB2OfzxM6dQ4K3Aa6rrw/UF1YmcrHT000K5QxgP/C4MeZVY8yPjTGjhz/IGLPEGNNojGncv3+/i5cTCa9MS9rC0qfjtT0ddPf0Onpud49l557YF1K8z8cCv2ppcTtE3+QiheMmhVICNADfsNb+wRjzEHAH8L8GP8hauwpYBbGt9C5eTyS0Mp1R+70Al67Dx7qJ9jj7Z93V08vhY91AeM44MpXtFI6bGXgb0Gat/UPf788QC+giMkymM2q/F+DSNXpECZFi4+i5vfRy38svsa6pKTRnHEHjeAZurf2bMWaPMeYca+2fgHnAm94NTSR/OJlR52oBrn9xdXdHB8XG0GMtE9IsW5w6vpyS4iK6ejJbxIyxvN/9AUuee47r6ut5YufOwJ9xBI3brfTfANYZY14HpgL3uR6RSB7yakbtdW/uwYurAD19293TLVtsqD2FytGljl67x0Q5VnSYI9Eov2ppCcUZR9ConaxISHjVInawRO1i+yVrGzswrt/vZvnzuzIqJeylh/dL9nAocgCIVZz03nNP2s8vNInayaqZlUhIZKM5U7LgDektIl41YzyTxp1EaUl64aSXXrrMEQ6VtA/cVlFWltZz/RTEKxNpK71ISLip1Ii3iQhiM99k5+DpLCJGiotYc/1Mvvr4KzTv7aAzmris0NJLlznMvhEtYI6/8ofHjrGuqSmwKZNc9DVxQjNwkZBwWqmRaBPR0hdeSBq8M1lEHD2ihH/5h1n8z787l/EVZYwqLaa0uAgDlBYXMaq0mNqKUdz3xSl0n/w21gwN8tHe3kC3eQ1qa1rNwEVCwmlteKLgM/y2wdKtQhksUlzEogsmcM3MWna8/T4793Rw+Fg3o0eUUD/+ZBpqT8YYw+J/O/GiDxDsmu+g1qkrgIuEhNMWsZkGmXQWLpMxxnD+hArOn1AR936/27w6EdQxK4CLhIiT2vBEwaeyrIzO7m7HtddO292GZZfpYEEds3LgInkuUVOlh+bPd1x77abdbVh2mQ4W1DGrDlykAHh9aa9E9eNu0y9uZfsSZn5JVAeuFIpIAfB6W34QF/WCWuqXTUqhiEjGgth8KqilftmkAC4iGcvFxQoyFcSzgmxTABeRjAVxUS+IZwXZphy4iDiSbl49VwuLQS31yyYFcBHJmlwuLPYfb+kLL9DeGdvtWVaS3yFOKRQRyRo/FhY7u7sH/tze2Zl2fXoYKYCLSNbkemGx0CpR8vv8QkR8leseItn4wgjy5iDNwEUkI5lc2CDX5YZeV6K4aRmQCwrgIpK2TANarssNvf7CCHpKRikUEUlbsoCWKCh7vY0/GactdxMJ+uYgBXARSVvQAxp4+4UR1D7g/ZRC8VgQL3wq4pVC2+0YxJYBgymAeyjoCx4ibgU9oHktiC0DBlM/cA8FtUeyiJeCXFaXr9QPPAfCkB8UcSuXi5KSnFIoHiq0/KCI+Mt1ADfGFBtjXjXG/KsXAwqzQssPijihhX7veJFCWQrsAk7y4Fih5nUNqki+KcTLnmWTqwBujKkBLgdWAN/yZEQhp/ygSGJONgJJYm5TKCuB24DeRA8wxiwxxjQaYxr379/v8uVEJMy00O8txwHcGPN3wD5r7fZkj7PWrrLWTrfWTq+urnb6ciKSB7TQ7y03M/A5wBXGmFbgZ8DFxpi1noxKRPKSFvq95TiAW2u/ba2tsdbWAV8CfmOt/YpnIxORvBP0nY1ho408IpJTWuj3jicB3Fr7IvCiF8cSEZH0aAae59S3QiR/KYDnMW2aEMlv6oWSx4J+OSgRcUcBPI9p04RIflMAz2PaNCGS3xTA85g2TYjkNy1i5jF1RxTJbwrgeU6bJkTylwK4D1SbLSJeUADPMdVmi4hXtIiZY6rNFhGvaAaeY6lqs5VeEZF0aQaeY8lqs/vTK7s7OrAcT6/ooq8iEo8CeI4lq81WekVEMqEAnmPJGtpr67uIZEI5cB8kqs2uLS9nd5xgne2t78q7i4STZuAB4sfWd+XdRcJLATxA/LheoPLuIuGlFIpD2Uo75Hrru/LuIuGlAO5ALnZT5iov7VfeXUTcK8gUyrqmJupWrqTo3nupW7ky43xvttMO//j88yx+9tmc5KXVclYkvAougHuxaJdO2sHpl8S6piYeaWzEDrs9W3lpP/LuIuKNvE2hJEpBJJs9pxu0UqUd3KRY7tqy5YTg3S9beWm1nBUJp7ycgSebZXuxaJcq7eAmxZJsHMpLi8hgeRnAkwVQL64TmSrt4OZLItk4dnd0OMrZi0h+yssUSqJA2Z/2MDAkTeFk0S5Z2iFuisVavjDmQ/j3H0HXISgdA+POh/EzwZiBh62YN29I+iXeewhj/3Dt9hTxnuMAbowZD/wE+AixeLjKWvuQVwNzI1GOup/leBCfkIVgMjgIl9ge/p5m7qCRms4u2NwDPVEojkBRBEZXwZxl0LAYiiMnXMeyyBh67NCseKY5++FyHUx1EQuR7HAzA+8G/slau8MYMxbYboz5tbX2TY/G5liqWSwcD96ty5Z5/vr9QWnF5l/xaMcTnM8+RhGFnkEP6umK/ffBYdh0FzSt56lp93L7S//O7o4Oio3BwgnBu5/TBU0/gqkXC8ciciLHOXBr7bvW2h19fz4I7ALGeTUwN4bnqBPJ5m7DRed+jDfLt/Jfiw/Egncy0SP0tDVSs/Hv2fvBe0DiwN2voqzMUZmiH1vntdtTJDs8yYEbY+qAacAf4ty3BFgCUFtb68XLpWVwjrpu5UpHuw1dpRp2PAnv7oSeY2k9vLg3ylT+xvU083+oT/rYSFERB7u6aO/sBDKbRfsRTLXbUyQ7XFehGGPGAD8HlllrPxx+v7V2lbV2urV2enV1dcbHd7trEpztNnS14cdaeHklRI9kNM7RdHM7jbHnx9Ff8XLSiBF09fQMuS/dWbQXVTiZ0m5PkexwFcCNMRFiwXudtfZZb4Z0nFetTpOV/SX6gnCVatjzChw+kNEY+32EI8zm3RNun1BeTu8999C6bBnv9c28h0tnFu1HMNVuT5HscFOFYoDVwC5r7YPeDek4Lxe/4pX9JVvQc5Vq2LsdelPkvRMooYcZ/I1/5/SB24YHWDcpieFVLrkq6dNuTxHvucmBzwEWA03GmNf6brvTWvsr16Pqk+18baoNP47ztl2HYqWCDkToZSxdFPeVD8Yrc4xXZZPJLFrBVCQ/OA7g1tr/B0mLPFzL9uJXsi+IJ6+80nmQLB0Tq/Pu6cp4TMXFpSy/5AqWz7op4WP8mkWLSLAEeiem25lmKsm+IFwFyXHnxzbpOAjgFJXA6Q0J7x5eGfPklVcqcIsUqEAH8GzPNFN9QThONYyfGdth+cHhzJ875tTY8+PQjkYRGSzQARyym6/N2heEMbHt8ZvuyqyUMDIq9jwTPzOlHY0iMljgA3i2Ze0LomExNK2HvTvS28xTPAJOmwrTvpLwIdrRKCKD5WU72UAojsCiZ2BcQ2xmnUxkVCxvvujp2PMS8GMTjogElwJ4No0YA9c9B5feB6fUxQJ1cSlgYj8jo2K3X3ofXLcx9vgktKNRRAYr+BRK1hVHYPr1cP5XYzs039kBxw7FgvW486FmRsKc93AqHxSRwYxN0fXOS9OnT7eNjY05ez0RkXxgjNlurZ0+/HalUEREQkoBXEQkpBTARURCSouYAaYLAYtIMgrgWeBF4NW2eRFJpeADuNezXK8Cbybb5r16D5rxi4RLQefAvbriz2BeXTQ43W3zXr2HbHwWIpJdoQ/gbq6ZmY0rtHvVryTdbfNevQc/rlYvIu6EOoC7nTVmozmUV/1K0t0279V7UKMskfAJdQB3O2vMRnMor/qVpHshYK/egxpliYRPqBcx3c4as3HFn0z6laRaNEyn1a1X7yHbVz8SEe+FOoC7vWZmtppDpRN4vapW8eo9qFGWSPiEupnV8CAIsVljvFRD0NStXBn3y6eyrIwxpaUKoiIyIFEzq1DPwMM8a0yU5mnv7KS9sxPQ5h0RSS7UARxOTFf0lxUGPaAnSv8Mp2teikgioa5CGS5Mm1HiVaskolI+EYknrwJ4mDajxCsTrCwri/tYlfKJSDyhT6EM5rSs0K8eIPHSPyrlE5F0uZqBG2MuM8b8yRjzljHmDq8G5ZSTzShBSruku3lHRARczMCNMcXA/wYuAdqAbcaYjdbaN70aXKacbEbJpOtfLqRTQy4iAu5m4DOBt6y1f7XWdgE/Az7vzbCccTKDVQ8QEQkrNznwccCeQb+3ARcMf5AxZgmwBKC2ttbFy6Un0xms292cIiJ+yXoVirV2lbV2urV2enV1dbZfLmNeNZ8SEck1NzPwvcD4Qb/X9N0WKmHezSkihc1NAN8GTDTGnEEscH8JuMaTUeWYFg5FJIwcB3Brbbcx5n8A/xcoBh6z1r7h2chERCQpVxt5rLW/An7l0VhERCQDebWVXkSkkCiAi4iElAK4iEhI5fSKPMaY/cBul4epAg54MJww02cQo88hRp9DTD5/DhOstSdspMlpAPeCMaYx3qWFCok+gxh9DjH6HGIK8XNQCkVEJKQUwEVEQiqMAXyV3wMIAH0GMfocYvQ5xBTc5xC6HLiIiMSEcQYuIiIogIuIhFZoAnjQrr/pB2PMeGPMVmPMm8aYN4wxS/0ek1+MMcXGmFeNMf/q91j8ZIw52RjzjDHmj8aYXcaY2X6PKdeMMd/s+/fQbIz5qTFmpN9jypVQBPBB19+cD5wLfNkYc66/o/JFN/BP1tpzgVnAfy/QzwFgKbDL70EEwEPAv1lrPwbUU2CfiTFmHHAzMN1aO4lYZ9Qv+Tuq3AlFACeA19/0g7X2XWvtjr4/HyT2j3Wcv6PKPWNMDXA58GO/x+InY0w58ElgNYC1tsta+4Gvg/JHCVBmjCkBRgHv+DyenAlLAI93/c2CC1yDGWPqgGnAH3weih9WArcBvT6Pw29nAPuBx/vSST82xoz2e1C5ZK3dCzwAvA28C3RYazf5O6rcCUsAl0GMMWOAnwPLrLUf+j2eXDLG/B2wz1q73e+xBEAJ0AA8bK2dBhwGCmp9yBhzCrGz8TOA04HRxpiv+Duq3AlLAM+L6296wRgTIRa811lrn/V7PD6YA1xhjGkllkq72Biz1t8h+aYNaLPW9p+FPUMsoBeSTwP/Ya3db62NAs8CF/o8ppwJSwAfuP6mMaaU2CLFRp/HlHPGGEMs37nLWvug3+Pxg7X229baGmttHbH/D35jrS2YGddg1tq/AXuMMef03TQPeNPHIfnhbWCWMWZU37+PeRTQQq6rS6rliq6/OWAOsBhoMsa81nfbnX2XtpPC9A1gXd/E5q/A9T6PJ6estX8wxjwD7CBWpfUqBbSlXlvpRURCKiwpFBERGUYBXEQkpBTARURCSgFcRCSkFMBFREJKAVxEJKQUwEVEQur/A+utHRx2bwkSAAAAAElFTkSuQmCC\n",
=======
      "image/png": "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\n",
>>>>>>> d1a3331c4bb70eb63f6c667c0eee992efd40248b
      "text/plain": [
       "<Figure size 432x288 with 1 Axes>"
      ]
     },
     "metadata": {
      "filenames": {
<<<<<<< HEAD
       "image/png": "/Users/jacobkoehler/Desktop/present/newschool/calc/calcbook/_build/jupyter_execute/integration/centers_of_mass_21_0.png"
=======
       "image/png": "/Users/jacobkoehler/Desktop/present/calcbook/_build/jupyter_execute/integration/centers_of_mass_21_0.png"
>>>>>>> d1a3331c4bb70eb63f6c667c0eee992efd40248b
      },
      "needs_background": "light"
     },
     "output_type": "display_data"
    }
   ],
   "source": [
    "plt.scatter(X[:, 0], X[:, 1], color = 'teal')\n",
    "for i in range(3):\n",
    "    plt.plot(kmeans.cluster_centers_[i][0], kmeans.cluster_centers_[i][1], 'o', markersize = 15, label = f'cluster center {i}')\n",
    "plt.legend(markerscale = 0.3);"
   ]
  },
  {
   "cell_type": "markdown",
   "metadata": {},
   "source": [
    "### Center of Mass Problems\n",
    "\n",
    "1. Two cats, one weighing 30 grams and the second weighing 90 would like to use a see saw.  Where should we place the fulcrum?\n",
    "2. Three monkeys are located at points (3, 5), (2, 0), and (6, 6) respectively (same weights).  Where is their center of mass?\n",
    " \n"
   ]
  },
  {
   "cell_type": "code",
   "execution_count": null,
   "metadata": {},
   "outputs": [],
   "source": []
  },
  {
   "cell_type": "code",
   "execution_count": null,
   "metadata": {},
   "outputs": [],
   "source": []
  },
  {
   "cell_type": "code",
   "execution_count": null,
   "metadata": {},
   "outputs": [],
   "source": []
  },
  {
   "cell_type": "code",
   "execution_count": null,
   "metadata": {},
   "outputs": [],
   "source": []
  },
  {
   "cell_type": "code",
   "execution_count": null,
   "metadata": {},
   "outputs": [],
   "source": []
  },
  {
   "cell_type": "markdown",
   "metadata": {},
   "source": [
    "### Riemann Sums\n",
    "\n",
    "In mathematics, a Riemann sum is a certain kind of approximation of an integral by a finite sum. It is named after nineteenth century German mathematician Bernhard Riemann. One very common application is approximating the area of functions or lines on a graph, but also the length of curves and other approximations. -- [Source](https://en.wikipedia.org/wiki/Riemann_sum)"
   ]
  },
  {
   "cell_type": "markdown",
   "metadata": {},
   "source": [
    "Consider, for example, the function:\n",
    "\n",
    "$$f(x) = -x^2 + 1 \\quad \\text{on} \\quad [-1, 1]$$"
   ]
  },
  {
   "cell_type": "code",
   "execution_count": 16,
   "metadata": {},
   "outputs": [],
   "source": [
    "#define function and domain\n",
    "def f(x): return -x**2 + 1\n",
    "x = np.linspace(-1, 1, 1000)"
   ]
  },
  {
   "cell_type": "code",
   "execution_count": 17,
   "metadata": {},
   "outputs": [
    {
     "data": {
<<<<<<< HEAD
      "image/png": "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\n",
=======
      "image/png": "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\n",
>>>>>>> d1a3331c4bb70eb63f6c667c0eee992efd40248b
      "text/plain": [
       "<Figure size 432x288 with 1 Axes>"
      ]
     },
     "metadata": {
      "filenames": {
<<<<<<< HEAD
       "image/png": "/Users/jacobkoehler/Desktop/present/newschool/calc/calcbook/_build/jupyter_execute/integration/centers_of_mass_31_0.png"
=======
       "image/png": "/Users/jacobkoehler/Desktop/present/calcbook/_build/jupyter_execute/integration/centers_of_mass_31_0.png"
>>>>>>> d1a3331c4bb70eb63f6c667c0eee992efd40248b
      },
      "needs_background": "light"
     },
     "output_type": "display_data"
    }
   ],
   "source": [
    "#plot it\n",
    "plt.plot(x, f(x))\n",
    "plt.grid();"
   ]
  },
  {
   "cell_type": "markdown",
   "metadata": {},
   "source": [
    "-----\n",
    "- If we want to approximate the area under this curve with 4 equally spaced rectangles, what would their width be?\n",
    "- same as above, but 8 equally spaced rectangles?\n",
    "- Width for 20 equally spaced rectangles?\n",
    "- Width for $n$ equally spaced rectangles.\n",
    "-----\n"
   ]
  },
  {
   "cell_type": "code",
   "execution_count": 18,
   "metadata": {},
   "outputs": [
    {
     "data": {
<<<<<<< HEAD
      "image/png": "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\n",
=======
      "image/png": "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\n",
>>>>>>> d1a3331c4bb70eb63f6c667c0eee992efd40248b
      "text/plain": [
       "<Figure size 432x288 with 1 Axes>"
      ]
     },
     "metadata": {
      "filenames": {
<<<<<<< HEAD
       "image/png": "/Users/jacobkoehler/Desktop/present/newschool/calc/calcbook/_build/jupyter_execute/integration/centers_of_mass_33_0.png"
=======
       "image/png": "/Users/jacobkoehler/Desktop/present/calcbook/_build/jupyter_execute/integration/centers_of_mass_33_0.png"
>>>>>>> d1a3331c4bb70eb63f6c667c0eee992efd40248b
      },
      "needs_background": "light"
     },
     "output_type": "display_data"
    }
   ],
   "source": [
    "plt.plot(x, f(x))\n",
    "plt.grid();"
   ]
  },
  {
   "cell_type": "markdown",
   "metadata": {},
   "source": [
    "-----\n",
    "- Build 4 equally spaced rectangles in the image above -- where should we draw their heights?\n",
    "- Draw the 4 rectangles at the left endpoint of each subinterval,\n",
    "the right, and the midpoint\n",
    "-----"
   ]
  },
  {
   "cell_type": "code",
   "execution_count": null,
   "metadata": {},
   "outputs": [],
   "source": []
  },
  {
   "cell_type": "code",
   "execution_count": null,
   "metadata": {},
   "outputs": [],
   "source": []
  },
  {
   "cell_type": "code",
   "execution_count": null,
   "metadata": {},
   "outputs": [],
   "source": []
  },
  {
   "cell_type": "code",
   "execution_count": null,
   "metadata": {},
   "outputs": [],
   "source": []
  },
  {
   "cell_type": "markdown",
   "metadata": {},
   "source": [
    "**PROBLEM**\n",
    "\n",
    "Consider the function drawn below.  "
   ]
  },
  {
   "cell_type": "markdown",
   "metadata": {},
   "source": [
    "![](images/riemann_approx.png)"
   ]
  },
  {
   "cell_type": "markdown",
   "metadata": {},
   "source": [
    "**GOAL**: Expression to sum area of rectangles that depends on function and $a, b$ and the number of rectangles $n$.  \n",
    "\n",
    "- Write expressions for $x_1, x_2, x_3, x_4$ in terms of $a,b$. \n",
    "- What are the heights of the four rectangles?\n",
    "- Write expressions for the heights of the rectangles?\n",
    "- Multiply widths times heights for a general expression of your area.\n",
    "- Generalize your work above for $L(n)$, where any interval $[a, b]$ is partioned into $n$ subintervals, and the left hand side of the interval determines the heights of the rectangles. \n"
   ]
  },
  {
   "cell_type": "code",
   "execution_count": null,
   "metadata": {},
   "outputs": [],
   "source": []
  },
  {
   "cell_type": "code",
   "execution_count": null,
   "metadata": {},
   "outputs": [],
   "source": []
  },
  {
   "cell_type": "code",
   "execution_count": null,
   "metadata": {},
   "outputs": [],
   "source": []
  },
  {
   "cell_type": "code",
   "execution_count": null,
   "metadata": {},
   "outputs": [],
   "source": []
  },
  {
   "cell_type": "code",
   "execution_count": null,
   "metadata": {},
   "outputs": [],
   "source": []
  },
  {
   "cell_type": "code",
   "execution_count": null,
   "metadata": {},
   "outputs": [],
   "source": []
  },
  {
   "cell_type": "code",
   "execution_count": null,
   "metadata": {},
   "outputs": [],
   "source": []
  },
  {
   "cell_type": "code",
   "execution_count": null,
   "metadata": {},
   "outputs": [],
   "source": []
  },
  {
   "cell_type": "code",
   "execution_count": null,
   "metadata": {},
   "outputs": [],
   "source": []
  },
  {
   "cell_type": "code",
   "execution_count": null,
   "metadata": {},
   "outputs": [],
   "source": []
  },
  {
   "cell_type": "code",
   "execution_count": null,
   "metadata": {},
   "outputs": [],
   "source": []
  },
  {
   "cell_type": "code",
   "execution_count": null,
   "metadata": {},
   "outputs": [],
   "source": []
  },
  {
   "cell_type": "code",
   "execution_count": null,
   "metadata": {},
   "outputs": [],
   "source": []
  },
  {
   "cell_type": "code",
   "execution_count": null,
   "metadata": {},
   "outputs": [],
   "source": []
  },
  {
   "cell_type": "code",
   "execution_count": null,
   "metadata": {},
   "outputs": [],
   "source": []
  },
  {
   "cell_type": "code",
   "execution_count": null,
   "metadata": {},
   "outputs": [],
   "source": []
  },
  {
   "cell_type": "code",
   "execution_count": null,
   "metadata": {},
   "outputs": [],
   "source": []
  },
  {
   "cell_type": "code",
   "execution_count": 19,
   "metadata": {},
   "outputs": [
    {
     "data": {
<<<<<<< HEAD
      "image/png": "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\n",
=======
      "image/png": "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\n",
>>>>>>> d1a3331c4bb70eb63f6c667c0eee992efd40248b
      "text/plain": [
       "<Figure size 432x288 with 1 Axes>"
      ]
     },
     "metadata": {
      "filenames": {
<<<<<<< HEAD
       "image/png": "/Users/jacobkoehler/Desktop/present/newschool/calc/calcbook/_build/jupyter_execute/integration/centers_of_mass_59_0.png"
=======
       "image/png": "/Users/jacobkoehler/Desktop/present/calcbook/_build/jupyter_execute/integration/centers_of_mass_59_0.png"
>>>>>>> d1a3331c4bb70eb63f6c667c0eee992efd40248b
      },
      "needs_background": "light"
     },
     "output_type": "display_data"
    }
   ],
   "source": [
    "def f(x): return 2 + np.cos(x)\n",
    "x = np.linspace(1, 6)\n",
    "plt.plot(x, f(x), linewidth = 6)\n",
    "plt.bar(range(1, 6), f(range(1, 6)), width = 1, color = 'white',\n",
    "       edgecolor = 'black', align = 'edge')\n",
    "plt.xticks(range(1, 7), ['a', 'x1', 'x2', 'x3', 'x4', 'b']);\n",
    "plt.savefig('images/riemann_approx.png')"
   ]
  }
 ],
 "metadata": {
  "kernelspec": {
   "display_name": "Python 3",
   "language": "python",
   "name": "python3"
  },
  "language_info": {
   "codemirror_mode": {
    "name": "ipython",
    "version": 3
   },
   "file_extension": ".py",
   "mimetype": "text/x-python",
   "name": "python",
   "nbconvert_exporter": "python",
   "pygments_lexer": "ipython3",
<<<<<<< HEAD
   "version": "3.8.3"
=======
   "version": "3.7.4"
>>>>>>> d1a3331c4bb70eb63f6c667c0eee992efd40248b
  }
 },
 "nbformat": 4,
 "nbformat_minor": 4
}