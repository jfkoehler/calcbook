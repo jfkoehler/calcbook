{
 "cells": [
  {
   "cell_type": "markdown",
   "metadata": {
    "id": "yhQ8-XWxjHRT"
   },
   "source": [
    "# Assignment 3: Definite Integral\n",
    "\n",
    "**OBJECTIVES**\n",
    "\n",
    "- Use summation notation \n",
    "- Solve basic probability problems \n",
    "- Use Riemann Summations to approximate area\n",
    "- Use Definite Integrals to solve area problems\n",
    "- Use Definite Integrals to solve Net Change problems\n",
    "\n",
    "------"
   ]
  },
  {
   "cell_type": "markdown",
   "metadata": {
    "id": "kmvx2bVGGgUj"
   },
   "source": [
    "## Problem I: Summation Notation\n",
    "\n",
    "1. Evaluate $\\sum_{i = 1} ^ 5 3i^2 - 2$.\n",
    "2. Rewrite in summation notation: $1 + 3 + 5 + 7 + 9$\n",
    "3. Use a formula to determine $\\sum_{i = 1}^{50} i^3 - i$"
   ]
  },
  {
   "cell_type": "code",
   "execution_count": 1,
   "metadata": {
    "id": "snd2M9WTtJvM"
   },
   "outputs": [
    {
     "name": "stderr",
     "output_type": "stream",
     "text": [
      "/opt/anaconda3/lib/python3.8/site-packages/scipy/__init__.py:146: UserWarning: A NumPy version >=1.16.5 and <1.23.0 is required for this version of SciPy (detected version 1.23.2\n",
      "  warnings.warn(f\"A NumPy version >={np_minversion} and <{np_maxversion}\"\n"
     ]
    }
   ],
   "source": [
    "import matplotlib.pyplot as plt\n",
    "import numpy as np\n",
    "import pandas as pd\n",
    "import scipy.stats as stats"
   ]
  },
  {
   "cell_type": "code",
   "execution_count": 2,
   "metadata": {
    "id": "BbVTqfFyEpZ_"
   },
   "outputs": [],
   "source": [
    "def f(i): return 3*i**2 - 2 #define the function"
   ]
  },
  {
   "cell_type": "code",
   "execution_count": 3,
   "metadata": {
    "id": "rcIjqIitHNbE"
   },
   "outputs": [],
   "source": [
    "x = np.arange(1, 6)"
   ]
  },
  {
   "cell_type": "code",
   "execution_count": 4,
   "metadata": {
    "colab": {
     "base_uri": "https://localhost:8080/"
    },
    "id": "TwolDGn2HNID",
    "outputId": "ebbcd904-7915-4689-e582-c01c8f20b762"
   },
   "outputs": [
    {
     "data": {
      "text/plain": [
       "155"
      ]
     },
     "execution_count": 4,
     "metadata": {},
     "output_type": "execute_result"
    }
   ],
   "source": [
    "sum(f(x))"
   ]
  },
  {
   "cell_type": "code",
   "execution_count": 5,
   "metadata": {
    "colab": {
     "base_uri": "https://localhost:8080/",
     "height": 39
    },
    "id": "aQd12gwrHNCc",
    "outputId": "ed46271e-6ce5-4d6c-f3a9-bf00dc80b720"
   },
   "outputs": [
    {
     "data": {
      "text/latex": [
       "\\sum_{i = 0}^4 2i + 1\n"
      ],
      "text/plain": [
       "<IPython.core.display.Latex object>"
      ]
     },
     "metadata": {},
     "output_type": "display_data"
    }
   ],
   "source": [
    "%%latex\n",
    "\\sum_{i = 0}^4 2i + 1"
   ]
  },
  {
   "cell_type": "markdown",
   "metadata": {
    "id": "f3FRQhHDv3-M"
   },
   "source": [
    "$$\\sum_{i = 0}^4 2i + 1$$"
   ]
  },
  {
   "cell_type": "code",
   "execution_count": 6,
   "metadata": {
    "colab": {
     "base_uri": "https://localhost:8080/",
     "height": 283
    },
    "id": "l_XfU41WHM3j",
    "outputId": "08111338-0e03-4edc-ae73-0fdceaf6bda7"
   },
   "outputs": [
    {
     "data": {
      "text/plain": [
       "<BarContainer object of 21 artists>"
      ]
     },
     "execution_count": 6,
     "metadata": {},
     "output_type": "execute_result"
    },
    {
     "data": {
<<<<<<< HEAD
      "image/png": "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\n",
=======
      "image/png": "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\n",
>>>>>>> d1a3331c4bb70eb63f6c667c0eee992efd40248b
      "text/plain": [
       "<Figure size 432x288 with 1 Axes>"
      ]
     },
     "metadata": {
      "filenames": {
<<<<<<< HEAD
       "image/png": "/Users/jacobkoehler/Desktop/present/newschool/calc/calcbook/_build/jupyter_execute/integration/03_Calc_Assignment_8_1.png"
=======
       "image/png": "/Users/jacobkoehler/Desktop/present/calcbook/_build/jupyter_execute/integration/03_Calc_Assignment_8_1.png"
>>>>>>> d1a3331c4bb70eb63f6c667c0eee992efd40248b
      },
      "needs_background": "light"
     },
     "output_type": "display_data"
    }
   ],
   "source": [
    "coin_flip = stats.binom(20, 0.5)\n",
    "x = np.arange(21)\n",
    "plt.bar(x, coin_flip.pmf(x))"
   ]
  },
  {
   "cell_type": "code",
   "execution_count": 7,
   "metadata": {
    "colab": {
     "base_uri": "https://localhost:8080/"
    },
    "id": "msH-JyMNyQOt",
    "outputId": "9ef783a5-9615-4342-f1c8-f9ca11d4a3a5"
   },
   "outputs": [
    {
     "data": {
      "text/plain": [
       "0.1601791381835938"
      ]
     },
     "execution_count": 7,
     "metadata": {},
     "output_type": "execute_result"
    }
   ],
   "source": [
    "coin_flip.pmf(9)"
   ]
  },
  {
   "cell_type": "markdown",
   "metadata": {
    "id": "m-lP6hfuHOzv"
   },
   "source": [
    "## Problem II: Probability Problems\n",
    "\n",
    "1. What is the probability that in 20 coin flips we get 9 Heads -- assuming a fair coin. \n",
    "2. Explain what the 21's mean in the triangle below:\n",
    "\n",
    "![](https://wikimedia.org/api/rest_v1/media/math/render/svg/23050fcb53d6083d9e42043bebf2863fa9746043)\n",
    "\n",
    "3. What does the following code mean?\n",
    "\n",
    "```python\n",
    "import scipy.stats as stats\n",
    "d = stats.binom(10, .4)\n",
    "d.pmf(4)\n",
    "```\n",
    "\n",
    "\n"
   ]
  },
  {
   "cell_type": "code",
   "execution_count": 8,
   "metadata": {
    "id": "f-uNnT0QIeWs"
   },
   "outputs": [],
   "source": [
    "import scipy.stats as stats\n",
    "import matplotlib.pyplot as plt\n",
    "import numpy as np"
   ]
  },
  {
   "cell_type": "markdown",
   "metadata": {
    "id": "vgZgIuaJJKvE"
   },
   "source": [
    "4. The plot below represents the distribution of burrito ratings in New York City on Google.  What does the shaded area represent in terms of probabilities?"
   ]
  },
  {
   "cell_type": "code",
   "execution_count": 9,
   "metadata": {
    "colab": {
     "base_uri": "https://localhost:8080/",
     "height": 298
    },
    "id": "L2ytEuQjIkjy",
    "outputId": "3cfcf547-cf41-4c8f-db9c-46a984fd7080"
   },
   "outputs": [
    {
     "data": {
<<<<<<< HEAD
      "image/png": "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\n",
=======
      "image/png": "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\n",
>>>>>>> d1a3331c4bb70eb63f6c667c0eee992efd40248b
      "text/plain": [
       "<Figure size 432x288 with 1 Axes>"
      ]
     },
     "metadata": {
      "filenames": {
<<<<<<< HEAD
       "image/png": "/Users/jacobkoehler/Desktop/present/newschool/calc/calcbook/_build/jupyter_execute/integration/03_Calc_Assignment_13_0.png"
=======
       "image/png": "/Users/jacobkoehler/Desktop/present/calcbook/_build/jupyter_execute/integration/03_Calc_Assignment_13_0.png"
>>>>>>> d1a3331c4bb70eb63f6c667c0eee992efd40248b
      },
      "needs_background": "light"
     },
     "output_type": "display_data"
    }
   ],
   "source": [
    "N = stats.norm(5, 1.5)\n",
    "x = np.linspace(0, 10, 1000)\n",
    "plt.plot(x, N.pdf(x))\n",
    "plt.fill_between(x, N.pdf(x), where = x > 6)\n",
    "plt.title('Area under Normal Distribution\\nwhere $x > 6$');"
   ]
  },
  {
   "cell_type": "markdown",
   "metadata": {
    "id": "qJl8JF8WIuRb"
   },
   "source": [
    "5. Compute the area above using the distribution `N`."
   ]
  },
  {
   "cell_type": "code",
   "execution_count": 10,
   "metadata": {
    "colab": {
     "base_uri": "https://localhost:8080/"
    },
    "id": "WB6JdWJIJuFA",
    "outputId": "f09ff8cd-2338-4c9a-917c-b2675dd941f4"
   },
   "outputs": [
    {
     "data": {
      "text/plain": [
       "0.2524925375469229"
      ]
     },
     "execution_count": 10,
     "metadata": {},
     "output_type": "execute_result"
    }
   ],
   "source": [
    "1 - N.cdf(6)"
   ]
  },
  {
   "cell_type": "code",
   "execution_count": null,
   "metadata": {
    "id": "Ygm5KpjAJtBC"
   },
   "outputs": [],
   "source": []
  },
  {
   "cell_type": "code",
   "execution_count": null,
   "metadata": {
    "id": "DbtIZyA9J6-H"
   },
   "outputs": [],
   "source": []
  },
  {
   "cell_type": "code",
   "execution_count": null,
   "metadata": {
    "id": "Bkrz84IdJ656"
   },
   "outputs": [],
   "source": []
  },
  {
   "cell_type": "markdown",
   "metadata": {
    "id": "-8Ug-ekqJ8C7"
   },
   "source": [
    "## Problem III: Riemann Sums\n",
    "\n",
    "1. Write a formula for the area approximations below for $R(6)$ (b) in the image below where $f(x) = \\frac{x^2}{2}$. Evaluate.\n",
    "2. Write a formula for the area approximation in the image below for $L(6)$ (a) where $f(x) = \\frac{x^2}{2}$. Evaluate. \n",
    "\n",
    "\n",
    "![](https://openstax.org/resources/d966b9a6dd578072e41c3ddc3447f8894861f3d0)\n",
    "\n",
    "3. Evaluate $L(6)$ for $f(x) = \\frac{1}{x(x - 1)}$ on $[2, 5]$. "
   ]
  },
  {
   "cell_type": "code",
   "execution_count": null,
   "metadata": {
    "id": "FbPeTL8iJ62j"
   },
   "outputs": [],
   "source": []
  },
  {
   "cell_type": "code",
   "execution_count": null,
   "metadata": {
    "id": "58lluOB5La2G"
   },
   "outputs": [],
   "source": []
  },
  {
   "cell_type": "code",
   "execution_count": null,
   "metadata": {
    "id": "eATAUWfVLaym"
   },
   "outputs": [],
   "source": []
  },
  {
   "cell_type": "code",
   "execution_count": null,
   "metadata": {
    "id": "ktgM8pSNLavb"
   },
   "outputs": [],
   "source": []
  },
  {
   "cell_type": "code",
   "execution_count": null,
   "metadata": {
    "id": "y6ptkpW3LasR"
   },
   "outputs": [],
   "source": []
  },
  {
   "cell_type": "markdown",
   "metadata": {
    "id": "1Oioic41LmVD"
   },
   "source": [
    "## Problem IV: Definite Integral \n",
    "\n",
    "1. What does $\\int_0^3 \\sqrt{x} ~dx$ mean?\n",
    "2. Evaluate the integral $\\int_0^3 \\sqrt{x} ~dx$.\n",
    "3. Find the area under the curve $f(x) = x^4$ from $x = 1$ to $x = 4$.  Plot the region.\n",
    "4. Plot the line $y = x$ on $[-2, 2]$. Evaluate the definite integral $\\int_{-2}^2 x ~dx$ and interpret your results."
   ]
  },
  {
   "cell_type": "code",
   "execution_count": 11,
   "metadata": {
    "colab": {
     "base_uri": "https://localhost:8080/",
     "height": 283
    },
    "id": "SC4Qc1OiLl7O",
    "outputId": "9a835f42-0cd1-4240-a1ea-3a5aa68ef0e6"
   },
   "outputs": [
    {
     "data": {
      "text/plain": [
<<<<<<< HEAD
       "<matplotlib.lines.Line2D at 0x7f7a151b69d0>"
=======
       "<matplotlib.lines.Line2D at 0x7fef38694d50>"
>>>>>>> d1a3331c4bb70eb63f6c667c0eee992efd40248b
      ]
     },
     "execution_count": 11,
     "metadata": {},
     "output_type": "execute_result"
    },
    {
     "data": {
<<<<<<< HEAD
      "image/png": "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\n",
=======
      "image/png": "iVBORw0KGgoAAAANSUhEUgAAAXoAAAD4CAYAAADiry33AAAABHNCSVQICAgIfAhkiAAAAAlwSFlzAAALEgAACxIB0t1+/AAAADh0RVh0U29mdHdhcmUAbWF0cGxvdGxpYiB2ZXJzaW9uMy4xLjMsIGh0dHA6Ly9tYXRwbG90bGliLm9yZy+AADFEAAAgAElEQVR4nO3de3xU9Z3/8dcnNxIChIQECAkhiSKKcjUCVluxtSqVgtZuq62Xdtvya7dut9tf97fbvbRdu7vt1v1td3vxQltWrRatd6QoUi1Yi9zvdxNAcgESCJdwyW3y+f0xQ39jTGAgk8xk8n4+Hnkw55zvmflwyLzn8J3vOV9zd0REJHElxboAERHpXgp6EZEEp6AXEUlwCnoRkQSnoBcRSXApsS6gI7m5uV5cXBzrMkSkC3bu3AnAmDFjYlxJ37B27dpD7p7X0ba4DPri4mLWrFkT6zJEpAumT58OwNKlS2NaR19hZu92tk1dNyIiCU5BLyKS4BT0IiIJTkEvIpLgFPQiIgnunEFvZiPN7Pdmtt3MtprZX3XQxszsx2ZWbmabzGxy2LZ7zeyd0M+90f4LiIjI2UUyvLIV+N/uvs7MBgJrzWyJu28LazMDGB36mQo8BEw1sxzgO0AZ4KF9F7j7kaj+LUREpFPnPKN39/3uvi70uAHYDhS0azYbeNyDVgCDzSwfuAlY4u71oXBfAtwc1b+BiEgvd6q5ld9u2s/Dyyq65fnP64IpMysGJgEr220qACrDlqtC6zpb39FzzwHmABQVFZ1PWSIivc6Jplbe2FHLok37WbqrlsaWNkZkpfOFa0tITY7u16cRB72ZDQCeA77u7sfbb+5gFz/L+vevdJ8LzAUoKyvTbCgiknCON7bw+vaDLNp8gGW76mhubSNvYD8+VTaSGVfkM6Ukh+SkjmKzayIKejNLJRjyT7r78x00qQJGhi0XAjWh9dPbrV96IYWKiPRGx061sGT7QV7ZvJ8/vHOI5kAbwwel85kpRdwyPp/JRdndEu7hzhn0ZmbAL4Ht7v6fnTRbANxnZk8R/DL2mLvvN7PFwL+ZWXao3Y3At6JQt4hI3Dpyspkl2w6yaMt+/lh+iJaAUzA4g3uuHsWMcflMGjmYpG4O93CRnNFfA9wNbDazDaF1fw8UAbj7w8Ai4GNAOXAK+HxoW72ZfQ9YHdrvfnevj175IiLxof5kM4u3HmDR5v28XXGY1jZnZE4Gf35NCTPG5TOhMIvgeXPPO2fQu/tbdNzXHt7Gga92sm0eMO+CqhMRiWNHTwXDfeGm/SyvOEygzSke0p8vfaiUW8blc/mIQTEL93BxeZtiEZF4dbyxhSVbD7JwUw1vhbplinL6878+VMot4/MZmx8f4R5OQS8icg4nm1r53faDLNy0n2U762gOtFEwONgtc8v4fMYVxK5bJhIKehGRDpxuDvD7nbUs3FTDGzuC49yHD0rnrmmjmDkh+IVqPId7OAW9iEhIY0uAZbvqWLhpP69vP8ip5gC5A4Lj3GeOH0HZqOweHS0TLQp6EenTmlvbeKu8joUb97Nk20EamlrJyUzj1kkFzByfz9SSId0+zr27KehFpM8JtDlvVxxmwcZqFm89yLHTLQxKT2HGuOHMHD+Cqy8aEvXbEMSSgl5E+gR3Z1PVMV7cUM3CTfupa2hiQL8Ubhw7jJkT8rn24jzSUhIn3MMp6EUkoZXXnmDBxhoWbKhm7+FTpCUn8eFLhzJ74giuv3Qo6anJsS6x2ynoRSThHDjWyMsba3hpYzVbqo9jBh+4aAh/cf3F3HT5cLIyUmNdYo9S0ItIQjh6qplXthzgpQ3VrNxTjztMKMzin2aO5ePj8xk6KD3WJcaMgl5Eeq3TzQFe33GQF9fXsGxXLS0BpzQ3k69/5BJmTRxBSW5mrEuMCwp6EelVWgJt/LH8EAs21LB46wFONgcYNqgfn/tAMbMnFsTN/WXiiYJeROKeu7Ol+jjPr69iwYYaDp9sZlB6CrMmjmDWhIJum7AjUSjoRSRu1Rw9zYsbqnl+XTXltSdIS07ihrFDuXViAdeNyaNfSuKPmIkGBb2IxJUTTa28snk/z6+rZsWew7jDVcXZ/Ntt47hlXD5Z/fvWiJloUNCLSMy1Btp4q/wQL6yvZvHWAzS2tDFqSH++/pFLuG1SAUVD+se6xF4tkqkE5wEzgVp3v6KD7X8DfDbs+S4D8kKzS+0FGoAA0OruZdEqXER6N3dn2/7jvLCumpc21lDX0ERWRiqfvLKQ2yYVMrmo99wdMt5Fckb/KPBT4PGONrr7A8ADAGb2ceCv200XeL27H+pinSKSIA4ca+SlUL/7zoMNpCYb148ZyicmF3L9pep37w6RTCX4ppkVR/h8dwLzu1KQiCSe080BFm89wHPrqnir/BDuMKloMN+bfTkzx48gOzMt1iUmtKj10ZtZf+Bm4L6w1Q68ZmYOPOLuc8+y/xxgDkBRUVG0yhKRGGpobOVbz29i4cb9NDS1UpidwV9efzG3TS7UxUw9KJpfxn4c+GO7bptr3L3GzIYCS8xsh7u/2dHOoQ+BuQBlZWUexbpEpAcdPN7I8+uq2Vh5lNMtAU6tr2HGuOH82ZUjmVqS0ysn7ujtohn0d9Cu28bda0J/1prZC8AUoMOgF5Heq6k1wOvba/nNmkre3FVHmwf/O1+aN4BV/3gDA/ppgF8sReXom1kWcB1wV9i6TCDJ3RtCj28E7o/G64lI7Lk7W2uO88yaSl7cUMOx0y1kZaTywdF5XFmUzcNLMhg6sJ9CPg5EMrxyPjAdyDWzKuA7QCqAuz8canYb8Jq7nwzbdRjwQmh4VArwa3d/NXqli0gsHD7RxIsbavjNmkp2HmggJcm4LH8QV47K5uKhA0jSkMi4E8momzsjaPMowWGY4et2AxMutDARiR+tgTaW7qzjmbWV/G57LYE2pzA7g1kTRjC+MIv+aTprj2f61xGRTu07fIqn1+zjN2uq/jT13tWlQ5hclM3wrL57f/feRkEvIu/R1Brgta0Hmb9qH8srDmMGlwwdyE1jhzFm+CDdJbIXUtCLCADltQ3MX1XJc2urOHq6hez+qdxw2VAmF2UzuL8uaOrNFPQifdjp5gALN9Xw1OpK1r57hCSDsfmDuHVSgb5YTSAKepE+aEv1MZ5avY8X19dwoqmV3AFpzLhiOJOKsjUcMgHpX1Skjzje2MKCDTXMX7WPrTXHSU02rhiRRVlxDsVD+utOkQlMQS+S4DZXHePJle/y4oZqGlvayM9K5+MTRjCxcDAZabpTZF+goBdJQKebA7y8sYYnVrzLpupjpCUnMb4wiyklORQMztDZex+joBdJIOW1DTy5ch/Prq2iobGVYYP68fHx+UwqyiY9VWfvfZWCXqSXa25tY/HWAzyx4l1W7qknOcm4fMQgppYMUd+7AAp6kV6rsv4U81ft46nVldSfbCYnM42bLh/OlaM0ckbeS78NIr1IoM1ZurOWX614l2U768Dg0mEDmTVhhMa9S6cU9CK9wJGTzTy1upJfrdhLzdFGBqWnMH3MUK4q1lWrcm4KepE4tqX6GI+/vZeXNtTQ1NpGaV4md04pYmy+7jkjkVPQi8SZlkAbr245wKPL97L23SOkJScxsWgwV5cOYdgg3TFSzp+CXiRO1DY0Mn9lJU+seJe6E00MyUzjY+PyubIoWxc2SZdEMsPUPGAmUOvuV3SwfTrwErAntOp5d78/tO1m4L+BZOAX7v6DKNUtkhDcnfWVR3ls+V5+u2k/rW3OJcMG8LFxwxk9bKC+XJWoiOSM/lHgp8DjZ2nzB3efGb7CzJKBnwEfBaqA1Wa2wN23XWCtIgmjsSXAbzft59Hle9lcfYz0lCSuKsnh6pIh5A7sF+vyJMFEMpXgm2ZWfAHPPQUoD00piJk9BcwGFPTSZ9U1NPGrFe/yxNt7qT/VwtCB/Zg1YQSTRg6mn65clW4SrT76q81sI1ADfNPdtwIFQGVYmypgamdPYGZzgDkARUVFUSpLJD7sOHCcX/5hDy9uqKYl4Fw6fCC3TirkorxMXbkq3S4aQb8OGOXuJ8zsY8CLwGigo99e7+xJ3H0uMBegrKys03YivUVbm7NsVx2/eGs3fyw/TFpyEpOLsrnmolx1z0iP6nLQu/vxsMeLzOxBM8sleAY/MqxpIcEzfpGEdro5wHPrqvjlW3vYc+gkWRmp3DR2GFeV5NA/TQPdpOd1+bfOzIYDB93dzWwKkAQcBo4Co82sBKgG7gA+09XXE4lXB4838tjyvTy5ch/HTrdQODiDT5WNZFxBli5ukpiKZHjlfGA6kGtmVcB3gFQAd38Y+CTwFTNrBU4Dd7i7A61mdh+wmODwynmhvnuRhLKl+hi/fGsPL2+sIdDmXJY/iE+XjWSU7hwpcSKSUTd3nmP7TwkOv+xo2yJg0YWVJhK/3IP97w8v282K3Yfpl5LElJIcPnBRLjmZuveMxBd1GIqch5ZAGws31fDQ0gp2HTxBVkYqM64YzlXFOZrYQ+KWgl4kAiebWnlqdSU//8NuDhxrZNigfnxyciHjR2aRkpQU6/JEzkpBL3IWdQ1NPLp8D4+//S4Nja2U5GZyz9WjuES3J5BeREEv0oHddSf4+R/28NzaKloCbYwdMYgPjc5jZE7/WJcmct4U9CJh1u87wiPLKli89SDJScbkomyuvVgXOEnvpqCXPs/debviMD95o5y3dx8mIzWZ68bkcXXpEAamp8a6PJEuU9BLn+XuvLGjlp+8Uc6GyqMMSk9hxhXDmVKcoxuMSUJR0EufE2hzXtmyn5++Uc6OAw1k909l1oQRXDkqm9RkjaCRxKOglz6jJdDGi+ureXBpBXsOnSR3QBq3Ty5k4sjBukWBJDQFvSS8xpYAz6yp5KFlFdQcbSQ/K507rhrJFQVZGiIpfYKCXhLW6eYAT658l4eXVXDoRDNFORncM20UY4YP1D1opE9R0EvCORPwDy6toP5kM6V5mcyeWEBprib5kL5JQS8J40zAP7S0gsMnm7koL5PbJxdSkpsZ69JEYkpBL71eY0uAJ1fu46Gl5Rw6EQz4TyjgRf5EQS+9VmNLgF+v3MeDoYAvzcvktkkKeJH2Ipl4ZB4wE6h19ys62P5Z4G9DiyeAr7j7xtC2vUADEABa3b0sSnVLH9bYEmD+qn08uLSCuoYmSvMyuXVSAaW5A2JdmkhciuSM/lGCE4s83sn2PcB17n7EzGYQnOB7atj26939UJeqFCE4Dv7p1ZX8+PV3qG1ooiQ3k9kTRlCap4AXOZtIZph608yKz7J9edjiCoKTgItETaDNeXljDf/3tZ1UHjnNqCH9+cK1JVykgBeJSLT76L8AvBK27MBrZubAI+4+t7MdzWwOMAegqKgoymVJb+TuLNl2kAcW7+Sd2hOMyErn3tC94DVMUiRyUQt6M7ueYNBfG7b6GnevMbOhwBIz2+Hub3a0f+hDYC5AWVmZR6su6Z2Wlx/i3xfvYGPlMfIGpOlKVpEuiErQm9l44BfADHc/fGa9u9eE/qw1sxeAKUCHQS8CwfvBP7B4J8srDjM4I5VPTCpgUlG27kUj0gVdDnozKwKeB+52911h6zOBJHdvCD2+Ebi/q68niemdgw08sHgnr207yIB+KdwyLp8pJTm6m6RIFEQyvHI+MB3INbMq4DtAKoC7Pwx8GxgCPBjqNz0zjHIY8EJoXQrwa3d/tRv+DtKL1R5v5Ee/28XTqytJS0nihsuGcc1FQ3Q/eJEoimTUzZ3n2P5F4IsdrN8NTLjw0iSRnWhqZe6bu5n7ZgUtAWda6RCuHzOUzH66hk8k2vSukh51Ziz8j5bs4vDJZsYVZHHj2GEMGaA5WUW6i4JeesSZoZLff2UHew6dpHhIfz5VNpKROf1jXZpIwlPQS7dbv+8I/7ZoO6v3HmHowH7cPW0Ul+qe8CI9RkEv3abm6Gn+/ZUdvLSxhoHpKcyeOIKyUTkaKinSwxT0EnWnmwM88mYFDy2toM2d6WPyuG50nkbSiMSIgl6ixt1ZsLGG77+ygwPHGrmiIIsZlw8nOzMt1qWJ9GkKeomKTVVH+e6Crazbd5QRg9P50gdLdV94kTihoJcuqT3eyA8X7+TZtVUM6JfCJyYVMHlUtu5JIxJHFPRyQZpb2/ifP+7hv19/h6bWNj40OpfpY4aSrn54kbijoJfztrziEP/04hYq6k5y6fCB3DIuXxc8icQxBb1E7ODxRv71t9tYsHE/OZlp3DNtFJfmD4p1WSJyDgp6OaeWQBuPLd/Lj5bsoqm1jQ9fOpTrLsnTnSVFegkFvZzVqj31/OOLm9l18ASXDBvAx8ePUDeNSC+joJcO1Z9s5l9+u43n11WT3T+Vu6aO4rJ83bZApDdS0Mt7uDsvrK/m/pe30dDUyvRL8pg+ZihpKeqmEemtFPTyJ+8ePsnfv7CZP5YfZlROf+79QDHDBqXHuiwR6aKITtPMbJ6Z1ZrZlk62m5n92MzKzWyTmU0O23avmb0T+rk3WoVL9LQE2nh4WQU3/uhN1r57hFkTRvClD5Uq5EUSRKRn9I8CPwUe72T7DGB06Gcq8BAw1cxyCE49WAY4sNbMFrj7ka4ULdGzsfIof/vcJnYcaODyEYOYOX4EWRmpsS5LRKIooqB39zfNrPgsTWYDj7u7AyvMbLCZ5ROca3aJu9cDmNkS4GZgfleKlq471dzKA4t38tjyvQxMT+WuqUWMHZEV67JEpBtEq4++AKgMW64Krets/fuY2RxgDkBRUVGUypKOrNh9mL95ZiOVR04ztSSHmy4frlsXiCSwaAV9R2Pu/Czr37/SfS4wF6CsrKzDNtI1p5pb+eGrO3l0+V6GZKbpDpMifUS0gr4KGBm2XAjUhNZPb7d+aZReU87Dyt2H+WboLP7q0iHcdPlwDZkU6SOi9U5fANwTGn0zDTjm7vuBxcCNZpZtZtnAjaF10kNONbfy3QVb+fTcFZxsDvDFD5bw8QkjFPIifUhEZ/RmNp/gmXmumVURHEmTCuDuDwOLgI8B5cAp4POhbfVm9j1gdeip7j/zxax0v1V76vnmMxvZV39KZ/EifViko27uPMd2B77aybZ5wLzzL00uVHNrG//1u108tLSC7Mw0vnhtCaV5A2JdlojEiK6MTTDltSf4q6fWs7XmOGWjsrllXL4m5Rbp4xT0CcLdeWLlPv5l4TZSkozPTi3ico2LFxEU9AmhrqGJv3l2I0t31jF66ABuv7KQQem6ulVEghT0vdzr2w/yzWc20tDYyszx+UwrHaKJuUXkPRT0vVRzaxs/fHUHv3hrD/lZ6dxzte40KSIdU9D3QpX1p/jqr9exqeoY00pzmHFFvqb1E5FOKeh7mVe37Oebz2wi0OZ8ZkoRVxToC1cROTsFfS/R2BLg+4u289jb71KYncEdVxWRk5kW67JEpBdQ0PcClfWn+PITa9lac5xrLhrCTVcMJyVJXTUiEhkFfZxburOWr81fT0vAuXvaKC7LHxTrkkSkl1HQx6m2Nudnvy/nP5fsYnhWOp+ZUsSQAf1iXZaI9EIK+jh0vLGFbzy9gd9tr2VCYRa3TSrUzchE5IIp6OPMroMNfOnxNVTVn2bm+HyuLh2C6QIoEekCBX0cWbz1AF9/agMpycafX1ui2Z9EJCoU9HHA3XloWQU/fHUnI7Mz+OzUUQzK0L1qRCQ6FPQx1tgS4FvPb+aF9dWML8zi9smFuspVRKIq0hmmbgb+G0gGfuHuP2i3/UfA9aHF/sBQdx8c2hYANoe27XP3WdEoPBHUNTQx51drWL/vKDdcNozrx+SpP15Eou6cQW9mycDPgI8SnOx7tZktcPdtZ9q4+1+Htf9LYFLYU5x294nRKzkx7DhwnM//z2oOnWjizilFjNOtDESkm0TSRzAFKHf33e7eDDwFzD5L+zuB+dEoLlH9sfwQtz+4nFPNAb70wVKFvIh0q0iCvgCoDFuuCq17HzMbBZQAb4StTjezNWa2wsxu7exFzGxOqN2aurq6CMrqnV7aUM2981YxMD2VL193EYXZ/WNdkogkuEj66DvqNPZO2t4BPOvugbB1Re5eY2alwBtmttndK973hO5zgbkAZWVlnT1/r+XuzH1zN99/ZQcluZncNXUUGWmay1VEul8kQV8FjAxbLgRqOml7B/DV8BXuXhP6c7eZLSXYf/++oE9kgTbnewu38ejyvYwryOLPriwkRSNrRKSHRJI2q4HRZlZiZmkEw3xB+0ZmNgbIBt4OW5dtZv1Cj3OBa4Bt7fdNZM2tbfzl/HU8unwv116cy6evGqmQF5Eedc4zendvNbP7gMUEh1fOc/etZnY/sMbdz4T+ncBT7h7e7XIZ8IiZtRH8UPlB+GidRHe6OcCXn1jLsl11zLhiOB8cnRfrkkSkD4poHL27LwIWtVv37XbL3+1gv+XAuC7U12s1NLbw54+uZs3eI3xiUgFlxTmxLklE+ihdGdsNjp5q5u5frmJbzXE+ddVIJhQOjnVJItKHKeijrK6hic/+YgW7607ymalFmihERGJOQR9FtQ2NfPqRFVQfOc09Vxdz8dABsS5JRERBHy2HTjRx59wV1Bw9zb0fKNYthkUkbmicXxTUn2zmzrkr2Fd/iruvHqWQF5G4oqDvoiMnm/nMz1ew9/BJ7p5WTGmuumtEJL4o6LvgeGMLd/1yJeW1J7hr6ij1yYtIXFLQX6DGlgBfemwNO/Y38NmpRYweNjDWJYmIdEhBfwFaA218bf56Vu6p5/YrCxkzXEMoRSR+KejPk7vzDy9s4bVtB5k5Pp+JI3UxlIjENwX9eXpg8U6eXlPJ9WPy+MBFubEuR0TknBT052H+qn08uLSCq4pzuOGyYbEuR0QkIgr6CL31ziH+8cUtXDJsALMmjNAk3iLSayjoI1Be28CXn1hL3oB+3HFVEclJCnkR6T0U9OdQf7KZz//PagDuvnoU6ama/k9EepeIgt7MbjaznWZWbmZ/18H2z5lZnZltCP18MWzbvWb2Tujn3mgW391aA2185Ym17D/WyF3TRpHdPy3WJYmInLdz3tTMzJKBnwEfJTh/7GozW9DBTFFPu/t97fbNAb4DlBGcUHxtaN8jUam+m/1w8U5W7qnnk1cWUpTTP9bliIhckEjO6KcA5e6+292bgaeA2RE+/03AEnevD4X7EuDmCyu1Zy3avJ+5b+5makkOk4uyY12OiMgFiyToC4DKsOWq0Lr2bjezTWb2rJmNPM99MbM5ZrbGzNbU1dVFUFb3Ka9t4JvPbKQoJ4NbxufHtBYRka6KJOg7GmLi7ZZfBordfTzwO+Cx89g3uNJ9rruXuXtZXl7sJtE+1dzKnF+tJcmMO6eMIiVJ31eLSO8WSYpVASPDlguBmvAG7n7Y3ZtCiz8Hrox033jzvYXb2FN3kk+VjSQrIzXW5YiIdFkkQb8aGG1mJWaWBtwBLAhvYGbh/RuzgO2hx4uBG80s28yygRtD6+LSq1sOMH9VJR8cnadbDotIwjjnqBt3bzWz+wgGdDIwz923mtn9wBp3XwB8zcxmAa1APfC50L71ZvY9gh8WAPe7e303/D26bP+x0/ztc5soGJzBDWOHxrocEZGoiWjOWHdfBCxqt+7bYY+/BXyrk33nAfO6UGO3a2tzvvH0Rk43B/jCNSXqlxeRhKJEA55ctY+3dx/mlnH55A7sF+tyRESiqs8HffXR03x/0XYuHjqAsmKNlxeRxNOng97d+fvnN9MacG6dWKA7UopIQurTQf/ihmqW7arjxsuHkZOp+9iISGLqs0F/7HQL33t5G0U5GUwrHRLrckREuk2fDfofv/4OR061MGtCAUnqshGRBNYng768toFHl++lrDiHEYMzYl2OiEi36nNB7+7888vbSEtO4qNjNe+riCS+Phf0S3fV8Yd3DvHhS4cyoF9E14uJiPRqfSro3Z3/WLyTnMw0ppbmxLocEZEe0aeC/tUtB9hac5wPXzpUtzkQkT6jz6RdoM35j9d2MnRgPyaOHBzrckREekyfCfqFm2qoqDvJRy4bpuGUItKn9Imgd3ceXlbB0IH9uHzEoFiXIyLSo/pE0C+vOMz2/Q1cc3GuzuZFpM/pE0H/yLIKBqanqG9eRPqkiILezG42s51mVm5mf9fB9m+Y2TYz22Rmr5vZqLBtATPbEPpZ0H7f7vbOwQbefOcQ00qHkJrcJz7XRETe45xXDJlZMvAz4KMEJ/tebWYL3H1bWLP1QJm7nzKzrwA/BD4d2nba3SdGue6I/XrVPpKTjKuKNW5eRPqmSE5xpwDl7r7b3ZuBp4DZ4Q3c/ffufiq0uAIojG6ZF6axJcDz66oZmz9IV8GKSJ8VSdAXAJVhy1WhdZ35AvBK2HK6ma0xsxVmdmtnO5nZnFC7NXV1dRGUdW6Ltx7g2OkWnc2LSJ8WyWluR8NUvMOGZncBZcB1YauL3L3GzEqBN8xss7tXvO8J3ecCcwHKyso6fP7z9cyaKnIy0yjNy4zG04mI9EqRnNFXASPDlguBmvaNzOwG4B+AWe7edGa9u9eE/twNLAUmdaHeiB0+0cTyikOML8zSkEoR6dMiCfrVwGgzKzGzNOAO4D2jZ8xsEvAIwZCvDVufbWb9Qo9zgWuA8C9xu82rWw/Q5jCuIKsnXk5EJG6ds+vG3VvN7D5gMZAMzHP3rWZ2P7DG3RcADwADgGdCE2zvc/dZwGXAI2bWRvBD5QftRut0m4Ub95M3sB/DB6X3xMuJiMStiIaiuPsiYFG7dd8Oe3xDJ/stB8Z1pcALcbyxhVV76rl2dC6mbhsR6eMS8gqitysOE3Bn9LABsS5FRCTmEjLo//BOHf1SkijK6R/rUkREYi4hg37ZrjpKcjM1uYiICAkY9FVHTlFZf5qLh6rbRkQEEjDoN1YeA2BUji6SEhGBBAz6TdVHSUkyhg3qF+tSRETiQuIFfeUxhg9KJ0W3JBYRARIs6N2dzdXHGJGdEetSRETiRkIF/cHjTZxoatXVsCIiYRIq6PfVB2+JPyQzLcaViIjEj4QM+hwFvYjInyRc0JvB4P4KehGRMxIq6KvqTzE4I5XkJN3ITETkjIQK+uONLWSkJce6DBGRuJJQQX+iqZU0jZ8XEXmPhErFk00B+qXojF5EJFxEQW9mN0qBrJUAAAXPSURBVJvZTjMrN7O/62B7PzN7OrR9pZkVh237Vmj9TjO7KXqlv9+JplbSUhLqs0tEpMvOmYpmlgz8DJgBjAXuNLOx7Zp9ATji7hcDPwL+PbTvWIJzzF4O3Aw8GHq+bnGyqZV+CnoRkfeIZCrBKUC5u+8GMLOngNm8d5Lv2cB3Q4+fBX5qwTn8ZgNPuXsTsMfMykPP93Z0yn+vU80BMtKSFfYicUCD3+JHJEFfAFSGLVcBUztrE5pM/BgwJLR+Rbt9Czp6ETObA8wBKCoqiqT297nhsqFcNyaP2yYVXtD+IhI9PxmgO8jGi0iCvqPPZY+wTST7Ble6zwXmApSVlXXY5lz+645JF7KbiEhCi6SPowoYGbZcCNR01sbMUoAsoD7CfUVEpBtFEvSrgdFmVmJmaQS/XF3Qrs0C4N7Q408Cb7i7h9bfERqVUwKMBlZFp3QREYnEObtuQn3u9wGLgWRgnrtvNbP7gTXuvgD4JfCr0Jet9QQ/DAi1+w3BL25bga+6e6Cb/i4iItKBSProcfdFwKJ2674d9rgR+LNO9v1X4F+7UKOIiHSBxiGKiCQ4Bb2ISIJT0IuIJDgFvYhIgrPgKMj4YmZ1wLsXuHsucCiK5USL6jo/quv8qK7zk4h1jXL3vI42xGXQd4WZrXH3sljX0Z7qOj+q6/yorvPT1+pS142ISIJT0IuIJLhEDPq5sS6gE6rr/Kiu86O6zk+fqivh+uhFROS9EvGMXkREwijoRUQSXK8N+q5MWB7juj5nZnVmtiH088UeqGmemdWa2ZZOtpuZ/ThU8yYzm9zdNUVY13QzOxZ2rL7dUbtuqGukmf3ezLab2VYz+6sO2vT4MYuwrh4/ZmaWbmarzGxjqK5/7qBNj78fI6yrx9+PYa+dbGbrzWxhB9uie7zcvdf9ELxdcgVQCqQBG4Gx7dr8BfBw6PEdwNNxUtfngJ/28PH6EDAZ2NLJ9o8BrxCcEWwasDJO6poOLIzB71c+MDn0eCCwq4N/xx4/ZhHW1ePHLHQMBoQepwIrgWnt2sTi/RhJXT3+fgx77W8Av+7o3yvax6u3ntH/acJyd28GzkxYHm428Fjo8bPAR0ITlse6rh7n7m8SnCegM7OBxz1oBTDYzPLjoK6YcPf97r4u9LgB2M775zru8WMWYV09LnQMToQWU0M/7Ud59Pj7McK6YsLMCoFbgF900iSqx6u3Bn1HE5a3/4V/z4TlwJkJy2NdF8Dtof/uP2tmIzvY3tMirTsWrg791/sVM7u8p1889F/mSQTPBsPF9JidpS6IwTELdUNsAGqBJe7e6fHqwfdjJHVBbN6P/wX8H6Ctk+1RPV69Nei7MmF5d4rkNV8Git19PPA7/v+ndizF4lhFYh3B+3dMAH4CvNiTL25mA4DngK+7+/H2mzvYpUeO2Tnqiskxc/eAu08kOC/0FDO7ol2TmByvCOrq8fejmc0Eat197dmadbDugo9Xbw36rkxYHtO63P2wuzeFFn8OXNnNNUUiLidxd/fjZ/7r7cFZzlLNLLcnXtvMUgmG6ZPu/nwHTWJyzM5VVyyPWeg1jwJLgZvbbYrF+/GcdcXo/XgNMMvM9hLs3v2wmT3Rrk1Uj1dvDfquTFge07ra9ePOItjPGmsLgHtCI0mmAcfcfX+sizKz4Wf6Jc1sCsHf18M98LpGcB7k7e7+n5006/FjFkldsThmZpZnZoNDjzOAG4Ad7Zr1+Psxkrpi8X5092+5e6G7FxPMiDfc/a52zaJ6vCKaMzbeeBcmLI+Dur5mZrMITpZeT/Bb/25lZvMJjsbINbMq4DsEv5jC3R8mOB/wx4By4BTw+e6uKcK6Pgl8xcxagdPAHT3wYQ3BM667gc2h/l2AvweKwmqLxTGLpK5YHLN84DEzSyb4wfIbd18Y6/djhHX1+PuxM915vHQLBBGRBNdbu25ERCRCCnoRkQSnoBcRSXAKehGRBKegFxFJcAp6EZEEp6AXEUlw/w+8G1iiBF0qWwAAAABJRU5ErkJggg==\n",
>>>>>>> d1a3331c4bb70eb63f6c667c0eee992efd40248b
      "text/plain": [
       "<Figure size 432x288 with 1 Axes>"
      ]
     },
     "metadata": {
      "filenames": {
<<<<<<< HEAD
       "image/png": "/Users/jacobkoehler/Desktop/present/newschool/calc/calcbook/_build/jupyter_execute/integration/03_Calc_Assignment_26_1.png"
=======
       "image/png": "/Users/jacobkoehler/Desktop/present/calcbook/_build/jupyter_execute/integration/03_Calc_Assignment_26_1.png"
>>>>>>> d1a3331c4bb70eb63f6c667c0eee992efd40248b
      },
      "needs_background": "light"
     },
     "output_type": "display_data"
    }
   ],
   "source": [
    "def f(x): return np.sqrt(x)\n",
    "x = np.linspace(0, 4, 1000)\n",
    "plt.plot(x, f(x))\n",
    "plt.fill_between(x, f(x), alpha = 0.4, where = x < 3)\n",
    "plt.axvline(3, color = 'black')"
   ]
  },
  {
   "cell_type": "code",
   "execution_count": 12,
   "metadata": {
    "id": "x5oqGcD3NEpC"
   },
   "outputs": [],
   "source": [
    "from scipy.integrate import quad"
   ]
  },
  {
   "cell_type": "code",
   "execution_count": 13,
   "metadata": {
    "colab": {
     "base_uri": "https://localhost:8080/"
    },
    "id": "m1L-mq22NElL",
    "outputId": "5edbf4db-4a35-4750-ddb6-d55689ff8a47"
   },
   "outputs": [
    {
     "data": {
      "text/plain": [
       "(3.4641016151377553, 3.845925372767129e-15)"
      ]
     },
     "execution_count": 13,
     "metadata": {},
     "output_type": "execute_result"
    }
   ],
   "source": [
    "quad(f, 0, 3)"
   ]
  },
  {
   "cell_type": "code",
   "execution_count": 14,
   "metadata": {
    "colab": {
     "base_uri": "https://localhost:8080/"
    },
    "id": "AZJT7QOnNEh-",
    "outputId": "727b3268-31e5-485f-9d2e-b27d0a417d98"
   },
   "outputs": [
    {
     "data": {
      "text/plain": [
       "array([0.        , 0.0632772 , 0.08948747, 0.10959932, 0.1265544 ])"
      ]
     },
     "execution_count": 14,
     "metadata": {},
     "output_type": "execute_result"
    }
   ],
   "source": [
    "abs(f(x))[:5]"
   ]
  },
  {
   "cell_type": "markdown",
   "metadata": {
    "id": "N5k1DJvfNEer"
   },
   "source": [
    "## Problem V: Net Change Theorem\n",
    "\n",
    "1. Given a velocity function  $v(t) = 5t - 1$  (in meters per second) for a particle in motion from time  $t = 0$  to time  $t = 4$,  find the net displacement of the particle.\n",
    "2. Find the total distance traveled of the particle above.\n",
    "3. If the motor on a motorboat is started at  $t = 0$  and the boat consumes gasoline at the rate of  $7 - t^3$  gal/hr, how much gasoline is used in the first  3  hours?"
   ]
  }
 ],
 "metadata": {
  "colab": {
   "collapsed_sections": [],
   "name": "03_Calc_Assignment.ipynb",
   "provenance": []
  },
  "kernelspec": {
   "display_name": "Python 3",
   "language": "python",
   "name": "python3"
  },
  "language_info": {
   "codemirror_mode": {
    "name": "ipython",
    "version": 3
   },
   "file_extension": ".py",
   "mimetype": "text/x-python",
   "name": "python",
   "nbconvert_exporter": "python",
   "pygments_lexer": "ipython3",
<<<<<<< HEAD
   "version": "3.8.3"
=======
   "version": "3.7.4"
>>>>>>> d1a3331c4bb70eb63f6c667c0eee992efd40248b
  }
 },
 "nbformat": 4,
 "nbformat_minor": 4
}