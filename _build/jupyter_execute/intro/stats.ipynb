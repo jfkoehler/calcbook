{
 "cells": [
  {
   "cell_type": "markdown",
   "metadata": {},
   "source": [
    "# Probability and Statistics\n",
    "\n",
    "**OBJECTIVES**\n",
    "\n",
    "- Use Binomial Theorem to solve probability problems\n",
    "- Use functions to model patterns in binomial triangle\n",
    "- Use summation and product symbols\n",
    "- Find mean and standard deviation of series\n",
    "- Use Normal Distribution to evaluate probability"
   ]
  },
  {
   "cell_type": "markdown",
   "metadata": {},
   "source": [
    "## Probability Review\n",
    "\n",
    "<center>\n",
    "    <img src = https://wikimedia.org/api/rest_v1/media/math/render/svg/23050fcb53d6083d9e42043bebf2863fa9746043 />\n",
    "</center>"
   ]
  },
  {
   "cell_type": "markdown",
   "metadata": {},
   "source": [
    "1. Using the triangle, determine how many ways we can get 3 Heads when we toss 5 coins.\n",
    "2. What is the sum of the row you used to answer question 1.  \n",
    "3. What does this mean in terms of our coin problem?"
   ]
  },
  {
   "cell_type": "code",
   "execution_count": 1,
   "metadata": {},
   "outputs": [],
   "source": [
    "import numpy as np\n",
    "import matplotlib.pyplot as plt\n",
    "import pandas as pd\n",
    "import scipy.stats as stats\n",
    "from scipy.special import comb"
   ]
  },
  {
   "cell_type": "markdown",
   "metadata": {},
   "source": [
    "Let's build the next row of the triangle and compute some probabilities based on the graph."
   ]
  },
  {
   "cell_type": "code",
   "execution_count": 2,
   "metadata": {},
   "outputs": [
    {
     "data": {
      "text/plain": [
       "array([0, 1, 2, 3, 4, 5, 6, 7, 8])"
      ]
     },
     "execution_count": 2,
     "metadata": {},
     "output_type": "execute_result"
    }
   ],
   "source": [
    "#possible number of heads\n",
    "outcomes = np.arange(9)\n",
    "outcomes"
   ]
  },
  {
   "cell_type": "code",
   "execution_count": 3,
   "metadata": {},
   "outputs": [
    {
     "data": {
      "text/plain": [
       "[1.0, 8.0, 28.0, 56.0, 70.0, 56.0, 28.0, 8.0, 1.0]"
      ]
     },
     "execution_count": 3,
     "metadata": {},
     "output_type": "execute_result"
    }
   ],
   "source": [
    "#combination numbers for each\n",
    "[comb(8,i) for i in outcomes]"
   ]
  },
  {
   "cell_type": "code",
   "execution_count": 4,
   "metadata": {},
   "outputs": [
    {
     "data": {
      "image/png": "[encoded data removed]",
      "text/plain": [
       "<Figure size 432x288 with 1 Axes>"
      ]
     },
     "metadata": {
      "filenames": {
       "image/png": "/Users/jacobkoehler/Desktop/present/calcbook/_build/jupyter_execute/intro/stats_7_0.png"
      },
      "needs_background": "light"
     },
     "output_type": "display_data"
    }
   ],
   "source": [
    "#plot of the counts\n",
    "plt.bar(outcomes, [comb(8,i) for i in outcomes], edgecolor = 'black', color = 'gray')\n",
    "plt.title('Counts of Each Outcome with 8 Coins');"
   ]
  },
  {
   "cell_type": "markdown",
   "metadata": {},
   "source": [
    "1. How many total outcomes for 8 coins?\n",
    "2. What is the probability of 6 heads?\n",
    "3. What is the probability of at least 6 heads?\n",
    "4. What is the probability of fewer than 4 heads?\n",
    "5. What is the average number of coins you would expect to land on heads in 8 tosses?"
   ]
  },
  {
   "cell_type": "code",
   "execution_count": null,
   "metadata": {},
   "outputs": [],
   "source": []
  },
  {
   "cell_type": "code",
   "execution_count": null,
   "metadata": {},
   "outputs": [],
   "source": []
  },
  {
   "cell_type": "code",
   "execution_count": null,
   "metadata": {},
   "outputs": [],
   "source": []
  },
  {
   "cell_type": "code",
   "execution_count": null,
   "metadata": {},
   "outputs": [],
   "source": []
  },
  {
   "cell_type": "code",
   "execution_count": null,
   "metadata": {},
   "outputs": [],
   "source": []
  },
  {
   "cell_type": "markdown",
   "metadata": {},
   "source": [
    "## Notation\n",
    "\n",
    "Summming a list of values is a common operation that we use the greek letter $\\Sigma$ to denote.  For example, suppose we have the list of values:\n",
    "\n",
    "```python\n",
    "x = [1, 2, 1]\n",
    "```\n",
    "\n",
    "to add the complete list of values we would write:\n",
    "\n",
    "$$\\sum_{i = 0}^2 x_i = 1 + 2 + 1$$"
   ]
  },
  {
   "cell_type": "markdown",
   "metadata": {},
   "source": [
    "Evaluate the following sums:\n",
    "\n",
    "1. `x = [1, 2, 3, 4]`: $\\displaystyle\\sum_{i = 0}^3 x_i$\n",
    "2. `x = [3, 4, 5, 6, 7]`; $\\displaystyle\\sum_{i = 0}^4 x_i$.\n",
    "3. `x = [1, 3, 5, 7]`; $\\displaystyle\\sum_{i = 0}^4 x_i^2$.\n",
    "4. `x = [3, 4, 5, 6, 7]`; $\\displaystyle\\frac{1}{5}\\sum_{i = 0}^4 x_i$. What does this mean?\n"
   ]
  },
  {
   "cell_type": "code",
   "execution_count": null,
   "metadata": {},
   "outputs": [],
   "source": []
  },
  {
   "cell_type": "code",
   "execution_count": null,
   "metadata": {},
   "outputs": [],
   "source": []
  },
  {
   "cell_type": "code",
   "execution_count": null,
   "metadata": {},
   "outputs": [],
   "source": []
  },
  {
   "cell_type": "code",
   "execution_count": null,
   "metadata": {},
   "outputs": [],
   "source": []
  },
  {
   "cell_type": "code",
   "execution_count": null,
   "metadata": {},
   "outputs": [],
   "source": []
  },
  {
   "cell_type": "markdown",
   "metadata": {},
   "source": [
    "## Applications in Statistics\n",
    "\n",
    "$$\\textbf{Mean} =  \\mu = \\frac{1}{n}\\sum_{i = 1} ^ n x_i$$\n",
    "\n",
    "$$\\textbf{Variance} = \\sigma^2 = \\frac{1}{n}\\sum_{i = 1}^n (x_i - \\mu)^2$$\n",
    "\n",
    "$$\\textbf{Standard Deviation} = \\sigma$$"
   ]
  },
  {
   "cell_type": "code",
   "execution_count": 5,
   "metadata": {},
   "outputs": [
    {
     "data": {
      "text/plain": [
       "array([0, 1, 2, 3, 4, 5, 6, 7, 8])"
      ]
     },
     "execution_count": 5,
     "metadata": {},
     "output_type": "execute_result"
    }
   ],
   "source": [
    "#plot of the counts\n",
    "outcomes"
   ]
  },
  {
   "cell_type": "code",
   "execution_count": 6,
   "metadata": {},
   "outputs": [
    {
     "data": {
      "text/plain": [
       "[1.0, 8.0, 28.0, 56.0, 70.0, 56.0, 28.0, 8.0, 1.0]"
      ]
     },
     "execution_count": 6,
     "metadata": {},
     "output_type": "execute_result"
    }
   ],
   "source": [
    "counts = [comb(8,i) for i in outcomes]\n",
    "counts"
   ]
  },
  {
   "cell_type": "code",
   "execution_count": 7,
   "metadata": {},
   "outputs": [],
   "source": [
    "#binomial distribution\n",
    "coins = stats.binom(8, 0.5)"
   ]
  },
  {
   "cell_type": "code",
   "execution_count": 8,
   "metadata": {},
   "outputs": [
    {
     "data": {
      "text/plain": [
       "4.0"
      ]
     },
     "execution_count": 8,
     "metadata": {},
     "output_type": "execute_result"
    }
   ],
   "source": [
    "#mean of distribution\n",
    "coins.mean()"
   ]
  },
  {
   "cell_type": "code",
   "execution_count": 9,
   "metadata": {},
   "outputs": [
    {
     "data": {
      "text/plain": [
       "1.4142135623730951"
      ]
     },
     "execution_count": 9,
     "metadata": {},
     "output_type": "execute_result"
    }
   ],
   "source": [
    "#standard deviation\n",
    "coins.std()"
   ]
  },
  {
   "cell_type": "code",
   "execution_count": 10,
   "metadata": {},
   "outputs": [
    {
     "data": {
      "text/plain": [
       "4.0"
      ]
     },
     "execution_count": 10,
     "metadata": {},
     "output_type": "execute_result"
    }
   ],
   "source": [
    "#if you must -- this is a weighted sum\n",
    "sum([i*count for i,count in zip(outcomes, counts)])/sum(counts)"
   ]
  },
  {
   "cell_type": "code",
   "execution_count": 11,
   "metadata": {},
   "outputs": [
    {
     "data": {
      "image/png": "[encoded data removed]",
      "text/plain": [
       "<Figure size 432x288 with 1 Axes>"
      ]
     },
     "metadata": {
      "filenames": {
       "image/png": "/Users/jacobkoehler/Desktop/present/calcbook/_build/jupyter_execute/intro/stats_28_0.png"
      },
      "needs_background": "light"
     },
     "output_type": "display_data"
    }
   ],
   "source": [
    "plt.bar(outcomes, [comb(8,i) for i in outcomes], edgecolor = 'black', color = 'gray')\n",
    "plt.title('Counts of Each Outcome with 8 Coins');"
   ]
  },
  {
   "cell_type": "markdown",
   "metadata": {},
   "source": [
    "## The Normal Distribution\n",
    "\n",
    "A similar distribution to our binomial distribution is the *normal distribution* also called the *gaussian distribution*.  The primary difference between the normal distribution and binomial distribution is that the normal distribution has a continuous domain.  The functional form for the *gaussian probability density function* is:\n",
    "\n",
    "$$\\displaystyle f(x)={\\frac {1}{\\sigma {\\sqrt {2\\pi }}}}e^{-{\\frac {1}{2}}\\left({\\frac {x-\\mu }{\\sigma }}\\right)^{2}}$$"
   ]
  },
  {
   "cell_type": "markdown",
   "metadata": {},
   "source": [
    "where:\n",
    "    \n",
    "- $\\sigma$: standard deviation of data\n",
    "- $\\mu$: mean of the data\n",
    "- $e$: the natural base $e$ (2.718...)"
   ]
  },
  {
   "cell_type": "markdown",
   "metadata": {},
   "source": [
    "In our example above, we found the mean and standard deviation of the binomial distribution for tossing 8 coins.  We can use what we found above to model the example with a normal distribution."
   ]
  },
  {
   "cell_type": "code",
   "execution_count": 12,
   "metadata": {},
   "outputs": [
    {
     "data": {
      "text/plain": [
       "array([0.00516129, 0.00605702, 0.00708503, 0.00826049])"
      ]
     },
     "execution_count": 12,
     "metadata": {},
     "output_type": "execute_result"
    }
   ],
   "source": [
    "#continuous version of our domain\n",
    "x = np.linspace(0, 8, 100)\n",
    "#define the distribution over domain\n",
    "y = stats.norm(loc = 4, scale = 1.414)\n",
    "y.pdf(x)[:4]"
   ]
  },
  {
   "cell_type": "code",
   "execution_count": 13,
   "metadata": {},
   "outputs": [
    {
     "data": {
      "image/png": "[encoded data removed]",
      "text/plain": [
       "<Figure size 432x288 with 1 Axes>"
      ]
     },
     "metadata": {
      "filenames": {
       "image/png": "/Users/jacobkoehler/Desktop/present/calcbook/_build/jupyter_execute/intro/stats_33_0.png"
      },
      "needs_background": "light"
     },
     "output_type": "display_data"
    }
   ],
   "source": [
    "#plot normal distribution\n",
    "plt.plot(x, y.pdf(x));\n",
    "plt.title('Normal Distribution with $\\mu = 4$ and $\\sigma = 1.414$');"
   ]
  },
  {
   "cell_type": "code",
   "execution_count": 14,
   "metadata": {},
   "outputs": [
    {
     "data": {
      "text/plain": [
       "<matplotlib.collections.LineCollection at 0x7fd491d747d0>"
      ]
     },
     "execution_count": 14,
     "metadata": {},
     "output_type": "execute_result"
    },
    {
     "data": {
      "image/png": "[encoded data removed]",
      "text/plain": [
       "<Figure size 432x288 with 1 Axes>"
      ]
     },
     "metadata": {
      "filenames": {
       "image/png": "/Users/jacobkoehler/Desktop/present/calcbook/_build/jupyter_execute/intro/stats_34_1.png"
      },
      "needs_background": "light"
     },
     "output_type": "display_data"
    }
   ],
   "source": [
    "#plot normal distribution\n",
    "plt.plot(x, y.pdf(x), color = 'red');\n",
    "plt.title('Probability of 5.');\n",
    "plt.vlines(5, 0, y.pdf(5), color = 'black')"
   ]
  },
  {
   "cell_type": "code",
   "execution_count": 15,
   "metadata": {},
   "outputs": [
    {
     "data": {
      "image/png": "[encoded data removed]",
      "text/plain": [
       "<Figure size 432x288 with 1 Axes>"
      ]
     },
     "metadata": {
      "filenames": {
       "image/png": "/Users/jacobkoehler/Desktop/present/calcbook/_build/jupyter_execute/intro/stats_35_0.png"
      },
      "needs_background": "light"
     },
     "output_type": "display_data"
    }
   ],
   "source": [
    "plt.plot(x, y.pdf(x), color = 'red');\n",
    "plt.title('Probability more than 5.');\n",
    "plt.vlines(5, 0, y.pdf(5), color = 'black')\n",
    "plt.fill_between(x, y.pdf(x), where = x > 5, color = 'gray', edgecolor = 'black', alpha = 0.4);"
   ]
  },
  {
   "cell_type": "code",
   "execution_count": 16,
   "metadata": {},
   "outputs": [
    {
     "data": {
      "text/plain": [
       "0.21971223238070992"
      ]
     },
     "execution_count": 16,
     "metadata": {},
     "output_type": "execute_result"
    }
   ],
   "source": [
    "#probability of five\n",
    "y.pdf(5)"
   ]
  },
  {
   "cell_type": "code",
   "execution_count": 17,
   "metadata": {},
   "outputs": [
    {
     "data": {
      "text/plain": [
       "0.23971688078822906"
      ]
     },
     "execution_count": 17,
     "metadata": {},
     "output_type": "execute_result"
    }
   ],
   "source": [
    "#probability more than five\n",
    "1 - y.cdf(5)"
   ]
  },
  {
   "cell_type": "markdown",
   "metadata": {},
   "source": [
    "### Summary\n",
    "\n",
    "When we visualize all possible outcomes of a probabilistic situation, determining the probability of a certain outcome comes down to determining the area of discrete bars or regions beneath a curve.  \n",
    "\n"
   ]
  },
  {
   "cell_type": "markdown",
   "metadata": {},
   "source": [
    "### Problems\n",
    "\n",
    "1. Evaluate the following sums:\n",
    "\n",
    "- $\\displaystyle \\sum_{i = 1}^1 i$\n",
    "- $\\displaystyle \\sum_{i = 1}^2 i$\n",
    "- $\\displaystyle \\sum_{i = 1}^3 i$\n",
    "- $\\displaystyle \\sum_{i = 1}^4 i$\n",
    "- $\\displaystyle \\sum_{i = 1}^5 i$\n",
    "\n",
    "2. Determine a function to model the sequence of sums above.\n",
    "3. Repeat the two exercises above for $\\sum_i^n i^3$.\n",
    "4. Determine the sum $\\sum_{i = 1}^{10} i^2$\n",
    "5. Determine the sum $\\sum_{n = 1}^7 \\frac{1}{n}$"
   ]
  },
  {
   "cell_type": "code",
   "execution_count": null,
   "metadata": {},
   "outputs": [],
   "source": []
  },
  {
   "cell_type": "code",
   "execution_count": null,
   "metadata": {},
   "outputs": [],
   "source": []
  },
  {
   "cell_type": "code",
   "execution_count": null,
   "metadata": {},
   "outputs": [],
   "source": []
  },
  {
   "cell_type": "code",
   "execution_count": null,
   "metadata": {},
   "outputs": [],
   "source": []
  },
  {
   "cell_type": "code",
   "execution_count": null,
   "metadata": {},
   "outputs": [],
   "source": []
  },
  {
   "cell_type": "code",
   "execution_count": null,
   "metadata": {},
   "outputs": [],
   "source": []
  }
 ],
 "metadata": {
  "kernelspec": {
   "display_name": "Python 3",
   "language": "python",
   "name": "python3"
  },
  "language_info": {
   "codemirror_mode": {
    "name": "ipython",
    "version": 3
   },
   "file_extension": ".py",
   "mimetype": "text/x-python",
   "name": "python",
   "nbconvert_exporter": "python",
   "pygments_lexer": "ipython3",
   "version": "3.7.4"
  }
 },
 "nbformat": 4,
 "nbformat_minor": 4
}