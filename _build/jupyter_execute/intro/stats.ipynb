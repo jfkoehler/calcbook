{
 "cells": [
  {
   "cell_type": "markdown",
   "metadata": {},
   "source": [
    "# Probability and Statistics\n",
    "\n",
    "**OBJECTIVES**\n",
    "\n",
    "- Use Binomial Theorem to solve probability problems\n",
    "- Use functions to model patterns in binomial triangle\n",
    "- Use summation and product symbols\n",
    "- Find mean and standard deviation of series\n",
    "- Use Normal Distribution to evaluate probability"
   ]
  },
  {
   "cell_type": "markdown",
   "metadata": {},
   "source": [
    "## Probability Review\n",
    "\n",
    "<center>\n",
    "    <img src = https://wikimedia.org/api/rest_v1/media/math/render/svg/23050fcb53d6083d9e42043bebf2863fa9746043 />\n",
    "</center>"
   ]
  },
  {
   "cell_type": "markdown",
   "metadata": {},
   "source": [
    "1. Using the triangle, determine how many ways we can get 3 Heads when we toss 5 coins.\n",
    "2. What is the sum of the row you used to answer question 1.  \n",
    "3. What does this mean in terms of our coin problem?"
   ]
  },
  {
   "cell_type": "code",
   "execution_count": 1,
   "metadata": {},
   "outputs": [
    {
     "name": "stderr",
     "output_type": "stream",
     "text": [
      "/opt/anaconda3/lib/python3.8/site-packages/scipy/__init__.py:146: UserWarning: A NumPy version >=1.16.5 and <1.23.0 is required for this version of SciPy (detected version 1.23.2\n",
      "  warnings.warn(f\"A NumPy version >={np_minversion} and <{np_maxversion}\"\n"
     ]
    }
   ],
   "source": [
    "import numpy as np\n",
    "import matplotlib.pyplot as plt\n",
    "import pandas as pd\n",
    "import scipy.stats as stats\n",
    "from scipy.special import comb"
   ]
  },
  {
   "cell_type": "markdown",
   "metadata": {},
   "source": [
    "Let's build the next row of the triangle and compute some probabilities based on the graph."
   ]
  },
  {
   "cell_type": "code",
   "execution_count": 2,
   "metadata": {},
   "outputs": [
    {
     "data": {
      "text/plain": [
       "array([0, 1, 2, 3, 4, 5, 6, 7, 8])"
      ]
     },
     "execution_count": 2,
     "metadata": {},
     "output_type": "execute_result"
    }
   ],
   "source": [
    "#possible number of heads\n",
    "outcomes = np.arange(9)\n",
    "outcomes"
   ]
  },
  {
   "cell_type": "code",
   "execution_count": 3,
   "metadata": {},
   "outputs": [
    {
     "data": {
      "text/plain": [
       "[1.0, 8.0, 28.0, 56.0, 70.0, 56.0, 28.0, 8.0, 1.0]"
      ]
     },
     "execution_count": 3,
     "metadata": {},
     "output_type": "execute_result"
    }
   ],
   "source": [
    "#combination numbers for each\n",
    "[comb(8,i) for i in outcomes]"
   ]
  },
  {
   "cell_type": "code",
   "execution_count": 4,
   "metadata": {},
   "outputs": [
    {
     "data": {
<<<<<<< HEAD
      "image/png": "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\n",
=======
      "image/png": "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\n",
>>>>>>> d1a3331c4bb70eb63f6c667c0eee992efd40248b
      "text/plain": [
       "<Figure size 432x288 with 1 Axes>"
      ]
     },
     "metadata": {
      "filenames": {
<<<<<<< HEAD
       "image/png": "/Users/jacobkoehler/Desktop/present/newschool/calc/calcbook/_build/jupyter_execute/intro/stats_7_0.png"
=======
       "image/png": "/Users/jacobkoehler/Desktop/present/calcbook/_build/jupyter_execute/intro/stats_7_0.png"
>>>>>>> d1a3331c4bb70eb63f6c667c0eee992efd40248b
      },
      "needs_background": "light"
     },
     "output_type": "display_data"
    }
   ],
   "source": [
    "#plot of the counts\n",
    "plt.bar(outcomes, [comb(8,i) for i in outcomes], edgecolor = 'black', color = 'gray')\n",
    "plt.title('Counts of Each Outcome with 8 Coins');"
   ]
  },
  {
   "cell_type": "markdown",
   "metadata": {},
   "source": [
    "1. How many total outcomes for 8 coins?\n",
    "2. What is the probability of 6 heads?\n",
    "3. What is the probability of at least 6 heads?\n",
    "4. What is the probability of fewer than 4 heads?\n",
    "5. What is the average number of coins you would expect to land on heads in 8 tosses?"
   ]
  },
  {
   "cell_type": "code",
   "execution_count": null,
   "metadata": {},
   "outputs": [],
   "source": []
  },
  {
   "cell_type": "code",
   "execution_count": null,
   "metadata": {},
   "outputs": [],
   "source": []
  },
  {
   "cell_type": "code",
   "execution_count": null,
   "metadata": {},
   "outputs": [],
   "source": []
  },
  {
   "cell_type": "code",
   "execution_count": null,
   "metadata": {},
   "outputs": [],
   "source": []
  },
  {
   "cell_type": "code",
   "execution_count": null,
   "metadata": {},
   "outputs": [],
   "source": []
  },
  {
   "cell_type": "markdown",
   "metadata": {},
   "source": [
    "## Notation\n",
    "\n",
    "Summming a list of values is a common operation that we use the greek letter $\\Sigma$ to denote.  For example, suppose we have the list of values:\n",
    "\n",
    "```python\n",
    "x = [1, 2, 1]\n",
    "```\n",
    "\n",
    "to add the complete list of values we would write:\n",
    "\n",
    "$$\\sum_{i = 0}^2 x_i = 1 + 2 + 1$$"
   ]
  },
  {
   "cell_type": "markdown",
   "metadata": {},
   "source": [
    "Evaluate the following sums:\n",
    "\n",
    "1. `x = [1, 2, 3, 4]`: $\\displaystyle\\sum_{i = 0}^3 x_i$\n",
    "2. `x = [3, 4, 5, 6, 7]`; $\\displaystyle\\sum_{i = 0}^4 x_i$.\n",
    "3. `x = [1, 3, 5, 7]`; $\\displaystyle\\sum_{i = 0}^4 x_i^2$.\n",
    "4. `x = [3, 4, 5, 6, 7]`; $\\displaystyle\\frac{1}{5}\\sum_{i = 0}^4 x_i$. What does this mean?\n"
   ]
  },
  {
   "cell_type": "code",
   "execution_count": null,
   "metadata": {},
   "outputs": [],
   "source": []
  },
  {
   "cell_type": "code",
   "execution_count": null,
   "metadata": {},
   "outputs": [],
   "source": []
  },
  {
   "cell_type": "code",
   "execution_count": null,
   "metadata": {},
   "outputs": [],
   "source": []
  },
  {
   "cell_type": "code",
   "execution_count": null,
   "metadata": {},
   "outputs": [],
   "source": []
  },
  {
   "cell_type": "code",
   "execution_count": null,
   "metadata": {},
   "outputs": [],
   "source": []
  },
  {
   "cell_type": "markdown",
   "metadata": {},
   "source": [
    "## Applications in Statistics\n",
    "\n",
    "$$\\textbf{Mean} =  \\mu = \\frac{1}{n}\\sum_{i = 1} ^ n x_i$$\n",
    "\n",
    "$$\\textbf{Variance} = \\sigma^2 = \\frac{1}{n}\\sum_{i = 1}^n (x_i - \\mu)^2$$\n",
    "\n",
    "$$\\textbf{Standard Deviation} = \\sigma$$"
   ]
  },
  {
   "cell_type": "code",
   "execution_count": 5,
   "metadata": {},
   "outputs": [
    {
     "data": {
      "text/plain": [
       "array([0, 1, 2, 3, 4, 5, 6, 7, 8])"
      ]
     },
     "execution_count": 5,
     "metadata": {},
     "output_type": "execute_result"
    }
   ],
   "source": [
    "#plot of the counts\n",
    "outcomes"
   ]
  },
  {
   "cell_type": "code",
   "execution_count": 6,
   "metadata": {},
   "outputs": [
    {
     "data": {
      "text/plain": [
       "[1.0, 8.0, 28.0, 56.0, 70.0, 56.0, 28.0, 8.0, 1.0]"
      ]
     },
     "execution_count": 6,
     "metadata": {},
     "output_type": "execute_result"
    }
   ],
   "source": [
    "counts = [comb(8,i) for i in outcomes]\n",
    "counts"
   ]
  },
  {
   "cell_type": "code",
   "execution_count": 7,
   "metadata": {},
   "outputs": [],
   "source": [
    "#binomial distribution\n",
    "coins = stats.binom(8, 0.5)"
   ]
  },
  {
   "cell_type": "code",
   "execution_count": 8,
   "metadata": {},
   "outputs": [
    {
     "data": {
      "text/plain": [
       "4.0"
      ]
     },
     "execution_count": 8,
     "metadata": {},
     "output_type": "execute_result"
    }
   ],
   "source": [
    "#mean of distribution\n",
    "coins.mean()"
   ]
  },
  {
   "cell_type": "code",
   "execution_count": 9,
   "metadata": {},
   "outputs": [
    {
     "data": {
      "text/plain": [
       "1.4142135623730951"
      ]
     },
     "execution_count": 9,
     "metadata": {},
     "output_type": "execute_result"
    }
   ],
   "source": [
    "#standard deviation\n",
    "coins.std()"
   ]
  },
  {
   "cell_type": "code",
   "execution_count": 10,
   "metadata": {},
   "outputs": [
    {
     "data": {
      "text/plain": [
       "4.0"
      ]
     },
     "execution_count": 10,
     "metadata": {},
     "output_type": "execute_result"
    }
   ],
   "source": [
    "#if you must -- this is a weighted sum\n",
    "sum([i*count for i,count in zip(outcomes, counts)])/sum(counts)"
   ]
  },
  {
   "cell_type": "code",
   "execution_count": 11,
   "metadata": {},
   "outputs": [
    {
     "data": {
<<<<<<< HEAD
      "image/png": "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\n",
=======
      "image/png": "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\n",
>>>>>>> d1a3331c4bb70eb63f6c667c0eee992efd40248b
      "text/plain": [
       "<Figure size 432x288 with 1 Axes>"
      ]
     },
     "metadata": {
      "filenames": {
<<<<<<< HEAD
       "image/png": "/Users/jacobkoehler/Desktop/present/newschool/calc/calcbook/_build/jupyter_execute/intro/stats_28_0.png"
=======
       "image/png": "/Users/jacobkoehler/Desktop/present/calcbook/_build/jupyter_execute/intro/stats_28_0.png"
>>>>>>> d1a3331c4bb70eb63f6c667c0eee992efd40248b
      },
      "needs_background": "light"
     },
     "output_type": "display_data"
    }
   ],
   "source": [
    "plt.bar(outcomes, [comb(8,i) for i in outcomes], edgecolor = 'black', color = 'gray')\n",
    "plt.title('Counts of Each Outcome with 8 Coins');"
   ]
  },
  {
   "cell_type": "markdown",
   "metadata": {},
   "source": [
    "## The Normal Distribution\n",
    "\n",
    "A similar distribution to our binomial distribution is the *normal distribution* also called the *gaussian distribution*.  The primary difference between the normal distribution and binomial distribution is that the normal distribution has a continuous domain.  The functional form for the *gaussian probability density function* is:\n",
    "\n",
    "$$\\displaystyle f(x)={\\frac {1}{\\sigma {\\sqrt {2\\pi }}}}e^{-{\\frac {1}{2}}\\left({\\frac {x-\\mu }{\\sigma }}\\right)^{2}}$$"
   ]
  },
  {
   "cell_type": "markdown",
   "metadata": {},
   "source": [
    "where:\n",
    "    \n",
    "- $\\sigma$: standard deviation of data\n",
    "- $\\mu$: mean of the data\n",
    "- $e$: the natural base $e$ (2.718...)"
   ]
  },
  {
   "cell_type": "markdown",
   "metadata": {},
   "source": [
    "In our example above, we found the mean and standard deviation of the binomial distribution for tossing 8 coins.  We can use what we found above to model the example with a normal distribution."
   ]
  },
  {
   "cell_type": "code",
   "execution_count": 12,
   "metadata": {},
   "outputs": [
    {
     "data": {
      "text/plain": [
       "array([0.00516129, 0.00605702, 0.00708503, 0.00826049])"
      ]
     },
     "execution_count": 12,
     "metadata": {},
     "output_type": "execute_result"
    }
   ],
   "source": [
    "#continuous version of our domain\n",
    "x = np.linspace(0, 8, 100)\n",
    "#define the distribution over domain\n",
    "y = stats.norm(loc = 4, scale = 1.414)\n",
    "y.pdf(x)[:4]"
   ]
  },
  {
   "cell_type": "code",
   "execution_count": 13,
   "metadata": {},
   "outputs": [
    {
     "data": {
<<<<<<< HEAD
      "image/png": "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\n",
=======
      "image/png": "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\n",
>>>>>>> d1a3331c4bb70eb63f6c667c0eee992efd40248b
      "text/plain": [
       "<Figure size 432x288 with 1 Axes>"
      ]
     },
     "metadata": {
      "filenames": {
<<<<<<< HEAD
       "image/png": "/Users/jacobkoehler/Desktop/present/newschool/calc/calcbook/_build/jupyter_execute/intro/stats_33_0.png"
=======
       "image/png": "/Users/jacobkoehler/Desktop/present/calcbook/_build/jupyter_execute/intro/stats_33_0.png"
>>>>>>> d1a3331c4bb70eb63f6c667c0eee992efd40248b
      },
      "needs_background": "light"
     },
     "output_type": "display_data"
    }
   ],
   "source": [
    "#plot normal distribution\n",
    "plt.plot(x, y.pdf(x));\n",
    "plt.title('Normal Distribution with $\\mu = 4$ and $\\sigma = 1.414$');"
   ]
  },
  {
   "cell_type": "code",
   "execution_count": 14,
   "metadata": {},
   "outputs": [
    {
     "data": {
      "text/plain": [
<<<<<<< HEAD
       "<matplotlib.collections.LineCollection at 0x7fd9fb90b610>"
=======
       "<matplotlib.collections.LineCollection at 0x7fd491d747d0>"
>>>>>>> d1a3331c4bb70eb63f6c667c0eee992efd40248b
      ]
     },
     "execution_count": 14,
     "metadata": {},
     "output_type": "execute_result"
    },
    {
     "data": {
<<<<<<< HEAD
      "image/png": "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\n",
=======
      "image/png": "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\n",
>>>>>>> d1a3331c4bb70eb63f6c667c0eee992efd40248b
      "text/plain": [
       "<Figure size 432x288 with 1 Axes>"
      ]
     },
     "metadata": {
      "filenames": {
<<<<<<< HEAD
       "image/png": "/Users/jacobkoehler/Desktop/present/newschool/calc/calcbook/_build/jupyter_execute/intro/stats_34_1.png"
=======
       "image/png": "/Users/jacobkoehler/Desktop/present/calcbook/_build/jupyter_execute/intro/stats_34_1.png"
>>>>>>> d1a3331c4bb70eb63f6c667c0eee992efd40248b
      },
      "needs_background": "light"
     },
     "output_type": "display_data"
    }
   ],
   "source": [
    "#plot normal distribution\n",
    "plt.plot(x, y.pdf(x), color = 'red');\n",
    "plt.title('Probability of 5.');\n",
    "plt.vlines(5, 0, y.pdf(5), color = 'black')"
   ]
  },
  {
   "cell_type": "code",
   "execution_count": 15,
   "metadata": {},
   "outputs": [
    {
     "data": {
<<<<<<< HEAD
      "image/png": "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\n",
=======
      "image/png": "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\n",
>>>>>>> d1a3331c4bb70eb63f6c667c0eee992efd40248b
      "text/plain": [
       "<Figure size 432x288 with 1 Axes>"
      ]
     },
     "metadata": {
      "filenames": {
<<<<<<< HEAD
       "image/png": "/Users/jacobkoehler/Desktop/present/newschool/calc/calcbook/_build/jupyter_execute/intro/stats_35_0.png"
=======
       "image/png": "/Users/jacobkoehler/Desktop/present/calcbook/_build/jupyter_execute/intro/stats_35_0.png"
>>>>>>> d1a3331c4bb70eb63f6c667c0eee992efd40248b
      },
      "needs_background": "light"
     },
     "output_type": "display_data"
    }
   ],
   "source": [
    "plt.plot(x, y.pdf(x), color = 'red');\n",
    "plt.title('Probability more than 5.');\n",
    "plt.vlines(5, 0, y.pdf(5), color = 'black')\n",
    "plt.fill_between(x, y.pdf(x), where = x > 5, color = 'gray', edgecolor = 'black', alpha = 0.4);"
   ]
  },
  {
   "cell_type": "code",
   "execution_count": 16,
   "metadata": {},
   "outputs": [
    {
     "data": {
      "text/plain": [
       "0.21971223238070992"
      ]
     },
     "execution_count": 16,
     "metadata": {},
     "output_type": "execute_result"
    }
   ],
   "source": [
    "#probability of five\n",
    "y.pdf(5)"
   ]
  },
  {
   "cell_type": "code",
   "execution_count": 17,
   "metadata": {},
   "outputs": [
    {
     "data": {
      "text/plain": [
       "0.23971688078822906"
      ]
     },
     "execution_count": 17,
     "metadata": {},
     "output_type": "execute_result"
    }
   ],
   "source": [
    "#probability more than five\n",
    "1 - y.cdf(5)"
   ]
  },
  {
   "cell_type": "markdown",
   "metadata": {},
   "source": [
    "### Summary\n",
    "\n",
    "When we visualize all possible outcomes of a probabilistic situation, determining the probability of a certain outcome comes down to determining the area of discrete bars or regions beneath a curve.  \n",
    "\n"
   ]
  },
  {
   "cell_type": "markdown",
   "metadata": {},
   "source": [
    "### Problems\n",
    "\n",
    "1. Evaluate the following sums:\n",
    "\n",
    "- $\\displaystyle \\sum_{i = 1}^1 i$\n",
    "- $\\displaystyle \\sum_{i = 1}^2 i$\n",
    "- $\\displaystyle \\sum_{i = 1}^3 i$\n",
    "- $\\displaystyle \\sum_{i = 1}^4 i$\n",
    "- $\\displaystyle \\sum_{i = 1}^5 i$\n",
    "\n",
    "2. Determine a function to model the sequence of sums above.\n",
    "3. Repeat the two exercises above for $\\sum_i^n i^3$.\n",
    "4. Determine the sum $\\sum_{i = 1}^{10} i^2$\n",
    "5. Determine the sum $\\sum_{n = 1}^7 \\frac{1}{n}$"
   ]
  },
  {
   "cell_type": "code",
   "execution_count": null,
   "metadata": {},
   "outputs": [],
   "source": []
  },
  {
   "cell_type": "code",
   "execution_count": null,
   "metadata": {},
   "outputs": [],
   "source": []
  },
  {
   "cell_type": "code",
   "execution_count": null,
   "metadata": {},
   "outputs": [],
   "source": []
  },
  {
   "cell_type": "code",
   "execution_count": null,
   "metadata": {},
   "outputs": [],
   "source": []
  },
  {
   "cell_type": "code",
   "execution_count": null,
   "metadata": {},
   "outputs": [],
   "source": []
  },
  {
   "cell_type": "code",
   "execution_count": null,
   "metadata": {},
   "outputs": [],
   "source": []
  }
 ],
 "metadata": {
  "kernelspec": {
   "display_name": "Python 3",
   "language": "python",
   "name": "python3"
  },
  "language_info": {
   "codemirror_mode": {
    "name": "ipython",
    "version": 3
   },
   "file_extension": ".py",
   "mimetype": "text/x-python",
   "name": "python",
   "nbconvert_exporter": "python",
   "pygments_lexer": "ipython3",
<<<<<<< HEAD
   "version": "3.8.3"
=======
   "version": "3.7.4"
>>>>>>> d1a3331c4bb70eb63f6c667c0eee992efd40248b
  }
 },
 "nbformat": 4,
 "nbformat_minor": 4
}