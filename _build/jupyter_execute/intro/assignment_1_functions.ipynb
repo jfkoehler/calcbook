{
 "cells": [
  {
   "cell_type": "markdown",
   "metadata": {
    "id": "16xDxHXTcqO_"
   },
   "source": [
    "# Problem Set I: Functions\n",
    "\n",
    "**OBJECTIVES**\n",
    "\n",
    "- Represent functions with symbols, graphs, tables, and words\n",
    "- Interpret key characteristics of *polynomial*, *logarithmic*, and *trigonometric* functions\n"
   ]
  },
  {
   "cell_type": "markdown",
   "metadata": {
    "id": "s_jifb7EcqPD"
   },
   "source": [
    "## Basic Definitions and Plotting"
   ]
  },
  {
   "cell_type": "markdown",
   "metadata": {
    "id": "B18DEZ1scqPD"
   },
   "source": [
    "### Problem 1\n",
    "\n",
    "- Define a function $f(x) = x^2$\n",
    "- Create a plot of this function on the domain $x \\in [-3, 3]$.\n",
    "- Where does $f(x) = 0$?"
   ]
  },
  {
   "cell_type": "code",
   "execution_count": null,
   "metadata": {
    "id": "fRs6Y6I4cqPE"
   },
   "outputs": [],
   "source": []
  },
  {
   "cell_type": "code",
   "execution_count": null,
   "metadata": {
    "id": "oM9NOHrqcqPE"
   },
   "outputs": [],
   "source": []
  },
  {
   "cell_type": "code",
   "execution_count": null,
   "metadata": {
    "id": "qozKsUWMcqPE"
   },
   "outputs": [],
   "source": []
  },
  {
   "cell_type": "markdown",
   "metadata": {
    "id": "jah92vK0cqPE"
   },
   "source": [
    "### Problem 2\n",
    "\n",
    "- Define a function $f(x) = x^2 + 2x - 3$\n",
    "- Plot this function on the domain $x \\in [-2, 5]$\n",
    "- Where does $f(x) = 0$?  How can you be sure?"
   ]
  },
  {
   "cell_type": "code",
   "execution_count": null,
   "metadata": {
    "id": "tUBfZ0JscqPE"
   },
   "outputs": [],
   "source": []
  },
  {
   "cell_type": "code",
   "execution_count": null,
   "metadata": {
    "id": "cj6SpR-6cqPF"
   },
   "outputs": [],
   "source": []
  },
  {
   "cell_type": "code",
   "execution_count": null,
   "metadata": {
    "id": "m99wopulcqPF"
   },
   "outputs": [],
   "source": []
  },
  {
   "cell_type": "markdown",
   "metadata": {
    "id": "NNDpNBqLcqPF"
   },
   "source": [
    "### Problem 3\n",
    "\n",
    "- Define a function $h(x) = \\frac{1}{x + 4}$\n",
    "- Plot this function on the domain $x \\in [-5, -3]$.  Is the function defined everywhere?  Explain."
   ]
  },
  {
   "cell_type": "code",
   "execution_count": null,
   "metadata": {
    "id": "nmHYZx56cqPF"
   },
   "outputs": [],
   "source": []
  },
  {
   "cell_type": "code",
   "execution_count": null,
   "metadata": {
    "id": "UQy2JNKtcqPF"
   },
   "outputs": [],
   "source": []
  },
  {
   "cell_type": "code",
   "execution_count": null,
   "metadata": {
    "id": "T8vk2HlxcqPF"
   },
   "outputs": [],
   "source": []
  },
  {
   "cell_type": "markdown",
   "metadata": {
    "id": "vqI7tZQpcqPF"
   },
   "source": [
    "### Problem 4\n",
    "\n",
    "A company is interested in predicting the amount of revenue it will receive depending on the price it charges for a particular item. Using the data from Table 1.6, the company arrives at the following quadratic function to model revenue $R$ (in thousands of dollars) as a function of price per item $p$:\n",
    "\n",
    "$$R(p)=p·(−1.04p+26)=−1.04p^2+26p$$\n",
    "\n",
    "for $0\\leq x \\leq 25$.\n",
    "\n",
    "- Predict the revenue if the company sells the item at a price of $p = \\$5$ and $p = \\$17$.\n",
    "- Find the zeros of this function and interpret the meaning of the zeros.\n",
    "- Sketch a graph of $R$.\n",
    "- Use the graph to determine the value of $p$ that maximizes revenue. Find the maximum revenue."
   ]
  },
  {
   "cell_type": "code",
   "execution_count": null,
   "metadata": {
    "id": "h52aqLzEcqPG"
   },
   "outputs": [],
   "source": []
  },
  {
   "cell_type": "code",
   "execution_count": null,
   "metadata": {
    "id": "b6LJl8rYcqPG"
   },
   "outputs": [],
   "source": []
  },
  {
   "cell_type": "code",
   "execution_count": null,
   "metadata": {
    "id": "Rig8qDjFcqPG"
   },
   "outputs": [],
   "source": []
  },
  {
   "cell_type": "markdown",
   "metadata": {
    "id": "v_HgLQx3cqPG"
   },
   "source": [
    "### Problem 5\n",
    "\n",
    "Starting with the function $f(x) = x^2$ on the domain $x \\in [-5, 5]$, describe the effect of the following transformations:\n",
    "\n",
    "- $f(x) = -x^2$\n",
    "- $f(x) = x^2 + 3$\n",
    "- $f(x) = (x - 1)^2$\n",
    "\n",
    "Your answer should be a single plot with 4 appropriate labels."
   ]
  },
  {
   "cell_type": "code",
   "execution_count": null,
   "metadata": {
    "id": "MHeYDzHdcqPG"
   },
   "outputs": [],
   "source": []
  },
  {
   "cell_type": "code",
   "execution_count": null,
   "metadata": {
    "id": "64XfUqgQcqPG"
   },
   "outputs": [],
   "source": []
  },
  {
   "cell_type": "code",
   "execution_count": null,
   "metadata": {
    "id": "wpabEGzPcqPG"
   },
   "outputs": [],
   "source": []
  },
  {
   "cell_type": "markdown",
   "metadata": {
    "id": "8xko9F7ncqPH"
   },
   "source": [
    "### Problem 6\n",
    "\n",
    "In the context of artificial neural networks, the rectifier is an activation function defined as the positive part of its argument:\n",
    "\n",
    "$\\displaystyle f(x)=x^{+}=\\max(0,x)$\n",
    "\n",
    "where x is the input to a neuron. This is also known as a ramp function and is analogous to half-wave rectification in electrical engineering.  We can rewrite this as a piecewise function:\n",
    "\n",
    "$$\\displaystyle f(x)={\\begin{cases}x&{\\text{if }}x>0,\\\\0&{\\text{otherwise}}.\\end{cases}}$$\n",
    "\n",
    "Define and plot the function on the domain $x \\in [-5, 5]$ below."
   ]
  },
  {
   "cell_type": "code",
   "execution_count": null,
   "metadata": {
    "id": "C6TD-qQccqPH"
   },
   "outputs": [],
   "source": []
  },
  {
   "cell_type": "code",
   "execution_count": null,
   "metadata": {
    "id": "WU5GPBwHcqPH"
   },
   "outputs": [],
   "source": []
  },
  {
   "cell_type": "code",
   "execution_count": null,
   "metadata": {
    "id": "z1BtiKdacqPH"
   },
   "outputs": [],
   "source": []
  },
  {
   "cell_type": "markdown",
   "metadata": {
    "id": "IdRNmUc4cqPH"
   },
   "source": [
    "### Problem 7\n",
    "\n",
    "The cost of mailing a letter is a function of the weight of the letter. Suppose the cost of mailing a letter is 49¢ for the first ounce and 21¢ for each additional ounce. Write a piecewise-defined function describing the cost $C$ as a function of the weight $x$ for $0 \\leq x \\leq 3$, where $C$ is measured in cents and $x$ is measured in ounces."
   ]
  },
  {
   "cell_type": "code",
   "execution_count": null,
   "metadata": {
    "id": "4oP9CMYocqPH"
   },
   "outputs": [],
   "source": []
  },
  {
   "cell_type": "code",
   "execution_count": null,
   "metadata": {
    "id": "zqduWwgTcqPH"
   },
   "outputs": [],
   "source": []
  },
  {
   "cell_type": "code",
   "execution_count": null,
   "metadata": {
    "id": "TDqgqsdkcqPH"
   },
   "outputs": [],
   "source": []
  },
  {
   "cell_type": "markdown",
   "metadata": {
    "id": "lhd8VCZWcqPH"
   },
   "source": [
    "### Problem 8\n",
    "\n",
    "Given the pair of points $A = (-3, 3)$ and $B = (2, 1)$, find:\n",
    "\n",
    "- The slope of the line through the points\n",
    "- An equation of a line through the points\n",
    "- Plot the points and line on the same graph."
   ]
  },
  {
   "cell_type": "code",
   "execution_count": null,
   "metadata": {
    "id": "Lr9O9ZILcqPI"
   },
   "outputs": [],
   "source": []
  },
  {
   "cell_type": "code",
   "execution_count": null,
   "metadata": {
    "id": "NIAaSX9McqPI"
   },
   "outputs": [],
   "source": []
  },
  {
   "cell_type": "code",
   "execution_count": null,
   "metadata": {
    "id": "MXhLXqFgcqPI"
   },
   "outputs": [],
   "source": []
  },
  {
   "cell_type": "code",
   "execution_count": null,
   "metadata": {
    "id": "43xQqaGrcqPI"
   },
   "outputs": [],
   "source": []
  },
  {
   "cell_type": "markdown",
   "metadata": {
    "id": "47eezn1_cqPI"
   },
   "source": [
    "### Problem 9\n",
    "\n",
    "Total online shopping during the Christmas holidays has increased dramatically during the past 5 years. In 2012 $(t = 0)$, total online holiday sales were $\\$42.3$ billion, whereas in 2013 they were $\\$48.1$ billion.\n",
    "- Find a linear function $S$ that estimates the total online holiday sales in the year t.\n",
    "- Interpret the slope of the graph of S.\n",
    "- Use your equation to predict the year when online shopping during Christmas will reach $\\$60$ billion.\n",
    "- Plot your function and its prediction."
   ]
  },
  {
   "cell_type": "code",
   "execution_count": null,
   "metadata": {
    "id": "vpUv5l8lcqPI"
   },
   "outputs": [],
   "source": []
  },
  {
   "cell_type": "code",
   "execution_count": null,
   "metadata": {
    "id": "nClpcJJdcqPI"
   },
   "outputs": [],
   "source": []
  },
  {
   "cell_type": "code",
   "execution_count": null,
   "metadata": {
    "id": "H2doKvywcqPI"
   },
   "outputs": [],
   "source": []
  },
  {
   "cell_type": "markdown",
   "metadata": {
    "id": "TUxByF92cqPJ"
   },
   "source": [
    "### Problem 10\n",
    "\n",
    "A house purchased for $250,000 is expected to be worth twice its purchase price in 18 years.\n",
    "- Find a linear function that models the price P of the house versus the number of years t since the original purchase.\n",
    "- Interpret the slope of the graph of P.\n",
    "- Find the price of the house 15 years from when it was originally purchased."
   ]
  },
  {
   "cell_type": "code",
   "execution_count": null,
   "metadata": {
    "id": "8HnHtZSYcqPJ"
   },
   "outputs": [],
   "source": []
  },
  {
   "cell_type": "code",
   "execution_count": null,
   "metadata": {
    "id": "AOKPXJP6cqPJ"
   },
   "outputs": [],
   "source": []
  },
  {
   "cell_type": "code",
   "execution_count": null,
   "metadata": {
    "id": "X-IZ21g7cqPJ"
   },
   "outputs": [],
   "source": []
  },
  {
   "cell_type": "markdown",
   "metadata": {
    "id": "VALAabhQcqPJ"
   },
   "source": [
    "### Problem 11\n",
    "\n",
    "Define and plot the following functions on the domain $x \\in [-6, 6]$:\n",
    "\n",
    "- $f(x) = \\sin{x}$\n",
    "- $g(x) = \\ln(x)$\n",
    "- $h(x) = e ^x$\n",
    "- $j(x) = \\sin(x^2)$"
   ]
  },
  {
   "cell_type": "code",
   "execution_count": null,
   "metadata": {
    "id": "oZXoKSXvcqPJ"
   },
   "outputs": [],
   "source": []
  },
  {
   "cell_type": "code",
   "execution_count": null,
   "metadata": {
    "id": "zAGeEewQcqPJ"
   },
   "outputs": [],
   "source": []
  },
  {
   "cell_type": "code",
   "execution_count": null,
   "metadata": {
    "id": "7zmpJbktcqPJ"
   },
   "outputs": [],
   "source": []
  },
  {
   "cell_type": "markdown",
   "metadata": {
    "id": "9F-r5D1JcqPJ"
   },
   "source": [
    "### Problem 12\n",
    "\n",
    "The number of hours of daylight in a northeast city is modeled by the function\n",
    "\n",
    "$$N(t) = 12 + 3\\sin[\\frac{2\\pi}{365}(t-79)]$$,\n",
    "\n",
    "where t is the number of days after January 1.\n",
    "\n",
    "- Find the amplitude and period.\n",
    "- Determine the number of hours of daylight on the longest day of the year.\n",
    "- Determine the number of hours of daylight on the shortest day of the year.\n",
    "- Determine the number of hours of daylight 90 days after January 1.\n",
    "- Sketch the graph of the function for one period starting on January 1."
   ]
  },
  {
   "cell_type": "code",
   "execution_count": null,
   "metadata": {
    "id": "WpFDVsfKcqPJ"
   },
   "outputs": [],
   "source": []
  },
  {
   "cell_type": "code",
   "execution_count": null,
   "metadata": {
    "id": "HjAig7eycqPK"
   },
   "outputs": [],
   "source": []
  },
  {
   "cell_type": "code",
   "execution_count": null,
   "metadata": {
    "id": "2sgUIcAKcqPK"
   },
   "outputs": [],
   "source": []
  },
  {
   "cell_type": "code",
   "execution_count": null,
   "metadata": {
    "id": "gR5UQaIzcqPK"
   },
   "outputs": [],
   "source": []
  },
  {
   "cell_type": "markdown",
   "metadata": {
    "id": "GFgljO0QcqPK"
   },
   "source": [
    "## Functions and Data"
   ]
  },
  {
   "cell_type": "markdown",
   "metadata": {
    "id": "GKs19qUvcqPK"
   },
   "source": [
    "### Problem 13\n",
    "\n",
    "For each of the problems below, you are given a table and graph of a real world dataset.  You are asked to choose what kind of function you believe would be a good model of the data; *linear, quadratic, exponential*, or *trigonometric*.\n",
    "\n",
    "The dataset below is on measurements of three different species of *iris* flowers. We have plotted the petal length on the horizontal axis and petal width on the vertical axis.  What kind of function would be a more appropriate model for this data where we input a measure of a petal length, and output a width? "
   ]
  },
  {
   "cell_type": "code",
   "execution_count": 1,
   "metadata": {
    "id": "m-t-YRetcqPK",
    "outputId": "c12aee3e-14d0-4fa4-acab-cd9db954306e"
   },
   "outputs": [
    {
     "name": "stderr",
     "output_type": "stream",
     "text": [
      "/opt/anaconda3/lib/python3.8/site-packages/scipy/__init__.py:146: UserWarning: A NumPy version >=1.16.5 and <1.23.0 is required for this version of SciPy (detected version 1.23.2\n",
      "  warnings.warn(f\"A NumPy version >={np_minversion} and <{np_maxversion}\"\n"
     ]
    },
    {
     "ename": "NameError",
     "evalue": "name 'pd' is not defined",
     "output_type": "error",
     "traceback": [
      "\u001b[0;31m---------------------------------------------------------------------------\u001b[0m",
      "\u001b[0;31mNameError\u001b[0m                                 Traceback (most recent call last)",
      "\u001b[0;32m<ipython-input-1-c9c8ed0a7770>\u001b[0m in \u001b[0;36m<module>\u001b[0;34m\u001b[0m\n\u001b[1;32m      1\u001b[0m \u001b[0;32mfrom\u001b[0m \u001b[0msklearn\u001b[0m\u001b[0;34m.\u001b[0m\u001b[0mdatasets\u001b[0m \u001b[0;32mimport\u001b[0m \u001b[0mload_boston\u001b[0m\u001b[0;34m,\u001b[0m \u001b[0mload_diabetes\u001b[0m\u001b[0;34m,\u001b[0m \u001b[0mload_iris\u001b[0m\u001b[0;34m\u001b[0m\u001b[0;34m\u001b[0m\u001b[0m\n\u001b[1;32m      2\u001b[0m \u001b[0miris\u001b[0m \u001b[0;34m=\u001b[0m \u001b[0mload_iris\u001b[0m\u001b[0;34m(\u001b[0m\u001b[0;34m)\u001b[0m\u001b[0;34m\u001b[0m\u001b[0;34m\u001b[0m\u001b[0m\n\u001b[0;32m----> 3\u001b[0;31m \u001b[0miris\u001b[0m \u001b[0;34m=\u001b[0m \u001b[0mpd\u001b[0m\u001b[0;34m.\u001b[0m\u001b[0mDataFrame\u001b[0m\u001b[0;34m(\u001b[0m\u001b[0miris\u001b[0m\u001b[0;34m.\u001b[0m\u001b[0mdata\u001b[0m\u001b[0;34m,\u001b[0m \u001b[0mcolumns\u001b[0m \u001b[0;34m=\u001b[0m \u001b[0miris\u001b[0m\u001b[0;34m.\u001b[0m\u001b[0mfeature_names\u001b[0m\u001b[0;34m)\u001b[0m\u001b[0;34m\u001b[0m\u001b[0;34m\u001b[0m\u001b[0m\n\u001b[0m\u001b[1;32m      4\u001b[0m \u001b[0miris\u001b[0m\u001b[0;34m.\u001b[0m\u001b[0mhead\u001b[0m\u001b[0;34m(\u001b[0m\u001b[0;34m)\u001b[0m\u001b[0;34m\u001b[0m\u001b[0;34m\u001b[0m\u001b[0m\n",
      "\u001b[0;31mNameError\u001b[0m: name 'pd' is not defined"
     ]
    }
   ],
   "source": [
    "from sklearn.datasets import load_boston, load_diabetes, load_iris\n",
    "iris = load_iris()\n",
    "iris = pd.DataFrame(iris.data, columns = iris.feature_names)\n",
    "iris.head()"
   ]
  },
  {
   "cell_type": "code",
   "execution_count": null,
   "metadata": {
    "id": "LnAJatyxcqPL",
    "outputId": "a0c36f6f-04fc-45f1-9df1-bbd5e6ee2c3a"
   },
   "outputs": [
    {
     "data": {
      "text/plain": [
       "<AxesSubplot:title={'center':'Petal Length vs. Petal Width'}, xlabel='petal length (cm)', ylabel='petal width (cm)'>"
      ]
     },
     "execution_count": 13,
     "metadata": {
      "tags": []
     },
     "output_type": "execute_result"
    },
    {
     "data": {
      "image/png": "[encoded data removed]",
      "text/plain": [
       "<Figure size 432x288 with 1 Axes>"
      ]
     },
     "metadata": {
      "filenames": {
       "image/png": "/Users/jacobkoehler/Desktop/present/newschool/calc/calcbook/_build/jupyter_execute/intro/assignment_1_functions_55_1.png"
      },
      "needs_background": "light",
      "tags": []
     },
     "output_type": "display_data"
    }
   ],
   "source": [
    "iris.plot('petal length (cm)','petal width (cm)', kind = 'scatter', title = 'Petal Length vs. Petal Width')"
   ]
  },
  {
   "cell_type": "markdown",
   "metadata": {
    "id": "3iTc_woXcqPL"
   },
   "source": [
    "### Problem 14\n",
    "\n",
    "The data below is from Motor Trend magazine and contains data on different models of cars from multiple manufacturers.  We have plotted the measurements for horsepower on the horizontal axis and miles per gallon on the vertical axis.  What kind of function do you think would be an appropriate model for this?"
   ]
  },
  {
   "cell_type": "code",
   "execution_count": null,
   "metadata": {
    "id": "FTW46YSjcqPL"
   },
   "outputs": [],
   "source": [
    "import pandas as pd\n",
    "cars = pd.read_csv('https://raw.githubusercontent.com/jfkoehler/calcbook/master/intro/data/mtcars.csv')"
   ]
  },
  {
   "cell_type": "code",
   "execution_count": null,
   "metadata": {
    "id": "VtkKqXGRcqPL",
    "outputId": "2c36a4d0-2ece-47bd-c6e1-f7304aa7273c"
   },
   "outputs": [
    {
     "data": {
      "text/html": [
       "<div>\n",
       "<style scoped>\n",
       "    .dataframe tbody tr th:only-of-type {\n",
       "        vertical-align: middle;\n",
       "    }\n",
       "\n",
       "    .dataframe tbody tr th {\n",
       "        vertical-align: top;\n",
       "    }\n",
       "\n",
       "    .dataframe thead th {\n",
       "        text-align: right;\n",
       "    }\n",
       "</style>\n",
       "<table border=\"1\" class=\"dataframe\">\n",
       "  <thead>\n",
       "    <tr style=\"text-align: right;\">\n",
       "      <th></th>\n",
       "      <th>Unnamed: 0</th>\n",
       "      <th>mpg</th>\n",
       "      <th>cyl</th>\n",
       "      <th>disp</th>\n",
       "      <th>hp</th>\n",
       "      <th>drat</th>\n",
       "      <th>wt</th>\n",
       "      <th>qsec</th>\n",
       "      <th>vs</th>\n",
       "      <th>am</th>\n",
       "      <th>gear</th>\n",
       "      <th>carb</th>\n",
       "    </tr>\n",
       "  </thead>\n",
       "  <tbody>\n",
       "    <tr>\n",
       "      <th>0</th>\n",
       "      <td>Mazda RX4</td>\n",
       "      <td>21.0</td>\n",
       "      <td>6</td>\n",
       "      <td>160.0</td>\n",
       "      <td>110</td>\n",
       "      <td>3.90</td>\n",
       "      <td>2.620</td>\n",
       "      <td>16.46</td>\n",
       "      <td>0</td>\n",
       "      <td>1</td>\n",
       "      <td>4</td>\n",
       "      <td>4</td>\n",
       "    </tr>\n",
       "    <tr>\n",
       "      <th>1</th>\n",
       "      <td>Mazda RX4 Wag</td>\n",
       "      <td>21.0</td>\n",
       "      <td>6</td>\n",
       "      <td>160.0</td>\n",
       "      <td>110</td>\n",
       "      <td>3.90</td>\n",
       "      <td>2.875</td>\n",
       "      <td>17.02</td>\n",
       "      <td>0</td>\n",
       "      <td>1</td>\n",
       "      <td>4</td>\n",
       "      <td>4</td>\n",
       "    </tr>\n",
       "    <tr>\n",
       "      <th>2</th>\n",
       "      <td>Datsun 710</td>\n",
       "      <td>22.8</td>\n",
       "      <td>4</td>\n",
       "      <td>108.0</td>\n",
       "      <td>93</td>\n",
       "      <td>3.85</td>\n",
       "      <td>2.320</td>\n",
       "      <td>18.61</td>\n",
       "      <td>1</td>\n",
       "      <td>1</td>\n",
       "      <td>4</td>\n",
       "      <td>1</td>\n",
       "    </tr>\n",
       "    <tr>\n",
       "      <th>3</th>\n",
       "      <td>Hornet 4 Drive</td>\n",
       "      <td>21.4</td>\n",
       "      <td>6</td>\n",
       "      <td>258.0</td>\n",
       "      <td>110</td>\n",
       "      <td>3.08</td>\n",
       "      <td>3.215</td>\n",
       "      <td>19.44</td>\n",
       "      <td>1</td>\n",
       "      <td>0</td>\n",
       "      <td>3</td>\n",
       "      <td>1</td>\n",
       "    </tr>\n",
       "    <tr>\n",
       "      <th>4</th>\n",
       "      <td>Hornet Sportabout</td>\n",
       "      <td>18.7</td>\n",
       "      <td>8</td>\n",
       "      <td>360.0</td>\n",
       "      <td>175</td>\n",
       "      <td>3.15</td>\n",
       "      <td>3.440</td>\n",
       "      <td>17.02</td>\n",
       "      <td>0</td>\n",
       "      <td>0</td>\n",
       "      <td>3</td>\n",
       "      <td>2</td>\n",
       "    </tr>\n",
       "  </tbody>\n",
       "</table>\n",
       "</div>"
      ],
      "text/plain": [
       "          Unnamed: 0   mpg  cyl   disp   hp  drat     wt   qsec  vs  am  gear  \\\n",
       "0          Mazda RX4  21.0    6  160.0  110  3.90  2.620  16.46   0   1     4   \n",
       "1      Mazda RX4 Wag  21.0    6  160.0  110  3.90  2.875  17.02   0   1     4   \n",
       "2         Datsun 710  22.8    4  108.0   93  3.85  2.320  18.61   1   1     4   \n",
       "3     Hornet 4 Drive  21.4    6  258.0  110  3.08  3.215  19.44   1   0     3   \n",
       "4  Hornet Sportabout  18.7    8  360.0  175  3.15  3.440  17.02   0   0     3   \n",
       "\n",
       "   carb  \n",
       "0     4  \n",
       "1     4  \n",
       "2     1  \n",
       "3     1  \n",
       "4     2  "
      ]
     },
     "execution_count": 15,
     "metadata": {
      "tags": []
     },
     "output_type": "execute_result"
    }
   ],
   "source": [
    "cars.head()"
   ]
  },
  {
   "cell_type": "code",
   "execution_count": null,
   "metadata": {
    "id": "d_4zJgyGcqPM",
    "outputId": "0538f3d6-a14f-4ee4-9ea1-edfeb6cb3173"
   },
   "outputs": [
    {
     "data": {
      "text/plain": [
       "<AxesSubplot:title={'center':'Horsepower vs. Miles Per Gallon'}, xlabel='hp', ylabel='mpg'>"
      ]
     },
     "execution_count": 16,
     "metadata": {
      "tags": []
     },
     "output_type": "execute_result"
    },
    {
     "data": {
      "image/png": "[encoded data removed]",
      "text/plain": [
       "<Figure size 432x288 with 1 Axes>"
      ]
     },
     "metadata": {
      "filenames": {
       "image/png": "/Users/jacobkoehler/Desktop/present/newschool/calc/calcbook/_build/jupyter_execute/intro/assignment_1_functions_59_1.png"
      },
      "needs_background": "light",
      "tags": []
     },
     "output_type": "display_data"
    }
   ],
   "source": [
    "cars.plot('hp', 'mpg', kind = 'scatter', title = 'Horsepower vs. Miles Per Gallon')"
   ]
  },
  {
   "cell_type": "markdown",
   "metadata": {
    "id": "ed8QSMkjcqPM"
   },
   "source": [
    "### Problem 15\n",
    "\n",
    "The data below comes from the gapminder organization and contains data on countries GDP, Life Expectancy, and Population.  We have plotted the data from life expectancy in 2007 on the horizontal axis and GDP on the vertical axis.  What kind of relationship would be an appropriate model for this relationship?"
   ]
  },
  {
   "cell_type": "code",
   "execution_count": null,
   "metadata": {
    "id": "n9gEY4rOcqPM"
   },
   "outputs": [],
   "source": [
    "gapminder = pd.read_csv('https://raw.githubusercontent.com/jfkoehler/calcbook/master/intro/data/gapminder_all.csv')"
   ]
  },
  {
   "cell_type": "code",
   "execution_count": null,
   "metadata": {
    "id": "Kf_cabFbcqPM",
    "outputId": "651d6b2a-33b3-4a20-f360-270a13cc764f"
   },
   "outputs": [
    {
     "data": {
      "text/html": [
       "<div>\n",
       "<style scoped>\n",
       "    .dataframe tbody tr th:only-of-type {\n",
       "        vertical-align: middle;\n",
       "    }\n",
       "\n",
       "    .dataframe tbody tr th {\n",
       "        vertical-align: top;\n",
       "    }\n",
       "\n",
       "    .dataframe thead th {\n",
       "        text-align: right;\n",
       "    }\n",
       "</style>\n",
       "<table border=\"1\" class=\"dataframe\">\n",
       "  <thead>\n",
       "    <tr style=\"text-align: right;\">\n",
       "      <th></th>\n",
       "      <th>continent</th>\n",
       "      <th>country</th>\n",
       "      <th>gdpPercap_1952</th>\n",
       "      <th>gdpPercap_1957</th>\n",
       "      <th>gdpPercap_1962</th>\n",
       "      <th>gdpPercap_1967</th>\n",
       "      <th>gdpPercap_1972</th>\n",
       "      <th>gdpPercap_1977</th>\n",
       "      <th>gdpPercap_1982</th>\n",
       "      <th>gdpPercap_1987</th>\n",
       "      <th>...</th>\n",
       "      <th>pop_1962</th>\n",
       "      <th>pop_1967</th>\n",
       "      <th>pop_1972</th>\n",
       "      <th>pop_1977</th>\n",
       "      <th>pop_1982</th>\n",
       "      <th>pop_1987</th>\n",
       "      <th>pop_1992</th>\n",
       "      <th>pop_1997</th>\n",
       "      <th>pop_2002</th>\n",
       "      <th>pop_2007</th>\n",
       "    </tr>\n",
       "  </thead>\n",
       "  <tbody>\n",
       "    <tr>\n",
       "      <th>0</th>\n",
       "      <td>Africa</td>\n",
       "      <td>Algeria</td>\n",
       "      <td>2449.008185</td>\n",
       "      <td>3013.976023</td>\n",
       "      <td>2550.816880</td>\n",
       "      <td>3246.991771</td>\n",
       "      <td>4182.663766</td>\n",
       "      <td>4910.416756</td>\n",
       "      <td>5745.160213</td>\n",
       "      <td>5681.358539</td>\n",
       "      <td>...</td>\n",
       "      <td>11000948.0</td>\n",
       "      <td>12760499.0</td>\n",
       "      <td>14760787.0</td>\n",
       "      <td>17152804.0</td>\n",
       "      <td>20033753.0</td>\n",
       "      <td>23254956.0</td>\n",
       "      <td>26298373.0</td>\n",
       "      <td>29072015.0</td>\n",
       "      <td>31287142</td>\n",
       "      <td>33333216</td>\n",
       "    </tr>\n",
       "    <tr>\n",
       "      <th>1</th>\n",
       "      <td>Africa</td>\n",
       "      <td>Angola</td>\n",
       "      <td>3520.610273</td>\n",
       "      <td>3827.940465</td>\n",
       "      <td>4269.276742</td>\n",
       "      <td>5522.776375</td>\n",
       "      <td>5473.288005</td>\n",
       "      <td>3008.647355</td>\n",
       "      <td>2756.953672</td>\n",
       "      <td>2430.208311</td>\n",
       "      <td>...</td>\n",
       "      <td>4826015.0</td>\n",
       "      <td>5247469.0</td>\n",
       "      <td>5894858.0</td>\n",
       "      <td>6162675.0</td>\n",
       "      <td>7016384.0</td>\n",
       "      <td>7874230.0</td>\n",
       "      <td>8735988.0</td>\n",
       "      <td>9875024.0</td>\n",
       "      <td>10866106</td>\n",
       "      <td>12420476</td>\n",
       "    </tr>\n",
       "    <tr>\n",
       "      <th>2</th>\n",
       "      <td>Africa</td>\n",
       "      <td>Benin</td>\n",
       "      <td>1062.752200</td>\n",
       "      <td>959.601080</td>\n",
       "      <td>949.499064</td>\n",
       "      <td>1035.831411</td>\n",
       "      <td>1085.796879</td>\n",
       "      <td>1029.161251</td>\n",
       "      <td>1277.897616</td>\n",
       "      <td>1225.856010</td>\n",
       "      <td>...</td>\n",
       "      <td>2151895.0</td>\n",
       "      <td>2427334.0</td>\n",
       "      <td>2761407.0</td>\n",
       "      <td>3168267.0</td>\n",
       "      <td>3641603.0</td>\n",
       "      <td>4243788.0</td>\n",
       "      <td>4981671.0</td>\n",
       "      <td>6066080.0</td>\n",
       "      <td>7026113</td>\n",
       "      <td>8078314</td>\n",
       "    </tr>\n",
       "    <tr>\n",
       "      <th>3</th>\n",
       "      <td>Africa</td>\n",
       "      <td>Botswana</td>\n",
       "      <td>851.241141</td>\n",
       "      <td>918.232535</td>\n",
       "      <td>983.653976</td>\n",
       "      <td>1214.709294</td>\n",
       "      <td>2263.611114</td>\n",
       "      <td>3214.857818</td>\n",
       "      <td>4551.142150</td>\n",
       "      <td>6205.883850</td>\n",
       "      <td>...</td>\n",
       "      <td>512764.0</td>\n",
       "      <td>553541.0</td>\n",
       "      <td>619351.0</td>\n",
       "      <td>781472.0</td>\n",
       "      <td>970347.0</td>\n",
       "      <td>1151184.0</td>\n",
       "      <td>1342614.0</td>\n",
       "      <td>1536536.0</td>\n",
       "      <td>1630347</td>\n",
       "      <td>1639131</td>\n",
       "    </tr>\n",
       "    <tr>\n",
       "      <th>4</th>\n",
       "      <td>Africa</td>\n",
       "      <td>Burkina Faso</td>\n",
       "      <td>543.255241</td>\n",
       "      <td>617.183465</td>\n",
       "      <td>722.512021</td>\n",
       "      <td>794.826560</td>\n",
       "      <td>854.735976</td>\n",
       "      <td>743.387037</td>\n",
       "      <td>807.198586</td>\n",
       "      <td>912.063142</td>\n",
       "      <td>...</td>\n",
       "      <td>4919632.0</td>\n",
       "      <td>5127935.0</td>\n",
       "      <td>5433886.0</td>\n",
       "      <td>5889574.0</td>\n",
       "      <td>6634596.0</td>\n",
       "      <td>7586551.0</td>\n",
       "      <td>8878303.0</td>\n",
       "      <td>10352843.0</td>\n",
       "      <td>12251209</td>\n",
       "      <td>14326203</td>\n",
       "    </tr>\n",
       "  </tbody>\n",
       "</table>\n",
       "<p>5 rows × 38 columns</p>\n",
       "</div>"
      ],
      "text/plain": [
       "  continent       country  gdpPercap_1952  gdpPercap_1957  gdpPercap_1962  \\\n",
       "0    Africa       Algeria     2449.008185     3013.976023     2550.816880   \n",
       "1    Africa        Angola     3520.610273     3827.940465     4269.276742   \n",
       "2    Africa         Benin     1062.752200      959.601080      949.499064   \n",
       "3    Africa      Botswana      851.241141      918.232535      983.653976   \n",
       "4    Africa  Burkina Faso      543.255241      617.183465      722.512021   \n",
       "\n",
       "   gdpPercap_1967  gdpPercap_1972  gdpPercap_1977  gdpPercap_1982  \\\n",
       "0     3246.991771     4182.663766     4910.416756     5745.160213   \n",
       "1     5522.776375     5473.288005     3008.647355     2756.953672   \n",
       "2     1035.831411     1085.796879     1029.161251     1277.897616   \n",
       "3     1214.709294     2263.611114     3214.857818     4551.142150   \n",
       "4      794.826560      854.735976      743.387037      807.198586   \n",
       "\n",
       "   gdpPercap_1987  ...    pop_1962    pop_1967    pop_1972    pop_1977  \\\n",
       "0     5681.358539  ...  11000948.0  12760499.0  14760787.0  17152804.0   \n",
       "1     2430.208311  ...   4826015.0   5247469.0   5894858.0   6162675.0   \n",
       "2     1225.856010  ...   2151895.0   2427334.0   2761407.0   3168267.0   \n",
       "3     6205.883850  ...    512764.0    553541.0    619351.0    781472.0   \n",
       "4      912.063142  ...   4919632.0   5127935.0   5433886.0   5889574.0   \n",
       "\n",
       "     pop_1982    pop_1987    pop_1992    pop_1997  pop_2002  pop_2007  \n",
       "0  20033753.0  23254956.0  26298373.0  29072015.0  31287142  33333216  \n",
       "1   7016384.0   7874230.0   8735988.0   9875024.0  10866106  12420476  \n",
       "2   3641603.0   4243788.0   4981671.0   6066080.0   7026113   8078314  \n",
       "3    970347.0   1151184.0   1342614.0   1536536.0   1630347   1639131  \n",
       "4   6634596.0   7586551.0   8878303.0  10352843.0  12251209  14326203  \n",
       "\n",
       "[5 rows x 38 columns]"
      ]
     },
     "execution_count": 18,
     "metadata": {
      "tags": []
     },
     "output_type": "execute_result"
    }
   ],
   "source": [
    "gapminder.head()"
   ]
  },
  {
   "cell_type": "code",
   "execution_count": null,
   "metadata": {
    "id": "4o_kkg2kcqPN",
    "outputId": "128f3a6f-9aea-4ad3-de6d-2323d27c0502"
   },
   "outputs": [
    {
     "data": {
      "image/png": "[encoded data removed]",
      "text/plain": [
       "<Figure size 432x288 with 1 Axes>"
      ]
     },
     "metadata": {
      "filenames": {
       "image/png": "/Users/jacobkoehler/Desktop/present/newschool/calc/calcbook/_build/jupyter_execute/intro/assignment_1_functions_63_0.png"
      },
      "needs_background": "light",
      "tags": []
     },
     "output_type": "display_data"
    }
   ],
   "source": [
    "import matplotlib.pyplot as plt\n",
    "gapminder.plot('gdpPercap_2007', 'lifeExp_2007', kind = 'scatter', title = 'Life Expectancy vs. GDP')\n",
    "plt.ylabel('Life Expectancy')\n",
    "plt.xlabel('GDP Per Capita');"
   ]
  },
  {
   "cell_type": "markdown",
   "metadata": {
    "id": "msA2a4EgcqPN"
   },
   "source": [
    "### Problem 16\n",
    "\n",
    "The data below comes from the Central Park weather station for the maximum temperature on each day since 1870.  We have plotted the most recent five years of the data where the date is on the horizontal axis and temperature on vertical.  What kind of a function would be the right model for this data?"
   ]
  },
  {
   "cell_type": "code",
   "execution_count": null,
   "metadata": {
    "colab": {
     "base_uri": "https://localhost:8080/",
     "height": 239
    },
    "id": "_XI3gILacqPN",
    "outputId": "831ca294-21bc-4c16-fd3e-4d23f94a6e95"
   },
   "outputs": [
    {
     "ename": "NameError",
     "evalue": "ignored",
     "output_type": "error",
     "traceback": [
      "\u001b[0;31m---------------------------------------------------------------------------\u001b[0m",
      "\u001b[0;31mNameError\u001b[0m                                 Traceback (most recent call last)",
      "\u001b[0;32m<ipython-input-1-8c5fb8e55645>\u001b[0m in \u001b[0;36m<module>\u001b[0;34m()\u001b[0m\n\u001b[0;32m----> 1\u001b[0;31m temps = pd.read_csv('https://raw.githubusercontent.com/jfkoehler/calculus/master/data/2017018.csv', usecols=['DATE', 'TMAX'], \n\u001b[0m\u001b[1;32m      2\u001b[0m                     parse_dates = ['DATE'], index_col='DATE')\n",
      "\u001b[0;31mNameError\u001b[0m: name 'pd' is not defined"
     ]
    }
   ],
   "source": [
    "temps = pd.read_csv('https://raw.githubusercontent.com/jfkoehler/calculus/master/data/2017018.csv', usecols=['DATE', 'TMAX'], \n",
    "                    parse_dates = ['DATE'], index_col='DATE')"
   ]
  },
  {
   "cell_type": "code",
   "execution_count": null,
   "metadata": {
    "id": "_gTcKgB_cqPN",
    "outputId": "e97411f1-5318-4843-c85d-96d68c7bb277"
   },
   "outputs": [
    {
     "data": {
      "text/html": [
       "<div>\n",
       "<style scoped>\n",
       "    .dataframe tbody tr th:only-of-type {\n",
       "        vertical-align: middle;\n",
       "    }\n",
       "\n",
       "    .dataframe tbody tr th {\n",
       "        vertical-align: top;\n",
       "    }\n",
       "\n",
       "    .dataframe thead th {\n",
       "        text-align: right;\n",
       "    }\n",
       "</style>\n",
       "<table border=\"1\" class=\"dataframe\">\n",
       "  <thead>\n",
       "    <tr style=\"text-align: right;\">\n",
       "      <th></th>\n",
       "      <th>TMAX</th>\n",
       "    </tr>\n",
       "    <tr>\n",
       "      <th>DATE</th>\n",
       "      <th></th>\n",
       "    </tr>\n",
       "  </thead>\n",
       "  <tbody>\n",
       "    <tr>\n",
       "      <th>1870-01-01</th>\n",
       "      <td>43</td>\n",
       "    </tr>\n",
       "    <tr>\n",
       "      <th>1870-01-02</th>\n",
       "      <td>54</td>\n",
       "    </tr>\n",
       "    <tr>\n",
       "      <th>1870-01-03</th>\n",
       "      <td>41</td>\n",
       "    </tr>\n",
       "    <tr>\n",
       "      <th>1870-01-04</th>\n",
       "      <td>35</td>\n",
       "    </tr>\n",
       "    <tr>\n",
       "      <th>1870-01-05</th>\n",
       "      <td>34</td>\n",
       "    </tr>\n",
       "  </tbody>\n",
       "</table>\n",
       "</div>"
      ],
      "text/plain": [
       "            TMAX\n",
       "DATE            \n",
       "1870-01-01    43\n",
       "1870-01-02    54\n",
       "1870-01-03    41\n",
       "1870-01-04    35\n",
       "1870-01-05    34"
      ]
     },
     "execution_count": 11,
     "metadata": {
      "tags": []
     },
     "output_type": "execute_result"
    }
   ],
   "source": [
    "temps.head()"
   ]
  },
  {
   "cell_type": "code",
   "execution_count": null,
   "metadata": {
    "id": "XxLlK32rcqPN",
    "outputId": "3fff19db-d952-4e7a-ccc7-abf31908364e"
   },
   "outputs": [
    {
     "data": {
      "text/plain": [
       "Text(0.5, 1.0, 'Temperatures in Central Park')"
      ]
     },
     "execution_count": 56,
     "metadata": {
      "tags": []
     },
     "output_type": "execute_result"
    },
    {
     "data": {
      "image/png": "[encoded data removed]",
      "text/plain": [
       "<Figure size 432x288 with 1 Axes>"
      ]
     },
     "metadata": {
      "filenames": {
       "image/png": "/Users/jacobkoehler/Desktop/present/newschool/calc/calcbook/_build/jupyter_execute/intro/assignment_1_functions_67_1.png"
      },
      "needs_background": "light",
      "tags": []
     },
     "output_type": "display_data"
    }
   ],
   "source": [
    "temps['2015':].plot()\n",
    "plt.title('Temperatures in Central Park')"
   ]
  },
  {
   "cell_type": "code",
   "execution_count": null,
   "metadata": {
    "id": "23WY8ssTcqPN"
   },
   "outputs": [],
   "source": []
  },
  {
   "cell_type": "markdown",
   "metadata": {
    "id": "-gzry_y2cqPN"
   },
   "source": [
    "## Using Models\n",
    "\n",
    "For each of the questions below, you are given a model that your team of data scientists have developed based on a given dataset.  You are asked three main questions:\n",
    "\n",
    "1. Evaluate model at given value.\n",
    "2. Compare model prediction to actual value.\n",
    "3. Discuss whether the model is a good model for the data and why or why not."
   ]
  },
  {
   "cell_type": "markdown",
   "metadata": {
    "id": "16A4_hgicqPO"
   },
   "source": [
    "### Problem 17: Iris Data\n",
    "\n",
    "- **Model**: petal length = petal width $\\times$ .7 or $f(x) = .7x$."
   ]
  },
  {
   "cell_type": "markdown",
   "metadata": {
    "id": "f5CDJEoqcqPO"
   },
   "source": [
    "Use the example observation below to compare the offered model to the real data.  How close was your prediction?  Was this good or bad?  Would you recommend this model for other data?  Explain."
   ]
  },
  {
   "cell_type": "code",
   "execution_count": null,
   "metadata": {
    "id": "zDCrFsW7cqPO",
    "outputId": "eab9129b-92b2-4efc-9d80-d09105c63136"
   },
   "outputs": [
    {
     "data": {
      "text/plain": [
       "sepal length (cm)    4.6\n",
       "sepal width (cm)     3.1\n",
       "petal length (cm)    1.5\n",
       "petal width (cm)     0.2\n",
       "Name: 3, dtype: float64"
      ]
     },
     "execution_count": 62,
     "metadata": {
      "tags": []
     },
     "output_type": "execute_result"
    }
   ],
   "source": [
    "iris.iloc[3]"
   ]
  },
  {
   "cell_type": "markdown",
   "metadata": {
    "id": "AshfgBYdcqPO"
   },
   "source": [
    "### Problem 18: Cars\n",
    "\n",
    "- **Model**: mpg = hp/10 or $f(x) = \\frac{1}{10} x$ . \n",
    "\n",
    "Same questions above using the test point below."
   ]
  },
  {
   "cell_type": "code",
   "execution_count": null,
   "metadata": {
    "id": "m-eOnZG1cqPO",
    "outputId": "a5a87297-5faa-4722-9091-14a17776f6b0"
   },
   "outputs": [
    {
     "data": {
      "text/plain": [
       "Unnamed: 0    Dodge Challenger\n",
       "mpg                       15.5\n",
       "cyl                          8\n",
       "disp                       318\n",
       "hp                         150\n",
       "drat                      2.76\n",
       "wt                        3.52\n",
       "qsec                     16.87\n",
       "vs                           0\n",
       "am                           0\n",
       "gear                         3\n",
       "carb                         2\n",
       "Name: 21, dtype: object"
      ]
     },
     "execution_count": 19,
     "metadata": {
      "tags": []
     },
     "output_type": "execute_result"
    }
   ],
   "source": [
    "cars.iloc[21]"
   ]
  },
  {
   "cell_type": "code",
   "execution_count": null,
   "metadata": {
    "id": "xuv_GaCjcqPO"
   },
   "outputs": [],
   "source": []
  },
  {
   "cell_type": "markdown",
   "metadata": {
    "id": "CDHo7HIPcqPO"
   },
   "source": [
    "### Problem 19\n",
    "\n",
    "- Plot the function $f(x) = 3^x$ on $x \\in [-5, 5]$.\n",
    "- Plot the function $g(x) = \\ln(f(x))$ on $x \\in [-5, 5]$.\n",
    "- Describe the transformation you observe."
   ]
  },
  {
   "cell_type": "code",
   "execution_count": null,
   "metadata": {
    "id": "fE-o71vDcqPP"
   },
   "outputs": [],
   "source": []
  },
  {
   "cell_type": "code",
   "execution_count": null,
   "metadata": {
    "id": "e4jbcw5KcqPP"
   },
   "outputs": [],
   "source": []
  }
 ],
 "metadata": {
  "colab": {
   "collapsed_sections": [
    "v_HgLQx3cqPG",
    "8xko9F7ncqPH",
    "IdRNmUc4cqPH",
    "lhd8VCZWcqPH",
    "47eezn1_cqPI",
    "TUxByF92cqPJ",
    "VALAabhQcqPJ",
    "9F-r5D1JcqPJ"
   ],
   "name": "00-functions.ipynb",
   "provenance": []
  },
  "kernelspec": {
   "display_name": "Python 3",
   "language": "python",
   "name": "python3"
  },
  "language_info": {
   "codemirror_mode": {
    "name": "ipython",
    "version": 3
   },
   "file_extension": ".py",
   "mimetype": "text/x-python",
   "name": "python",
   "nbconvert_exporter": "python",
   "pygments_lexer": "ipython3",
   "version": "3.8.3"
  }
 },
 "nbformat": 4,
 "nbformat_minor": 0
}