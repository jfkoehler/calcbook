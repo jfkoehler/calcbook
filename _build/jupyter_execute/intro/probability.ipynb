{
 "cells": [
  {
   "cell_type": "markdown",
   "metadata": {},
   "source": [
    "# Introduction to Probability\n",
    "\n",
    "*The probability of an event is a number between 0 and 1, where, roughly speaking, 0 indicates impossibility of the event and 1 indicates certainty. The higher the probability of an event, the more likely it is that the event will occur. A simple example is the tossing of a fair (unbiased) coin. Since the coin is fair, the two outcomes (\"heads\" and \"tails\") are both equally probable; the probability of \"heads\" equals the probability of \"tails\"; and since no other outcomes are possible, the probability of either \"heads\" or \"tails\" is 1/2 (which could also be written as 0.5 or 50%).* --- [Source](https://en.wikipedia.org/wiki/Probability#:~:text=Probability%20is%20the%20branch%20of,event%20and%201%20indicates%20certainty.)"
   ]
  },
  {
   "cell_type": "code",
   "execution_count": 1,
   "metadata": {},
   "outputs": [],
   "source": [
    "import matplotlib.pyplot as plt\n",
    "import numpy as np\n",
    "import pandas as pd"
   ]
  },
  {
   "cell_type": "markdown",
   "metadata": {},
   "source": [
    "## Example: Tossing Coins\n",
    "\n",
    "Consider the example of tossing a fair coin to root our vocabulary and symbols.  We will say the probability of getting a head is the total ways for this event to happen divided by the number of all possible outcomes.  \n",
    "\n",
    "**EXAMPLE I**: A Fair Coin\n",
    "\n",
    "With one fair coin, we have outcomes either heads or tails.  The outcome of interest is either a heads or tails.  We would say the probability of each is $\\frac{1}{2}$:\n",
    "\n",
    "$$P(\\text{head}) = \\frac{1}{2} \\quad P(\\text{tails}) = \\frac{1}{2}$$\n",
    "\n",
    "Note that these probabilities sum to 1."
   ]
  },
  {
   "cell_type": "markdown",
   "metadata": {},
   "source": [
    "**EXAMPLE II**: An Unfair Coin\n",
    "\n",
    "An example of an unfair coint would be anything that does not have equal probability.  For example:\n",
    "\n",
    "$$P(\\text{head}) = \\frac{4}{10} \\quad P(\\text{tails}) = \\frac{6}{10}$$"
   ]
  },
  {
   "cell_type": "code",
   "execution_count": 2,
   "metadata": {},
   "outputs": [
    {
     "data": {
      "image/png": "[encoded data removed]",
      "text/plain": [
       "<Figure size 2000x500 with 2 Axes>"
      ]
     },
     "metadata": {},
     "output_type": "display_data"
    }
   ],
   "source": [
    "import scipy.stats as stats\n",
    "fig, ax = plt.subplots(1, 2, figsize = (20, 5))\n",
    "fair_coin = stats.bernoulli(.5).pmf([0, 1])\n",
    "ax[0].bar(['heads', 'tails'], fair_coin, color=['gray', 'white'], edgecolor = 'black')\n",
    "ax[0].set_title('Probabilities for a Fair Coin');\n",
    "\n",
    "unfair_coin = stats.bernoulli(.4).pmf([0, 1])\n",
    "ax[1].bar(['heads', 'tails'], unfair_coin, color = ['gray', 'white'], edgecolor = 'black')\n",
    "ax[1].set_title('Probabilities for an Unfair Coin');"
   ]
  },
  {
   "cell_type": "markdown",
   "metadata": {},
   "source": [
    "### Probability Mass Function\n",
    "\n",
    "We can describe this kind of event as a function.  Specifically, a situation in which there are two possible outcomes with a probability attached to each.  This is called a *bernoulli* distribution, and the functional form is:\n",
    "\n",
    "$$f(k;p)=pk+(1-p)(1-k)\\quad {\\text{for }}k\\in \\{0,1\\}$$"
   ]
  },
  {
   "cell_type": "markdown",
   "metadata": {},
   "source": [
    "In our example of an unfair coin, if we consider heads as 0 and tails as 1 ($k$), we would have:\n",
    "\n",
    "$$f(0, .4) = .4*0 + (1 - .4)(1 - 0)$$\n",
    "\n"
   ]
  },
  {
   "cell_type": "markdown",
   "metadata": {},
   "source": [
    "which equals 0.6.  Similarly, the probability of a tails ($k = 0$):\n",
    "\n",
    "$$f(1, .4) = .4 * 1 + (1 - 1)(1 - 1)$$\n",
    "\n",
    "which equals 0.4."
   ]
  },
  {
   "cell_type": "code",
   "execution_count": 3,
   "metadata": {},
   "outputs": [],
   "source": [
    "def bernoulli(k, p):\n",
    "    return p*k + (1-p)*(1 - k)"
   ]
  },
  {
   "cell_type": "code",
   "execution_count": 4,
   "metadata": {},
   "outputs": [
    {
     "data": {
      "text/plain": [
       "0.6"
      ]
     },
     "execution_count": 4,
     "metadata": {},
     "output_type": "execute_result"
    }
   ],
   "source": [
    "bernoulli(0, 0.4)"
   ]
  },
  {
   "cell_type": "code",
   "execution_count": 5,
   "metadata": {},
   "outputs": [
    {
     "data": {
      "text/plain": [
       "0.4"
      ]
     },
     "execution_count": 5,
     "metadata": {},
     "output_type": "execute_result"
    }
   ],
   "source": [
    "bernoulli(1, 0.4)"
   ]
  },
  {
   "cell_type": "markdown",
   "metadata": {},
   "source": [
    "### PROBLEMS\n",
    "\n",
    "1. Suppose a bag contains 8 Red Marbles and 3 Blue Marbles.  \n",
    " - What is the probability of choosing a red ball from a random draw?  \n",
    " - A Blue Ball?\n",
    "2. Suppose a bag contain 4 Red Marbles, 7 Yellow Marbles, and 2 Blue Marbles.\n",
    " - What is the probability of selecting a red *or* yellow marble?\n",
    " - What is the probability of selecting a yellow *or* blue marble?\n",
    " - How many ways can you select two colors of marbles from the bag?\n",
    "3. Suppose a bag contains 10 Red and 7 Blue marbles. \n",
    " - Suppose you select one marble from the bag, what is the probability this is red?\n",
    " - Suppose you select a blue marble, place the marble back in the bag and select another marble.  What is the probability the second marble is blue?\n",
    " - Suppose you select a blue marble, do not replace the marble the bag and select another marble.  What is the probability the second marble is blue?"
   ]
  },
  {
   "cell_type": "code",
   "execution_count": null,
   "metadata": {},
   "outputs": [],
   "source": []
  },
  {
   "cell_type": "code",
   "execution_count": null,
   "metadata": {},
   "outputs": [],
   "source": []
  },
  {
   "cell_type": "code",
   "execution_count": null,
   "metadata": {},
   "outputs": [],
   "source": []
  },
  {
   "cell_type": "code",
   "execution_count": null,
   "metadata": {},
   "outputs": [],
   "source": []
  },
  {
   "cell_type": "markdown",
   "metadata": {},
   "source": [
    "### Origin in Games\n",
    "\n",
    "Many historians of probability note the emergence of a theory of probability as linked to humans attempts to understand games of chance.  We begin with an early example called Senet that is at least as old as the year 3000 BC.  Here, players moves are decided by dropping 4 paddles with two colored faces.  The players are allowed to move based on the number of colored paddles that are facing up.  Our goal is to explore the likely outcomes of the drops to begin to understand probability.\n",
    "\n",
    "\n",
    "<center>\n",
    "    <img src = https://upload.wikimedia.org/wikipedia/commons/thumb/0/0d/Gaming_Board_Inscribed_for_Amenhotep_III_with_Separate_Sliding_Drawer%2C_ca._1390-1353_B.C.E.%2C49.56a-b.jpg/520px-Gaming_Board_Inscribed_for_Amenhotep_III_with_Separate_Sliding_Drawer%2C_ca._1390-1353_B.C.E.%2C49.56a-b.jpg width = 50% />\n",
    "</center>"
   ]
  },
  {
   "cell_type": "markdown",
   "metadata": {},
   "source": [
    "**PROBLEM**\n",
    "\n",
    "The table below begins to explore these possible combinations.  We will look at further examples with more possible combinations but this will get us started.\n",
    "\n",
    "| sticks | # ways to get 0 white | 1 white | 2 white | 3 white | 4 white | 5 white |\n",
    "| ------  | ------  | ------  | ------  | ------  | ------  | ------  | \n",
    "| 1 | 1 | 1 | na | na | na | na |\n",
    "| 2 | 1 | 2 | 1 | na | na | na |\n",
    "| 3 | 1 | 3 | 3 | 1 | na | na |\n",
    "| 4 | 1 | 4 | 6  | 4 | 1 | na |\n",
    "| 5 | ? | ? | ?  | ? | ? | ? |\n",
    "| 6 | ? | ? | ?  | ? | ? | ? |"
   ]
  },
  {
   "cell_type": "markdown",
   "metadata": {},
   "source": [
    "### Binomial Distribution\n",
    "\n",
    "The example above is one example of a more general kind of distribution of events.  We have 4 two-sided sticks, and we will treat these as 4 Bernoulli Trials.  To determine the probability of an outcome, we must:\n",
    "\n",
    "- Count how many ways there are for this specific outcome to occur\n",
    "- Mutiply this by the probability of successes and failures\n",
    "\n",
    "As a function, we would have inputs that determine the outcome (success or failure, red or white, heads or tails, etc.), number of successes and failures, and the probability of a success. Below we have the functional form:\n",
    "\n",
    "$$f(k, n, p) = \\Pr(k;n,p)=\\Pr(X=k)={\\binom {n}{k}}p^{k}(1-p)^{n-k}$$\n",
    "\n",
    "\n",
    "We unpack this as follows:\n",
    "\n",
    "- $\\binom {n}{k}$ counts the number of ways an outcome can occur.  For example, $\\binom{4}{2}$ could be interpreted as how many ways are there to get two white sticks from four total.  \n",
    "- $p^k$ is the probability of a success to the power of the number of successes.  For example $\\frac{1}{2}^2$ would be interpreted as the probability of getting a white stick twice.\n",
    "- $(1 - p)^k$ is the probability of a failure $n-k$ times.  For example $(1 - \\frac{1}{2})^2$ can be interpreted as the probability of a black stick two out of four attempts."
   ]
  },
  {
   "cell_type": "markdown",
   "metadata": {},
   "source": [
    "### Using the computer"
   ]
  },
  {
   "cell_type": "code",
   "execution_count": 6,
   "metadata": {},
   "outputs": [],
   "source": [
    "from scipy.special import comb"
   ]
  },
  {
   "cell_type": "code",
   "execution_count": 7,
   "metadata": {},
   "outputs": [
    {
     "data": {
      "text/plain": [
       "6.0"
      ]
     },
     "execution_count": 7,
     "metadata": {},
     "output_type": "execute_result"
    }
   ],
   "source": [
    "#ways to pick 2 things from 4\n",
    "comb(4, 2)"
   ]
  },
  {
   "cell_type": "code",
   "execution_count": 8,
   "metadata": {},
   "outputs": [
    {
     "data": {
      "text/plain": [
       "0.25"
      ]
     },
     "execution_count": 8,
     "metadata": {},
     "output_type": "execute_result"
    }
   ],
   "source": [
    "#prob of success to the number of successes\n",
    "(1/2)**2"
   ]
  },
  {
   "cell_type": "code",
   "execution_count": 9,
   "metadata": {},
   "outputs": [
    {
     "data": {
      "text/plain": [
       "0.25"
      ]
     },
     "execution_count": 9,
     "metadata": {},
     "output_type": "execute_result"
    }
   ],
   "source": [
    "#prob of failures to number of failures\n",
    "(1/2)**2"
   ]
  },
  {
   "cell_type": "code",
   "execution_count": 10,
   "metadata": {},
   "outputs": [
    {
     "data": {
      "text/plain": [
       "0.375"
      ]
     },
     "execution_count": 10,
     "metadata": {},
     "output_type": "execute_result"
    }
   ],
   "source": [
    "#put it all together\n",
    "n_choose_k = comb(4, 2)\n",
    "p_to_the_k = (1/2)**2\n",
    "one_minus_p_to_the_n_minus_k = (1/2)**2\n",
    "#probability of getting 2 white sticks from four\n",
    "n_choose_k*p_to_the_k*one_minus_p_to_the_n_minus_k"
   ]
  },
  {
   "cell_type": "markdown",
   "metadata": {},
   "source": [
    "### Problems\n",
    "\n",
    "Suppose we instead play the game of Sennet using 5 sticks.  \n",
    "\n",
    "1. How many ways are there to get three white sticks?\n",
    "2. What is the probability that we will get three white sticks?\n",
    "3. Suppose we toss 10 coins.  How many different outcomes contain exactly three heads?\n",
    "4. Suppose we toss 20 coins.  How many different outcomes contain exactly three heads?\n",
    "5. Complete the next two rows of the table for sennet.  Do you recognize a pattern?"
   ]
  },
  {
   "cell_type": "code",
   "execution_count": null,
   "metadata": {},
   "outputs": [],
   "source": []
  },
  {
   "cell_type": "code",
   "execution_count": null,
   "metadata": {},
   "outputs": [],
   "source": []
  },
  {
   "cell_type": "code",
   "execution_count": null,
   "metadata": {},
   "outputs": [],
   "source": []
  },
  {
   "cell_type": "code",
   "execution_count": null,
   "metadata": {},
   "outputs": [],
   "source": []
  },
  {
   "cell_type": "code",
   "execution_count": null,
   "metadata": {},
   "outputs": [],
   "source": []
  },
  {
   "cell_type": "code",
   "execution_count": null,
   "metadata": {},
   "outputs": [],
   "source": []
  },
  {
   "cell_type": "code",
   "execution_count": null,
   "metadata": {},
   "outputs": [],
   "source": []
  },
  {
   "cell_type": "markdown",
   "metadata": {},
   "source": [
    "### Plotting Distributions\n",
    "\n",
    "The fourth row of our sennet table contained the values:\n",
    "\n",
    "$$1 ~ 4 ~ 6 ~ 4 ~ 1$$\n",
    "\n",
    "We can draw a plot of this using bars to represent the counts of each outcome.  "
   ]
  },
  {
   "cell_type": "code",
   "execution_count": 11,
   "metadata": {},
   "outputs": [],
   "source": [
    "bars = ['no white', 'one white', 'two white', 'three white', 'four white']\n",
    "counts = [1, 4, 6, 4, 1]"
   ]
  },
  {
   "cell_type": "code",
   "execution_count": 12,
   "metadata": {},
   "outputs": [
    {
     "data": {
      "image/png": "[encoded data removed]",
      "text/plain": [
       "<Figure size 640x480 with 1 Axes>"
      ]
     },
     "metadata": {},
     "output_type": "display_data"
    }
   ],
   "source": [
    "plt.bar(bars, counts)\n",
    "plt.title('Counts for each outcome with four two sided sticks');"
   ]
  },
  {
   "cell_type": "markdown",
   "metadata": {},
   "source": [
    "Using this plot, we come back to the problem of determining the probability of a given outcome or outcomes.  Here, we can interpret this probability as the relative area of a given bar to the overall count.  For example, we consider each bar having width of one unit, and height of the count.  Thus, we have a total area of:\n",
    "\n",
    "$$\\textbf{TOTAL AREA} = 1 + 4 + 6 + 4 + 1 = 16$$\n",
    "\n",
    "This is the total number of possible outcomes.  Thus, determining the probability of a specific outcome is as simple as dividing the total area of our bars by the area under the event of interest.\n",
    "\n",
    "$$P(\\text{two white}) = \\frac{\\text{area of bar for two white}}{\\text{total area}} = \\frac{6}{16}$$"
   ]
  },
  {
   "cell_type": "markdown",
   "metadata": {},
   "source": [
    "### Problems\n",
    "\n",
    "1. Use the plot above to determine the probability of zero white sticks.\n",
    "2. Use the plot above to determine the probability of one white stick?\n",
    "3. What is the probability of one, two, *or* three white sticks and how do we use the graph to determine this."
   ]
  }
 ],
 "metadata": {
  "kernelspec": {
   "display_name": "Python 3",
   "language": "python",
   "name": "python3"
  },
  "language_info": {
   "codemirror_mode": {
    "name": "ipython",
    "version": 3
   },
   "file_extension": ".py",
   "mimetype": "text/x-python",
   "name": "python",
   "nbconvert_exporter": "python",
   "pygments_lexer": "ipython3",
   "version": "3.12.0"
  }
 },
 "nbformat": 4,
 "nbformat_minor": 4
}