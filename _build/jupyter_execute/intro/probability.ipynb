{
 "cells": [
  {
   "cell_type": "markdown",
   "metadata": {},
   "source": [
    "# Introduction to Probability\n",
    "\n",
    "*The probability of an event is a number between 0 and 1, where, roughly speaking, 0 indicates impossibility of the event and 1 indicates certainty. The higher the probability of an event, the more likely it is that the event will occur. A simple example is the tossing of a fair (unbiased) coin. Since the coin is fair, the two outcomes (\"heads\" and \"tails\") are both equally probable; the probability of \"heads\" equals the probability of \"tails\"; and since no other outcomes are possible, the probability of either \"heads\" or \"tails\" is 1/2 (which could also be written as 0.5 or 50%).* --- [Source](https://en.wikipedia.org/wiki/Probability#:~:text=Probability%20is%20the%20branch%20of,event%20and%201%20indicates%20certainty.)"
   ]
  },
  {
   "cell_type": "code",
   "execution_count": 1,
   "metadata": {},
   "outputs": [],
   "source": [
    "import matplotlib.pyplot as plt\n",
    "import numpy as np\n",
    "import pandas as pd"
   ]
  },
  {
   "cell_type": "markdown",
   "metadata": {},
   "source": [
    "## Example: Tossing Coins\n",
    "\n",
    "Consider the example of tossing a fair coin to root our vocabulary and symbols.  We will say the probability of getting a head is the total ways for this event to happen divided by the number of all possible outcomes.  \n",
    "\n",
    "**EXAMPLE I**: A Fair Coin\n",
    "\n",
    "With one fair coin, we have outcomes either heads or tails.  The outcome of interest is either a heads or tails.  We would say the probability of each is $\\frac{1}{2}$:\n",
    "\n",
    "$$P(\\text{head}) = \\frac{1}{2} \\quad P(\\text{tails}) = \\frac{1}{2}$$\n",
    "\n",
    "Note that these probabilities sum to 1."
   ]
  },
  {
   "cell_type": "markdown",
   "metadata": {},
   "source": [
    "**EXAMPLE II**: An Unfair Coin\n",
    "\n",
    "An example of an unfair coint would be anything that does not have equal probability.  For example:\n",
    "\n",
    "$$P(\\text{head}) = \\frac{4}{10} \\quad P(\\text{tails}) = \\frac{6}{10}$$"
   ]
  },
  {
   "cell_type": "code",
   "execution_count": 2,
   "metadata": {},
   "outputs": [
    {
     "name": "stderr",
     "output_type": "stream",
     "text": [
      "/opt/anaconda3/lib/python3.8/site-packages/scipy/__init__.py:146: UserWarning: A NumPy version >=1.16.5 and <1.23.0 is required for this version of SciPy (detected version 1.23.2\n",
      "  warnings.warn(f\"A NumPy version >={np_minversion} and <{np_maxversion}\"\n"
     ]
    },
    {
     "data": {
<<<<<<< HEAD
      "image/png": "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\n",
=======
      "image/png": "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\n",
>>>>>>> d1a3331c4bb70eb63f6c667c0eee992efd40248b
      "text/plain": [
       "<Figure size 1440x360 with 2 Axes>"
      ]
     },
     "metadata": {
      "filenames": {
<<<<<<< HEAD
       "image/png": "/Users/jacobkoehler/Desktop/present/newschool/calc/calcbook/_build/jupyter_execute/intro/probability_4_1.png"
=======
       "image/png": "/Users/jacobkoehler/Desktop/present/calcbook/_build/jupyter_execute/intro/probability_4_0.png"
>>>>>>> d1a3331c4bb70eb63f6c667c0eee992efd40248b
      },
      "needs_background": "light"
     },
     "output_type": "display_data"
    }
   ],
   "source": [
    "import scipy.stats as stats\n",
    "fig, ax = plt.subplots(1, 2, figsize = (20, 5))\n",
    "fair_coin = stats.bernoulli(.5).pmf([0, 1])\n",
    "ax[0].bar(['heads', 'tails'], fair_coin, color=['gray', 'white'], edgecolor = 'black')\n",
    "ax[0].set_title('Probabilities for a Fair Coin');\n",
    "\n",
    "unfair_coin = stats.bernoulli(.4).pmf([0, 1])\n",
    "ax[1].bar(['heads', 'tails'], unfair_coin, color = ['gray', 'white'], edgecolor = 'black')\n",
    "ax[1].set_title('Probabilities for an Unfair Coin');"
   ]
  },
  {
   "cell_type": "markdown",
   "metadata": {},
   "source": [
    "### Probability Mass Function\n",
    "\n",
    "We can describe this kind of event as a function.  Specifically, a situation in which there are two possible outcomes with a probability attached to each.  This is called a *bernoulli* distribution, and the functional form is:\n",
    "\n",
    "$$f(k;p)=pk+(1-p)(1-k)\\quad {\\text{for }}k\\in \\{0,1\\}$$"
   ]
  },
  {
   "cell_type": "markdown",
   "metadata": {},
   "source": [
    "In our example of an unfair coin, if we consider heads as 0 and tails as 1 ($k$), we would have:\n",
    "\n",
    "$$f(0, .4) = .4*0 + (1 - .4)(1 - 0)$$\n",
    "\n"
   ]
  },
  {
   "cell_type": "markdown",
   "metadata": {},
   "source": [
    "which equals 0.6.  Similarly, the probability of a tails ($k = 0$):\n",
    "\n",
    "$$f(1, .4) = .4 * 1 + (1 - 1)(1 - 1)$$\n",
    "\n",
    "which equals 0.4."
   ]
  },
  {
   "cell_type": "code",
   "execution_count": 3,
   "metadata": {},
   "outputs": [],
   "source": [
    "def bernoulli(k, p):\n",
    "    return p*k + (1-p)*(1 - k)"
   ]
  },
  {
   "cell_type": "code",
   "execution_count": 4,
   "metadata": {},
   "outputs": [
    {
     "data": {
      "text/plain": [
       "0.6"
      ]
     },
     "execution_count": 4,
     "metadata": {},
     "output_type": "execute_result"
    }
   ],
   "source": [
    "bernoulli(0, 0.4)"
   ]
  },
  {
   "cell_type": "code",
   "execution_count": 5,
   "metadata": {},
   "outputs": [
    {
     "data": {
      "text/plain": [
       "0.4"
      ]
     },
     "execution_count": 5,
     "metadata": {},
     "output_type": "execute_result"
    }
   ],
   "source": [
    "bernoulli(1, 0.4)"
   ]
  },
  {
   "cell_type": "markdown",
   "metadata": {},
   "source": [
    "### PROBLEMS\n",
    "\n",
    "1. Suppose a bag contains 8 Red Marbles and 3 Blue Marbles.  \n",
    " - What is the probability of choosing a red ball from a random draw?  \n",
    " - A Blue Ball?\n",
    "2. Suppose a bag contain 4 Red Marbles, 7 Yellow Marbles, and 2 Blue Marbles.\n",
    " - What is the probability of selecting a red *or* yellow marble?\n",
    " - What is the probability of selecting a yellow *or* blue marble?\n",
    " - How many ways can you select two colors of marbles from the bag?\n",
    "3. Suppose a bag contains 10 Red and 7 Blue marbles. \n",
    " - Suppose you select one marble from the bag, what is the probability this is red?\n",
    " - Suppose you select a blue marble, place the marble back in the bag and select another marble.  What is the probability the second marble is blue?\n",
    " - Suppose you select a blue marble, do not replace the marble the bag and select another marble.  What is the probability the second marble is blue?"
   ]
  },
  {
   "cell_type": "code",
   "execution_count": null,
   "metadata": {},
   "outputs": [],
   "source": []
  },
  {
   "cell_type": "code",
   "execution_count": null,
   "metadata": {},
   "outputs": [],
   "source": []
  },
  {
   "cell_type": "code",
   "execution_count": null,
   "metadata": {},
   "outputs": [],
   "source": []
  },
  {
   "cell_type": "code",
   "execution_count": null,
   "metadata": {},
   "outputs": [],
   "source": []
  },
  {
   "cell_type": "markdown",
   "metadata": {},
   "source": [
    "### Origin in Games\n",
    "\n",
    "Many historians of probability note the emergence of a theory of probability as linked to humans attempts to understand games of chance.  We begin with an early example called Senet that is at least as old as the year 3000 BC.  Here, players moves are decided by dropping 4 paddles with two colored faces.  The players are allowed to move based on the number of colored paddles that are facing up.  Our goal is to explore the likely outcomes of the drops to begin to understand probability.\n",
    "\n",
    "\n",
    "<center>\n",
    "    <img src = https://upload.wikimedia.org/wikipedia/commons/thumb/0/0d/Gaming_Board_Inscribed_for_Amenhotep_III_with_Separate_Sliding_Drawer%2C_ca._1390-1353_B.C.E.%2C49.56a-b.jpg/520px-Gaming_Board_Inscribed_for_Amenhotep_III_with_Separate_Sliding_Drawer%2C_ca._1390-1353_B.C.E.%2C49.56a-b.jpg width = 50% />\n",
    "</center>"
   ]
  },
  {
   "cell_type": "markdown",
   "metadata": {},
   "source": [
    "**PROBLEM**\n",
    "\n",
    "The table below begins to explore these possible combinations.  We will look at further examples with more possible combinations but this will get us started.\n",
    "\n",
    "| sticks | # ways to get 0 white | 1 white | 2 white | 3 white | 4 white | 5 white |\n",
    "| ------  | ------  | ------  | ------  | ------  | ------  | ------  | \n",
    "| 1 | 1 | 1 | na | na | na | na |\n",
    "| 2 | 1 | 2 | 1 | na | na | na |\n",
    "| 3 | 1 | 3 | 3 | 1 | na | na |\n",
    "| 4 | 1 | 4 | 6  | 4 | 1 | na |\n",
    "| 5 | ? | ? | ?  | ? | ? | ? |\n",
    "| 6 | ? | ? | ?  | ? | ? | ? |"
   ]
  },
  {
   "cell_type": "markdown",
   "metadata": {},
   "source": [
    "### Binomial Distribution\n",
    "\n",
    "The example above is one example of a more general kind of distribution of events.  We have 4 two-sided sticks, and we will treat these as 4 Bernoulli Trials.  To determine the probability of an outcome, we must:\n",
    "\n",
    "- Count how many ways there are for this specific outcome to occur\n",
    "- Mutiply this by the probability of successes and failures\n",
    "\n",
    "As a function, we would have inputs that determine the outcome (success or failure, red or white, heads or tails, etc.), number of successes and failures, and the probability of a success. Below we have the functional form:\n",
    "\n",
    "$$f(k, n, p) = \\Pr(k;n,p)=\\Pr(X=k)={\\binom {n}{k}}p^{k}(1-p)^{n-k}$$\n",
    "\n",
    "\n",
    "We unpack this as follows:\n",
    "\n",
    "- $\\binom {n}{k}$ counts the number of ways an outcome can occur.  For example, $\\binom{4}{2}$ could be interpreted as how many ways are there to get two white sticks from four total.  \n",
    "- $p^k$ is the probability of a success to the power of the number of successes.  For example $\\frac{1}{2}^2$ would be interpreted as the probability of getting a white stick twice.\n",
    "- $(1 - p)^k$ is the probability of a failure $n-k$ times.  For example $(1 - \\frac{1}{2})^2$ can be interpreted as the probability of a black stick two out of four attempts."
   ]
  },
  {
   "cell_type": "markdown",
   "metadata": {},
   "source": [
    "### Using the computer"
   ]
  },
  {
   "cell_type": "code",
   "execution_count": 6,
   "metadata": {},
   "outputs": [],
   "source": [
    "from scipy.special import comb"
   ]
  },
  {
   "cell_type": "code",
   "execution_count": 7,
   "metadata": {},
   "outputs": [
    {
     "data": {
      "text/plain": [
       "6.0"
      ]
     },
     "execution_count": 7,
     "metadata": {},
     "output_type": "execute_result"
    }
   ],
   "source": [
    "#ways to pick 2 things from 4\n",
    "comb(4, 2)"
   ]
  },
  {
   "cell_type": "code",
   "execution_count": 8,
   "metadata": {},
   "outputs": [
    {
     "data": {
      "text/plain": [
       "0.25"
      ]
     },
     "execution_count": 8,
     "metadata": {},
     "output_type": "execute_result"
    }
   ],
   "source": [
    "#prob of success to the number of successes\n",
    "(1/2)**2"
   ]
  },
  {
   "cell_type": "code",
   "execution_count": 9,
   "metadata": {},
   "outputs": [
    {
     "data": {
      "text/plain": [
       "0.25"
      ]
     },
     "execution_count": 9,
     "metadata": {},
     "output_type": "execute_result"
    }
   ],
   "source": [
    "#prob of failures to number of failures\n",
    "(1/2)**2"
   ]
  },
  {
   "cell_type": "code",
   "execution_count": 10,
   "metadata": {},
   "outputs": [
    {
     "data": {
      "text/plain": [
       "0.375"
      ]
     },
     "execution_count": 10,
     "metadata": {},
     "output_type": "execute_result"
    }
   ],
   "source": [
    "#put it all together\n",
    "n_choose_k = comb(4, 2)\n",
    "p_to_the_k = (1/2)**2\n",
    "one_minus_p_to_the_n_minus_k = (1/2)**2\n",
    "#probability of getting 2 white sticks from four\n",
    "n_choose_k*p_to_the_k*one_minus_p_to_the_n_minus_k"
   ]
  },
  {
   "cell_type": "markdown",
   "metadata": {},
   "source": [
    "### Problems\n",
    "\n",
    "Suppose we instead play the game of Sennet using 5 sticks.  \n",
    "\n",
    "1. How many ways are there to get three white sticks?\n",
    "2. What is the probability that we will get three white sticks?\n",
    "3. Suppose we toss 10 coins.  How many different outcomes contain exactly three heads?\n",
    "4. Suppose we toss 20 coins.  How many different outcomes contain exactly three heads?\n",
    "5. Complete the next two rows of the table for sennet.  Do you recognize a pattern?"
   ]
  },
  {
   "cell_type": "code",
   "execution_count": null,
   "metadata": {},
   "outputs": [],
   "source": []
  },
  {
   "cell_type": "code",
   "execution_count": null,
   "metadata": {},
   "outputs": [],
   "source": []
  },
  {
   "cell_type": "code",
   "execution_count": null,
   "metadata": {},
   "outputs": [],
   "source": []
  },
  {
   "cell_type": "code",
   "execution_count": null,
   "metadata": {},
   "outputs": [],
   "source": []
  },
  {
   "cell_type": "code",
   "execution_count": null,
   "metadata": {},
   "outputs": [],
   "source": []
  },
  {
   "cell_type": "code",
   "execution_count": null,
   "metadata": {},
   "outputs": [],
   "source": []
  },
  {
   "cell_type": "code",
   "execution_count": null,
   "metadata": {},
   "outputs": [],
   "source": []
  },
  {
   "cell_type": "markdown",
   "metadata": {},
   "source": [
    "### Plotting Distributions\n",
    "\n",
    "The fourth row of our sennet table contained the values:\n",
    "\n",
    "$$1 ~ 4 ~ 6 ~ 4 ~ 1$$\n",
    "\n",
    "We can draw a plot of this using bars to represent the counts of each outcome.  "
   ]
  },
  {
   "cell_type": "code",
   "execution_count": 11,
   "metadata": {},
   "outputs": [],
   "source": [
    "bars = ['no white', 'one white', 'two white', 'three white', 'four white']\n",
    "counts = [1, 4, 6, 4, 1]"
   ]
  },
  {
   "cell_type": "code",
   "execution_count": 12,
   "metadata": {},
   "outputs": [
    {
     "data": {
<<<<<<< HEAD
      "image/png": "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\n",
=======
      "image/png": "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\n",
>>>>>>> d1a3331c4bb70eb63f6c667c0eee992efd40248b
      "text/plain": [
       "<Figure size 432x288 with 1 Axes>"
      ]
     },
     "metadata": {
      "filenames": {
<<<<<<< HEAD
       "image/png": "/Users/jacobkoehler/Desktop/present/newschool/calc/calcbook/_build/jupyter_execute/intro/probability_35_0.png"
=======
       "image/png": "/Users/jacobkoehler/Desktop/present/calcbook/_build/jupyter_execute/intro/probability_35_0.png"
>>>>>>> d1a3331c4bb70eb63f6c667c0eee992efd40248b
      },
      "needs_background": "light"
     },
     "output_type": "display_data"
    }
   ],
   "source": [
    "plt.bar(bars, counts)\n",
    "plt.title('Counts for each outcome with four two sided sticks');"
   ]
  },
  {
   "cell_type": "markdown",
   "metadata": {},
   "source": [
    "Using this plot, we come back to the problem of determining the probability of a given outcome or outcomes.  Here, we can interpret this probability as the relative area of a given bar to the overall count.  For example, we consider each bar having width of one unit, and height of the count.  Thus, we have a total area of:\n",
    "\n",
    "$$\\textbf{TOTAL AREA} = 1 + 4 + 6 + 4 + 1 = 16$$\n",
    "\n",
    "This is the total number of possible outcomes.  Thus, determining the probability of a specific outcome is as simple as dividing the total area of our bars by the area under the event of interest.\n",
    "\n",
    "$$P(\\text{two white}) = \\frac{\\text{area of bar for two white}}{\\text{total area}} = \\frac{6}{16}$$"
   ]
  },
  {
   "cell_type": "markdown",
   "metadata": {},
   "source": [
    "### Problems\n",
    "\n",
    "1. Use the plot above to determine the probability of zero white sticks.\n",
    "2. Use the plot above to determine the probability of one white stick?\n",
    "3. What is the probability of one, two, *or* three white sticks and how do we use the graph to determine this."
   ]
  }
 ],
 "metadata": {
  "kernelspec": {
   "display_name": "Python 3",
   "language": "python",
   "name": "python3"
  },
  "language_info": {
   "codemirror_mode": {
    "name": "ipython",
    "version": 3
   },
   "file_extension": ".py",
   "mimetype": "text/x-python",
   "name": "python",
   "nbconvert_exporter": "python",
   "pygments_lexer": "ipython3",
<<<<<<< HEAD
   "version": "3.8.3"
=======
   "version": "3.7.4"
>>>>>>> d1a3331c4bb70eb63f6c667c0eee992efd40248b
  }
 },
 "nbformat": 4,
 "nbformat_minor": 4
}