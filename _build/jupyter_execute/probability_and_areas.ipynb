{
 "cells": [
  {
   "cell_type": "markdown",
   "id": "b169d8b1",
   "metadata": {},
   "source": [
    "### Probability and Area\n",
    "\n",
    "**OBJECTIVES**\n",
    "\n",
    "- Connect area approximations to discrete probabilities\n",
    "- Connect definite integrals to continuous probability distributions\n",
    "- Understand a normal distribution and its uses\n",
    "- Determine the area under a curve\n",
    "- Determine the area between two curves"
   ]
  },
  {
   "cell_type": "code",
   "execution_count": 1,
   "id": "db49d8fd",
   "metadata": {},
   "outputs": [],
   "source": [
    "import numpy as np\n",
    "import pandas as pd\n",
    "import matplotlib.pyplot as plt\n",
    "import scipy.stats as stats"
   ]
  },
  {
   "cell_type": "markdown",
   "id": "33710d23",
   "metadata": {},
   "source": [
    "#### Review\n",
    "\n",
    "1. Determine the area under the curve $y = x^{15}$ from $x = 0$ to $x = 1$ by hand.  Verify your results with a calculator or computer."
   ]
  },
  {
   "cell_type": "code",
   "execution_count": null,
   "id": "d9a54a63",
   "metadata": {},
   "outputs": [],
   "source": []
  },
  {
   "cell_type": "markdown",
   "id": "20181ccf",
   "metadata": {},
   "source": [
    "2. Suppose you have a multiple choice examination with 10 questions, each having four answer choices.  \n",
    "\n",
    "- Determine the number of ways you can get 5 questions correct\n",
    "- Determine the probability that you would get 7 or more questions correct guessing at random"
   ]
  },
  {
   "cell_type": "code",
   "execution_count": null,
   "id": "d8438c79",
   "metadata": {},
   "outputs": [],
   "source": []
  },
  {
   "cell_type": "code",
   "execution_count": null,
   "id": "9c12417b",
   "metadata": {},
   "outputs": [],
   "source": []
  },
  {
   "cell_type": "code",
   "execution_count": null,
   "id": "9300fb1a",
   "metadata": {},
   "outputs": [],
   "source": []
  },
  {
   "cell_type": "markdown",
   "id": "19225386",
   "metadata": {},
   "source": [
    "3. From 5 A.M. to 10 A.M., the rate at which vehicles arrive at a certain toll plaza is given by $A(t) = 450 \\sin(0.62t)$, where t is the number of hours after 5 A.M. and $A(t)$ is measured in vehicles per hour. Traffic is flowing smoothly at 5 A.M. with no vehicles waiting in line.\n",
    "\n",
    "- Write, but do not evaluate, an integral expression that gives the total number of vehicles that arrive at the toll plaza from 6 A.M. $( t =1)$to 10 A.M. $( t =5 )$. \n",
    "\n",
    "- Find the average value of the rate, in vehicles per hour, at which vehicles arrive at the toll plaza from 6 A.M. ( t = 1) to 10 A.M. ( t = 5 ). \n",
    "\n"
   ]
  },
  {
   "cell_type": "code",
   "execution_count": null,
   "id": "591b22ea",
   "metadata": {},
   "outputs": [],
   "source": []
  },
  {
   "cell_type": "markdown",
   "id": "39a5b72b",
   "metadata": {},
   "source": [
    "- Find the average value of the rate, in vehicles per hour, at which vehicles arrive at the toll plaza from 6 A.M. ( t = 1) to 10 A.M. ( t = 5 ). "
   ]
  },
  {
   "cell_type": "code",
   "execution_count": null,
   "id": "417acb8e",
   "metadata": {},
   "outputs": [],
   "source": []
  },
  {
   "cell_type": "markdown",
   "id": "923dc1f2",
   "metadata": {},
   "source": [
    "Head over the the exam commentary on the 2022 BC Calculus examination.  What would you score on these two problems?  Does the solution make sense to you?  [link](https://apcentral.collegeboard.org/media/pdf/ap22-sg-calculus-ab.pdf)"
   ]
  },
  {
   "cell_type": "code",
   "execution_count": null,
   "id": "89f51973",
   "metadata": {},
   "outputs": [],
   "source": []
  },
  {
   "cell_type": "code",
   "execution_count": null,
   "id": "4a01206c",
   "metadata": {},
   "outputs": [],
   "source": []
  },
  {
   "cell_type": "code",
   "execution_count": null,
   "id": "e4458094",
   "metadata": {},
   "outputs": [],
   "source": []
  },
  {
   "cell_type": "markdown",
   "id": "eb9beb33",
   "metadata": {},
   "source": [
    "### Continuous probability distribution\n",
    "\n",
    "The binomial probability problems involved a **discrete** probability function because all the outcomes were whole number values.  There are other probability distributions that describe probabilities where outcomes can take on a range of continuous values.  Some examples of measurements that could be modeled by a continuous probability distribution include:\n",
    "\n",
    "- The weights of dogs\n",
    "- Scores on examinations\n",
    "- Temperatures on different days of the year"
   ]
  },
  {
   "cell_type": "markdown",
   "id": "82bec6cf",
   "metadata": {},
   "source": [
    "#### The Normal Distribution\n",
    "\n",
    "An important probability distribution is the normal distribution.  It is parameterized by a mean and standard deviation or variance of a dataset, and the *probability density function* and is given by the equation:\n",
    "\n",
    "$${\\displaystyle f(x)={\\frac {1}{\\sigma {\\sqrt {2\\pi }}}}e^{-{\\frac {1}{2}}\\left({\\frac {x-\\mu }{\\sigma }}\\right)^{2}}}$$\n",
    "\n",
    "where $\\mu$ is the mean of a given dataset and $\\sigma$ is the standard deviation."
   ]
  },
  {
   "cell_type": "code",
   "execution_count": 2,
   "id": "44797517",
   "metadata": {},
   "outputs": [],
   "source": [
    "data = pd.DataFrame({'age': np.random.normal(loc = 30, scale = 5, size = 500)})"
   ]
  },
  {
   "cell_type": "code",
   "execution_count": 3,
   "id": "4b4be695",
   "metadata": {},
   "outputs": [
    {
     "data": {
      "text/html": [
       "<div>\n",
       "<style scoped>\n",
       "    .dataframe tbody tr th:only-of-type {\n",
       "        vertical-align: middle;\n",
       "    }\n",
       "\n",
       "    .dataframe tbody tr th {\n",
       "        vertical-align: top;\n",
       "    }\n",
       "\n",
       "    .dataframe thead th {\n",
       "        text-align: right;\n",
       "    }\n",
       "</style>\n",
       "<table border=\"1\" class=\"dataframe\">\n",
       "  <thead>\n",
       "    <tr style=\"text-align: right;\">\n",
       "      <th></th>\n",
       "      <th>age</th>\n",
       "    </tr>\n",
       "  </thead>\n",
       "  <tbody>\n",
       "    <tr>\n",
       "      <th>0</th>\n",
       "      <td>35.057124</td>\n",
       "    </tr>\n",
       "    <tr>\n",
       "      <th>1</th>\n",
       "      <td>30.281207</td>\n",
       "    </tr>\n",
       "    <tr>\n",
       "      <th>2</th>\n",
       "      <td>29.519776</td>\n",
       "    </tr>\n",
       "    <tr>\n",
       "      <th>3</th>\n",
       "      <td>19.626210</td>\n",
       "    </tr>\n",
       "    <tr>\n",
       "      <th>4</th>\n",
       "      <td>30.682367</td>\n",
       "    </tr>\n",
       "  </tbody>\n",
       "</table>\n",
       "</div>"
      ],
      "text/plain": [
       "         age\n",
       "0  35.057124\n",
       "1  30.281207\n",
       "2  29.519776\n",
       "3  19.626210\n",
       "4  30.682367"
      ]
     },
     "execution_count": 3,
     "metadata": {},
     "output_type": "execute_result"
    }
   ],
   "source": [
    "data.head()"
   ]
  },
  {
   "cell_type": "code",
   "execution_count": 4,
   "id": "a8abd923",
   "metadata": {},
   "outputs": [
    {
     "data": {
      "image/png": "[encoded data removed]",
      "text/plain": [
       "<Figure size 640x480 with 1 Axes>"
      ]
     },
     "metadata": {},
     "output_type": "display_data"
    }
   ],
   "source": [
    "#plot a distribution of the age data\n",
    "data.hist();"
   ]
  },
  {
   "cell_type": "code",
   "execution_count": 5,
   "id": "e4c714f5",
   "metadata": {},
   "outputs": [
    {
     "data": {
      "text/plain": [
       "age    30.08993\n",
       "dtype: float64"
      ]
     },
     "execution_count": 5,
     "metadata": {},
     "output_type": "execute_result"
    }
   ],
   "source": [
    "#mean of the data\n",
    "data.mean()"
   ]
  },
  {
   "cell_type": "code",
   "execution_count": 6,
   "id": "9d236bab",
   "metadata": {},
   "outputs": [
    {
     "data": {
      "text/plain": [
       "age    4.982501\n",
       "dtype: float64"
      ]
     },
     "execution_count": 6,
     "metadata": {},
     "output_type": "execute_result"
    }
   ],
   "source": [
    "#standard deviation of the data\n",
    "data.std()"
   ]
  },
  {
   "cell_type": "code",
   "execution_count": 7,
   "id": "7766d08d",
   "metadata": {},
   "outputs": [],
   "source": [
    "#probability density function\n",
    "def norm_age(x):\n",
    "    return ''"
   ]
  },
  {
   "cell_type": "code",
   "execution_count": 8,
   "id": "f5ddb238",
   "metadata": {},
   "outputs": [],
   "source": [
    "#probability of 20 year old?\n"
   ]
  },
  {
   "cell_type": "code",
   "execution_count": 9,
   "id": "5deeffb7",
   "metadata": {},
   "outputs": [],
   "source": [
    "#probability of 29 year old?\n"
   ]
  },
  {
   "cell_type": "code",
   "execution_count": 10,
   "id": "b920f7ea",
   "metadata": {},
   "outputs": [],
   "source": [
    "#using sheets\n"
   ]
  },
  {
   "cell_type": "code",
   "execution_count": 11,
   "id": "d7517ccd",
   "metadata": {},
   "outputs": [],
   "source": [
    "#using scipy\n"
   ]
  },
  {
   "cell_type": "code",
   "execution_count": 12,
   "id": "3e13a163",
   "metadata": {},
   "outputs": [],
   "source": [
    "#plot the distribution\n"
   ]
  },
  {
   "cell_type": "markdown",
   "id": "766fea4f",
   "metadata": {},
   "source": [
    "#### Using the integral for probability\n",
    "\n",
    "$$\\int_{30}^{50} N(30, 5)$$\n",
    "\n",
    "This integral would determine the probability someone is between the ages of 30 and 50 using a normal distribution with mean of 30 and standard deviation of 5."
   ]
  },
  {
   "cell_type": "code",
   "execution_count": 13,
   "id": "aa73cd74",
   "metadata": {},
   "outputs": [
    {
     "data": {
      "image/png": "[encoded data removed]",
      "text/plain": [
       "<Figure size 640x480 with 1 Axes>"
      ]
     },
     "metadata": {},
     "output_type": "display_data"
    }
   ],
   "source": [
    "#plot distribution and area\n",
    "dist = stats.norm(loc = 30, scale = 5)\n",
    "x = np.linspace(5, 60, 1000)\n",
    "plt.plot(x, dist.pdf(x))\n",
    "plt.fill_between(x, dist.pdf(x), where = x > 30)\n",
    "plt.title('Observations over 30')\n",
    "plt.grid();"
   ]
  },
  {
   "cell_type": "code",
   "execution_count": 14,
   "id": "ecdc4b2d",
   "metadata": {},
   "outputs": [],
   "source": [
    "import seaborn as sns"
   ]
  },
  {
   "cell_type": "code",
   "execution_count": 15,
   "id": "5804fcdb",
   "metadata": {},
   "outputs": [],
   "source": [
    "titanic = sns.load_dataset('titanic')"
   ]
  },
  {
   "cell_type": "code",
   "execution_count": 16,
   "id": "2a644c11",
   "metadata": {},
   "outputs": [
    {
     "data": {
      "text/html": [
       "<div>\n",
       "<style scoped>\n",
       "    .dataframe tbody tr th:only-of-type {\n",
       "        vertical-align: middle;\n",
       "    }\n",
       "\n",
       "    .dataframe tbody tr th {\n",
       "        vertical-align: top;\n",
       "    }\n",
       "\n",
       "    .dataframe thead th {\n",
       "        text-align: right;\n",
       "    }\n",
       "</style>\n",
       "<table border=\"1\" class=\"dataframe\">\n",
       "  <thead>\n",
       "    <tr style=\"text-align: right;\">\n",
       "      <th></th>\n",
       "      <th>survived</th>\n",
       "      <th>pclass</th>\n",
       "      <th>sex</th>\n",
       "      <th>age</th>\n",
       "      <th>sibsp</th>\n",
       "      <th>parch</th>\n",
       "      <th>fare</th>\n",
       "      <th>embarked</th>\n",
       "      <th>class</th>\n",
       "      <th>who</th>\n",
       "      <th>adult_male</th>\n",
       "      <th>deck</th>\n",
       "      <th>embark_town</th>\n",
       "      <th>alive</th>\n",
       "      <th>alone</th>\n",
       "    </tr>\n",
       "  </thead>\n",
       "  <tbody>\n",
       "    <tr>\n",
       "      <th>0</th>\n",
       "      <td>0</td>\n",
       "      <td>3</td>\n",
       "      <td>male</td>\n",
       "      <td>22.0</td>\n",
       "      <td>1</td>\n",
       "      <td>0</td>\n",
       "      <td>7.2500</td>\n",
       "      <td>S</td>\n",
       "      <td>Third</td>\n",
       "      <td>man</td>\n",
       "      <td>True</td>\n",
       "      <td>NaN</td>\n",
       "      <td>Southampton</td>\n",
       "      <td>no</td>\n",
       "      <td>False</td>\n",
       "    </tr>\n",
       "    <tr>\n",
       "      <th>1</th>\n",
       "      <td>1</td>\n",
       "      <td>1</td>\n",
       "      <td>female</td>\n",
       "      <td>38.0</td>\n",
       "      <td>1</td>\n",
       "      <td>0</td>\n",
       "      <td>71.2833</td>\n",
       "      <td>C</td>\n",
       "      <td>First</td>\n",
       "      <td>woman</td>\n",
       "      <td>False</td>\n",
       "      <td>C</td>\n",
       "      <td>Cherbourg</td>\n",
       "      <td>yes</td>\n",
       "      <td>False</td>\n",
       "    </tr>\n",
       "    <tr>\n",
       "      <th>2</th>\n",
       "      <td>1</td>\n",
       "      <td>3</td>\n",
       "      <td>female</td>\n",
       "      <td>26.0</td>\n",
       "      <td>0</td>\n",
       "      <td>0</td>\n",
       "      <td>7.9250</td>\n",
       "      <td>S</td>\n",
       "      <td>Third</td>\n",
       "      <td>woman</td>\n",
       "      <td>False</td>\n",
       "      <td>NaN</td>\n",
       "      <td>Southampton</td>\n",
       "      <td>yes</td>\n",
       "      <td>True</td>\n",
       "    </tr>\n",
       "    <tr>\n",
       "      <th>3</th>\n",
       "      <td>1</td>\n",
       "      <td>1</td>\n",
       "      <td>female</td>\n",
       "      <td>35.0</td>\n",
       "      <td>1</td>\n",
       "      <td>0</td>\n",
       "      <td>53.1000</td>\n",
       "      <td>S</td>\n",
       "      <td>First</td>\n",
       "      <td>woman</td>\n",
       "      <td>False</td>\n",
       "      <td>C</td>\n",
       "      <td>Southampton</td>\n",
       "      <td>yes</td>\n",
       "      <td>False</td>\n",
       "    </tr>\n",
       "    <tr>\n",
       "      <th>4</th>\n",
       "      <td>0</td>\n",
       "      <td>3</td>\n",
       "      <td>male</td>\n",
       "      <td>35.0</td>\n",
       "      <td>0</td>\n",
       "      <td>0</td>\n",
       "      <td>8.0500</td>\n",
       "      <td>S</td>\n",
       "      <td>Third</td>\n",
       "      <td>man</td>\n",
       "      <td>True</td>\n",
       "      <td>NaN</td>\n",
       "      <td>Southampton</td>\n",
       "      <td>no</td>\n",
       "      <td>True</td>\n",
       "    </tr>\n",
       "  </tbody>\n",
       "</table>\n",
       "</div>"
      ],
      "text/plain": [
       "   survived  pclass     sex   age  sibsp  parch     fare embarked  class  \\\n",
       "0         0       3    male  22.0      1      0   7.2500        S  Third   \n",
       "1         1       1  female  38.0      1      0  71.2833        C  First   \n",
       "2         1       3  female  26.0      0      0   7.9250        S  Third   \n",
       "3         1       1  female  35.0      1      0  53.1000        S  First   \n",
       "4         0       3    male  35.0      0      0   8.0500        S  Third   \n",
       "\n",
       "     who  adult_male deck  embark_town alive  alone  \n",
       "0    man        True  NaN  Southampton    no  False  \n",
       "1  woman       False    C    Cherbourg   yes  False  \n",
       "2  woman       False  NaN  Southampton   yes   True  \n",
       "3  woman       False    C  Southampton   yes  False  \n",
       "4    man        True  NaN  Southampton    no   True  "
      ]
     },
     "execution_count": 16,
     "metadata": {},
     "output_type": "execute_result"
    }
   ],
   "source": [
    "titanic.head()"
   ]
  },
  {
   "cell_type": "code",
   "execution_count": 17,
   "id": "a28c352b",
   "metadata": {},
   "outputs": [
    {
     "data": {
      "text/plain": [
       "<Axes: >"
      ]
     },
     "execution_count": 17,
     "metadata": {},
     "output_type": "execute_result"
    },
    {
     "data": {
      "image/png": "[encoded data removed]",
      "text/plain": [
       "<Figure size 640x480 with 1 Axes>"
      ]
     },
     "metadata": {},
     "output_type": "display_data"
    }
   ],
   "source": [
    "titanic['age'].hist()"
   ]
  },
  {
   "cell_type": "code",
   "execution_count": 18,
   "id": "bbc6ee7d",
   "metadata": {},
   "outputs": [
    {
     "data": {
      "text/plain": [
       "29.69911764705882"
      ]
     },
     "execution_count": 18,
     "metadata": {},
     "output_type": "execute_result"
    }
   ],
   "source": [
    "titanic['age'].mean()"
   ]
  },
  {
   "cell_type": "code",
   "execution_count": 19,
   "id": "9e442f6e",
   "metadata": {},
   "outputs": [
    {
     "data": {
      "text/plain": [
       "14.526497332334042"
      ]
     },
     "execution_count": 19,
     "metadata": {},
     "output_type": "execute_result"
    }
   ],
   "source": [
    "titanic['age'].std()"
   ]
  },
  {
   "cell_type": "markdown",
   "id": "66b003e6",
   "metadata": {},
   "source": [
    "Determine a normal distribution to model the age data from the titanic dataset.  \n",
    "\n",
    "- What is the probability that a passenger is 15 years old?  \n",
    "- What is the probability that a passenger is between 10 and 30?"
   ]
  },
  {
   "cell_type": "code",
   "execution_count": null,
   "id": "9c0dcb2f",
   "metadata": {},
   "outputs": [],
   "source": []
  },
  {
   "cell_type": "code",
   "execution_count": null,
   "id": "cc0ce6f2",
   "metadata": {},
   "outputs": [],
   "source": []
  },
  {
   "cell_type": "code",
   "execution_count": null,
   "id": "3a09f629",
   "metadata": {},
   "outputs": [],
   "source": []
  },
  {
   "cell_type": "markdown",
   "id": "389d0632",
   "metadata": {},
   "source": [
    "#### Area between curves\n",
    "\n",
    "Determine the area of the region bound by the curves $f(x) = 9 - (\\frac{x^2}{4})$ and $g(x) = 6 - x$ from $x = -2$ to $x = 6$."
   ]
  },
  {
   "cell_type": "code",
   "execution_count": 20,
   "id": "37c7618f",
   "metadata": {},
   "outputs": [],
   "source": [
    "#define the functions\n"
   ]
  },
  {
   "cell_type": "code",
   "execution_count": 21,
   "id": "7ff0e42a",
   "metadata": {},
   "outputs": [],
   "source": [
    "#determine domain\n"
   ]
  },
  {
   "cell_type": "code",
   "execution_count": 22,
   "id": "fc83f22b",
   "metadata": {},
   "outputs": [],
   "source": [
    "#plot functions together\n"
   ]
  },
  {
   "cell_type": "code",
   "execution_count": 23,
   "id": "9419884d",
   "metadata": {},
   "outputs": [],
   "source": [
    "#determine the area\n"
   ]
  },
  {
   "cell_type": "markdown",
   "id": "a9cd21e4",
   "metadata": {},
   "source": [
    "Determine the area between the curves $f(x) = x$ and $g(x) = x^4$ from $x = 0$ to $x = 1$."
   ]
  },
  {
   "cell_type": "code",
   "execution_count": 24,
   "id": "f84e7794",
   "metadata": {},
   "outputs": [],
   "source": [
    "#define the functions\n"
   ]
  },
  {
   "cell_type": "code",
   "execution_count": 25,
   "id": "e2efccfb",
   "metadata": {},
   "outputs": [],
   "source": [
    "#determine domain\n"
   ]
  },
  {
   "cell_type": "code",
   "execution_count": 26,
   "id": "1a5e6ea0",
   "metadata": {},
   "outputs": [],
   "source": [
    "#plot functions together\n"
   ]
  },
  {
   "cell_type": "code",
   "execution_count": 27,
   "id": "9910d553",
   "metadata": {},
   "outputs": [],
   "source": [
    "#determine the area\n"
   ]
  },
  {
   "cell_type": "markdown",
   "id": "26967c7c",
   "metadata": {},
   "source": [
    "**Problems**\n",
    "\n",
    "Determine the area between the curves:\n",
    "\n",
    "1. $f(x) = x^2$ and $g(x) = 3x + 4$ from $x = -1$ to $x = 4$"
   ]
  },
  {
   "cell_type": "code",
   "execution_count": null,
   "id": "43ab41b2",
   "metadata": {},
   "outputs": [],
   "source": []
  },
  {
   "cell_type": "markdown",
   "id": "efae548d",
   "metadata": {},
   "source": [
    "#### Compound Areas\n",
    "\n",
    "1. Consider the area bound by $y = \\sin{x}$ and $y = \\cos{x}$."
   ]
  },
  {
   "cell_type": "code",
   "execution_count": null,
   "id": "a09c8af7",
   "metadata": {},
   "outputs": [],
   "source": []
  },
  {
   "cell_type": "code",
   "execution_count": null,
   "id": "4618bc84",
   "metadata": {},
   "outputs": [],
   "source": []
  },
  {
   "cell_type": "code",
   "execution_count": null,
   "id": "132baf7e",
   "metadata": {},
   "outputs": [],
   "source": []
  },
  {
   "cell_type": "markdown",
   "id": "20cb1c1e",
   "metadata": {},
   "source": [
    "2. Consider the area bound by the $x-axis$ and the curves $y = x^2$ and $y = 2 - x$."
   ]
  },
  {
   "cell_type": "code",
   "execution_count": null,
   "id": "8488f138",
   "metadata": {},
   "outputs": [],
   "source": []
  },
  {
   "cell_type": "code",
   "execution_count": null,
   "id": "d56b68e5",
   "metadata": {},
   "outputs": [],
   "source": []
  },
  {
   "cell_type": "code",
   "execution_count": null,
   "id": "8257310c",
   "metadata": {},
   "outputs": [],
   "source": []
  },
  {
   "cell_type": "code",
   "execution_count": null,
   "id": "d104aadf",
   "metadata": {},
   "outputs": [],
   "source": []
  },
  {
   "cell_type": "code",
   "execution_count": null,
   "id": "614df035",
   "metadata": {},
   "outputs": [],
   "source": []
  }
 ],
 "metadata": {
  "kernelspec": {
   "display_name": "Python 3 (ipykernel)",
   "language": "python",
   "name": "python3"
  },
  "language_info": {
   "codemirror_mode": {
    "name": "ipython",
    "version": 3
   },
   "file_extension": ".py",
   "mimetype": "text/x-python",
   "name": "python",
   "nbconvert_exporter": "python",
   "pygments_lexer": "ipython3",
   "version": "3.12.0"
  }
 },
 "nbformat": 4,
 "nbformat_minor": 5
}