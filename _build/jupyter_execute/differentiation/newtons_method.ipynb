{
 "cells": [
  {
   "cell_type": "markdown",
   "metadata": {
    "slideshow": {
     "slide_type": "skip"
    }
   },
   "source": [
    "<script>\n",
    "  (function(i,s,o,g,r,a,m){i['GoogleAnalyticsObject']=r;i[r]=i[r]||function(){\n",
    "  (i[r].q=i[r].q||[]).push(arguments)},i[r].l=1*new Date();a=s.createElement(o),\n",
    "  m=s.getElementsByTagName(o)[0];a.async=1;a.src=g;m.parentNode.insertBefore(a,m)\n",
    "  })(window,document,'script','https://www.google-analytics.com/analytics.js','ga');\n",
    "\n",
    "  ga('create', 'UA-50838873-3', 'auto');\n",
    "  ga('send', 'pageview');\n",
    "\n",
    "</script>"
   ]
  },
  {
   "cell_type": "code",
   "execution_count": 1,
   "metadata": {
    "collapsed": true,
    "jupyter": {
     "outputs_hidden": true
    },
    "slideshow": {
     "slide_type": "skip"
    }
   },
   "outputs": [],
   "source": [
    "import matplotlib.pyplot as plt\n",
    "import numpy as np\n",
    "import sympy as sy\n",
    "plt.style.use('seaborn-white')"
   ]
  },
  {
   "cell_type": "markdown",
   "metadata": {
    "slideshow": {
     "slide_type": "slide"
    }
   },
   "source": [
    "# Newton's Method"
   ]
  },
  {
   "cell_type": "code",
   "execution_count": 2,
   "metadata": {
    "slideshow": {
     "slide_type": "skip"
    }
   },
   "outputs": [
    {
     "data": {
      "image/png": "[encoded data removed]",
      "text/plain": [
       "<Figure size 432x288 with 1 Axes>"
      ]
     },
     "metadata": {
      "filenames": {
       "image/png": "/Users/jacobkoehler/Desktop/present/newschool/calc/calcbook/_build/jupyter_execute/differentiation/newtons_method_3_0.png"
      },
      "needs_background": "light"
     },
     "output_type": "display_data"
    }
   ],
   "source": [
    "def f(x):\n",
    "    return x**6 - 1.4\n",
    "\n",
    "def df(a):\n",
    "    return (f(a + 0.00001) - f(a))/0.00001\n",
    "\n",
    "def tan_line(a):\n",
    "    return df(a)*(x - a) + f(a)\n",
    "\n",
    "def n(a):\n",
    "    return a - f(a)/df(a)\n",
    "\n",
    "x = np.linspace(-3,3,1000)\n",
    "ax = plt.figure()\n",
    "plt.plot(x, f(x))\n",
    "plt.plot(x, tan_line(1.3), color = 'red')\n",
    "\n",
    "plt.xlim(0.4, 1.4)\n",
    "plt.ylim(-3,5)\n",
    "plt.axhline(color = 'black')\n",
    "plt.axvline(color = 'black')\n",
    "plt.axvline(1.3, 0.36, 0.8, color = 'black')\n",
    "plt.text(1.3, -0.6, \"$x_0$\", fontsize = 18)\n",
    "\n",
    "\n",
    "plt.plot(1.3, 0, 'o', color = 'black')\n",
    "plt.plot(n(1.3), 0, 'o', color = 'black')\n",
    "plt.text(n(1.3), -0.6, \"$x_1$\", fontsize = 18)\n",
    "plt.title(\"Finding the next Approximation \\nin Newton's Method\", loc = 'left')\n",
    "plt.savefig('images/newton2.png')"
   ]
  },
  {
   "cell_type": "markdown",
   "metadata": {
    "slideshow": {
     "slide_type": "slide"
    }
   },
   "source": [
    "**PROBLEM**\n",
    "\n",
    "1. Find a formula for $x_1$ in terms of $x_0$.\n",
    "\n",
    "2. Find a formula for $x_2$ in terms of $x_0$.\n",
    "\n",
    "3. Find a general formula for $x_{n+1}$ in terms of $x_n$.\n",
    "\n",
    "![](images/newton2.png)"
   ]
  },
  {
   "cell_type": "markdown",
   "metadata": {
    "slideshow": {
     "slide_type": "slide"
    }
   },
   "source": [
    "Tangent line at $x_0$ has goes through the point $(x_0, f(x_0)$ with slope $f'(x_0)$.  From here, we can use our point slope form of a linear function and write:\n",
    "\n",
    "$$y - y_0 = m(x-x_0)$$\n",
    "\n",
    "as\n",
    "\n",
    "$$y - f(x_0) = f'(x_0)(x - x_0)$$\n",
    "\n",
    "or \n",
    "\n",
    "$$y = f'(x_0)(x - x_0) + f(x_0)$$\n",
    "\n",
    "The value for $x_1$ is when this line crosses the $x$-axis, or when $y = 0$.  Hence\n",
    "\n",
    "$$0 = f'(x_0)(x_1 - x_0) + f(x_0)$$\n",
    "\n",
    "or after solving for $x_1$ we have\n",
    "\n",
    "$$x_1 = x_0 - \\frac{f(x_0)}{f'(x_0)}$$"
   ]
  },
  {
   "cell_type": "markdown",
   "metadata": {
    "slideshow": {
     "slide_type": "slide"
    }
   },
   "source": [
    "**Problem**\n",
    "\n",
    "1. Graph the function $f(x) = x^3 -4x^2 -1$, note the one solution.\n",
    "\n",
    "2. Use Newton's Method with $x_0=5$ to find $x_1$ and $x_2$.\n",
    "\n",
    "3. Use the computer to find the $x_8$.\n",
    "\n",
    "4. Repeat with $x_0 = 2$, what do you notice?\n",
    "\n",
    "5. Now try with $x_0 = 0$.  What's happening?\n",
    "\n"
   ]
  },
  {
   "cell_type": "code",
   "execution_count": 3,
   "metadata": {
    "collapsed": true,
    "jupyter": {
     "outputs_hidden": true
    },
    "slideshow": {
     "slide_type": "slide"
    }
   },
   "outputs": [],
   "source": [
    "#define our function f\n",
    "def f(x):\n",
    "    return x**3 - 4*x**2 - 1\n",
    "\n",
    "#define a derivative function using h = 0.0001\n",
    "def df(x):\n",
    "    return (f(x + 0.0001) - f(x))/0.0001"
   ]
  },
  {
   "cell_type": "code",
   "execution_count": 4,
   "metadata": {
    "slideshow": {
     "slide_type": "subslide"
    }
   },
   "outputs": [
    {
     "name": "stdout",
     "output_type": "stream",
     "text": [
      "Our first approximation x1 =  4.314307264821802\n"
     ]
    }
   ],
   "source": [
    "#define x1 using the formula developed above\n",
    "x1 = 5 - f(5)/df(5)\n",
    "print(\"Our first approximation x1 = \", x1)"
   ]
  },
  {
   "cell_type": "code",
   "execution_count": 5,
   "metadata": {
    "slideshow": {
     "slide_type": "subslide"
    }
   },
   "outputs": [
    {
     "name": "stdout",
     "output_type": "stream",
     "text": [
      "Second approximation is:  4.0868741600614715\n"
     ]
    }
   ],
   "source": [
    "#repeat procedure above for our second approximation\n",
    "x2 = x1 - f(x1)/df(x1)\n",
    "print(\"Second approximation is: \", x2)"
   ]
  },
  {
   "cell_type": "code",
   "execution_count": 6,
   "metadata": {
    "slideshow": {
     "slide_type": "fragment"
    }
   },
   "outputs": [
    {
     "name": "stdout",
     "output_type": "stream",
     "text": [
      "Our  0 approximation is  4.314307264821802\n",
      "Our  1 approximation is  4.0868741600614715\n",
      "Our  2 approximation is  4.060973545033629\n",
      "Our  3 approximation is  4.060647094636585\n",
      "Our  4 approximation is  4.060647027557377\n",
      "Our  5 approximation is  4.060647027554143\n",
      "Our  6 approximation is  4.060647027554142\n",
      "Our  7 approximation is  4.060647027554142\n",
      "Our  8 approximation is  4.060647027554142\n",
      "Our  9 approximation is  4.060647027554142\n"
     ]
    }
   ],
   "source": [
    "approximations = [5]\n",
    "for i in range(10):\n",
    "    next = approximations[i] - f(approximations[i])/df(approximations[i])\n",
    "    print(\"Our \", i, \"approximation is \", next)\n",
    "    approximations.append(next)"
   ]
  },
  {
   "cell_type": "code",
   "execution_count": 7,
   "metadata": {
    "slideshow": {
     "slide_type": "fragment"
    }
   },
   "outputs": [
    {
     "data": {
      "text/plain": [
       "4.060647027554142"
      ]
     },
     "execution_count": 7,
     "metadata": {},
     "output_type": "execute_result"
    }
   ],
   "source": [
    "approximations[8]"
   ]
  },
  {
   "cell_type": "code",
   "execution_count": 8,
   "metadata": {
    "slideshow": {
     "slide_type": "slide"
    }
   },
   "outputs": [
    {
     "data": {
      "text/plain": [
       "Text(0.0, 1.0, 'Approximations closing in on $x_n = 4.06065$')"
      ]
     },
     "execution_count": 8,
     "metadata": {},
     "output_type": "execute_result"
    },
    {
     "data": {
      "image/png": "[encoded data removed]",
      "text/plain": [
       "<Figure size 432x288 with 1 Axes>"
      ]
     },
     "metadata": {
      "filenames": {
       "image/png": "/Users/jacobkoehler/Desktop/present/newschool/calc/calcbook/_build/jupyter_execute/differentiation/newtons_method_12_1.png"
      },
      "needs_background": "light"
     },
     "output_type": "display_data"
    }
   ],
   "source": [
    "plt.figure()\n",
    "plt.plot(approximations, '--o')\n",
    "plt.ylim(3, 5)\n",
    "plt.axhline(approximations[-1], linestyle = '--', color = 'red')\n",
    "plt.title(\"Approximations closing in on $x_n = 4.06065$\", loc = 'left')"
   ]
  },
  {
   "cell_type": "markdown",
   "metadata": {},
   "source": [
    "<div class=\"alert alert-success\" role=\"alert\">\n",
    "  <strong>So What?!</strong> This should mean that our original function equals zero when $x = 4.06065$.\n",
    "</div>"
   ]
  },
  {
   "cell_type": "code",
   "execution_count": 9,
   "metadata": {},
   "outputs": [
    {
     "data": {
      "text/plain": [
       "5.0476324631176794e-05"
      ]
     },
     "execution_count": 9,
     "metadata": {},
     "output_type": "execute_result"
    }
   ],
   "source": [
    "f(4.06065)"
   ]
  },
  {
   "cell_type": "code",
   "execution_count": 10,
   "metadata": {},
   "outputs": [
    {
     "data": {
      "text/plain": [
       "[2.0,\n",
       " -0.2501125112459115,\n",
       " 0.3284143953117059,\n",
       " -0.277476731512067,\n",
       " 0.2650410986508679,\n",
       " -0.395916521479287,\n",
       " 0.06848549779683089,\n",
       " -1.8380174545550845,\n",
       " -1.0037100235361796,\n",
       " -0.457084983177515,\n",
       " -0.00617702418119781]"
      ]
     },
     "execution_count": 10,
     "metadata": {},
     "output_type": "execute_result"
    }
   ],
   "source": [
    "#repeating our process above starting with x0 = 2\n",
    "approx2 = [2.0]\n",
    "for i in range(10):\n",
    "    next = approx2[i] - f(approx2[i])/df(approx2[i])\n",
    "    approx2.append(next)\n",
    "    \n",
    "approx2"
   ]
  },
  {
   "cell_type": "code",
   "execution_count": 11,
   "metadata": {},
   "outputs": [
    {
     "data": {
      "text/plain": [
       "Text(0.0, 1.0, 'Approximations Closing in on $x_n = 0$ \\nfrom $x_0 = 2$')"
      ]
     },
     "execution_count": 11,
     "metadata": {},
     "output_type": "execute_result"
    },
    {
     "data": {
      "image/png": "[encoded data removed]",
      "text/plain": [
       "<Figure size 432x288 with 1 Axes>"
      ]
     },
     "metadata": {
      "filenames": {
       "image/png": "/Users/jacobkoehler/Desktop/present/newschool/calc/calcbook/_build/jupyter_execute/differentiation/newtons_method_16_1.png"
      },
      "needs_background": "light"
     },
     "output_type": "display_data"
    }
   ],
   "source": [
    "plt.figure()\n",
    "plt.plot(approx2, '--o')\n",
    "plt.axhline(color = 'black', linestyle = '--')\n",
    "plt.title(\"Approximations Closing in on $x_n = 0$ \\nfrom $x_0 = 2$\", loc = 'left')"
   ]
  },
  {
   "cell_type": "code",
   "execution_count": 12,
   "metadata": {},
   "outputs": [
    {
     "data": {
      "text/plain": [
       "[0.0,\n",
       " -2500.0625084350586,\n",
       " -1666.2643362734148,\n",
       " -1110.3991233297015,\n",
       " -739.8226689769101,\n",
       " -492.7722304250899,\n",
       " -328.07273331465905,\n",
       " -218.27425810421983,\n",
       " -145.0770516348452,\n",
       " -96.28156299561368,\n",
       " -63.75517373413263]"
      ]
     },
     "execution_count": 12,
     "metadata": {},
     "output_type": "execute_result"
    }
   ],
   "source": [
    "#repeating our process above starting with x0 = 2\n",
    "approx3 = [0.0]\n",
    "for i in range(10):\n",
    "    next = approx3[i] - f(approx3[i])/df(approx3[i])\n",
    "    approx3.append(next)\n",
    "    \n",
    "approx3"
   ]
  },
  {
   "cell_type": "code",
   "execution_count": 13,
   "metadata": {},
   "outputs": [
    {
     "data": {
      "text/plain": [
       "Text(1.0, 1.0, \"Different Starting Values for Newton's Methods \\nlead down different paths!\")"
      ]
     },
     "execution_count": 13,
     "metadata": {},
     "output_type": "execute_result"
    },
    {
     "data": {
      "image/png": "[encoded data removed]",
      "text/plain": [
       "<Figure size 720x432 with 1 Axes>"
      ]
     },
     "metadata": {
      "filenames": {
       "image/png": "/Users/jacobkoehler/Desktop/present/newschool/calc/calcbook/_build/jupyter_execute/differentiation/newtons_method_18_1.png"
      },
      "needs_background": "light"
     },
     "output_type": "display_data"
    }
   ],
   "source": [
    "x = np.linspace(-6,6,1000)\n",
    "plt.figure(figsize = (10, 6))\n",
    "plt.plot(x, f(x), label = \"$f(x)$\")\n",
    "\n",
    "plt.plot(x, tan_line(5), label = \"$x_0 = 5$\")\n",
    "plt.plot(5, f(5), 'o')\n",
    "\n",
    "\n",
    "plt.plot(x, tan_line(2), label = \"$x_0 = 2$\")\n",
    "plt.plot(2, f(2), 'o')\n",
    "\n",
    "plt.plot(x, tan_line(0), color = 'indigo', label = \"$x_0 = 0$\")\n",
    "plt.plot(0, f(0), 'o')\n",
    "\n",
    "plt.ylim(f(2),f(5))\n",
    "plt.xlim(-5,5)\n",
    "plt.axhline(color = 'black')\n",
    "plt.legend(loc = 'best')\n",
    "plt.title(\"Different Starting Values for Newton's Methods \\nlead down different paths!\", loc = 'right')"
   ]
  },
  {
   "cell_type": "code",
   "execution_count": 14,
   "metadata": {},
   "outputs": [
    {
     "data": {
      "application/vnd.jupyter.widget-view+json": {
       "model_id": "e734ef25a9d94a949479ea8c3b1eadea",
       "version_major": 2,
       "version_minor": 0
      },
      "text/plain": [
       "interactive(children=(FloatSlider(value=0.0, description='x0', max=2.0, min=-2.0), IntSlider(value=5, descript…"
      ]
     },
     "metadata": {},
     "output_type": "display_data"
    },
    {
     "data": {
      "text/plain": [
       "<function __main__.newton(x0, n)>"
      ]
     },
     "execution_count": 14,
     "metadata": {},
     "output_type": "execute_result"
    }
   ],
   "source": [
    "from ipywidgets import interact\n",
    "\n",
    "#define a function that takes in x0 and \n",
    "#n(the number of iterations) for newton's method\n",
    "\n",
    "def newton(x0, n):\n",
    "    apx = [x0]\n",
    "    for i in range( n):\n",
    "        next = apx[i] - f(apx[i])/df(apx[i])\n",
    "        apx.append(next)\n",
    "    print(apx)\n",
    "    \n",
    "\n",
    "#creates sliders for approximations to change x0 and n\n",
    "interact(newton, x0=(-2,2,0.1), n=(0,10,1))\n"
   ]
  },
  {
   "cell_type": "code",
   "execution_count": 15,
   "metadata": {},
   "outputs": [
    {
     "data": {
      "application/vnd.jupyter.widget-view+json": {
       "model_id": "2df8ecd974a8455bb5ac1a059574925a",
       "version_major": 2,
       "version_minor": 0
      },
      "text/plain": [
       "interactive(children=(FloatSlider(value=2.0, description='x0', max=6.0, min=-2.0), IntSlider(value=5, descript…"
      ]
     },
     "metadata": {},
     "output_type": "display_data"
    },
    {
     "data": {
      "text/plain": [
       "<function __main__.newton(x0, n)>"
      ]
     },
     "execution_count": 15,
     "metadata": {},
     "output_type": "execute_result"
    }
   ],
   "source": [
    "#modify the function above to include a plot\n",
    "def newton(x0, n):\n",
    "    apx = [x0]\n",
    "    for i in range( n):\n",
    "        next = apx[i] - f(apx[i])/df(apx[i])\n",
    "        apx.append(next)\n",
    "    print(apx[-5:])\n",
    "    plt.figure(figsize = (10, 6))\n",
    "    plt.subplot(121)\n",
    "    plt.plot(apx, '--o')\n",
    "    plt.ylim(-5,6)\n",
    "    plt.axhline(color = 'black')\n",
    "    plt.title(\"Approximations for zero \\nby Newton's method\", loc = 'left')\n",
    "    plt.subplot(122)\n",
    "    plt.plot(x, f(x))\n",
    "    plt.plot(x0, f(x0), 'o', color = 'black')\n",
    "    plt.plot(x, tan_line(x0))\n",
    "    plt.axhline(color = 'black')\n",
    "    plt.ylim(f(2.6),f(6))\n",
    "    plt.title(\"Plot of $f$ and the tangent at $x_0$\", loc = 'left')\n",
    "   \n",
    "\n",
    "interact(newton, x0=(-2,6,0.1), n=(0,10,1))"
   ]
  },
  {
   "cell_type": "markdown",
   "metadata": {
    "slideshow": {
     "slide_type": "slide"
    }
   },
   "source": [
    "**Problem**\n",
    "\n",
    "1. Recall the distance formula \n",
    "\n",
    "$$D = \\sqrt{(x_2 - x_1)^2  + (y_2 - y_1)^2}$$\n",
    "\n",
    "Write an equation that gives the distance from any point on the curve $y = 1/x$ to the point $(1,0)$.\n",
    "\n",
    "2. Minimize this distance using Newton's method to find critical points."
   ]
  },
  {
   "cell_type": "markdown",
   "metadata": {
    "slideshow": {
     "slide_type": "slide"
    }
   },
   "source": [
    "**Problem**\n",
    "\n",
    "Consider $f(x) = x^3 - x$.  \n",
    "\n",
    "a. Argue that if $x_0 > \\frac{1}{\\sqrt{3}}$, then Newton's Method will converge to the solution 1.  Therefore, by symmetry, if $x_0 < \\frac{-1}{\\sqrt{3}}$, Newton's Method will converge to the solution $-1$. \n",
    "\n",
    "b. What happens when $x_0 = 1/\\sqrt{3}$?\n",
    "\n",
    "c. Demonstrate Algebraically and with the computer that if we start with $x_0 = 1/\\sqrt{5}$, we do not converge to a solution.\n",
    "\n",
    "d. Some interesting behavior occurs between $1/\\sqrt{5} < x_0 < 1/\\sqrt{3}$.  Fill in the following table and discuss the consequences of your observation.\n",
    "\n",
    "<table style=\"width:100%\">\n",
    "  <tr>\n",
    "    <th>$x_0$</th>\n",
    "    <th>Solution Found</th> \n",
    "  </tr>\n",
    "  <tr>\n",
    "    <td>0.577</td>\n",
    "    <td></td> \n",
    "  </tr>\n",
    "  <tr>\n",
    "    <td>0.578</td>\n",
    "    <td></td> \n",
    "  </tr>\n",
    "  <tr>\n",
    "    <td>0.460</td>\n",
    "    <td></td> \n",
    "  </tr>\n",
    "  <tr>\n",
    "    <td>0.466</td>\n",
    "    <td></td> \n",
    "  </tr>\n",
    "  <tr>\n",
    "    <td>0.44722</td>\n",
    "    <td></td> \n",
    "  </tr>\n",
    "  <tr>\n",
    "    <td>0.44723</td>\n",
    "    <td></td> \n",
    "  </tr>\n",
    "</table>"
   ]
  },
  {
   "cell_type": "code",
   "execution_count": 16,
   "metadata": {
    "collapsed": true,
    "jupyter": {
     "outputs_hidden": true
    },
    "slideshow": {
     "slide_type": "skip"
    }
   },
   "outputs": [],
   "source": [
    "def df(x):\n",
    "    dx = 0.000001\n",
    "    return (f(x + dx) - f(x))/dx\n",
    "\n",
    "def f(x):\n",
    "    return x**3 - x"
   ]
  },
  {
   "cell_type": "code",
   "execution_count": 17,
   "metadata": {
    "collapsed": true,
    "jupyter": {
     "outputs_hidden": true
    },
    "slideshow": {
     "slide_type": "skip"
    }
   },
   "outputs": [],
   "source": [
    "def N(x):\n",
    "    return x - f(x)/df(x)"
   ]
  },
  {
   "cell_type": "code",
   "execution_count": 18,
   "metadata": {
    "slideshow": {
     "slide_type": "skip"
    }
   },
   "outputs": [
    {
     "data": {
      "text/plain": [
       "1.0"
      ]
     },
     "execution_count": 18,
     "metadata": {},
     "output_type": "execute_result"
    }
   ],
   "source": [
    "N(1)"
   ]
  },
  {
   "cell_type": "code",
   "execution_count": 19,
   "metadata": {
    "collapsed": true,
    "jupyter": {
     "outputs_hidden": true
    },
    "slideshow": {
     "slide_type": "skip"
    }
   },
   "outputs": [],
   "source": [
    "l = [1/np.sqrt(3)]\n",
    "for i in range(8):\n",
    "    z = N(l[i])\n",
    "    l.append(z)"
   ]
  },
  {
   "cell_type": "code",
   "execution_count": 20,
   "metadata": {
    "slideshow": {
     "slide_type": "skip"
    }
   },
   "outputs": [
    {
     "data": {
      "text/plain": [
       "[0.5773502691896258,\n",
       " 222221.7560939099,\n",
       " 148149.07405719586,\n",
       " 98766.46604358389,\n",
       " 65844.091950192,\n",
       " 43895.920678771174,\n",
       " 29263.96470188459,\n",
       " 19509.316399357514,\n",
       " 13006.214032287608]"
      ]
     },
     "execution_count": 20,
     "metadata": {},
     "output_type": "execute_result"
    }
   ],
   "source": [
    "l"
   ]
  }
 ],
 "metadata": {
  "kernelspec": {
   "display_name": "Python 3",
   "language": "python",
   "name": "python3"
  },
  "language_info": {
   "codemirror_mode": {
    "name": "ipython",
    "version": 3
   },
   "file_extension": ".py",
   "mimetype": "text/x-python",
   "name": "python",
   "nbconvert_exporter": "python",
   "pygments_lexer": "ipython3",
   "version": "3.8.3"
  },
  "widgets": {
   "application/vnd.jupyter.widget-state+json": {
    "state": {
     "027d430ad9954adcae67b7028244c04b": {
      "model_module": "@jupyter-widgets/base",
      "model_module_version": "1.2.0",
      "model_name": "LayoutModel",
      "state": {
       "_model_module": "@jupyter-widgets/base",
       "_model_module_version": "1.2.0",
       "_model_name": "LayoutModel",
       "_view_count": null,
       "_view_module": "@jupyter-widgets/base",
       "_view_module_version": "1.2.0",
       "_view_name": "LayoutView",
       "align_content": null,
       "align_items": null,
       "align_self": null,
       "border": null,
       "bottom": null,
       "display": null,
       "flex": null,
       "flex_flow": null,
       "grid_area": null,
       "grid_auto_columns": null,
       "grid_auto_flow": null,
       "grid_auto_rows": null,
       "grid_column": null,
       "grid_gap": null,
       "grid_row": null,
       "grid_template_areas": null,
       "grid_template_columns": null,
       "grid_template_rows": null,
       "height": null,
       "justify_content": null,
       "justify_items": null,
       "left": null,
       "margin": null,
       "max_height": null,
       "max_width": null,
       "min_height": null,
       "min_width": null,
       "object_fit": null,
       "object_position": null,
       "order": null,
       "overflow": null,
       "overflow_x": null,
       "overflow_y": null,
       "padding": null,
       "right": null,
       "top": null,
       "visibility": null,
       "width": null
      }
     },
     "0955efe65f954784add4fa3a9e11722f": {
      "model_module": "@jupyter-widgets/controls",
      "model_module_version": "1.5.0",
      "model_name": "FloatSliderModel",
      "state": {
       "_dom_classes": [],
       "_model_module": "@jupyter-widgets/controls",
       "_model_module_version": "1.5.0",
       "_model_name": "FloatSliderModel",
       "_view_count": null,
       "_view_module": "@jupyter-widgets/controls",
       "_view_module_version": "1.5.0",
       "_view_name": "FloatSliderView",
       "continuous_update": true,
       "description": "x0",
       "description_tooltip": null,
       "disabled": false,
       "layout": "IPY_MODEL_c104a5455bbc499ea1ab303a136bd386",
       "max": 6.0,
       "min": -2.0,
       "orientation": "horizontal",
       "readout": true,
       "readout_format": ".2f",
       "step": 0.1,
       "style": "IPY_MODEL_f96394b14a91423f8c52bad57e932d96",
       "value": 2.0
      }
     },
     "27bd3fd047e34641b54a6a852b51ff31": {
      "model_module": "@jupyter-widgets/base",
      "model_module_version": "1.2.0",
      "model_name": "LayoutModel",
      "state": {
       "_model_module": "@jupyter-widgets/base",
       "_model_module_version": "1.2.0",
       "_model_name": "LayoutModel",
       "_view_count": null,
       "_view_module": "@jupyter-widgets/base",
       "_view_module_version": "1.2.0",
       "_view_name": "LayoutView",
       "align_content": null,
       "align_items": null,
       "align_self": null,
       "border": null,
       "bottom": null,
       "display": null,
       "flex": null,
       "flex_flow": null,
       "grid_area": null,
       "grid_auto_columns": null,
       "grid_auto_flow": null,
       "grid_auto_rows": null,
       "grid_column": null,
       "grid_gap": null,
       "grid_row": null,
       "grid_template_areas": null,
       "grid_template_columns": null,
       "grid_template_rows": null,
       "height": null,
       "justify_content": null,
       "justify_items": null,
       "left": null,
       "margin": null,
       "max_height": null,
       "max_width": null,
       "min_height": null,
       "min_width": null,
       "object_fit": null,
       "object_position": null,
       "order": null,
       "overflow": null,
       "overflow_x": null,
       "overflow_y": null,
       "padding": null,
       "right": null,
       "top": null,
       "visibility": null,
       "width": null
      }
     },
     "2dbc9916156a40ff9c56e48a5c33d10d": {
      "model_module": "@jupyter-widgets/base",
      "model_module_version": "1.2.0",
      "model_name": "LayoutModel",
      "state": {
       "_model_module": "@jupyter-widgets/base",
       "_model_module_version": "1.2.0",
       "_model_name": "LayoutModel",
       "_view_count": null,
       "_view_module": "@jupyter-widgets/base",
       "_view_module_version": "1.2.0",
       "_view_name": "LayoutView",
       "align_content": null,
       "align_items": null,
       "align_self": null,
       "border": null,
       "bottom": null,
       "display": null,
       "flex": null,
       "flex_flow": null,
       "grid_area": null,
       "grid_auto_columns": null,
       "grid_auto_flow": null,
       "grid_auto_rows": null,
       "grid_column": null,
       "grid_gap": null,
       "grid_row": null,
       "grid_template_areas": null,
       "grid_template_columns": null,
       "grid_template_rows": null,
       "height": null,
       "justify_content": null,
       "justify_items": null,
       "left": null,
       "margin": null,
       "max_height": null,
       "max_width": null,
       "min_height": null,
       "min_width": null,
       "object_fit": null,
       "object_position": null,
       "order": null,
       "overflow": null,
       "overflow_x": null,
       "overflow_y": null,
       "padding": null,
       "right": null,
       "top": null,
       "visibility": null,
       "width": null
      }
     },
     "2df8ecd974a8455bb5ac1a059574925a": {
      "model_module": "@jupyter-widgets/controls",
      "model_module_version": "1.5.0",
      "model_name": "VBoxModel",
      "state": {
       "_dom_classes": [
        "widget-interact"
       ],
       "_model_module": "@jupyter-widgets/controls",
       "_model_module_version": "1.5.0",
       "_model_name": "VBoxModel",
       "_view_count": null,
       "_view_module": "@jupyter-widgets/controls",
       "_view_module_version": "1.5.0",
       "_view_name": "VBoxView",
       "box_style": "",
       "children": [
        "IPY_MODEL_0955efe65f954784add4fa3a9e11722f",
        "IPY_MODEL_bcf276e5283947748a5ae82a3fe77ff6",
        "IPY_MODEL_ae60a4adc9a24e509102c9f1ef37daa0"
       ],
       "layout": "IPY_MODEL_9cb23a4bdf454fecb3973429b78f503c"
      }
     },
     "30a9299b3e57407dba9cbb85e3332bc4": {
      "model_module": "@jupyter-widgets/output",
      "model_module_version": "1.0.0",
      "model_name": "OutputModel",
      "state": {
       "_dom_classes": [],
       "_model_module": "@jupyter-widgets/output",
       "_model_module_version": "1.0.0",
       "_model_name": "OutputModel",
       "_view_count": null,
       "_view_module": "@jupyter-widgets/output",
       "_view_module_version": "1.0.0",
       "_view_name": "OutputView",
       "layout": "IPY_MODEL_86f9a47bfc184029be10843bf3f6f4a4",
       "msg_id": "",
       "outputs": [
        {
         "name": "stdout",
         "output_type": "stream",
         "text": "[0.0, -2500.0625084350586, -1666.2643362734148, -1110.3991233297015, -739.8226689769101, -492.7722304250899]\n"
        }
       ]
      }
     },
     "37a7f7fd4fb74dc4b3ac0a7df86df7af": {
      "model_module": "@jupyter-widgets/base",
      "model_module_version": "1.2.0",
      "model_name": "LayoutModel",
      "state": {
       "_model_module": "@jupyter-widgets/base",
       "_model_module_version": "1.2.0",
       "_model_name": "LayoutModel",
       "_view_count": null,
       "_view_module": "@jupyter-widgets/base",
       "_view_module_version": "1.2.0",
       "_view_name": "LayoutView",
       "align_content": null,
       "align_items": null,
       "align_self": null,
       "border": null,
       "bottom": null,
       "display": null,
       "flex": null,
       "flex_flow": null,
       "grid_area": null,
       "grid_auto_columns": null,
       "grid_auto_flow": null,
       "grid_auto_rows": null,
       "grid_column": null,
       "grid_gap": null,
       "grid_row": null,
       "grid_template_areas": null,
       "grid_template_columns": null,
       "grid_template_rows": null,
       "height": null,
       "justify_content": null,
       "justify_items": null,
       "left": null,
       "margin": null,
       "max_height": null,
       "max_width": null,
       "min_height": null,
       "min_width": null,
       "object_fit": null,
       "object_position": null,
       "order": null,
       "overflow": null,
       "overflow_x": null,
       "overflow_y": null,
       "padding": null,
       "right": null,
       "top": null,
       "visibility": null,
       "width": null
      }
     },
     "5584cb3b28a4489e8e9e6e265aba03cd": {
      "model_module": "@jupyter-widgets/controls",
      "model_module_version": "1.5.0",
      "model_name": "SliderStyleModel",
      "state": {
       "_model_module": "@jupyter-widgets/controls",
       "_model_module_version": "1.5.0",
       "_model_name": "SliderStyleModel",
       "_view_count": null,
       "_view_module": "@jupyter-widgets/base",
       "_view_module_version": "1.2.0",
       "_view_name": "StyleView",
       "description_width": "",
       "handle_color": null
      }
     },
     "7fe0262efc5f4440bba79934052dd737": {
      "model_module": "@jupyter-widgets/controls",
      "model_module_version": "1.5.0",
      "model_name": "FloatSliderModel",
      "state": {
       "_dom_classes": [],
       "_model_module": "@jupyter-widgets/controls",
       "_model_module_version": "1.5.0",
       "_model_name": "FloatSliderModel",
       "_view_count": null,
       "_view_module": "@jupyter-widgets/controls",
       "_view_module_version": "1.5.0",
       "_view_name": "FloatSliderView",
       "continuous_update": true,
       "description": "x0",
       "description_tooltip": null,
       "disabled": false,
       "layout": "IPY_MODEL_37a7f7fd4fb74dc4b3ac0a7df86df7af",
       "max": 2.0,
       "min": -2.0,
       "orientation": "horizontal",
       "readout": true,
       "readout_format": ".2f",
       "step": 0.1,
       "style": "IPY_MODEL_a8bb1a034a94409fb53fdbad237227e3",
       "value": 0.0
      }
     },
     "84d1b776235245bd8d7e0459dac72bad": {
      "model_module": "@jupyter-widgets/controls",
      "model_module_version": "1.5.0",
      "model_name": "SliderStyleModel",
      "state": {
       "_model_module": "@jupyter-widgets/controls",
       "_model_module_version": "1.5.0",
       "_model_name": "SliderStyleModel",
       "_view_count": null,
       "_view_module": "@jupyter-widgets/base",
       "_view_module_version": "1.2.0",
       "_view_name": "StyleView",
       "description_width": "",
       "handle_color": null
      }
     },
     "86f9a47bfc184029be10843bf3f6f4a4": {
      "model_module": "@jupyter-widgets/base",
      "model_module_version": "1.2.0",
      "model_name": "LayoutModel",
      "state": {
       "_model_module": "@jupyter-widgets/base",
       "_model_module_version": "1.2.0",
       "_model_name": "LayoutModel",
       "_view_count": null,
       "_view_module": "@jupyter-widgets/base",
       "_view_module_version": "1.2.0",
       "_view_name": "LayoutView",
       "align_content": null,
       "align_items": null,
       "align_self": null,
       "border": null,
       "bottom": null,
       "display": null,
       "flex": null,
       "flex_flow": null,
       "grid_area": null,
       "grid_auto_columns": null,
       "grid_auto_flow": null,
       "grid_auto_rows": null,
       "grid_column": null,
       "grid_gap": null,
       "grid_row": null,
       "grid_template_areas": null,
       "grid_template_columns": null,
       "grid_template_rows": null,
       "height": null,
       "justify_content": null,
       "justify_items": null,
       "left": null,
       "margin": null,
       "max_height": null,
       "max_width": null,
       "min_height": null,
       "min_width": null,
       "object_fit": null,
       "object_position": null,
       "order": null,
       "overflow": null,
       "overflow_x": null,
       "overflow_y": null,
       "padding": null,
       "right": null,
       "top": null,
       "visibility": null,
       "width": null
      }
     },
     "9a30724f0cce40058381f311f3498578": {
      "model_module": "@jupyter-widgets/controls",
      "model_module_version": "1.5.0",
      "model_name": "IntSliderModel",
      "state": {
       "_dom_classes": [],
       "_model_module": "@jupyter-widgets/controls",
       "_model_module_version": "1.5.0",
       "_model_name": "IntSliderModel",
       "_view_count": null,
       "_view_module": "@jupyter-widgets/controls",
       "_view_module_version": "1.5.0",
       "_view_name": "IntSliderView",
       "continuous_update": true,
       "description": "n",
       "description_tooltip": null,
       "disabled": false,
       "layout": "IPY_MODEL_ef347fd380c04fb5af2c7a07620628ce",
       "max": 10,
       "min": 0,
       "orientation": "horizontal",
       "readout": true,
       "readout_format": "d",
       "step": 1,
       "style": "IPY_MODEL_5584cb3b28a4489e8e9e6e265aba03cd",
       "value": 5
      }
     },
     "9cb23a4bdf454fecb3973429b78f503c": {
      "model_module": "@jupyter-widgets/base",
      "model_module_version": "1.2.0",
      "model_name": "LayoutModel",
      "state": {
       "_model_module": "@jupyter-widgets/base",
       "_model_module_version": "1.2.0",
       "_model_name": "LayoutModel",
       "_view_count": null,
       "_view_module": "@jupyter-widgets/base",
       "_view_module_version": "1.2.0",
       "_view_name": "LayoutView",
       "align_content": null,
       "align_items": null,
       "align_self": null,
       "border": null,
       "bottom": null,
       "display": null,
       "flex": null,
       "flex_flow": null,
       "grid_area": null,
       "grid_auto_columns": null,
       "grid_auto_flow": null,
       "grid_auto_rows": null,
       "grid_column": null,
       "grid_gap": null,
       "grid_row": null,
       "grid_template_areas": null,
       "grid_template_columns": null,
       "grid_template_rows": null,
       "height": null,
       "justify_content": null,
       "justify_items": null,
       "left": null,
       "margin": null,
       "max_height": null,
       "max_width": null,
       "min_height": null,
       "min_width": null,
       "object_fit": null,
       "object_position": null,
       "order": null,
       "overflow": null,
       "overflow_x": null,
       "overflow_y": null,
       "padding": null,
       "right": null,
       "top": null,
       "visibility": null,
       "width": null
      }
     },
     "a8bb1a034a94409fb53fdbad237227e3": {
      "model_module": "@jupyter-widgets/controls",
      "model_module_version": "1.5.0",
      "model_name": "SliderStyleModel",
      "state": {
       "_model_module": "@jupyter-widgets/controls",
       "_model_module_version": "1.5.0",
       "_model_name": "SliderStyleModel",
       "_view_count": null,
       "_view_module": "@jupyter-widgets/base",
       "_view_module_version": "1.2.0",
       "_view_name": "StyleView",
       "description_width": "",
       "handle_color": null
      }
     },
     "ae60a4adc9a24e509102c9f1ef37daa0": {
      "model_module": "@jupyter-widgets/output",
      "model_module_version": "1.0.0",
      "model_name": "OutputModel",
      "state": {
       "_dom_classes": [],
       "_model_module": "@jupyter-widgets/output",
       "_model_module_version": "1.0.0",
       "_model_name": "OutputModel",
       "_view_count": null,
       "_view_module": "@jupyter-widgets/output",
       "_view_module_version": "1.0.0",
       "_view_name": "OutputView",
       "layout": "IPY_MODEL_27bd3fd047e34641b54a6a852b51ff31",
       "msg_id": "",
       "outputs": [
        {
         "name": "stdout",
         "output_type": "stream",
         "text": "[-0.2501125112459115, 0.3284143953117059, -0.277476731512067, 0.2650410986508679, -0.395916521479287]\n"
        },
        {
         "data": {
          "image/png": "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\n",
          "text/plain": "<Figure size 720x432 with 2 Axes>"
         },
         "metadata": {
          "needs_background": "light"
         },
         "output_type": "display_data"
        }
       ]
      }
     },
     "bcf276e5283947748a5ae82a3fe77ff6": {
      "model_module": "@jupyter-widgets/controls",
      "model_module_version": "1.5.0",
      "model_name": "IntSliderModel",
      "state": {
       "_dom_classes": [],
       "_model_module": "@jupyter-widgets/controls",
       "_model_module_version": "1.5.0",
       "_model_name": "IntSliderModel",
       "_view_count": null,
       "_view_module": "@jupyter-widgets/controls",
       "_view_module_version": "1.5.0",
       "_view_name": "IntSliderView",
       "continuous_update": true,
       "description": "n",
       "description_tooltip": null,
       "disabled": false,
       "layout": "IPY_MODEL_2dbc9916156a40ff9c56e48a5c33d10d",
       "max": 10,
       "min": 0,
       "orientation": "horizontal",
       "readout": true,
       "readout_format": "d",
       "step": 1,
       "style": "IPY_MODEL_84d1b776235245bd8d7e0459dac72bad",
       "value": 5
      }
     },
     "c104a5455bbc499ea1ab303a136bd386": {
      "model_module": "@jupyter-widgets/base",
      "model_module_version": "1.2.0",
      "model_name": "LayoutModel",
      "state": {
       "_model_module": "@jupyter-widgets/base",
       "_model_module_version": "1.2.0",
       "_model_name": "LayoutModel",
       "_view_count": null,
       "_view_module": "@jupyter-widgets/base",
       "_view_module_version": "1.2.0",
       "_view_name": "LayoutView",
       "align_content": null,
       "align_items": null,
       "align_self": null,
       "border": null,
       "bottom": null,
       "display": null,
       "flex": null,
       "flex_flow": null,
       "grid_area": null,
       "grid_auto_columns": null,
       "grid_auto_flow": null,
       "grid_auto_rows": null,
       "grid_column": null,
       "grid_gap": null,
       "grid_row": null,
       "grid_template_areas": null,
       "grid_template_columns": null,
       "grid_template_rows": null,
       "height": null,
       "justify_content": null,
       "justify_items": null,
       "left": null,
       "margin": null,
       "max_height": null,
       "max_width": null,
       "min_height": null,
       "min_width": null,
       "object_fit": null,
       "object_position": null,
       "order": null,
       "overflow": null,
       "overflow_x": null,
       "overflow_y": null,
       "padding": null,
       "right": null,
       "top": null,
       "visibility": null,
       "width": null
      }
     },
     "e734ef25a9d94a949479ea8c3b1eadea": {
      "model_module": "@jupyter-widgets/controls",
      "model_module_version": "1.5.0",
      "model_name": "VBoxModel",
      "state": {
       "_dom_classes": [
        "widget-interact"
       ],
       "_model_module": "@jupyter-widgets/controls",
       "_model_module_version": "1.5.0",
       "_model_name": "VBoxModel",
       "_view_count": null,
       "_view_module": "@jupyter-widgets/controls",
       "_view_module_version": "1.5.0",
       "_view_name": "VBoxView",
       "box_style": "",
       "children": [
        "IPY_MODEL_7fe0262efc5f4440bba79934052dd737",
        "IPY_MODEL_9a30724f0cce40058381f311f3498578",
        "IPY_MODEL_30a9299b3e57407dba9cbb85e3332bc4"
       ],
       "layout": "IPY_MODEL_027d430ad9954adcae67b7028244c04b"
      }
     },
     "ef347fd380c04fb5af2c7a07620628ce": {
      "model_module": "@jupyter-widgets/base",
      "model_module_version": "1.2.0",
      "model_name": "LayoutModel",
      "state": {
       "_model_module": "@jupyter-widgets/base",
       "_model_module_version": "1.2.0",
       "_model_name": "LayoutModel",
       "_view_count": null,
       "_view_module": "@jupyter-widgets/base",
       "_view_module_version": "1.2.0",
       "_view_name": "LayoutView",
       "align_content": null,
       "align_items": null,
       "align_self": null,
       "border": null,
       "bottom": null,
       "display": null,
       "flex": null,
       "flex_flow": null,
       "grid_area": null,
       "grid_auto_columns": null,
       "grid_auto_flow": null,
       "grid_auto_rows": null,
       "grid_column": null,
       "grid_gap": null,
       "grid_row": null,
       "grid_template_areas": null,
       "grid_template_columns": null,
       "grid_template_rows": null,
       "height": null,
       "justify_content": null,
       "justify_items": null,
       "left": null,
       "margin": null,
       "max_height": null,
       "max_width": null,
       "min_height": null,
       "min_width": null,
       "object_fit": null,
       "object_position": null,
       "order": null,
       "overflow": null,
       "overflow_x": null,
       "overflow_y": null,
       "padding": null,
       "right": null,
       "top": null,
       "visibility": null,
       "width": null
      }
     },
     "f96394b14a91423f8c52bad57e932d96": {
      "model_module": "@jupyter-widgets/controls",
      "model_module_version": "1.5.0",
      "model_name": "SliderStyleModel",
      "state": {
       "_model_module": "@jupyter-widgets/controls",
       "_model_module_version": "1.5.0",
       "_model_name": "SliderStyleModel",
       "_view_count": null,
       "_view_module": "@jupyter-widgets/base",
       "_view_module_version": "1.2.0",
       "_view_name": "StyleView",
       "description_width": "",
       "handle_color": null
      }
     }
    },
    "version_major": 2,
    "version_minor": 0
   }
  }
 },
 "nbformat": 4,
 "nbformat_minor": 4
}