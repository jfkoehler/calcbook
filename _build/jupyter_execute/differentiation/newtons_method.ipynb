{
 "cells": [
  {
   "cell_type": "markdown",
   "metadata": {
    "slideshow": {
     "slide_type": "skip"
    }
   },
   "source": [
    "<script>\n",
    "  (function(i,s,o,g,r,a,m){i['GoogleAnalyticsObject']=r;i[r]=i[r]||function(){\n",
    "  (i[r].q=i[r].q||[]).push(arguments)},i[r].l=1*new Date();a=s.createElement(o),\n",
    "  m=s.getElementsByTagName(o)[0];a.async=1;a.src=g;m.parentNode.insertBefore(a,m)\n",
    "  })(window,document,'script','https://www.google-analytics.com/analytics.js','ga');\n",
    "\n",
    "  ga('create', 'UA-50838873-3', 'auto');\n",
    "  ga('send', 'pageview');\n",
    "\n",
    "</script>"
   ]
  },
  {
   "cell_type": "code",
   "execution_count": 1,
   "metadata": {
    "collapsed": true,
    "jupyter": {
     "outputs_hidden": true
    },
    "slideshow": {
     "slide_type": "skip"
    }
   },
   "outputs": [],
   "source": [
    "import matplotlib.pyplot as plt\n",
    "import numpy as np\n",
    "import sympy as sy\n",
    "plt.style.use('seaborn-white')"
   ]
  },
  {
   "cell_type": "markdown",
   "metadata": {
    "slideshow": {
     "slide_type": "slide"
    }
   },
   "source": [
    "# Newton's Method"
   ]
  },
  {
   "cell_type": "code",
   "execution_count": 2,
   "metadata": {
    "slideshow": {
     "slide_type": "skip"
    }
   },
   "outputs": [
    {
     "data": {
      "image/png": "[encoded data removed]",
      "text/plain": [
       "<Figure size 432x288 with 1 Axes>"
      ]
     },
     "metadata": {
      "filenames": {
       "image/png": "/Users/jacobkoehler/Desktop/present/calcbook/_build/jupyter_execute/differentiation/newtons_method_3_0.png"
      },
      "needs_background": "light"
     },
     "output_type": "display_data"
    }
   ],
   "source": [
    "def f(x):\n",
    "    return x**6 - 1.4\n",
    "\n",
    "def df(a):\n",
    "    return (f(a + 0.00001) - f(a))/0.00001\n",
    "\n",
    "def tan_line(a):\n",
    "    return df(a)*(x - a) + f(a)\n",
    "\n",
    "def n(a):\n",
    "    return a - f(a)/df(a)\n",
    "\n",
    "x = np.linspace(-3,3,1000)\n",
    "ax = plt.figure()\n",
    "plt.plot(x, f(x))\n",
    "plt.plot(x, tan_line(1.3), color = 'red')\n",
    "\n",
    "plt.xlim(0.4, 1.4)\n",
    "plt.ylim(-3,5)\n",
    "plt.axhline(color = 'black')\n",
    "plt.axvline(color = 'black')\n",
    "plt.axvline(1.3, 0.36, 0.8, color = 'black')\n",
    "plt.text(1.3, -0.6, \"$x_0$\", fontsize = 18)\n",
    "\n",
    "\n",
    "plt.plot(1.3, 0, 'o', color = 'black')\n",
    "plt.plot(n(1.3), 0, 'o', color = 'black')\n",
    "plt.text(n(1.3), -0.6, \"$x_1$\", fontsize = 18)\n",
    "plt.title(\"Finding the next Approximation \\nin Newton's Method\", loc = 'left')\n",
    "plt.savefig('images/newton2.png')"
   ]
  },
  {
   "cell_type": "markdown",
   "metadata": {
    "slideshow": {
     "slide_type": "slide"
    }
   },
   "source": [
    "**PROBLEM**\n",
    "\n",
    "1. Find a formula for $x_1$ in terms of $x_0$.\n",
    "\n",
    "2. Find a formula for $x_2$ in terms of $x_0$.\n",
    "\n",
    "3. Find a general formula for $x_{n+1}$ in terms of $x_n$.\n",
    "\n",
    "![](images/newton2.png)"
   ]
  },
  {
   "cell_type": "markdown",
   "metadata": {
    "slideshow": {
     "slide_type": "slide"
    }
   },
   "source": [
    "Tangent line at $x_0$ has goes through the point $(x_0, f(x_0)$ with slope $f'(x_0)$.  From here, we can use our point slope form of a linear function and write:\n",
    "\n",
    "$$y - y_0 = m(x-x_0)$$\n",
    "\n",
    "as\n",
    "\n",
    "$$y - f(x_0) = f'(x_0)(x - x_0)$$\n",
    "\n",
    "or \n",
    "\n",
    "$$y = f'(x_0)(x - x_0) + f(x_0)$$\n",
    "\n",
    "The value for $x_1$ is when this line crosses the $x$-axis, or when $y = 0$.  Hence\n",
    "\n",
    "$$0 = f'(x_0)(x_1 - x_0) + f(x_0)$$\n",
    "\n",
    "or after solving for $x_1$ we have\n",
    "\n",
    "$$x_1 = x_0 - \\frac{f(x_0)}{f'(x_0)}$$"
   ]
  },
  {
   "cell_type": "markdown",
   "metadata": {
    "slideshow": {
     "slide_type": "slide"
    }
   },
   "source": [
    "**Problem**\n",
    "\n",
    "1. Graph the function $f(x) = x^3 -4x^2 -1$, note the one solution.\n",
    "\n",
    "2. Use Newton's Method with $x_0=5$ to find $x_1$ and $x_2$.\n",
    "\n",
    "3. Use the computer to find the $x_8$.\n",
    "\n",
    "4. Repeat with $x_0 = 2$, what do you notice?\n",
    "\n",
    "5. Now try with $x_0 = 0$.  What's happening?\n",
    "\n"
   ]
  },
  {
   "cell_type": "code",
   "execution_count": 3,
   "metadata": {
    "collapsed": true,
    "jupyter": {
     "outputs_hidden": true
    },
    "slideshow": {
     "slide_type": "slide"
    }
   },
   "outputs": [],
   "source": [
    "#define our function f\n",
    "def f(x):\n",
    "    return x**3 - 4*x**2 - 1\n",
    "\n",
    "#define a derivative function using h = 0.0001\n",
    "def df(x):\n",
    "    return (f(x + 0.0001) - f(x))/0.0001"
   ]
  },
  {
   "cell_type": "code",
   "execution_count": 4,
   "metadata": {
    "slideshow": {
     "slide_type": "subslide"
    }
   },
   "outputs": [
    {
     "name": "stdout",
     "output_type": "stream",
     "text": [
      "Our first approximation x1 =  4.314307264821802\n"
     ]
    }
   ],
   "source": [
    "#define x1 using the formula developed above\n",
    "x1 = 5 - f(5)/df(5)\n",
    "print(\"Our first approximation x1 = \", x1)"
   ]
  },
  {
   "cell_type": "code",
   "execution_count": 5,
   "metadata": {
    "slideshow": {
     "slide_type": "subslide"
    }
   },
   "outputs": [
    {
     "name": "stdout",
     "output_type": "stream",
     "text": [
      "Second approximation is:  4.0868741600614715\n"
     ]
    }
   ],
   "source": [
    "#repeat procedure above for our second approximation\n",
    "x2 = x1 - f(x1)/df(x1)\n",
    "print(\"Second approximation is: \", x2)"
   ]
  },
  {
   "cell_type": "code",
   "execution_count": 6,
   "metadata": {
    "slideshow": {
     "slide_type": "fragment"
    }
   },
   "outputs": [
    {
     "name": "stdout",
     "output_type": "stream",
     "text": [
      "Our  0 approximation is  4.314307264821802\n",
      "Our  1 approximation is  4.0868741600614715\n",
      "Our  2 approximation is  4.060973545033629\n",
      "Our  3 approximation is  4.060647094636585\n",
      "Our  4 approximation is  4.060647027557377\n",
      "Our  5 approximation is  4.060647027554143\n",
      "Our  6 approximation is  4.060647027554142\n",
      "Our  7 approximation is  4.060647027554142\n",
      "Our  8 approximation is  4.060647027554142\n",
      "Our  9 approximation is  4.060647027554142\n"
     ]
    }
   ],
   "source": [
    "approximations = [5]\n",
    "for i in range(10):\n",
    "    next = approximations[i] - f(approximations[i])/df(approximations[i])\n",
    "    print(\"Our \", i, \"approximation is \", next)\n",
    "    approximations.append(next)"
   ]
  },
  {
   "cell_type": "code",
   "execution_count": 7,
   "metadata": {
    "slideshow": {
     "slide_type": "fragment"
    }
   },
   "outputs": [
    {
     "data": {
      "text/plain": [
       "4.060647027554142"
      ]
     },
     "execution_count": 7,
     "metadata": {},
     "output_type": "execute_result"
    }
   ],
   "source": [
    "approximations[8]"
   ]
  },
  {
   "cell_type": "code",
   "execution_count": 8,
   "metadata": {
    "slideshow": {
     "slide_type": "slide"
    }
   },
   "outputs": [
    {
     "data": {
      "text/plain": [
       "Text(0.0, 1.0, 'Approximations closing in on $x_n = 4.06065$')"
      ]
     },
     "execution_count": 8,
     "metadata": {},
     "output_type": "execute_result"
    },
    {
     "data": {
      "image/png": "[encoded data removed]",
      "text/plain": [
       "<Figure size 432x288 with 1 Axes>"
      ]
     },
     "metadata": {
      "filenames": {
       "image/png": "/Users/jacobkoehler/Desktop/present/calcbook/_build/jupyter_execute/differentiation/newtons_method_12_1.png"
      },
      "needs_background": "light"
     },
     "output_type": "display_data"
    }
   ],
   "source": [
    "plt.figure()\n",
    "plt.plot(approximations, '--o')\n",
    "plt.ylim(3, 5)\n",
    "plt.axhline(approximations[-1], linestyle = '--', color = 'red')\n",
    "plt.title(\"Approximations closing in on $x_n = 4.06065$\", loc = 'left')"
   ]
  },
  {
   "cell_type": "markdown",
   "metadata": {},
   "source": [
    "<div class=\"alert alert-success\" role=\"alert\">\n",
    "  <strong>So What?!</strong> This should mean that our original function equals zero when $x = 4.06065$.\n",
    "</div>"
   ]
  },
  {
   "cell_type": "code",
   "execution_count": 9,
   "metadata": {},
   "outputs": [
    {
     "data": {
      "text/plain": [
       "5.0476324631176794e-05"
      ]
     },
     "execution_count": 9,
     "metadata": {},
     "output_type": "execute_result"
    }
   ],
   "source": [
    "f(4.06065)"
   ]
  },
  {
   "cell_type": "code",
   "execution_count": 10,
   "metadata": {},
   "outputs": [
    {
     "data": {
      "text/plain": [
       "[2.0,\n",
       " -0.2501125112459115,\n",
       " 0.3284143953117059,\n",
       " -0.277476731512067,\n",
       " 0.2650410986508679,\n",
       " -0.395916521479287,\n",
       " 0.06848549779683089,\n",
       " -1.8380174545550845,\n",
       " -1.0037100235361796,\n",
       " -0.457084983177515,\n",
       " -0.00617702418119781]"
      ]
     },
     "execution_count": 10,
     "metadata": {},
     "output_type": "execute_result"
    }
   ],
   "source": [
    "#repeating our process above starting with x0 = 2\n",
    "approx2 = [2.0]\n",
    "for i in range(10):\n",
    "    next = approx2[i] - f(approx2[i])/df(approx2[i])\n",
    "    approx2.append(next)\n",
    "    \n",
    "approx2"
   ]
  },
  {
   "cell_type": "code",
   "execution_count": 11,
   "metadata": {},
   "outputs": [
    {
     "data": {
      "text/plain": [
       "Text(0.0, 1.0, 'Approximations Closing in on $x_n = 0$ \\nfrom $x_0 = 2$')"
      ]
     },
     "execution_count": 11,
     "metadata": {},
     "output_type": "execute_result"
    },
    {
     "data": {
      "image/png": "[encoded data removed]",
      "text/plain": [
       "<Figure size 432x288 with 1 Axes>"
      ]
     },
     "metadata": {
      "filenames": {
       "image/png": "/Users/jacobkoehler/Desktop/present/calcbook/_build/jupyter_execute/differentiation/newtons_method_16_1.png"
      },
      "needs_background": "light"
     },
     "output_type": "display_data"
    }
   ],
   "source": [
    "plt.figure()\n",
    "plt.plot(approx2, '--o')\n",
    "plt.axhline(color = 'black', linestyle = '--')\n",
    "plt.title(\"Approximations Closing in on $x_n = 0$ \\nfrom $x_0 = 2$\", loc = 'left')"
   ]
  },
  {
   "cell_type": "code",
   "execution_count": 12,
   "metadata": {},
   "outputs": [
    {
     "data": {
      "text/plain": [
       "[0.0,\n",
       " -2500.0625084350586,\n",
       " -1666.2643362734148,\n",
       " -1110.3991233297015,\n",
       " -739.8226689769101,\n",
       " -492.7722304250899,\n",
       " -328.07273331465905,\n",
       " -218.27425810421983,\n",
       " -145.0770516348452,\n",
       " -96.28156299561368,\n",
       " -63.75517373413263]"
      ]
     },
     "execution_count": 12,
     "metadata": {},
     "output_type": "execute_result"
    }
   ],
   "source": [
    "#repeating our process above starting with x0 = 2\n",
    "approx3 = [0.0]\n",
    "for i in range(10):\n",
    "    next = approx3[i] - f(approx3[i])/df(approx3[i])\n",
    "    approx3.append(next)\n",
    "    \n",
    "approx3"
   ]
  },
  {
   "cell_type": "code",
   "execution_count": 13,
   "metadata": {},
   "outputs": [
    {
     "data": {
      "text/plain": [
       "Text(1.0, 1.0, \"Different Starting Values for Newton's Methods \\nlead down different paths!\")"
      ]
     },
     "execution_count": 13,
     "metadata": {},
     "output_type": "execute_result"
    },
    {
     "data": {
      "image/png": "[encoded data removed]",
      "text/plain": [
       "<Figure size 720x432 with 1 Axes>"
      ]
     },
     "metadata": {
      "filenames": {
       "image/png": "/Users/jacobkoehler/Desktop/present/calcbook/_build/jupyter_execute/differentiation/newtons_method_18_1.png"
      },
      "needs_background": "light"
     },
     "output_type": "display_data"
    }
   ],
   "source": [
    "x = np.linspace(-6,6,1000)\n",
    "plt.figure(figsize = (10, 6))\n",
    "plt.plot(x, f(x), label = \"$f(x)$\")\n",
    "\n",
    "plt.plot(x, tan_line(5), label = \"$x_0 = 5$\")\n",
    "plt.plot(5, f(5), 'o')\n",
    "\n",
    "\n",
    "plt.plot(x, tan_line(2), label = \"$x_0 = 2$\")\n",
    "plt.plot(2, f(2), 'o')\n",
    "\n",
    "plt.plot(x, tan_line(0), color = 'indigo', label = \"$x_0 = 0$\")\n",
    "plt.plot(0, f(0), 'o')\n",
    "\n",
    "plt.ylim(f(2),f(5))\n",
    "plt.xlim(-5,5)\n",
    "plt.axhline(color = 'black')\n",
    "plt.legend(loc = 'best')\n",
    "plt.title(\"Different Starting Values for Newton's Methods \\nlead down different paths!\", loc = 'right')"
   ]
  },
  {
   "cell_type": "code",
   "execution_count": 14,
   "metadata": {},
   "outputs": [
    {
     "data": {
      "application/vnd.jupyter.widget-view+json": {
       "model_id": "a5df9a58414e4ef58663adc08941139b",
       "version_major": 2,
       "version_minor": 0
      },
      "text/plain": [
       "interactive(children=(FloatSlider(value=0.0, description='x0', max=2.0, min=-2.0), IntSlider(value=5, descript…"
      ]
     },
     "metadata": {},
     "output_type": "display_data"
    },
    {
     "data": {
      "text/plain": [
       "<function __main__.newton(x0, n)>"
      ]
     },
     "execution_count": 14,
     "metadata": {},
     "output_type": "execute_result"
    }
   ],
   "source": [
    "from ipywidgets import interact\n",
    "\n",
    "#define a function that takes in x0 and \n",
    "#n(the number of iterations) for newton's method\n",
    "\n",
    "def newton(x0, n):\n",
    "    apx = [x0]\n",
    "    for i in range( n):\n",
    "        next = apx[i] - f(apx[i])/df(apx[i])\n",
    "        apx.append(next)\n",
    "    print(apx)\n",
    "    \n",
    "\n",
    "#creates sliders for approximations to change x0 and n\n",
    "interact(newton, x0=(-2,2,0.1), n=(0,10,1))\n"
   ]
  },
  {
   "cell_type": "code",
   "execution_count": 15,
   "metadata": {},
   "outputs": [
    {
     "data": {
      "application/vnd.jupyter.widget-view+json": {
       "model_id": "d157115ad78d45ef9ff44cc19c97401c",
       "version_major": 2,
       "version_minor": 0
      },
      "text/plain": [
       "interactive(children=(FloatSlider(value=2.0, description='x0', max=6.0, min=-2.0), IntSlider(value=5, descript…"
      ]
     },
     "metadata": {},
     "output_type": "display_data"
    },
    {
     "data": {
      "text/plain": [
       "<function __main__.newton(x0, n)>"
      ]
     },
     "execution_count": 15,
     "metadata": {},
     "output_type": "execute_result"
    }
   ],
   "source": [
    "#modify the function above to include a plot\n",
    "def newton(x0, n):\n",
    "    apx = [x0]\n",
    "    for i in range( n):\n",
    "        next = apx[i] - f(apx[i])/df(apx[i])\n",
    "        apx.append(next)\n",
    "    print(apx[-5:])\n",
    "    plt.figure(figsize = (10, 6))\n",
    "    plt.subplot(121)\n",
    "    plt.plot(apx, '--o')\n",
    "    plt.ylim(-5,6)\n",
    "    plt.axhline(color = 'black')\n",
    "    plt.title(\"Approximations for zero \\nby Newton's method\", loc = 'left')\n",
    "    plt.subplot(122)\n",
    "    plt.plot(x, f(x))\n",
    "    plt.plot(x0, f(x0), 'o', color = 'black')\n",
    "    plt.plot(x, tan_line(x0))\n",
    "    plt.axhline(color = 'black')\n",
    "    plt.ylim(f(2.6),f(6))\n",
    "    plt.title(\"Plot of $f$ and the tangent at $x_0$\", loc = 'left')\n",
    "   \n",
    "\n",
    "interact(newton, x0=(-2,6,0.1), n=(0,10,1))"
   ]
  },
  {
   "cell_type": "markdown",
   "metadata": {
    "slideshow": {
     "slide_type": "slide"
    }
   },
   "source": [
    "**Problem**\n",
    "\n",
    "1. Recall the distance formula \n",
    "\n",
    "$$D = \\sqrt{(x_2 - x_1)^2  + (y_2 - y_1)^2}$$\n",
    "\n",
    "Write an equation that gives the distance from any point on the curve $y = 1/x$ to the point $(1,0)$.\n",
    "\n",
    "2. Minimize this distance using Newton's method to find critical points."
   ]
  },
  {
   "cell_type": "markdown",
   "metadata": {
    "slideshow": {
     "slide_type": "slide"
    }
   },
   "source": [
    "**Problem**\n",
    "\n",
    "Consider $f(x) = x^3 - x$.  \n",
    "\n",
    "a. Argue that if $x_0 > \\frac{1}{\\sqrt{3}}$, then Newton's Method will converge to the solution 1.  Therefore, by symmetry, if $x_0 < \\frac{-1}{\\sqrt{3}}$, Newton's Method will converge to the solution $-1$. \n",
    "\n",
    "b. What happens when $x_0 = 1/\\sqrt{3}$?\n",
    "\n",
    "c. Demonstrate Algebraically and with the computer that if we start with $x_0 = 1/\\sqrt{5}$, we do not converge to a solution.\n",
    "\n",
    "d. Some interesting behavior occurs between $1/\\sqrt{5} < x_0 < 1/\\sqrt{3}$.  Fill in the following table and discuss the consequences of your observation.\n",
    "\n",
    "<table style=\"width:100%\">\n",
    "  <tr>\n",
    "    <th>$x_0$</th>\n",
    "    <th>Solution Found</th> \n",
    "  </tr>\n",
    "  <tr>\n",
    "    <td>0.577</td>\n",
    "    <td></td> \n",
    "  </tr>\n",
    "  <tr>\n",
    "    <td>0.578</td>\n",
    "    <td></td> \n",
    "  </tr>\n",
    "  <tr>\n",
    "    <td>0.460</td>\n",
    "    <td></td> \n",
    "  </tr>\n",
    "  <tr>\n",
    "    <td>0.466</td>\n",
    "    <td></td> \n",
    "  </tr>\n",
    "  <tr>\n",
    "    <td>0.44722</td>\n",
    "    <td></td> \n",
    "  </tr>\n",
    "  <tr>\n",
    "    <td>0.44723</td>\n",
    "    <td></td> \n",
    "  </tr>\n",
    "</table>"
   ]
  },
  {
   "cell_type": "code",
   "execution_count": 16,
   "metadata": {
    "collapsed": true,
    "jupyter": {
     "outputs_hidden": true
    },
    "slideshow": {
     "slide_type": "skip"
    }
   },
   "outputs": [],
   "source": [
    "def df(x):\n",
    "    dx = 0.000001\n",
    "    return (f(x + dx) - f(x))/dx\n",
    "\n",
    "def f(x):\n",
    "    return x**3 - x"
   ]
  },
  {
   "cell_type": "code",
   "execution_count": 17,
   "metadata": {
    "collapsed": true,
    "jupyter": {
     "outputs_hidden": true
    },
    "slideshow": {
     "slide_type": "skip"
    }
   },
   "outputs": [],
   "source": [
    "def N(x):\n",
    "    return x - f(x)/df(x)"
   ]
  },
  {
   "cell_type": "code",
   "execution_count": 18,
   "metadata": {
    "slideshow": {
     "slide_type": "skip"
    }
   },
   "outputs": [
    {
     "data": {
      "text/plain": [
       "1.0"
      ]
     },
     "execution_count": 18,
     "metadata": {},
     "output_type": "execute_result"
    }
   ],
   "source": [
    "N(1)"
   ]
  },
  {
   "cell_type": "code",
   "execution_count": 19,
   "metadata": {
    "collapsed": true,
    "jupyter": {
     "outputs_hidden": true
    },
    "slideshow": {
     "slide_type": "skip"
    }
   },
   "outputs": [],
   "source": [
    "l = [1/np.sqrt(3)]\n",
    "for i in range(8):\n",
    "    z = N(l[i])\n",
    "    l.append(z)"
   ]
  },
  {
   "cell_type": "code",
   "execution_count": 20,
   "metadata": {
    "slideshow": {
     "slide_type": "skip"
    }
   },
   "outputs": [
    {
     "data": {
      "text/plain": [
       "[0.5773502691896258,\n",
       " 222221.7560939099,\n",
       " 148149.07405719586,\n",
       " 98766.46604358389,\n",
       " 65844.091950192,\n",
       " 43895.920678771174,\n",
       " 29263.96470188459,\n",
       " 19509.316399357514,\n",
       " 13006.214032287608]"
      ]
     },
     "execution_count": 20,
     "metadata": {},
     "output_type": "execute_result"
    }
   ],
   "source": [
    "l"
   ]
  }
 ],
 "metadata": {
  "kernelspec": {
   "display_name": "Python 3",
   "language": "python",
   "name": "python3"
  },
  "language_info": {
   "codemirror_mode": {
    "name": "ipython",
    "version": 3
   },
   "file_extension": ".py",
   "mimetype": "text/x-python",
   "name": "python",
   "nbconvert_exporter": "python",
   "pygments_lexer": "ipython3",
   "version": "3.7.4"
  },
  "widgets": {
   "application/vnd.jupyter.widget-state+json": {
    "state": {
     "01ab8a2f12e544319eb794b0ef178f0e": {
      "model_module": "@jupyter-widgets/controls",
      "model_module_version": "1.5.0",
      "model_name": "SliderStyleModel",
      "state": {
       "_model_module": "@jupyter-widgets/controls",
       "_model_module_version": "1.5.0",
       "_model_name": "SliderStyleModel",
       "_view_count": null,
       "_view_module": "@jupyter-widgets/base",
       "_view_module_version": "1.2.0",
       "_view_name": "StyleView",
       "description_width": "",
       "handle_color": null
      }
     },
     "054ff45c956848c6abf36015212f34a2": {
      "model_module": "@jupyter-widgets/output",
      "model_module_version": "1.0.0",
      "model_name": "OutputModel",
      "state": {
       "_dom_classes": [],
       "_model_module": "@jupyter-widgets/output",
       "_model_module_version": "1.0.0",
       "_model_name": "OutputModel",
       "_view_count": null,
       "_view_module": "@jupyter-widgets/output",
       "_view_module_version": "1.0.0",
       "_view_name": "OutputView",
       "layout": "IPY_MODEL_ab6c85ab47ee45e6bc36437e9b2373f5",
       "msg_id": "",
       "outputs": [
        {
         "name": "stdout",
         "output_type": "stream",
         "text": "[0.0, -2500.0625084350586, -1666.2643362734148, -1110.3991233297015, -739.8226689769101, -492.7722304250899]\n"
        }
       ]
      }
     },
     "0ad80e02949048a19760cf08f13c9b22": {
      "model_module": "@jupyter-widgets/controls",
      "model_module_version": "1.5.0",
      "model_name": "FloatSliderModel",
      "state": {
       "_dom_classes": [],
       "_model_module": "@jupyter-widgets/controls",
       "_model_module_version": "1.5.0",
       "_model_name": "FloatSliderModel",
       "_view_count": null,
       "_view_module": "@jupyter-widgets/controls",
       "_view_module_version": "1.5.0",
       "_view_name": "FloatSliderView",
       "continuous_update": true,
       "description": "x0",
       "description_tooltip": null,
       "disabled": false,
       "layout": "IPY_MODEL_64732d9438be4d6094bee1422de57a7c",
       "max": 6.0,
       "min": -2.0,
       "orientation": "horizontal",
       "readout": true,
       "readout_format": ".2f",
       "step": 0.1,
       "style": "IPY_MODEL_55291482880e4ecd9d259481bb0b4f28",
       "value": 2.0
      }
     },
     "1ff757f5e35645d286d4e4f2ec942a4e": {
      "model_module": "@jupyter-widgets/controls",
      "model_module_version": "1.5.0",
      "model_name": "SliderStyleModel",
      "state": {
       "_model_module": "@jupyter-widgets/controls",
       "_model_module_version": "1.5.0",
       "_model_name": "SliderStyleModel",
       "_view_count": null,
       "_view_module": "@jupyter-widgets/base",
       "_view_module_version": "1.2.0",
       "_view_name": "StyleView",
       "description_width": "",
       "handle_color": null
      }
     },
     "367cca8ec2a84f4ea6044104c20f1522": {
      "model_module": "@jupyter-widgets/base",
      "model_module_version": "1.2.0",
      "model_name": "LayoutModel",
      "state": {
       "_model_module": "@jupyter-widgets/base",
       "_model_module_version": "1.2.0",
       "_model_name": "LayoutModel",
       "_view_count": null,
       "_view_module": "@jupyter-widgets/base",
       "_view_module_version": "1.2.0",
       "_view_name": "LayoutView",
       "align_content": null,
       "align_items": null,
       "align_self": null,
       "border": null,
       "bottom": null,
       "display": null,
       "flex": null,
       "flex_flow": null,
       "grid_area": null,
       "grid_auto_columns": null,
       "grid_auto_flow": null,
       "grid_auto_rows": null,
       "grid_column": null,
       "grid_gap": null,
       "grid_row": null,
       "grid_template_areas": null,
       "grid_template_columns": null,
       "grid_template_rows": null,
       "height": null,
       "justify_content": null,
       "justify_items": null,
       "left": null,
       "margin": null,
       "max_height": null,
       "max_width": null,
       "min_height": null,
       "min_width": null,
       "object_fit": null,
       "object_position": null,
       "order": null,
       "overflow": null,
       "overflow_x": null,
       "overflow_y": null,
       "padding": null,
       "right": null,
       "top": null,
       "visibility": null,
       "width": null
      }
     },
     "4d5fe3bd866b42b6883f88c0494a768b": {
      "model_module": "@jupyter-widgets/base",
      "model_module_version": "1.2.0",
      "model_name": "LayoutModel",
      "state": {
       "_model_module": "@jupyter-widgets/base",
       "_model_module_version": "1.2.0",
       "_model_name": "LayoutModel",
       "_view_count": null,
       "_view_module": "@jupyter-widgets/base",
       "_view_module_version": "1.2.0",
       "_view_name": "LayoutView",
       "align_content": null,
       "align_items": null,
       "align_self": null,
       "border": null,
       "bottom": null,
       "display": null,
       "flex": null,
       "flex_flow": null,
       "grid_area": null,
       "grid_auto_columns": null,
       "grid_auto_flow": null,
       "grid_auto_rows": null,
       "grid_column": null,
       "grid_gap": null,
       "grid_row": null,
       "grid_template_areas": null,
       "grid_template_columns": null,
       "grid_template_rows": null,
       "height": null,
       "justify_content": null,
       "justify_items": null,
       "left": null,
       "margin": null,
       "max_height": null,
       "max_width": null,
       "min_height": null,
       "min_width": null,
       "object_fit": null,
       "object_position": null,
       "order": null,
       "overflow": null,
       "overflow_x": null,
       "overflow_y": null,
       "padding": null,
       "right": null,
       "top": null,
       "visibility": null,
       "width": null
      }
     },
     "55291482880e4ecd9d259481bb0b4f28": {
      "model_module": "@jupyter-widgets/controls",
      "model_module_version": "1.5.0",
      "model_name": "SliderStyleModel",
      "state": {
       "_model_module": "@jupyter-widgets/controls",
       "_model_module_version": "1.5.0",
       "_model_name": "SliderStyleModel",
       "_view_count": null,
       "_view_module": "@jupyter-widgets/base",
       "_view_module_version": "1.2.0",
       "_view_name": "StyleView",
       "description_width": "",
       "handle_color": null
      }
     },
     "64732d9438be4d6094bee1422de57a7c": {
      "model_module": "@jupyter-widgets/base",
      "model_module_version": "1.2.0",
      "model_name": "LayoutModel",
      "state": {
       "_model_module": "@jupyter-widgets/base",
       "_model_module_version": "1.2.0",
       "_model_name": "LayoutModel",
       "_view_count": null,
       "_view_module": "@jupyter-widgets/base",
       "_view_module_version": "1.2.0",
       "_view_name": "LayoutView",
       "align_content": null,
       "align_items": null,
       "align_self": null,
       "border": null,
       "bottom": null,
       "display": null,
       "flex": null,
       "flex_flow": null,
       "grid_area": null,
       "grid_auto_columns": null,
       "grid_auto_flow": null,
       "grid_auto_rows": null,
       "grid_column": null,
       "grid_gap": null,
       "grid_row": null,
       "grid_template_areas": null,
       "grid_template_columns": null,
       "grid_template_rows": null,
       "height": null,
       "justify_content": null,
       "justify_items": null,
       "left": null,
       "margin": null,
       "max_height": null,
       "max_width": null,
       "min_height": null,
       "min_width": null,
       "object_fit": null,
       "object_position": null,
       "order": null,
       "overflow": null,
       "overflow_x": null,
       "overflow_y": null,
       "padding": null,
       "right": null,
       "top": null,
       "visibility": null,
       "width": null
      }
     },
     "6cdfbe996281418cac23d6b80ea7adf0": {
      "model_module": "@jupyter-widgets/controls",
      "model_module_version": "1.5.0",
      "model_name": "SliderStyleModel",
      "state": {
       "_model_module": "@jupyter-widgets/controls",
       "_model_module_version": "1.5.0",
       "_model_name": "SliderStyleModel",
       "_view_count": null,
       "_view_module": "@jupyter-widgets/base",
       "_view_module_version": "1.2.0",
       "_view_name": "StyleView",
       "description_width": "",
       "handle_color": null
      }
     },
     "8a2ecf346516491898cc000179f2b371": {
      "model_module": "@jupyter-widgets/base",
      "model_module_version": "1.2.0",
      "model_name": "LayoutModel",
      "state": {
       "_model_module": "@jupyter-widgets/base",
       "_model_module_version": "1.2.0",
       "_model_name": "LayoutModel",
       "_view_count": null,
       "_view_module": "@jupyter-widgets/base",
       "_view_module_version": "1.2.0",
       "_view_name": "LayoutView",
       "align_content": null,
       "align_items": null,
       "align_self": null,
       "border": null,
       "bottom": null,
       "display": null,
       "flex": null,
       "flex_flow": null,
       "grid_area": null,
       "grid_auto_columns": null,
       "grid_auto_flow": null,
       "grid_auto_rows": null,
       "grid_column": null,
       "grid_gap": null,
       "grid_row": null,
       "grid_template_areas": null,
       "grid_template_columns": null,
       "grid_template_rows": null,
       "height": null,
       "justify_content": null,
       "justify_items": null,
       "left": null,
       "margin": null,
       "max_height": null,
       "max_width": null,
       "min_height": null,
       "min_width": null,
       "object_fit": null,
       "object_position": null,
       "order": null,
       "overflow": null,
       "overflow_x": null,
       "overflow_y": null,
       "padding": null,
       "right": null,
       "top": null,
       "visibility": null,
       "width": null
      }
     },
     "a5df9a58414e4ef58663adc08941139b": {
      "model_module": "@jupyter-widgets/controls",
      "model_module_version": "1.5.0",
      "model_name": "VBoxModel",
      "state": {
       "_dom_classes": [
        "widget-interact"
       ],
       "_model_module": "@jupyter-widgets/controls",
       "_model_module_version": "1.5.0",
       "_model_name": "VBoxModel",
       "_view_count": null,
       "_view_module": "@jupyter-widgets/controls",
       "_view_module_version": "1.5.0",
       "_view_name": "VBoxView",
       "box_style": "",
       "children": [
        "IPY_MODEL_a666d2e1b2914ba9860bb5f5391f1d79",
        "IPY_MODEL_c131c3edfa02463f84476c27b66ba7ed",
        "IPY_MODEL_054ff45c956848c6abf36015212f34a2"
       ],
       "layout": "IPY_MODEL_da5a8167fbd540b2a549d4099d125011"
      }
     },
     "a666d2e1b2914ba9860bb5f5391f1d79": {
      "model_module": "@jupyter-widgets/controls",
      "model_module_version": "1.5.0",
      "model_name": "FloatSliderModel",
      "state": {
       "_dom_classes": [],
       "_model_module": "@jupyter-widgets/controls",
       "_model_module_version": "1.5.0",
       "_model_name": "FloatSliderModel",
       "_view_count": null,
       "_view_module": "@jupyter-widgets/controls",
       "_view_module_version": "1.5.0",
       "_view_name": "FloatSliderView",
       "continuous_update": true,
       "description": "x0",
       "description_tooltip": null,
       "disabled": false,
       "layout": "IPY_MODEL_8a2ecf346516491898cc000179f2b371",
       "max": 2.0,
       "min": -2.0,
       "orientation": "horizontal",
       "readout": true,
       "readout_format": ".2f",
       "step": 0.1,
       "style": "IPY_MODEL_6cdfbe996281418cac23d6b80ea7adf0",
       "value": 0.0
      }
     },
     "ab6c85ab47ee45e6bc36437e9b2373f5": {
      "model_module": "@jupyter-widgets/base",
      "model_module_version": "1.2.0",
      "model_name": "LayoutModel",
      "state": {
       "_model_module": "@jupyter-widgets/base",
       "_model_module_version": "1.2.0",
       "_model_name": "LayoutModel",
       "_view_count": null,
       "_view_module": "@jupyter-widgets/base",
       "_view_module_version": "1.2.0",
       "_view_name": "LayoutView",
       "align_content": null,
       "align_items": null,
       "align_self": null,
       "border": null,
       "bottom": null,
       "display": null,
       "flex": null,
       "flex_flow": null,
       "grid_area": null,
       "grid_auto_columns": null,
       "grid_auto_flow": null,
       "grid_auto_rows": null,
       "grid_column": null,
       "grid_gap": null,
       "grid_row": null,
       "grid_template_areas": null,
       "grid_template_columns": null,
       "grid_template_rows": null,
       "height": null,
       "justify_content": null,
       "justify_items": null,
       "left": null,
       "margin": null,
       "max_height": null,
       "max_width": null,
       "min_height": null,
       "min_width": null,
       "object_fit": null,
       "object_position": null,
       "order": null,
       "overflow": null,
       "overflow_x": null,
       "overflow_y": null,
       "padding": null,
       "right": null,
       "top": null,
       "visibility": null,
       "width": null
      }
     },
     "c131c3edfa02463f84476c27b66ba7ed": {
      "model_module": "@jupyter-widgets/controls",
      "model_module_version": "1.5.0",
      "model_name": "IntSliderModel",
      "state": {
       "_dom_classes": [],
       "_model_module": "@jupyter-widgets/controls",
       "_model_module_version": "1.5.0",
       "_model_name": "IntSliderModel",
       "_view_count": null,
       "_view_module": "@jupyter-widgets/controls",
       "_view_module_version": "1.5.0",
       "_view_name": "IntSliderView",
       "continuous_update": true,
       "description": "n",
       "description_tooltip": null,
       "disabled": false,
       "layout": "IPY_MODEL_fb129e27ed494590937cb6cb480e215c",
       "max": 10,
       "min": 0,
       "orientation": "horizontal",
       "readout": true,
       "readout_format": "d",
       "step": 1,
       "style": "IPY_MODEL_1ff757f5e35645d286d4e4f2ec942a4e",
       "value": 5
      }
     },
     "cee5744ca4fb445c9a9f18c71992b3cd": {
      "model_module": "@jupyter-widgets/controls",
      "model_module_version": "1.5.0",
      "model_name": "IntSliderModel",
      "state": {
       "_dom_classes": [],
       "_model_module": "@jupyter-widgets/controls",
       "_model_module_version": "1.5.0",
       "_model_name": "IntSliderModel",
       "_view_count": null,
       "_view_module": "@jupyter-widgets/controls",
       "_view_module_version": "1.5.0",
       "_view_name": "IntSliderView",
       "continuous_update": true,
       "description": "n",
       "description_tooltip": null,
       "disabled": false,
       "layout": "IPY_MODEL_d4d86fc0fb194273b6f4bd53f4adb75b",
       "max": 10,
       "min": 0,
       "orientation": "horizontal",
       "readout": true,
       "readout_format": "d",
       "step": 1,
       "style": "IPY_MODEL_01ab8a2f12e544319eb794b0ef178f0e",
       "value": 5
      }
     },
     "d157115ad78d45ef9ff44cc19c97401c": {
      "model_module": "@jupyter-widgets/controls",
      "model_module_version": "1.5.0",
      "model_name": "VBoxModel",
      "state": {
       "_dom_classes": [
        "widget-interact"
       ],
       "_model_module": "@jupyter-widgets/controls",
       "_model_module_version": "1.5.0",
       "_model_name": "VBoxModel",
       "_view_count": null,
       "_view_module": "@jupyter-widgets/controls",
       "_view_module_version": "1.5.0",
       "_view_name": "VBoxView",
       "box_style": "",
       "children": [
        "IPY_MODEL_0ad80e02949048a19760cf08f13c9b22",
        "IPY_MODEL_cee5744ca4fb445c9a9f18c71992b3cd",
        "IPY_MODEL_d29a482831404774854cd76096500fb3"
       ],
       "layout": "IPY_MODEL_4d5fe3bd866b42b6883f88c0494a768b"
      }
     },
     "d29a482831404774854cd76096500fb3": {
      "model_module": "@jupyter-widgets/output",
      "model_module_version": "1.0.0",
      "model_name": "OutputModel",
      "state": {
       "_dom_classes": [],
       "_model_module": "@jupyter-widgets/output",
       "_model_module_version": "1.0.0",
       "_model_name": "OutputModel",
       "_view_count": null,
       "_view_module": "@jupyter-widgets/output",
       "_view_module_version": "1.0.0",
       "_view_name": "OutputView",
       "layout": "IPY_MODEL_367cca8ec2a84f4ea6044104c20f1522",
       "msg_id": "",
       "outputs": [
        {
         "name": "stdout",
         "output_type": "stream",
         "text": "[-0.2501125112459115, 0.3284143953117059, -0.277476731512067, 0.2650410986508679, -0.395916521479287]\n"
        },
        {
         "data": {
          "image/png": "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\n",
          "text/plain": "<Figure size 720x432 with 2 Axes>"
         },
         "metadata": {
          "needs_background": "light"
         },
         "output_type": "display_data"
        }
       ]
      }
     },
     "d4d86fc0fb194273b6f4bd53f4adb75b": {
      "model_module": "@jupyter-widgets/base",
      "model_module_version": "1.2.0",
      "model_name": "LayoutModel",
      "state": {
       "_model_module": "@jupyter-widgets/base",
       "_model_module_version": "1.2.0",
       "_model_name": "LayoutModel",
       "_view_count": null,
       "_view_module": "@jupyter-widgets/base",
       "_view_module_version": "1.2.0",
       "_view_name": "LayoutView",
       "align_content": null,
       "align_items": null,
       "align_self": null,
       "border": null,
       "bottom": null,
       "display": null,
       "flex": null,
       "flex_flow": null,
       "grid_area": null,
       "grid_auto_columns": null,
       "grid_auto_flow": null,
       "grid_auto_rows": null,
       "grid_column": null,
       "grid_gap": null,
       "grid_row": null,
       "grid_template_areas": null,
       "grid_template_columns": null,
       "grid_template_rows": null,
       "height": null,
       "justify_content": null,
       "justify_items": null,
       "left": null,
       "margin": null,
       "max_height": null,
       "max_width": null,
       "min_height": null,
       "min_width": null,
       "object_fit": null,
       "object_position": null,
       "order": null,
       "overflow": null,
       "overflow_x": null,
       "overflow_y": null,
       "padding": null,
       "right": null,
       "top": null,
       "visibility": null,
       "width": null
      }
     },
     "da5a8167fbd540b2a549d4099d125011": {
      "model_module": "@jupyter-widgets/base",
      "model_module_version": "1.2.0",
      "model_name": "LayoutModel",
      "state": {
       "_model_module": "@jupyter-widgets/base",
       "_model_module_version": "1.2.0",
       "_model_name": "LayoutModel",
       "_view_count": null,
       "_view_module": "@jupyter-widgets/base",
       "_view_module_version": "1.2.0",
       "_view_name": "LayoutView",
       "align_content": null,
       "align_items": null,
       "align_self": null,
       "border": null,
       "bottom": null,
       "display": null,
       "flex": null,
       "flex_flow": null,
       "grid_area": null,
       "grid_auto_columns": null,
       "grid_auto_flow": null,
       "grid_auto_rows": null,
       "grid_column": null,
       "grid_gap": null,
       "grid_row": null,
       "grid_template_areas": null,
       "grid_template_columns": null,
       "grid_template_rows": null,
       "height": null,
       "justify_content": null,
       "justify_items": null,
       "left": null,
       "margin": null,
       "max_height": null,
       "max_width": null,
       "min_height": null,
       "min_width": null,
       "object_fit": null,
       "object_position": null,
       "order": null,
       "overflow": null,
       "overflow_x": null,
       "overflow_y": null,
       "padding": null,
       "right": null,
       "top": null,
       "visibility": null,
       "width": null
      }
     },
     "fb129e27ed494590937cb6cb480e215c": {
      "model_module": "@jupyter-widgets/base",
      "model_module_version": "1.2.0",
      "model_name": "LayoutModel",
      "state": {
       "_model_module": "@jupyter-widgets/base",
       "_model_module_version": "1.2.0",
       "_model_name": "LayoutModel",
       "_view_count": null,
       "_view_module": "@jupyter-widgets/base",
       "_view_module_version": "1.2.0",
       "_view_name": "LayoutView",
       "align_content": null,
       "align_items": null,
       "align_self": null,
       "border": null,
       "bottom": null,
       "display": null,
       "flex": null,
       "flex_flow": null,
       "grid_area": null,
       "grid_auto_columns": null,
       "grid_auto_flow": null,
       "grid_auto_rows": null,
       "grid_column": null,
       "grid_gap": null,
       "grid_row": null,
       "grid_template_areas": null,
       "grid_template_columns": null,
       "grid_template_rows": null,
       "height": null,
       "justify_content": null,
       "justify_items": null,
       "left": null,
       "margin": null,
       "max_height": null,
       "max_width": null,
       "min_height": null,
       "min_width": null,
       "object_fit": null,
       "object_position": null,
       "order": null,
       "overflow": null,
       "overflow_x": null,
       "overflow_y": null,
       "padding": null,
       "right": null,
       "top": null,
       "visibility": null,
       "width": null
      }
     }
    },
    "version_major": 2,
    "version_minor": 0
   }
  }
 },
 "nbformat": 4,
 "nbformat_minor": 4
}