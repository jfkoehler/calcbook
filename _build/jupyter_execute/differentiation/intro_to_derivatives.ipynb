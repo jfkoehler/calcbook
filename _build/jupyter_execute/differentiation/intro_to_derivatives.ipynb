{
 "cells": [
  {
   "cell_type": "markdown",
   "metadata": {},
   "source": [
    "# Introduction to Derivatives"
   ]
  },
  {
   "cell_type": "markdown",
   "metadata": {},
   "source": [
    "**OBJECTIVES**\n",
    "\n",
    "- Review the definition of the derivative\n",
    "- Use the definition to evaluate derivative at a point\n",
    "- Use symbolic rules to evaluate the derivative as a function\n",
    "- Use derivatives to describe the behavior of original function\n",
    "- Apply derivatives to solve problems dealing with particle motion\n",
    "\n",
    "<center>\n",
    "    <img src = https://upload.wikimedia.org/wikipedia/commons/thumb/0/0f/Tangent_to_a_curve.svg/440px-Tangent_to_a_curve.svg.png />\n",
    "</center>\n",
    "\n",
    "> *In mathematics, the derivative of a function of a real variable measures the sensitivity to change of the function value (output value) with respect to a change in its argument (input value). Derivatives are a fundamental tool of calculus. For example, the derivative of the position of a moving object with respect to time is the object's velocity: this measures how quickly the position of the object changes when time advances.* -- [source](https://en.wikipedia.org/wiki/Derivative)"
   ]
  },
  {
   "cell_type": "code",
   "execution_count": 1,
   "metadata": {},
   "outputs": [],
   "source": [
    "import matplotlib.pyplot as plt\n",
    "import numpy as np\n",
    "import pandas as pd\n",
    "\n",
    "import ipywidgets as widgets\n",
    "from ipywidgets import IntSlider, FloatSlider"
   ]
  },
  {
   "cell_type": "markdown",
   "metadata": {},
   "source": [
    "## Derivative: A Definition\n",
    "\n",
    "Derivatives were motivated by the formula for the slope of a line. The image below demonstrates how we consider a point $x$ and a second point distance $h$ away from $x$.\n",
    "\n",
    "<center>\n",
    "    <img src = https://upload.wikimedia.org/wikipedia/commons/thumb/6/61/Secant-calculus.svg/500px-Secant-calculus.svg.png />\n",
    "</center>\n",
    "\n",
    "\n",
    "- $\\text{Difference Quotient}:\n",
    "\\displaystyle m={\\frac {\\Delta f(a)}{\\Delta a}}={\\frac {f(a+h)-f(a)}{(a+h)-(a)}}={\\frac {f(a+h)-f(a)}{h}}.$"
   ]
  },
  {
   "cell_type": "markdown",
   "metadata": {},
   "source": [
    "To find the slope of the tangent line, we let this distance between the points approach zero.\n",
    "\n",
    "<center>\n",
    " <img src = https://upload.wikimedia.org/wikipedia/commons/c/cc/Tangent_animation.gif />\n",
    "</center>\n",
    "\n",
    "- $\\text{Using the limit:} \n",
    "~{\\displaystyle f'(a)=\\lim _{h\\to 0}{\\frac {f(a+h)-f(a)}{h}}.}$\n",
    "\n",
    "To reiterate, a result of this is a single value that represents the slope of the tangent line at $x = a$."
   ]
  },
  {
   "cell_type": "markdown",
   "metadata": {},
   "source": [
    "### EXAMPLE\n",
    "\n",
    "Suppose we have $f(x) = x^2$ and we want the *slope of the tangent line* at $x = 1$:\n",
    "\n",
    "- $\\text{Difference Quotient}: \\frac{f(1 + h) - f(1)}{h}$"
   ]
  },
  {
   "cell_type": "markdown",
   "metadata": {},
   "source": [
    "- $\\text{Plug into our function} ~ f: \\quad \\frac{(1 + h)^2 - (1)^2}{h}$"
   ]
  },
  {
   "cell_type": "markdown",
   "metadata": {},
   "source": [
    "- $\\text{Simplify:} \\quad \\frac{1 + 2h + h^2 - 1}{h}$\n",
    "\n",
    "- $\\text{Cancel 1's and factor} \\quad \\frac{h(2 + h)}{h}$"
   ]
  },
  {
   "cell_type": "markdown",
   "metadata": {},
   "source": [
    "- $f'(1) = 2 + h$"
   ]
  },
  {
   "cell_type": "markdown",
   "metadata": {},
   "source": [
    "- $\\text{Evaluate limit}: \\quad \\lim_{h \\to 0} 2 + h = 2$"
   ]
  },
  {
   "cell_type": "markdown",
   "metadata": {},
   "source": [
    "As a result of our work, we now know the slope of the line tangent to the function $f(x) = x^2$ at $x = 1$ is 2."
   ]
  },
  {
   "cell_type": "markdown",
   "metadata": {},
   "source": [
    "**QUESTIONS**\n",
    "\n",
    "- Repeat for $x = 0$\n",
    "- Consider the function $f(x) = (x - 2)^2 + 3$.  \n",
    " - Plot the function.  \n",
    " - Determine the slope of the line tangent to $f$ at $x = 2$, and $x = 3$.\n",
    " - Write the equation for the tangent line and plot this alongside the original function.\n"
   ]
  },
  {
   "cell_type": "code",
   "execution_count": null,
   "metadata": {},
   "outputs": [],
   "source": []
  },
  {
   "cell_type": "code",
   "execution_count": null,
   "metadata": {},
   "outputs": [],
   "source": []
  },
  {
   "cell_type": "code",
   "execution_count": null,
   "metadata": {},
   "outputs": [],
   "source": []
  },
  {
   "cell_type": "markdown",
   "metadata": {},
   "source": [
    "#### Notation and Rules\n",
    "\n",
    "The derivative of a function $f$ is typically written as $f'$.  If the independent variable is $x$ and dependent $y$, an equivalent expression would be written $\\frac{dy}{dx}$. Additionally, we have some straightforward rules for finding the derivative of different kinds of functions.  Below are the most basic rules, for a larger list see [link](https://openstax.org/books/calculus-volume-1/pages/b-table-of-derivatives):\n",
    "\n",
    "1. **Polynomial Functions**: $f(x) = x^n \\quad f'(x) = nx^{n-1}$\n",
    "2. **Trignometric Functions**: $\\frac{d}{dx}\\sin(x) = \\cos(x) \\quad \\frac{d}{dx}\\cos(x) = -\\sin(x)$\n",
    "3. **Exponential Functions**: $f(x) = e^x \\quad f'(x) = e^x$\n",
    "\n"
   ]
  },
  {
   "cell_type": "markdown",
   "metadata": {},
   "source": [
    "**Examples**\n",
    "\n",
    "1. $f(x) = 3x^4 - 3x \\rightarrow f'(x) = 12x^3 - 3$\n",
    "\n",
    "2. $g(x) = 5\\sin(x) \\rightarrow g'(x) = 5\\cos(x)$\n",
    "\n",
    "3. $h(x) = 2x^3 + 4\\cos(x) + e^x  \\rightarrow h'(x) = 6x^2 - 4\\sin(x) + e^x$ "
   ]
  },
  {
   "cell_type": "markdown",
   "metadata": {},
   "source": [
    "**PRACTICE**\n",
    "\n",
    "Find the derivative of the following functions using our rules from above.\n",
    "\n",
    "1. $f(x) = x^{12}$\n",
    "2. $g(x) = 4x^3 - 2x$\n",
    "3. $h(x) = 3\\sin(x) + 2e^x$"
   ]
  },
  {
   "cell_type": "code",
   "execution_count": null,
   "metadata": {},
   "outputs": [],
   "source": []
  },
  {
   "cell_type": "code",
   "execution_count": null,
   "metadata": {},
   "outputs": [],
   "source": []
  },
  {
   "cell_type": "code",
   "execution_count": null,
   "metadata": {},
   "outputs": [],
   "source": []
  },
  {
   "cell_type": "markdown",
   "metadata": {},
   "source": [
    "### Interpretation: Instantaneous Rate of Change\n",
    "\n",
    "A typical application of derivatives is to problems involving objects in motion, and their rate of change.  Specifically, we have relationships between *displacement, velocity*, and *acceleration*. If we recognize the derivative as capturing the notion of the instantaneous rate of change, we have that:\n",
    "\n",
    "- velocity $\\rightarrow$ derivative of displacement\n",
    "- acceleration $\\rightarrow$ derivative of velocity\n"
   ]
  },
  {
   "cell_type": "markdown",
   "metadata": {},
   "source": [
    "**EXAMPLE**\n",
    "\n",
    "A particle moves along the $x$-axis where positive direction is to the right and negative left.  The position of the particle at time $t$ is given by $s(t) = t^3 - 4t + 2$.  \n",
    "\n",
    "- Find the derivative of $s(t)$ which represents the velocity function $v(t)$.  \n",
    "- Use $v(t)$ to deterime if the particle is moving to the left or right at $t = 1$?\n",
    "- Find the derivative of $v(t)$ which represents the acceleration of a particle $a(t)$.\n",
    "- Use $a(t)$ to determine if the particle is speeding up or slowing down at $t = 1$"
   ]
  },
  {
   "cell_type": "code",
   "execution_count": null,
   "metadata": {},
   "outputs": [],
   "source": []
  },
  {
   "cell_type": "code",
   "execution_count": null,
   "metadata": {},
   "outputs": [],
   "source": []
  },
  {
   "cell_type": "code",
   "execution_count": null,
   "metadata": {},
   "outputs": [],
   "source": []
  },
  {
   "cell_type": "markdown",
   "metadata": {},
   "source": []
  },
  {
   "cell_type": "markdown",
   "metadata": {},
   "source": [
    "### A Function and its Derivative\n",
    "\n",
    "Let $f(x) = x^5 + 2x^4 - x^3 - 2x^2$.  \n",
    "\n",
    "a. Find $f'(x)$ and plot on [-2.5, 1.5].\n",
    "\n",
    "b. Over what intervals does the graph of $f$ appear to be rising as you move left to right?\n",
    "\n",
    "c. Over what intervals does the graph of $f'$ appear to be able the $x$-axis?\n",
    "\n",
    "d. Over what intervals does the graph of $f$ appear to be falling as you move from left to right?\n",
    "\n",
    "e. Over what intervals does the graph of $f'$ appear to be below the x-axis?\n",
    "\n",
    "f. What are the $x$-coordinates of all the high points and low points of the graph of $f$?\n",
    "\n",
    "g. For what value of $x$ does the graph of $f'$ appear to meet the $x$-axis?\n",
    "\n",
    "Repeat for $y = \\frac{x}{1 + x^2}$.  \n",
    "\n",
    "On the basis of these examples, write a statement that relates where a function is rising, is falling, and has a high point or low point to properties you observed about the graph of its derivative.\n",
    "\n"
   ]
  },
  {
   "cell_type": "code",
   "execution_count": null,
   "metadata": {},
   "outputs": [],
   "source": []
  },
  {
   "cell_type": "code",
   "execution_count": null,
   "metadata": {},
   "outputs": [],
   "source": []
  },
  {
   "cell_type": "code",
   "execution_count": null,
   "metadata": {},
   "outputs": [],
   "source": []
  },
  {
   "cell_type": "code",
   "execution_count": null,
   "metadata": {},
   "outputs": [],
   "source": []
  },
  {
   "cell_type": "code",
   "execution_count": null,
   "metadata": {},
   "outputs": [],
   "source": []
  },
  {
   "cell_type": "code",
   "execution_count": null,
   "metadata": {},
   "outputs": [],
   "source": []
  },
  {
   "cell_type": "markdown",
   "metadata": {
    "id": "tywwW1s09WNV"
   },
   "source": [
    "#### PROBLEM: AP Calculus 2017 Free Response 3\n",
    "\n",
    "![](images/ap_frq_2017_dervs.png)"
   ]
  },
  {
   "cell_type": "markdown",
   "metadata": {},
   "source": [
    "#### Problem: AP Calculus 2015 Free Response 5\n",
    "\n",
    "![](images/ap_frq_2015_dervs.png)"
   ]
  },
  {
   "cell_type": "markdown",
   "metadata": {},
   "source": [
    "### Up Next\n",
    "\n",
    "- Examine more complex rules for functions with products and quotients of functions\n",
    "- Use second derivative to explore concavity\n"
   ]
  }
 ],
 "metadata": {
  "kernelspec": {
   "display_name": "Python 3",
   "language": "python",
   "name": "python3"
  },
  "language_info": {
   "codemirror_mode": {
    "name": "ipython",
    "version": 3
   },
   "file_extension": ".py",
   "mimetype": "text/x-python",
   "name": "python",
   "nbconvert_exporter": "python",
   "pygments_lexer": "ipython3",
<<<<<<< HEAD
   "version": "3.8.3"
=======
   "version": "3.7.4"
>>>>>>> d1a3331c4bb70eb63f6c667c0eee992efd40248b
  },
  "widgets": {
   "application/vnd.jupyter.widget-state+json": {
    "state": {},
    "version_major": 2,
    "version_minor": 0
   }
  }
 },
 "nbformat": 4,
 "nbformat_minor": 4
}