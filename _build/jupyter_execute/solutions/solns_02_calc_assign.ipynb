{
 "cells": [
  {
   "cell_type": "code",
   "execution_count": 1,
   "metadata": {
    "colab": {
     "base_uri": "https://localhost:8080/"
    },
    "id": "oEwI7VuJap5r",
    "outputId": "87862c4b-8ea7-4ee0-f446-a42b800e06ba"
   },
   "outputs": [
    {
     "ename": "NameError",
     "evalue": "name 'comb' is not defined",
     "output_type": "error",
     "traceback": [
      "\u001b[0;31m---------------------------------------------------------------------------\u001b[0m",
      "\u001b[0;31mNameError\u001b[0m                                 Traceback (most recent call last)",
      "Cell \u001b[0;32mIn[1], line 2\u001b[0m\n\u001b[1;32m      1\u001b[0m \u001b[38;5;28;01mfor\u001b[39;00m i \u001b[38;5;129;01min\u001b[39;00m \u001b[38;5;28mrange\u001b[39m(\u001b[38;5;241m10\u001b[39m):\n\u001b[0;32m----> 2\u001b[0m   \u001b[38;5;28mprint\u001b[39m([\u001b[43mcomb\u001b[49m(i, j) \u001b[38;5;28;01mfor\u001b[39;00m j \u001b[38;5;129;01min\u001b[39;00m \u001b[38;5;28mrange\u001b[39m(i \u001b[38;5;241m+\u001b[39m \u001b[38;5;241m1\u001b[39m)])\n",
      "\u001b[0;31mNameError\u001b[0m: name 'comb' is not defined"
     ]
    }
   ],
   "source": [
    "for i in range(10):\n",
    "  print([comb(i, j) for j in range(i + 1)])"
   ]
  },
  {
   "cell_type": "markdown",
   "metadata": {
    "id": "DAWvX3qDA0C-"
   },
   "source": [
    "### Assignment 2\n",
    "\n",
    "**OBJECTIVES**\n",
    "\n",
    "- Solve discrete probability problems with binomial distributions\n",
    "- Solve continuous probability problems with normal distributions\n",
    "- Use summation notation and evaluate summation expressions"
   ]
  },
  {
   "cell_type": "code",
   "execution_count": null,
   "metadata": {
    "id": "3qnTf6mpBLt8"
   },
   "outputs": [],
   "source": [
    "import matplotlib.pyplot as plt\n",
    "import numpy as np\n",
    "import scipy.stats as stats\n",
    "import pandas as pd"
   ]
  },
  {
   "cell_type": "markdown",
   "metadata": {
    "id": "nYKl3i3SBbeZ"
   },
   "source": [
    "### Problem I\n",
    "\n",
    "In a candy factory, chocolate bars can be either acceptable or defective. The probability of a given bar being defective is 0.5.   \n",
    "\n",
    "- Suppose we select 8 candy bars.  \n",
    "  - How many ways different ways can we select 3 candy bars that are defective?\n",
    "  - How many ways could we select 5 defective candy bars?\n",
    "  - Make a plot of all possible outcomes.\n",
    "  - Make a table of all possible outcomes.\n",
    "  - If we select 8 bars, what is the probability that 2 will be defective? \n",
    "  - If we select 8 bars, what is the probability that at no more than 2 will be defective?"
   ]
  },
  {
   "cell_type": "code",
   "execution_count": null,
   "metadata": {
    "id": "eSLBmAh3Dcly"
   },
   "outputs": [],
   "source": [
    "from scipy.special import comb"
   ]
  },
  {
   "cell_type": "code",
   "execution_count": null,
   "metadata": {
    "colab": {
     "base_uri": "https://localhost:8080/"
    },
    "id": "gTduxKTXDebp",
    "outputId": "4c3308be-3521-49ac-f78d-24fba01eb789"
   },
   "outputs": [
    {
     "data": {
      "text/plain": [
       "56.0"
      ]
     },
     "execution_count": 43,
     "metadata": {
      "tags": []
     },
     "output_type": "execute_result"
    }
   ],
   "source": [
    "comb(8, 3) #There are 56 ways to choose 3 from 56."
   ]
  },
  {
   "cell_type": "code",
   "execution_count": null,
   "metadata": {
    "colab": {
     "base_uri": "https://localhost:8080/"
    },
    "id": "8Ym9zE3pDeYf",
    "outputId": "fff72253-5030-4403-f6ef-70cbc6b63ba4"
   },
   "outputs": [
    {
     "data": {
      "text/plain": [
       "56.0"
      ]
     },
     "execution_count": 44,
     "metadata": {
      "tags": []
     },
     "output_type": "execute_result"
    }
   ],
   "source": [
    "comb(8, 5) #There are 56 ways to choose 5 from 8"
   ]
  },
  {
   "cell_type": "code",
   "execution_count": null,
   "metadata": {
    "colab": {
     "base_uri": "https://localhost:8080/",
     "height": 283
    },
    "id": "7jKxjH-4DeVr",
    "outputId": "528873a9-da5f-42db-fde1-ef5f576fc33a"
   },
   "outputs": [
    {
     "data": {
      "text/plain": [
       "<BarContainer object of 9 artists>"
      ]
     },
     "execution_count": 45,
     "metadata": {
      "tags": []
     },
     "output_type": "execute_result"
    },
    {
     "data": {
      "image/png": "[encoded data removed]",
      "text/plain": [
       "<Figure size 432x288 with 1 Axes>"
      ]
     },
     "metadata": {
      "needs_background": "light",
      "tags": []
     },
     "output_type": "display_data"
    }
   ],
   "source": [
    "#plot\n",
    "x = np.arange(9)\n",
    "candy = stats.binom(8, 0.5)\n",
    "plt.bar(x, candy.pmf(x))"
   ]
  },
  {
   "cell_type": "code",
   "execution_count": null,
   "metadata": {
    "colab": {
     "base_uri": "https://localhost:8080/"
    },
    "id": "x08IU0avDeSg",
    "outputId": "c13c806e-7ece-4954-f273-5787f76e7448"
   },
   "outputs": [
    {
     "data": {
      "text/plain": [
       "0.10937500000000006"
      ]
     },
     "execution_count": 46,
     "metadata": {
      "tags": []
     },
     "output_type": "execute_result"
    }
   ],
   "source": [
    "#p(2 defective)\n",
    "candy.pmf(2)"
   ]
  },
  {
   "cell_type": "code",
   "execution_count": null,
   "metadata": {
    "colab": {
     "base_uri": "https://localhost:8080/"
    },
    "id": "ODOKtvjQmFzO",
    "outputId": "ae12e3d9-450d-4ef5-ea47-cf7b9244a86a"
   },
   "outputs": [
    {
     "data": {
      "text/plain": [
       "0.14453125000000006"
      ]
     },
     "execution_count": 47,
     "metadata": {
      "tags": []
     },
     "output_type": "execute_result"
    }
   ],
   "source": [
    "candy.pmf(0) + candy.pmf(1) + candy.pmf(2)"
   ]
  },
  {
   "cell_type": "code",
   "execution_count": null,
   "metadata": {
    "colab": {
     "base_uri": "https://localhost:8080/"
    },
    "id": "2sNlqhpDDeP3",
    "outputId": "8192ee08-48a4-4a20-826b-eb5003ff48ce"
   },
   "outputs": [
    {
     "data": {
      "text/plain": [
       "0.14453124999999994"
      ]
     },
     "execution_count": 48,
     "metadata": {
      "tags": []
     },
     "output_type": "execute_result"
    }
   ],
   "source": [
    "#p(no more than 2)\n",
    "candy.cdf(2)"
   ]
  },
  {
   "cell_type": "markdown",
   "metadata": {
    "id": "-S3wUnXvDeM4"
   },
   "source": [
    "### Problem II\n",
    "\n",
    "The probability of recovering from a certain disease is 90%.  Suppose that we select at random, 20 individuals currently suffering from the disease.  \n",
    "- What is the probability that all 20 survive?\n",
    "- What is the probability that at least 17 survive?\n",
    "- Draw a graph of all possible outcomes and their probabilities.\n",
    "- Construct a table of all possible outcomes and their probabilities.\n",
    "- Suppose a drug manufacturer conducted a clinical trial for a new treatment of the disease.  The manufacturer found that in a sample of 50 individuals treated, that 49 survived.  How likely was this and do you think the new drug had an effect?"
   ]
  },
  {
   "cell_type": "code",
   "execution_count": null,
   "metadata": {
    "id": "vvE7i0pLDeJ5"
   },
   "outputs": [],
   "source": [
    "#distribution\n",
    "population = stats.binom(20, .9)"
   ]
  },
  {
   "cell_type": "code",
   "execution_count": null,
   "metadata": {
    "colab": {
     "base_uri": "https://localhost:8080/"
    },
    "id": "y0hmmqTaDeHQ",
    "outputId": "36f45ed7-5183-4b68-84bc-9bb87999c213"
   },
   "outputs": [
    {
     "data": {
      "text/plain": [
       "0.12157665459056931"
      ]
     },
     "execution_count": 50,
     "metadata": {
      "tags": []
     },
     "output_type": "execute_result"
    }
   ],
   "source": [
    "#p(all 20)\n",
    "population.pmf(20)"
   ]
  },
  {
   "cell_type": "code",
   "execution_count": null,
   "metadata": {
    "colab": {
     "base_uri": "https://localhost:8080/"
    },
    "id": "d6shfQtmE5x6",
    "outputId": "2b5b9212-39ea-4137-acaf-482e40fc5ce3"
   },
   "outputs": [
    {
     "data": {
      "text/plain": [
       "0.19011987137619865"
      ]
     },
     "execution_count": 51,
     "metadata": {
      "tags": []
     },
     "output_type": "execute_result"
    }
   ],
   "source": [
    "#p(17)\n",
    "\n",
    "population.pmf(17)"
   ]
  },
  {
   "cell_type": "code",
   "execution_count": null,
   "metadata": {
    "colab": {
     "base_uri": "https://localhost:8080/",
     "height": 283
    },
    "id": "vjVyYXsWE5u8",
    "outputId": "d845f4a1-246c-4337-8a34-f27304d297ec"
   },
   "outputs": [
    {
     "data": {
      "text/plain": [
       "<BarContainer object of 21 artists>"
      ]
     },
     "execution_count": 52,
     "metadata": {
      "tags": []
     },
     "output_type": "execute_result"
    },
    {
     "data": {
      "image/png": "[encoded data removed]",
      "text/plain": [
       "<Figure size 432x288 with 1 Axes>"
      ]
     },
     "metadata": {
      "needs_background": "light",
      "tags": []
     },
     "output_type": "display_data"
    }
   ],
   "source": [
    "x = np.arange(21)\n",
    "plt.bar(x, population.pmf(x))"
   ]
  },
  {
   "cell_type": "code",
   "execution_count": null,
   "metadata": {
    "colab": {
     "base_uri": "https://localhost:8080/",
     "height": 202
    },
    "id": "KqY-ZYUtE5sd",
    "outputId": "138ec70f-f34d-48e9-f5ad-1f07aa4cbada"
   },
   "outputs": [
    {
     "data": {
      "text/html": [
       "<div>\n",
       "<style scoped>\n",
       "    .dataframe tbody tr th:only-of-type {\n",
       "        vertical-align: middle;\n",
       "    }\n",
       "\n",
       "    .dataframe tbody tr th {\n",
       "        vertical-align: top;\n",
       "    }\n",
       "\n",
       "    .dataframe thead th {\n",
       "        text-align: right;\n",
       "    }\n",
       "</style>\n",
       "<table border=\"1\" class=\"dataframe\">\n",
       "  <thead>\n",
       "    <tr style=\"text-align: right;\">\n",
       "      <th></th>\n",
       "      <th>survivors</th>\n",
       "      <th>probability</th>\n",
       "    </tr>\n",
       "  </thead>\n",
       "  <tbody>\n",
       "    <tr>\n",
       "      <th>0</th>\n",
       "      <td>0</td>\n",
       "      <td>1.000000e-20</td>\n",
       "    </tr>\n",
       "    <tr>\n",
       "      <th>1</th>\n",
       "      <td>1</td>\n",
       "      <td>1.800000e-18</td>\n",
       "    </tr>\n",
       "    <tr>\n",
       "      <th>2</th>\n",
       "      <td>2</td>\n",
       "      <td>1.539000e-16</td>\n",
       "    </tr>\n",
       "    <tr>\n",
       "      <th>3</th>\n",
       "      <td>3</td>\n",
       "      <td>8.310600e-15</td>\n",
       "    </tr>\n",
       "    <tr>\n",
       "      <th>4</th>\n",
       "      <td>4</td>\n",
       "      <td>3.178804e-13</td>\n",
       "    </tr>\n",
       "  </tbody>\n",
       "</table>\n",
       "</div>"
      ],
      "text/plain": [
       "   survivors   probability\n",
       "0          0  1.000000e-20\n",
       "1          1  1.800000e-18\n",
       "2          2  1.539000e-16\n",
       "3          3  8.310600e-15\n",
       "4          4  3.178804e-13"
      ]
     },
     "execution_count": 53,
     "metadata": {
      "tags": []
     },
     "output_type": "execute_result"
    }
   ],
   "source": [
    "table = pd.DataFrame({'survivors': x, 'probability': population.pmf(x)})\n",
    "table.head()"
   ]
  },
  {
   "cell_type": "code",
   "execution_count": null,
   "metadata": {
    "colab": {
     "base_uri": "https://localhost:8080/"
    },
    "id": "NcP_GaiJE5p0",
    "outputId": "b8d02e5b-f235-49f0-ce0f-a19ce6a13ecd"
   },
   "outputs": [
    {
     "data": {
      "text/plain": [
       "0.9662141403075681"
      ]
     },
     "execution_count": 79,
     "metadata": {
      "tags": []
     },
     "output_type": "execute_result"
    }
   ],
   "source": [
    "stats.binom(50, 0.9).cdf(48) #we expect 2.86% survive so probably not"
   ]
  },
  {
   "cell_type": "code",
   "execution_count": null,
   "metadata": {
    "colab": {
     "base_uri": "https://localhost:8080/",
     "height": 283
    },
    "id": "tdQvD0LKn39O",
    "outputId": "1866bd14-0b5b-4627-d300-3cdaa73ada1e"
   },
   "outputs": [
    {
     "data": {
      "text/plain": [
       "<BarContainer object of 51 artists>"
      ]
     },
     "execution_count": 81,
     "metadata": {
      "tags": []
     },
     "output_type": "execute_result"
    },
    {
     "data": {
      "image/png": "[encoded data removed]",
      "text/plain": [
       "<Figure size 432x288 with 1 Axes>"
      ]
     },
     "metadata": {
      "needs_background": "light",
      "tags": []
     },
     "output_type": "display_data"
    }
   ],
   "source": [
    "x = np.arange(51)\n",
    "plt.bar(x, stats.binom(50, .9).pmf(x))"
   ]
  },
  {
   "cell_type": "code",
   "execution_count": null,
   "metadata": {
    "colab": {
     "base_uri": "https://localhost:8080/"
    },
    "id": "0fDFwv0soaOb",
    "outputId": "14d52802-424a-4d4c-baee-87b86b9ab6c7"
   },
   "outputs": [
    {
     "data": {
      "text/plain": [
       "0.9662141403075681"
      ]
     },
     "execution_count": 82,
     "metadata": {
      "tags": []
     },
     "output_type": "execute_result"
    }
   ],
   "source": [
    "stats.binom(50, 0.9).cdf(48)"
   ]
  },
  {
   "cell_type": "markdown",
   "metadata": {
    "id": "Krh0oXBVE5lQ"
   },
   "source": [
    "### Problem 3\n",
    "\n",
    "For each example below, we are given a description for a binomial distribution where:\n",
    "\n",
    "```\n",
    "n = # of trials\n",
    "p = probability of success\n",
    "```\n",
    "\n",
    "You are to build a table and graph for each, and answer the subsequent questions on the probability distribution.\n",
    "\n",
    "- $n = 10, p = .2$, draw a bar plot of all possible outcomes and their probabilities\n",
    "- With $n = 20, p = .2$, what is the probability of 12 successes?\n",
    "- With $n = 30, p = 0.13$, what is the average aka expected value of the probability distribution?  Its variance?  Draw a plot of the distribution.\n",
    "- With $n = 300, p = 0.13$, what is the average aka expected value of the probability distribution?  Its variance?  Draw a plot of the distribution.\n",
    "- With $n = 3000, p = 0.13$, what is the average aka expected value of the probability distribution?  Its variance?  Draw a plot of the distribution.\n",
    "- Using the three distributions above with $n = 30, 300, 3000$ and $p = 0.13$, explain what happens to the mean, variance, and graphs as you increase $n$.  \n",
    " "
   ]
  },
  {
   "cell_type": "code",
   "execution_count": null,
   "metadata": {
    "colab": {
     "base_uri": "https://localhost:8080/",
     "height": 283
    },
    "id": "7jlR6fwuF7XE",
    "outputId": "3f93dcaf-f3a0-4c4a-d0a3-8f99adc6b4e2"
   },
   "outputs": [
    {
     "data": {
      "text/plain": [
       "<BarContainer object of 11 artists>"
      ]
     },
     "execution_count": 55,
     "metadata": {
      "tags": []
     },
     "output_type": "execute_result"
    },
    {
     "data": {
      "image/png": "[encoded data removed]",
      "text/plain": [
       "<Figure size 432x288 with 1 Axes>"
      ]
     },
     "metadata": {
      "needs_background": "light",
      "tags": []
     },
     "output_type": "display_data"
    }
   ],
   "source": [
    "x = np.arange(11)\n",
    "y = stats.binom(10, 0.2).pmf(x)\n",
    "plt.bar(x, y)"
   ]
  },
  {
   "cell_type": "code",
   "execution_count": null,
   "metadata": {
    "colab": {
     "base_uri": "https://localhost:8080/",
     "height": 283
    },
    "id": "osKW8JYAII_Y",
    "outputId": "24b7a0e8-f374-4ede-d327-bbbc4e858caf"
   },
   "outputs": [
    {
     "data": {
      "text/plain": [
       "<BarContainer object of 21 artists>"
      ]
     },
     "execution_count": 83,
     "metadata": {
      "tags": []
     },
     "output_type": "execute_result"
    },
    {
     "data": {
      "image/png": "[encoded data removed]",
      "text/plain": [
       "<Figure size 432x288 with 1 Axes>"
      ]
     },
     "metadata": {
      "needs_background": "light",
      "tags": []
     },
     "output_type": "display_data"
    }
   ],
   "source": [
    "x = np.arange(21)\n",
    "dist = stats.binom(20, 0.2)\n",
    "y = dist.pmf(x) #all possible outcomes\n",
    "plt.bar(x, y)"
   ]
  },
  {
   "cell_type": "code",
   "execution_count": null,
   "metadata": {
    "colab": {
     "base_uri": "https://localhost:8080/"
    },
    "id": "FgIih0D0II7g",
    "outputId": "f990d6f7-b0e5-4e49-b04d-d42a28b56e60"
   },
   "outputs": [
    {
     "data": {
      "text/plain": [
       "8.656592484433933e-05"
      ]
     },
     "execution_count": 57,
     "metadata": {
      "tags": []
     },
     "output_type": "execute_result"
    }
   ],
   "source": [
    "dist.pmf(12) #probability of 12 successes"
   ]
  },
  {
   "cell_type": "code",
   "execution_count": null,
   "metadata": {
    "colab": {
     "base_uri": "https://localhost:8080/",
     "height": 283
    },
    "id": "TBWXDxPuII3q",
    "outputId": "0fc34a8c-6009-41dd-f875-97005ba16d2a"
   },
   "outputs": [
    {
     "data": {
      "text/plain": [
       "<BarContainer object of 31 artists>"
      ]
     },
     "execution_count": 58,
     "metadata": {
      "tags": []
     },
     "output_type": "execute_result"
    },
    {
     "data": {
      "image/png": "[encoded data removed]",
      "text/plain": [
       "<Figure size 432x288 with 1 Axes>"
      ]
     },
     "metadata": {
      "needs_background": "light",
      "tags": []
     },
     "output_type": "display_data"
    }
   ],
   "source": [
    "x = np.arange(31)\n",
    "dist = stats.binom(30, 0.13)\n",
    "y = dist.pmf(x) #all possible outcomes\n",
    "plt.bar(x, y)"
   ]
  },
  {
   "cell_type": "code",
   "execution_count": null,
   "metadata": {
    "colab": {
     "base_uri": "https://localhost:8080/"
    },
    "id": "ZHZX8vr7II0H",
    "outputId": "933fb2fd-76b6-4048-df61-54addf97db05"
   },
   "outputs": [
    {
     "data": {
      "text/plain": [
       "3.9000000000000004"
      ]
     },
     "execution_count": 59,
     "metadata": {
      "tags": []
     },
     "output_type": "execute_result"
    }
   ],
   "source": [
    "dist.mean() #expected value is 3.9 -- should look like where high point in plot is"
   ]
  },
  {
   "cell_type": "code",
   "execution_count": null,
   "metadata": {
    "colab": {
     "base_uri": "https://localhost:8080/"
    },
    "id": "6FXmqch-IIw8",
    "outputId": "8d5f42c0-ce3c-475a-c3c6-979f1ab78809"
   },
   "outputs": [
    {
     "data": {
      "text/plain": [
       "3.3930000000000002"
      ]
     },
     "execution_count": 60,
     "metadata": {
      "tags": []
     },
     "output_type": "execute_result"
    }
   ],
   "source": [
    "dist.var() #variance"
   ]
  },
  {
   "cell_type": "code",
   "execution_count": null,
   "metadata": {
    "colab": {
     "base_uri": "https://localhost:8080/",
     "height": 283
    },
    "id": "3XEnMZbnVmXo",
    "outputId": "646818b5-501c-4bb3-b0de-f5d34b23a617"
   },
   "outputs": [
    {
     "data": {
      "text/plain": [
       "<BarContainer object of 301 artists>"
      ]
     },
     "execution_count": 61,
     "metadata": {
      "tags": []
     },
     "output_type": "execute_result"
    },
    {
     "data": {
      "image/png": "[encoded data removed]",
      "text/plain": [
       "<Figure size 432x288 with 1 Axes>"
      ]
     },
     "metadata": {
      "needs_background": "light",
      "tags": []
     },
     "output_type": "display_data"
    }
   ],
   "source": [
    "x = np.arange(301)\n",
    "dist = stats.binom(300, 0.13)\n",
    "y = dist.pmf(x) #all possible outcomes\n",
    "plt.bar(x, y)"
   ]
  },
  {
   "cell_type": "code",
   "execution_count": null,
   "metadata": {
    "colab": {
     "base_uri": "https://localhost:8080/"
    },
    "id": "ugjQ7idrVmUI",
    "outputId": "77beda43-af66-4ccf-cb5f-78605109f436"
   },
   "outputs": [
    {
     "data": {
      "text/plain": [
       "39.0"
      ]
     },
     "execution_count": 62,
     "metadata": {
      "tags": []
     },
     "output_type": "execute_result"
    }
   ],
   "source": [
    "dist.mean()"
   ]
  },
  {
   "cell_type": "code",
   "execution_count": null,
   "metadata": {
    "colab": {
     "base_uri": "https://localhost:8080/"
    },
    "id": "DP73UorOVmRU",
    "outputId": "feaaf9f4-2318-42e8-eb8e-317f131db8b2"
   },
   "outputs": [
    {
     "data": {
      "text/plain": [
       "33.93"
      ]
     },
     "execution_count": 63,
     "metadata": {
      "tags": []
     },
     "output_type": "execute_result"
    }
   ],
   "source": [
    "dist.var()"
   ]
  },
  {
   "cell_type": "code",
   "execution_count": null,
   "metadata": {
    "colab": {
     "base_uri": "https://localhost:8080/",
     "height": 283
    },
    "id": "SWKM_D9_VmOV",
    "outputId": "2d1b9704-a277-4f55-f1c1-8f2d5de63559"
   },
   "outputs": [
    {
     "data": {
      "text/plain": [
       "<BarContainer object of 3001 artists>"
      ]
     },
     "execution_count": 64,
     "metadata": {
      "tags": []
     },
     "output_type": "execute_result"
    },
    {
     "data": {
      "image/png": "[encoded data removed]",
      "text/plain": [
       "<Figure size 432x288 with 1 Axes>"
      ]
     },
     "metadata": {
      "needs_background": "light",
      "tags": []
     },
     "output_type": "display_data"
    }
   ],
   "source": [
    "x = np.arange(3001)\n",
    "dist = stats.binom(3000, 0.13)\n",
    "y = dist.pmf(x) #all possible outcomes\n",
    "plt.bar(x, y)"
   ]
  },
  {
   "cell_type": "code",
   "execution_count": null,
   "metadata": {
    "colab": {
     "base_uri": "https://localhost:8080/"
    },
    "id": "U_G1QTU6VmLs",
    "outputId": "ef2303d1-59e6-40f1-9dfe-f0dde0581564"
   },
   "outputs": [
    {
     "data": {
      "text/plain": [
       "390.0"
      ]
     },
     "execution_count": 65,
     "metadata": {
      "tags": []
     },
     "output_type": "execute_result"
    }
   ],
   "source": [
    "dist.mean()"
   ]
  },
  {
   "cell_type": "code",
   "execution_count": null,
   "metadata": {
    "colab": {
     "base_uri": "https://localhost:8080/"
    },
    "id": "NeJMwhncV_LR",
    "outputId": "43e6e5fb-aa0c-4b21-ae27-95200e32c9c1"
   },
   "outputs": [
    {
     "data": {
      "text/plain": [
       "339.3"
      ]
     },
     "execution_count": 66,
     "metadata": {
      "tags": []
     },
     "output_type": "execute_result"
    }
   ],
   "source": [
    "dist.var()"
   ]
  },
  {
   "cell_type": "code",
   "execution_count": null,
   "metadata": {
    "colab": {
     "base_uri": "https://localhost:8080/",
     "height": 141
    },
    "id": "7iTNgR_TWBbQ",
    "outputId": "68b3c0d5-b8a9-41a5-8003-4eaf590c9757"
   },
   "outputs": [
    {
     "data": {
      "text/html": [
       "<div>\n",
       "<style scoped>\n",
       "    .dataframe tbody tr th:only-of-type {\n",
       "        vertical-align: middle;\n",
       "    }\n",
       "\n",
       "    .dataframe tbody tr th {\n",
       "        vertical-align: top;\n",
       "    }\n",
       "\n",
       "    .dataframe thead th {\n",
       "        text-align: right;\n",
       "    }\n",
       "</style>\n",
       "<table border=\"1\" class=\"dataframe\">\n",
       "  <thead>\n",
       "    <tr style=\"text-align: right;\">\n",
       "      <th></th>\n",
       "      <th>n</th>\n",
       "      <th>mean</th>\n",
       "      <th>variance</th>\n",
       "    </tr>\n",
       "  </thead>\n",
       "  <tbody>\n",
       "    <tr>\n",
       "      <th>0</th>\n",
       "      <td>30</td>\n",
       "      <td>3.9</td>\n",
       "      <td>3.39</td>\n",
       "    </tr>\n",
       "    <tr>\n",
       "      <th>1</th>\n",
       "      <td>300</td>\n",
       "      <td>39.0</td>\n",
       "      <td>33.90</td>\n",
       "    </tr>\n",
       "    <tr>\n",
       "      <th>2</th>\n",
       "      <td>3000</td>\n",
       "      <td>390.0</td>\n",
       "      <td>339.00</td>\n",
       "    </tr>\n",
       "  </tbody>\n",
       "</table>\n",
       "</div>"
      ],
      "text/plain": [
       "      n   mean  variance\n",
       "0    30    3.9      3.39\n",
       "1   300   39.0     33.90\n",
       "2  3000  390.0    339.00"
      ]
     },
     "execution_count": 67,
     "metadata": {
      "tags": []
     },
     "output_type": "execute_result"
    }
   ],
   "source": [
    "pd.DataFrame({'n': [30, 300, 3000], 'mean': [3.9, 39, 390],\n",
    "              'variance': [3.39, 33.9, 339]})"
   ]
  },
  {
   "cell_type": "markdown",
   "metadata": {
    "id": "Q_6tgAu-IKCb"
   },
   "source": [
    "### Summations\n",
    "\n",
    "Evaluate the following sums:\n",
    " \n",
    "- $\\sum_{i = 1}^5 2*i - 3$\n",
    "- $\\sum_{i = 1}^{10} \\frac{1}{i}$\n",
    "- $\\sum_{i = 4}^9 3i^2 - 2i$"
   ]
  },
  {
   "cell_type": "code",
   "execution_count": null,
   "metadata": {
    "colab": {
     "base_uri": "https://localhost:8080/"
    },
    "id": "LCcYVsCSIvNF",
    "outputId": "63f39aa1-34c1-4292-d62e-fa95afa1923c"
   },
   "outputs": [
    {
     "data": {
      "text/plain": [
       "15"
      ]
     },
     "execution_count": 68,
     "metadata": {
      "tags": []
     },
     "output_type": "execute_result"
    }
   ],
   "source": [
    "2*1 - 3 + 2*2 - 3 + 2*3 - 3 + 2*4 - 3 + 2*5 - 3"
   ]
  },
  {
   "cell_type": "code",
   "execution_count": null,
   "metadata": {
    "id": "09Ai0gZxIwi8"
   },
   "outputs": [],
   "source": [
    "def s(x): return 1/x"
   ]
  },
  {
   "cell_type": "code",
   "execution_count": null,
   "metadata": {
    "colab": {
     "base_uri": "https://localhost:8080/"
    },
    "id": "86CYPwK06MXN",
    "outputId": "1bd626e0-e7e9-4726-c1bc-28f265c8becb"
   },
   "outputs": [
    {
     "data": {
      "text/plain": [
       "array([ 1,  2,  3,  4,  5,  6,  7,  8,  9, 10])"
      ]
     },
     "execution_count": 70,
     "metadata": {
      "tags": []
     },
     "output_type": "execute_result"
    }
   ],
   "source": [
    "np.arange(1, 11)"
   ]
  },
  {
   "cell_type": "code",
   "execution_count": null,
   "metadata": {
    "id": "8Izi0TtA5mlf"
   },
   "outputs": [],
   "source": [
    "import numpy as np"
   ]
  },
  {
   "cell_type": "code",
   "execution_count": null,
   "metadata": {
    "colab": {
     "base_uri": "https://localhost:8080/"
    },
    "id": "LnqbbefCIwM2",
    "outputId": "380e17cd-d529-41a9-c9ae-1d38a1dbf623"
   },
   "outputs": [
    {
     "data": {
      "text/plain": [
       "2.9289682539682538"
      ]
     },
     "execution_count": 72,
     "metadata": {
      "tags": []
     },
     "output_type": "execute_result"
    }
   ],
   "source": [
    "sum(s(np.arange(1, 11)))"
   ]
  },
  {
   "cell_type": "code",
   "execution_count": null,
   "metadata": {
    "colab": {
     "base_uri": "https://localhost:8080/"
    },
    "id": "NykVvvsbIwJI",
    "outputId": "721a271c-4721-4a27-a59e-343a5343e8f9"
   },
   "outputs": [
    {
     "data": {
      "text/plain": [
       "2.9289682539682538"
      ]
     },
     "execution_count": 73,
     "metadata": {
      "tags": []
     },
     "output_type": "execute_result"
    }
   ],
   "source": [
    "sum([1/1, 1/2, 1/3, 1/4, 1/5, 1/6, 1/7, 1/8, 1/9, 1/10])"
   ]
  },
  {
   "cell_type": "code",
   "execution_count": null,
   "metadata": {
    "id": "gzvsRB-5IwF-"
   },
   "outputs": [],
   "source": [
    "def g(i): return 3*i**2 - 2*i #expression to sum"
   ]
  },
  {
   "cell_type": "code",
   "execution_count": null,
   "metadata": {
    "id": "80u8NaqlWnus"
   },
   "outputs": [],
   "source": [
    "x = np.arange(4, 10) #values to sum"
   ]
  },
  {
   "cell_type": "code",
   "execution_count": null,
   "metadata": {
    "colab": {
     "base_uri": "https://localhost:8080/"
    },
    "id": "i78_3lOkWtuD",
    "outputId": "32b03aad-6150-461f-ef02-6a1c524bb5ec"
   },
   "outputs": [
    {
     "data": {
      "text/plain": [
       "735"
      ]
     },
     "execution_count": 76,
     "metadata": {
      "tags": []
     },
     "output_type": "execute_result"
    }
   ],
   "source": [
    "sum(g(x)) #sum"
   ]
  },
  {
   "cell_type": "markdown",
   "metadata": {
    "id": "UiP9RF2OIwCz"
   },
   "source": [
    "### Problem 4: Normal Distribution\n",
    "\n",
    "Use the information given about the mean and standard deviation of a normal distribution to answer the questions.\n",
    "\n",
    "- Suppose $\\mu = 10, \\sigma = 3$.  Draw a plot of this distribution on $x = [0, 20]$.  What is the probability $x > 15$?\n",
    "- Suppose $\\mu = 0, \\sigma = 3$.  Draw a plot of this distribution on $x = [-10, 10]$.  What is the probability $x < 0$?\n",
    "- Suppose $\\mu = 0, \\sigma = 1$.  Draw a plot of this distribution on $x = [-3, 3]$.  What is the probability $-1 < x < 1$?\n",
    "\n"
   ]
  },
  {
   "cell_type": "code",
   "execution_count": null,
   "metadata": {
    "colab": {
     "base_uri": "https://localhost:8080/",
     "height": 283
    },
    "id": "QRQsMO1KJ0kQ",
    "outputId": "9f6f13ab-cca8-4613-b915-d3607299a8d7"
   },
   "outputs": [
    {
     "data": {
      "text/plain": [
       "[<matplotlib.lines.Line2D at 0x7fa01df42e90>]"
      ]
     },
     "execution_count": 77,
     "metadata": {
      "tags": []
     },
     "output_type": "execute_result"
    },
    {
     "data": {
      "image/png": "[encoded data removed]",
      "text/plain": [
       "<Figure size 432x288 with 1 Axes>"
      ]
     },
     "metadata": {
      "needs_background": "light",
      "tags": []
     },
     "output_type": "display_data"
    }
   ],
   "source": [
    "ex1 = stats.norm(10, 3)\n",
    "x = np.linspace(0, 20, 1000)\n",
    "plt.plot(x, ex1.pdf(x))"
   ]
  },
  {
   "cell_type": "code",
   "execution_count": null,
   "metadata": {
    "colab": {
     "base_uri": "https://localhost:8080/"
    },
    "id": "FqCHwk9eJ17i",
    "outputId": "071475ce-f53f-49e7-e285-1ea4aba3772b"
   },
   "outputs": [
    {
     "data": {
      "text/plain": [
       "0.047790352272814696"
      ]
     },
     "execution_count": 78,
     "metadata": {
      "tags": []
     },
     "output_type": "execute_result"
    }
   ],
   "source": [
    "1 - ex1.cdf(15)"
   ]
  },
  {
   "cell_type": "code",
   "execution_count": null,
   "metadata": {
    "colab": {
     "base_uri": "https://localhost:8080/",
     "height": 283
    },
    "id": "PY8Q7O28J12F",
    "outputId": "f5c67295-1651-4402-a6a6-fcda4156649f"
   },
   "outputs": [
    {
     "data": {
      "text/plain": [
       "[<matplotlib.lines.Line2D at 0x7fa01d85e210>]"
      ]
     },
     "execution_count": 84,
     "metadata": {
      "tags": []
     },
     "output_type": "execute_result"
    },
    {
     "data": {
      "image/png": "[encoded data removed]",
      "text/plain": [
       "<Figure size 432x288 with 1 Axes>"
      ]
     },
     "metadata": {
      "needs_background": "light",
      "tags": []
     },
     "output_type": "display_data"
    }
   ],
   "source": [
    "ex1 = stats.norm(0, 3)\n",
    "x = np.linspace(-10, 10, 1000)\n",
    "plt.plot(x, ex1.pdf(x))"
   ]
  },
  {
   "cell_type": "code",
   "execution_count": null,
   "metadata": {
    "colab": {
     "base_uri": "https://localhost:8080/"
    },
    "id": "evKcN3igJ1xW",
    "outputId": "ec528d10-98a4-4d7e-eccd-49598d9d5e29"
   },
   "outputs": [
    {
     "data": {
      "text/plain": [
       "0.5"
      ]
     },
     "execution_count": 85,
     "metadata": {
      "tags": []
     },
     "output_type": "execute_result"
    }
   ],
   "source": [
    "ex1.cdf(0)"
   ]
  },
  {
   "cell_type": "code",
   "execution_count": null,
   "metadata": {
    "colab": {
     "base_uri": "https://localhost:8080/",
     "height": 283
    },
    "id": "ZMB9DxASJ1rt",
    "outputId": "582bb16e-934a-4c49-f1e0-900130071c8a"
   },
   "outputs": [
    {
     "data": {
      "text/plain": [
       "[<matplotlib.lines.Line2D at 0x7fa01d746990>]"
      ]
     },
     "execution_count": 88,
     "metadata": {
      "tags": []
     },
     "output_type": "execute_result"
    },
    {
     "data": {
      "image/png": "[encoded data removed]",
      "text/plain": [
       "<Figure size 432x288 with 1 Axes>"
      ]
     },
     "metadata": {
      "needs_background": "light",
      "tags": []
     },
     "output_type": "display_data"
    }
   ],
   "source": [
    "ex1 = stats.norm(0, 1)\n",
    "x = np.linspace(-3, 3, 1000)\n",
    "plt.plot(x, ex1.pdf(x))"
   ]
  },
  {
   "cell_type": "code",
   "execution_count": null,
   "metadata": {
    "colab": {
     "base_uri": "https://localhost:8080/"
    },
    "id": "TrRmhRRvqoWD",
    "outputId": "7af43766-b6bc-4b87-be7f-90ce7d402c99"
   },
   "outputs": [
    {
     "data": {
      "text/plain": [
       "0.6826894921370859"
      ]
     },
     "execution_count": 90,
     "metadata": {
      "tags": []
     },
     "output_type": "execute_result"
    }
   ],
   "source": [
    "ex1.cdf(1) - ex1.cdf(-1)"
   ]
  },
  {
   "cell_type": "markdown",
   "metadata": {
    "id": "BDPOfT39KLi5"
   },
   "source": [
    "### Problem 5\n",
    "\n",
    "- Suppose we have two dogs; one weighs 40 lbs and the other 60 lbs.  Your goal is to design a see saw that will balance the two dogs, one on each end.  Where should its center be?  Draw a picture with appropriate labels for distances and dog weights.\n",
    "\n"
   ]
  },
  {
   "cell_type": "code",
   "execution_count": null,
   "metadata": {
    "id": "AL05hipjKmsi"
   },
   "outputs": [],
   "source": []
  },
  {
   "cell_type": "code",
   "execution_count": null,
   "metadata": {
    "id": "NWLbeILuKoNX"
   },
   "outputs": [],
   "source": []
  },
  {
   "cell_type": "code",
   "execution_count": null,
   "metadata": {
    "id": "qa5RI8ZMKoJJ"
   },
   "outputs": [],
   "source": []
  },
  {
   "cell_type": "code",
   "execution_count": null,
   "metadata": {
    "id": "IeMroCmDKoFR"
   },
   "outputs": [],
   "source": []
  },
  {
   "cell_type": "code",
   "execution_count": null,
   "metadata": {
    "id": "Xgd4MDN0Kn-w"
   },
   "outputs": [],
   "source": []
  },
  {
   "cell_type": "code",
   "execution_count": null,
   "metadata": {
    "id": "YlgIwstXKpRL"
   },
   "outputs": [],
   "source": []
  }
 ],
 "metadata": {
  "colab": {
   "name": "solns_02_calc_assign.ipynb",
   "provenance": []
  },
  "kernelspec": {
   "display_name": "Python 3",
   "name": "python3"
  },
  "language_info": {
   "codemirror_mode": {
    "name": "ipython",
    "version": 3
   },
   "file_extension": ".py",
   "mimetype": "text/x-python",
   "name": "python",
   "nbconvert_exporter": "python",
   "pygments_lexer": "ipython3",
   "version": "3.12.0"
  }
 },
 "nbformat": 4,
 "nbformat_minor": 0
}