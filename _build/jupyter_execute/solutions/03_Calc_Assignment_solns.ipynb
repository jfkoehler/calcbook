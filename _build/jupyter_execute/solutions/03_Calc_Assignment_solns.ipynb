{
 "cells": [
  {
   "cell_type": "markdown",
   "metadata": {
    "id": "yhQ8-XWxjHRT"
   },
   "source": [
    "### Assignment 3: Definite Integral\n",
    "\n",
    "**OBJECTIVES**\n",
    "\n",
    "- Use summation notation \n",
    "- Solve basic probability problems \n",
    "- Use Riemann Summations to approximate area\n",
    "- Use Definite Integrals to solve area problems\n",
    "- Use Definite Integrals to solve Net Change problems\n",
    "\n",
    "------"
   ]
  },
  {
   "cell_type": "markdown",
   "metadata": {
    "id": "kmvx2bVGGgUj"
   },
   "source": [
    "### Problem I: Summation Notation\n",
    "\n",
    "1. Evaluate $\\sum_{i = 1} ^ 5 3i^2 - 2$.\n",
    "2. Rewrite in summation notation: $1 + 3 + 5 + 7 + 9$\n",
    "3. Use a formula to determine $\\sum_{i = 1}^{50} i^3 - i$"
   ]
  },
  {
   "cell_type": "code",
   "execution_count": 1,
   "metadata": {
    "id": "snd2M9WTtJvM"
   },
   "outputs": [],
   "source": [
    "import matplotlib.pyplot as plt\n",
    "import numpy as np\n",
    "import pandas as pd\n",
    "import scipy.stats as stats"
   ]
  },
  {
   "cell_type": "code",
   "execution_count": 2,
   "metadata": {
    "id": "BbVTqfFyEpZ_"
   },
   "outputs": [],
   "source": [
    "def f(i): return 3*i**2 - 2 #define the function"
   ]
  },
  {
   "cell_type": "code",
   "execution_count": 3,
   "metadata": {
    "id": "rcIjqIitHNbE"
   },
   "outputs": [],
   "source": [
    "x = np.arange(1, 6)"
   ]
  },
  {
   "cell_type": "code",
   "execution_count": 4,
   "metadata": {
    "colab": {
     "base_uri": "https://localhost:8080/"
    },
    "id": "TwolDGn2HNID",
    "outputId": "ebbcd904-7915-4689-e582-c01c8f20b762"
   },
   "outputs": [
    {
     "data": {
      "text/plain": [
       "155"
      ]
     },
     "execution_count": 4,
     "metadata": {},
     "output_type": "execute_result"
    }
   ],
   "source": [
    "sum(f(x))"
   ]
  },
  {
   "cell_type": "code",
   "execution_count": 5,
   "metadata": {
    "colab": {
     "base_uri": "https://localhost:8080/",
     "height": 39
    },
    "id": "aQd12gwrHNCc",
    "outputId": "ed46271e-6ce5-4d6c-f3a9-bf00dc80b720"
   },
   "outputs": [
    {
     "data": {
      "text/latex": [
       "\\sum_{i = 0}^4 2i + 1\n"
      ],
      "text/plain": [
       "<IPython.core.display.Latex object>"
      ]
     },
     "metadata": {},
     "output_type": "display_data"
    }
   ],
   "source": [
    "%%latex\n",
    "\\sum_{i = 0}^4 2i + 1"
   ]
  },
  {
   "cell_type": "markdown",
   "metadata": {
    "id": "f3FRQhHDv3-M"
   },
   "source": [
    "$$\\sum_{i = 0}^4 2i + 1$$"
   ]
  },
  {
   "cell_type": "code",
   "execution_count": null,
   "metadata": {
    "id": "NSmC9zvjHM8_"
   },
   "outputs": [],
   "source": []
  },
  {
   "cell_type": "code",
   "execution_count": 6,
   "metadata": {
    "colab": {
     "base_uri": "https://localhost:8080/",
     "height": 283
    },
    "id": "l_XfU41WHM3j",
    "outputId": "08111338-0e03-4edc-ae73-0fdceaf6bda7"
   },
   "outputs": [
    {
     "data": {
      "text/plain": [
       "<BarContainer object of 21 artists>"
      ]
     },
     "execution_count": 6,
     "metadata": {},
     "output_type": "execute_result"
    },
    {
     "data": {
      "image/png": "[encoded data removed]",
      "text/plain": [
       "<Figure size 432x288 with 1 Axes>"
      ]
     },
     "metadata": {
      "filenames": {
       "image/png": "/Users/jacobkoehler/Desktop/present/calcbook/_build/jupyter_execute/solutions/03_Calc_Assignment_solns_9_1.png"
      },
      "needs_background": "light"
     },
     "output_type": "display_data"
    }
   ],
   "source": [
    "coin_flip = stats.binom(20, 0.5)\n",
    "x = np.arange(21)\n",
    "plt.bar(x, coin_flip.pmf(x))"
   ]
  },
  {
   "cell_type": "code",
   "execution_count": 7,
   "metadata": {
    "colab": {
     "base_uri": "https://localhost:8080/"
    },
    "id": "msH-JyMNyQOt",
    "outputId": "9ef783a5-9615-4342-f1c8-f9ca11d4a3a5"
   },
   "outputs": [
    {
     "data": {
      "text/plain": [
       "0.1601791381835938"
      ]
     },
     "execution_count": 7,
     "metadata": {},
     "output_type": "execute_result"
    }
   ],
   "source": [
    "coin_flip.pmf(9)"
   ]
  },
  {
   "cell_type": "markdown",
   "metadata": {
    "id": "OaOG-U2fyKAi"
   },
   "source": []
  },
  {
   "cell_type": "markdown",
   "metadata": {
    "id": "m-lP6hfuHOzv"
   },
   "source": [
    "### Problem II: Probability Problems\n",
    "\n",
    "1. What is the probability that in 20 coin flips we get 9 Heads -- assuming a fair coin. \n",
    "2. Explain what the 21's mean in the triangle below:\n",
    "\n",
    "![](https://wikimedia.org/api/rest_v1/media/math/render/svg/23050fcb53d6083d9e42043bebf2863fa9746043)\n",
    "\n",
    "3. What does the following code mean?\n",
    "\n",
    "```python\n",
    "import scipy.stats as stats\n",
    "d = stats.binom(10, .4)\n",
    "d.pmf(4)\n",
    "```\n",
    "\n",
    "\n"
   ]
  },
  {
   "cell_type": "code",
   "execution_count": 8,
   "metadata": {
    "id": "f-uNnT0QIeWs"
   },
   "outputs": [],
   "source": [
    "import scipy.stats as stats\n",
    "import matplotlib.pyplot as plt\n",
    "import numpy as np"
   ]
  },
  {
   "cell_type": "markdown",
   "metadata": {
    "id": "vgZgIuaJJKvE"
   },
   "source": [
    "4. The plot below represents the distribution of burrito ratings in New York City on Google.  What does the shaded area represent in terms of probabilities?"
   ]
  },
  {
   "cell_type": "code",
   "execution_count": 9,
   "metadata": {
    "colab": {
     "base_uri": "https://localhost:8080/",
     "height": 298
    },
    "id": "L2ytEuQjIkjy",
    "outputId": "3cfcf547-cf41-4c8f-db9c-46a984fd7080"
   },
   "outputs": [
    {
     "data": {
      "image/png": "[encoded data removed]",
      "text/plain": [
       "<Figure size 432x288 with 1 Axes>"
      ]
     },
     "metadata": {
      "filenames": {
       "image/png": "/Users/jacobkoehler/Desktop/present/calcbook/_build/jupyter_execute/solutions/03_Calc_Assignment_solns_15_0.png"
      },
      "needs_background": "light"
     },
     "output_type": "display_data"
    }
   ],
   "source": [
    "N = stats.norm(5, 1.5)\n",
    "x = np.linspace(0, 10, 1000)\n",
    "plt.plot(x, N.pdf(x))\n",
    "plt.fill_between(x, N.pdf(x), where = x > 6)\n",
    "plt.title('Area under Normal Distribution\\nwhere $x > 6$');"
   ]
  },
  {
   "cell_type": "markdown",
   "metadata": {
    "id": "qJl8JF8WIuRb"
   },
   "source": [
    "5. Compute the area above using the distribution `N`."
   ]
  },
  {
   "cell_type": "code",
   "execution_count": 10,
   "metadata": {
    "colab": {
     "base_uri": "https://localhost:8080/"
    },
    "id": "WB6JdWJIJuFA",
    "outputId": "f09ff8cd-2338-4c9a-917c-b2675dd941f4"
   },
   "outputs": [
    {
     "data": {
      "text/plain": [
       "0.2524925375469229"
      ]
     },
     "execution_count": 10,
     "metadata": {},
     "output_type": "execute_result"
    }
   ],
   "source": [
    "1 - N.cdf(6)"
   ]
  },
  {
   "cell_type": "code",
   "execution_count": null,
   "metadata": {
    "id": "Ygm5KpjAJtBC"
   },
   "outputs": [],
   "source": []
  },
  {
   "cell_type": "code",
   "execution_count": null,
   "metadata": {
    "id": "DbtIZyA9J6-H"
   },
   "outputs": [],
   "source": []
  },
  {
   "cell_type": "code",
   "execution_count": null,
   "metadata": {
    "id": "Bkrz84IdJ656"
   },
   "outputs": [],
   "source": []
  },
  {
   "cell_type": "markdown",
   "metadata": {
    "id": "-8Ug-ekqJ8C7"
   },
   "source": [
    "### Problem III: Riemann Sums\n",
    "\n",
    "1. Write a formula for the area approximations below for $R(6)$ (b) in the image below where $f(x) = \\frac{x^2}{2}$. Evaluate.\n",
    "2. Write a formula for the area approximation in the image below for $L(6)$ (a) where $f(x) = \\frac{x^2}{2}$. Evaluate. \n",
    "\n",
    "\n",
    "![](https://openstax.org/resources/d966b9a6dd578072e41c3ddc3447f8894861f3d0)\n",
    "\n",
    "3. Evaluate $L(6)$ for $f(x) = \\frac{1}{x(x - 1)}$ on $[2, 5]$. "
   ]
  },
  {
   "cell_type": "code",
   "execution_count": null,
   "metadata": {
    "id": "FbPeTL8iJ62j"
   },
   "outputs": [],
   "source": []
  },
  {
   "cell_type": "code",
   "execution_count": null,
   "metadata": {
    "id": "58lluOB5La2G"
   },
   "outputs": [],
   "source": []
  },
  {
   "cell_type": "code",
   "execution_count": null,
   "metadata": {
    "id": "eATAUWfVLaym"
   },
   "outputs": [],
   "source": []
  },
  {
   "cell_type": "code",
   "execution_count": null,
   "metadata": {
    "id": "ktgM8pSNLavb"
   },
   "outputs": [],
   "source": []
  },
  {
   "cell_type": "code",
   "execution_count": null,
   "metadata": {
    "id": "y6ptkpW3LasR"
   },
   "outputs": [],
   "source": []
  },
  {
   "cell_type": "markdown",
   "metadata": {
    "id": "1Oioic41LmVD"
   },
   "source": [
    "### Problem IV: Definite Integral \n",
    "\n",
    "1. What does $\\int_0^3 \\sqrt{x} ~dx$ mean?\n",
    "2. Evaluate the integral $\\int_0^3 \\sqrt{x} ~dx$.\n",
    "3. Find the area under the curve $f(x) = x^4$ from $x = 1$ to $x = 4$.  Plot the region.\n",
    "4. Plot the line $y = x$ on $[-2, 2]$. Evaluate the definite integral $\\int_{-2}^2 x ~dx$ and interpret your results."
   ]
  },
  {
   "cell_type": "code",
   "execution_count": 11,
   "metadata": {
    "colab": {
     "base_uri": "https://localhost:8080/",
     "height": 283
    },
    "id": "SC4Qc1OiLl7O",
    "outputId": "9a835f42-0cd1-4240-a1ea-3a5aa68ef0e6"
   },
   "outputs": [
    {
     "data": {
      "text/plain": [
       "<matplotlib.lines.Line2D at 0x7f9040943950>"
      ]
     },
     "execution_count": 11,
     "metadata": {},
     "output_type": "execute_result"
    },
    {
     "data": {
      "image/png": "[encoded data removed]",
      "text/plain": [
       "<Figure size 432x288 with 1 Axes>"
      ]
     },
     "metadata": {
      "filenames": {
       "image/png": "/Users/jacobkoehler/Desktop/present/calcbook/_build/jupyter_execute/solutions/03_Calc_Assignment_solns_28_1.png"
      },
      "needs_background": "light"
     },
     "output_type": "display_data"
    }
   ],
   "source": [
    "def f(x): return np.sqrt(x)\n",
    "x = np.linspace(0, 4, 1000)\n",
    "plt.plot(x, f(x))\n",
    "plt.fill_between(x, f(x), alpha = 0.4, where = x < 3)\n",
    "plt.axvline(3, color = 'black')"
   ]
  },
  {
   "cell_type": "code",
   "execution_count": 12,
   "metadata": {
    "id": "x5oqGcD3NEpC"
   },
   "outputs": [],
   "source": [
    "from scipy.integrate import quad"
   ]
  },
  {
   "cell_type": "code",
   "execution_count": 13,
   "metadata": {
    "colab": {
     "base_uri": "https://localhost:8080/"
    },
    "id": "m1L-mq22NElL",
    "outputId": "5edbf4db-4a35-4750-ddb6-d55689ff8a47"
   },
   "outputs": [
    {
     "data": {
      "text/plain": [
       "(3.4641016151377553, 3.845925372767129e-15)"
      ]
     },
     "execution_count": 13,
     "metadata": {},
     "output_type": "execute_result"
    }
   ],
   "source": [
    "quad(f, 0, 3)"
   ]
  },
  {
   "cell_type": "code",
   "execution_count": 14,
   "metadata": {
    "colab": {
     "base_uri": "https://localhost:8080/"
    },
    "id": "AZJT7QOnNEh-",
    "outputId": "727b3268-31e5-485f-9d2e-b27d0a417d98"
   },
   "outputs": [
    {
     "data": {
      "text/plain": [
       "array([0.        , 0.0632772 , 0.08948747, 0.10959932, 0.1265544 ])"
      ]
     },
     "execution_count": 14,
     "metadata": {},
     "output_type": "execute_result"
    }
   ],
   "source": [
    "abs(f(x))[:5]"
   ]
  },
  {
   "cell_type": "markdown",
   "metadata": {
    "id": "N5k1DJvfNEer"
   },
   "source": [
    "### Problem V: Net Change Theorem\n",
    "\n",
    "1. Given a velocity function  $v(t) = 5t - 1$  (in meters per second) for a particle in motion from time  $t = 0$  to time  $t = 4$,  find the net displacement of the particle.\n",
    "2. Find the total distance traveled of the particle above.\n",
    "3. If the motor on a motorboat is started at  $t = 0$  and the boat consumes gasoline at the rate of  $7 - t^3$  gal/hr, how much gasoline is used in the first  3  hours?"
   ]
  }
 ],
 "metadata": {
  "colab": {
   "collapsed_sections": [],
   "name": "03_Calc_Assignment.ipynb",
   "provenance": []
  },
  "kernelspec": {
   "display_name": "Python 3",
   "name": "python3"
  },
  "language_info": {
   "codemirror_mode": {
    "name": "ipython",
    "version": 3
   },
   "file_extension": ".py",
   "mimetype": "text/x-python",
   "name": "python",
   "nbconvert_exporter": "python",
   "pygments_lexer": "ipython3",
   "version": "3.7.4"
  }
 },
 "nbformat": 4,
 "nbformat_minor": 0
}