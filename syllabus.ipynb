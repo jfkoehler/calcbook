{
 "cells": [
  {
   "cell_type": "markdown",
   "metadata": {},
   "source": [
    "# Calculus: Spring 2021 Version\n",
    "\n",
    "This class is taught at The New School in Eugene Lange College.  I exist within the Department of Natural Sciences and Mathematics, though this course is not aligned with any explicit major.  I do not expect that you have had much experience with mathematics or computers, but that with a semester worth of hard work you can, and must learn.  \n",
    "\n",
    "\n",
    "\n"
   ]
  },
  {
   "cell_type": "markdown",
   "metadata": {},
   "source": [
    "**Course Information**\n",
    "\n",
    "- Course Title: Calculus I\n",
    "- Course Number: LMTH 2041\n",
    "- Course CRN: 8536\n",
    "- Instructor Name: Jacob F. Koehler\n",
    "- email: koehlerj@newschool.edu\n",
    "\n"
   ]
  },
  {
   "cell_type": "markdown",
   "metadata": {},
   "source": [
    "## Course Description\n",
    "\n",
    "This course covers the content of a traditional first semester in Calculus with a focus on modeling. Topics include integration and differentiation, the Fundamental Theorem of Calculus, partial derivatives, tangent lines, optimization and basic differential equations. Applications of calculus and differential equations will be drawn from the social and natural sciences. Students will learn how to integrate numerical, geometric and analytic methods to solve problems, as well as to incorporate technology and mathematical software to compute, communicate, and visualize mathematics. This course is offered every spring and fulfills the second mathematics requirement for the Interdisciplinary Science major. It is also an option to fulfill the mathematics requirement for the Economics major."
   ]
  },
  {
   "cell_type": "markdown",
   "metadata": {},
   "source": [
    "### Learning Outcomes\n",
    "\n",
    "- Use functions to model real world data\n",
    "- Use integration to find the area under a curve\n",
    "- Apply the definite and indefinite integral to data to understand probability\n",
    "- Use summations to understand data through measures of center and spread\n",
    "- Use summations and definite integrals to explore inequality, regression, and classification problems\n",
    "- Use finite differences to explore rate of change of discrete data\n",
    "- Use derivatives to understand change in continuous data\n",
    "- Use derivatives to build regression models\n",
    "- Approximate solutions to differential equations \n",
    "- Use gradient descent to maximize or minimize functions\n",
    "- Apply gradient descent to regression and classification problems\n",
    "- Solve constrained optimization problems\n",
    "- Use constrained optimization to model data and develop conceptual economic models"
   ]
  },
  {
   "cell_type": "markdown",
   "metadata": {},
   "source": [
    "### Course Structure\n",
    "\n",
    "- **In Person Meetings**: *Wednesdays through Zoom* 10:00 am - 11:40 am\n",
    "- **Online Lectures**: Posted weekly on Mondays (perhaps earlier)\n",
    "- **Class Discussions**: Weekly in [Piazza](https://piazza.com/newschool/spring2021/calculusiasp21online)\n",
    "\n",
    "Because we are operating in a virtual classroom enviornment, my aim is to automate the content delivery portion of the class from that of the problem solving, individual, and group work.  I will release lecture videos for the week on Monday with the expectation that you watch these and note any questions.  You should have these clearly formulated and posted on Piazza prior to class on Wednesday.  We will address any issues in the lectures and work together on a subset of our weekly problem set, focusing on how to use technology to solve these problems and share your solutions.  Following this meeting, you will be responsible for posting a solution to a specific problem every week for which your small group will also be responsible for checking.  \n",
    "\n",
    "- *Asynchronous Activities*: Watch Video Lectures, Ask Questions on Piazza, Post Solutions in Piazza\n",
    "- *Synchronous Activities*: Problem discussion and solutions, technical tutorials"
   ]
  },
  {
   "cell_type": "markdown",
   "metadata": {},
   "source": [
    "### Schedule\n",
    "\n",
    "\n",
    "| **Week** | **Topic** | **Materials** |\n",
    "| -------- | --------- | -------------- | \n",
    "|   0.    | *Functions* | <ul><li>Videos</li><li>Problems</li><li>Piazza Solutions</li> |\n",
    "| 1 | *Sequences and Summations* | <ul><li>Videos</li><li>Problems</li><li>Piazza Solutions</li> |\n",
    "| 2 | *Discrete Probability and Riemann Sums* | <ul><li>Videos</li><li>Problems</li><li>Piazza Solutions</li> |\n",
    "| 3 | *Definite integral and Continuous Probability Distributions* | <ul><li>Videos</li><li>Problems</li><li>Piazza Solutions</li> |\n",
    "| 4 | *Project I: Gini* | <ul><li>Videos</li><li>Problems</li><li>Piazza Solutions</li> |\n",
    "| 5 | *Discrete Change and Finite Differences* | <ul><li>Videos</li><li>Problems</li><li>Piazza Solutions</li> |\n",
    "| 6 | *Continuous Change and a Definition of the Derivative* | <ul><li>Videos</li><li>Problems</li><li>Piazza Solutions</li> |\n",
    "| 7 | *Rules of Differentiation: The Chain Rule* | <ul><li>Videos</li><li>Problems</li><li>Piazza Solutions</li> |\n",
    "| 8 | *Application of Derivatives: Ordinary Least Squares* | <ul><li>Videos</li><li>Problems</li><li>Piazza Solutions</li> |\n",
    "| 9 | *Project II: Regression* | <ul><li>Videos</li><li>Problems</li><li>Piazza Solutions</li> |\n",
    "| 10 | *Differential Equations: Basic Models and Approximate Solutions* | <ul><li>Videos</li><li>Problems</li><li>Piazza Solutions</li> |\n",
    "| 11 | *Differential Equations: Systems and Exact Solutions* | <ul><li>Videos</li><li>Problems</li><li>Piazza Solutions</li> |\n",
    "| 12 | *Optimization Revisited: Gradient Descent* | <ul><li>Videos</li><li>Problems</li><li>Piazza Solutions</li> |\n",
    "| 13 | *Constrained Optimization: Production and Regularization* | <ul><li>Videos</li><li>Problems</li><li>Piazza Solutions</li> |\n",
    " "
   ]
  },
  {
   "cell_type": "markdown",
   "metadata": {},
   "source": [
    "**Final Grade Calculation**\n",
    "\n",
    "- Weekly Assignments: 50%\n",
    "- Projects: 30%\n",
    "- Quizzes: 20%"
   ]
  },
  {
   "cell_type": "markdown",
   "metadata": {},
   "source": [
    "### Attendance\n",
    "\n",
    "You are expected to attend all Wednesday sessions and participate actively in the group problem solving activities.  "
   ]
  },
  {
   "cell_type": "markdown",
   "metadata": {},
   "source": [
    "### Course Readings, Materials, and Technology Requirements\n",
    "\n",
    "- *Readings*: We will not use a single text for this class outside of my own notes that follow.  From time to time I may post additional readings in canvas, and suggest additional resources in my notes for each particular section.\n",
    "\n",
    "- *Materials*: Materials will be shared as Jupyter notebooks.  These are freely available to install and use locally through [Anaconda]() and available through your google drive as [Google Colab Notebooks]().  All materials will be made available through both downloadable files in my github repository as well as linked as Google Colab notebooks.\n",
    "\n",
    "- *Technology Requirements*: You need a working computer that has consistent internet access and reasonable memory for using materials locally or through web access.  \n",
    "\n",
    "**Disability Services**\n",
    "\n",
    "- Student Disability Services:  (http://www.newschool.edu/student-disability-services/). \n",
    " \n",
    "> If you are a student with a disability/disabled student, or believe you might have a disability that requires accommodations, please contact the Student Disability Services (SDS) at studentdisability@newschool.edu, or 212-229-5626, to coordinate all reasonable accommodation requests. "
   ]
  },
  {
   "cell_type": "markdown",
   "metadata": {},
   "source": [
    "### University Policies \n",
    " \n",
    "- Academic Integrity Policy found at:  \n",
    "http://www.newschool.edu/policies \n",
    "- The Intellectual Property Rights Policy, found at: http://www.newschool.edu/provost/accreditation-policies/ \n",
    "- For further information on plagiarism, students can be directed to the Learning Center’s website: http://www.newschool.edu/learning-center \n",
    "- Grading policies as found in the academic catalogs or online at https://www.newschool.edu/registrar/grade-policies/ \n",
    "\n",
    "\n",
    "\n"
   ]
  }
 ],
 "metadata": {
  "kernelspec": {
   "display_name": "Python 3",
   "language": "python",
   "name": "python3"
  },
  "language_info": {
   "codemirror_mode": {
    "name": "ipython",
    "version": 3
   },
   "file_extension": ".py",
   "mimetype": "text/x-python",
   "name": "python",
   "nbconvert_exporter": "python",
   "pygments_lexer": "ipython3",
   "version": "3.8.2"
  }
 },
 "nbformat": 4,
 "nbformat_minor": 4
}
